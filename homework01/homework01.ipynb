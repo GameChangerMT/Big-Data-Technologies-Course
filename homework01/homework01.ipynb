{
 "cells": [
  {
   "cell_type": "markdown",
   "metadata": {
    "nteract": {
     "transient": {
      "deleting": false
     }
    }
   },
   "source": [
    "# Homework 1 (2022) : Data Wrangling and Visualization\n",
    "\n",
    "Due date : **2022-01-30 @23h55** (this is a **hard deadline**)"
   ]
  },
  {
   "cell_type": "markdown",
   "metadata": {
    "nteract": {
     "transient": {
      "deleting": false
     }
    }
   },
   "source": [
    "## Fill this cell with your names\n",
    "\n",
    "- Musafiri, David, Mathématique-Informatique\n",
    "- Haoud, Oussama, Informatique"
   ]
  },
  {
   "cell_type": "markdown",
   "metadata": {
    "nteract": {
     "transient": {
      "deleting": false
     }
    }
   },
   "source": [
    "## Carefully follow instructions given on the [course homepage](https://stephanegaiffas.github.io/big_data_course/homeworks/)\n",
    "\n",
    "Write in English or French\n",
    "\n",
    "- The deliverable is a `xxx.ipynb` file (jupyter notebook) or a `xxx.py` file (if you are using `jupytext`) built by completing the template. **We won't execute the code in your notebook:** all your results, displays and plots must be visible without having to rerun everything.\n",
    "\n",
    "Once again, follow the steps described here : [course homepage](https://stephanegaiffas.github.io/big_data_course/homeworks/). **If you don't: no evaluation!**"
   ]
  },
  {
   "cell_type": "markdown",
   "metadata": {
    "nteract": {
     "transient": {
      "deleting": false
     }
    }
   },
   "source": [
    "## Grading <i class=\"fa graduation-cap\"></i>\n",
    "\n",
    "Here is the way we'll assess your work\n",
    "\n",
    "| Criterion | Points | Details |\n",
    "|:----------|:-------:|:----|\n",
    "|Spelling and syntax | 3 | English/French  |\n",
    "|Plots correction | 3 |  Clarity / answers the question  |\n",
    "|Plot style and cleanliness | 3 | Titles, legends, labels, breaks ... |\n",
    "|Table wrangling | 4 | ETL, SQL like manipulations |\n",
    "|Computing Statistics | 5 | SQL `goup by`  and aggregation  |\n",
    "|DRY compliance | 2 | DRY principle at [Wikipedia](https://en.wikipedia.org/wiki/Don%27t_repeat_yourself)|\n",
    "\n",
    "If we see a single (or more) `for` loop in your code: **-5 points**.  Everything can be done using high-level `pandas` methods"
   ]
  },
  {
   "cell_type": "markdown",
   "metadata": {
    "nteract": {
     "transient": {
      "deleting": false
     }
    }
   },
   "source": [
    "# Preliminaries\n",
    "\n",
    "## Notebook: Modus operandi\n",
    "\n",
    "- This is a [Jupyter Notebook]().\n",
    "- When you execute code within the notebook, the results appear beneath the code.\n",
    "- [Jupytext]()\n",
    "\n",
    "## Packages\n",
    "\n",
    "- Base `Python` can do a lot. But the full power of `Python` comes from a fast growing collection of `packages`/`modules`.\n",
    "\n",
    "- Packages are first installed (that is using `pip install` or `conda install`), and if\n",
    "needed, imported during a session.\n",
    "\n",
    "- The `docker` image you are supposed to use already offers a lot of packages. You should not need to install new packages.\n",
    "\n",
    "- Once a package has been installed on your drive, if you want all objects exported by the package to be available in your session, you should import the package, using `from pkg import *`.\n",
    "\n",
    "- If you just want to pick some sobjects from the package,\n",
    "you can use qualified names like `pkg.object_name` to access the object (function, dataset, class...)\n"
   ]
  },
  {
   "cell_type": "code",
   "execution_count": 22,
   "metadata": {
    "ExecuteTime": {
     "end_time": "2022-01-30T22:45:47.829209Z",
     "start_time": "2022-01-30T22:45:47.044728Z"
    },
    "jupyter": {
     "outputs_hidden": false,
     "source_hidden": false
    },
    "nteract": {
     "transient": {
      "deleting": false
     }
    }
   },
   "outputs": [],
   "source": [
    "# importing basic tools\n",
    "import numpy as np\n",
    "import pandas as pd\n",
    "\n",
    "from pandas.api.types import CategoricalDtype\n",
    "\n",
    "import os            # file operations\n",
    "import requests      # networking\n",
    "\n",
    "from datetime import date  # if needed"
   ]
  },
  {
   "cell_type": "code",
   "execution_count": 23,
   "metadata": {
    "ExecuteTime": {
     "end_time": "2022-01-30T22:45:48.069599Z",
     "start_time": "2022-01-30T22:45:47.832973Z"
    },
    "jupyter": {
     "outputs_hidden": false,
     "source_hidden": false
    },
    "nteract": {
     "transient": {
      "deleting": false
     }
    }
   },
   "outputs": [],
   "source": [
    "# importing plotting packages\n",
    "import plotly.graph_objects as go\n",
    "import plotly.express as px\n",
    "import plotly.io as pio"
   ]
  },
  {
   "cell_type": "code",
   "execution_count": 24,
   "metadata": {
    "ExecuteTime": {
     "end_time": "2022-01-30T22:45:48.645036Z",
     "start_time": "2022-01-30T22:45:48.078271Z"
    },
    "jupyter": {
     "outputs_hidden": false,
     "source_hidden": false
    },
    "nteract": {
     "transient": {
      "deleting": false
     }
    }
   },
   "outputs": [],
   "source": [
    "# make pandas plotly-friendly\n",
    "np.set_printoptions(precision=2, suppress=True)\n",
    "%matplotlib inline\n",
    "pd.options.plotting.backend = \"plotly\""
   ]
  },
  {
   "cell_type": "markdown",
   "metadata": {
    "nteract": {
     "transient": {
      "deleting": false
     }
    }
   },
   "source": [
    "# Getting the data\n",
    "\n",
    "The data are built and made available by [INSEE](https://www.insee.fr/fr/accueil)  (French Governement Statistics Institute)\n",
    "\n",
    "Prénoms:\n",
    "- [https://www.insee.fr/fr/statistiques/fichier/2540004/nat2020_csv.zip](https://www.insee.fr/fr/statistiques/fichier/2540004/nat2020_csv.zip)\n",
    "\n",
    "This dataset has been growing for a while. It has been considered by\n",
    "social scientists for decades.  Given names are meant to give insights into a variety\n",
    "of phenomena, including religious observance.\n",
    "\n",
    "- A glimpse at the body of work can be found in [_L'archipel français_ by Jérome Fourquet, Le Seuil, 2019 ](https://www.seuil.com/ouvrage/l-archipel-francais-jerome-fourquet/9782021406023)\n",
    "\n",
    "- Read the [File documentation](https://www.insee.fr/fr/statistiques/2540004?sommaire=4767262#documentation)\n",
    "\n",
    "## Download the data\n",
    "\n",
    "**QUESTION:** Download the data into a file which relative path is `'./nat2020_csv.zip'`\n",
    "\n",
    "__Hints:__\n",
    "\n",
    "- Have a look at [`requests`](https://requests.readthedocs.io/en/master/).\n",
    "- Use magic commands to navigate across the file hierarchy and create subdirectories\n",
    "when needed"
   ]
  },
  {
   "cell_type": "code",
   "execution_count": 25,
   "metadata": {
    "ExecuteTime": {
     "end_time": "2022-01-30T22:45:48.655737Z",
     "start_time": "2022-01-30T22:45:48.647891Z"
    },
    "jupyter": {
     "outputs_hidden": false,
     "source_hidden": false
    },
    "nteract": {
     "transient": {
      "deleting": false
     }
    }
   },
   "outputs": [],
   "source": [
    "params = dict(\n",
    "    url = 'https://www.insee.fr/fr/statistiques/fichier/2540004/nat2020_csv.zip',\n",
    "    dirpath = './',\n",
    "    timecourse = '',\n",
    "    datafile = 'nat2020.hdf',\n",
    "    fpath = 'nat2020_csv.zip'\n",
    ")"
   ]
  },
  {
   "cell_type": "code",
   "execution_count": null,
   "metadata": {},
   "outputs": [],
   "source": []
  },
  {
   "cell_type": "code",
   "execution_count": 26,
   "metadata": {
    "ExecuteTime": {
     "end_time": "2022-01-30T22:45:48.943504Z",
     "start_time": "2022-01-30T22:45:48.935212Z"
    },
    "jupyter": {
     "outputs_hidden": false,
     "source_hidden": false
    },
    "nteract": {
     "transient": {
      "deleting": false
     }
    }
   },
   "outputs": [],
   "source": [
    "# modify location  make sure you are in the right directory\n",
    "# %cd\n",
    "# %pwd  #\n",
    "# %ls\n",
    "# %mkdir # if needed"
   ]
  },
  {
   "cell_type": "code",
   "execution_count": 27,
   "metadata": {
    "ExecuteTime": {
     "end_time": "2022-01-30T22:45:49.151924Z",
     "start_time": "2022-01-30T22:45:49.143944Z"
    },
    "jupyter": {
     "outputs_hidden": false,
     "source_hidden": false
    },
    "nteract": {
     "transient": {
      "deleting": false
     }
    }
   },
   "outputs": [],
   "source": [
    "url = params['url']      # 'https://www.insee.fr/fr/statistiques/fichier/2540004/nat2020_csv.zip'\n",
    "fpath = params['fpath']  # './nat2020_csv.zip'"
   ]
  },
  {
   "cell_type": "code",
   "execution_count": 28,
   "metadata": {
    "ExecuteTime": {
     "end_time": "2022-01-30T22:45:50.328544Z",
     "start_time": "2022-01-30T22:45:49.354341Z"
    },
    "jupyter": {
     "outputs_hidden": false,
     "source_hidden": false
    },
    "nteract": {
     "transient": {
      "deleting": false
     }
    }
   },
   "outputs": [],
   "source": [
    "with requests.get(params['url']) as r:\n",
    "    with open(params['fpath'], \"wb\") as f:\n",
    "        f.write(r.content)"
   ]
  },
  {
   "cell_type": "markdown",
   "metadata": {
    "nteract": {
     "transient": {
      "deleting": false
     }
    }
   },
   "source": [
    "## Load the data in memory\n",
    "\n",
    "**QUESTION:** Load the data in a `pandas` `DataFrame` called `data`\n",
    "\n",
    "__Hints:__\n",
    "\n",
    "- You should obtain a `Pandas dataframe` with 4 columns.\n",
    "- Mind the conventions used to build theis `csv` file.\n",
    "- Package `pandas` provides the convenient tools.\n",
    "- The dataset, though not too large, is already demanding.\n",
    "- Don't hesitate to test your methods on a sample of rows method `sample()` from class `DataFrame` can be helpful."
   ]
  },
  {
   "cell_type": "code",
   "execution_count": 29,
   "metadata": {
    "ExecuteTime": {
     "end_time": "2022-01-30T22:45:51.014034Z",
     "start_time": "2022-01-30T22:45:50.333393Z"
    },
    "jupyter": {
     "outputs_hidden": false,
     "source_hidden": false
    },
    "nteract": {
     "transient": {
      "deleting": false
     }
    }
   },
   "outputs": [
    {
     "name": "stdout",
     "output_type": "stream",
     "text": [
      "   sexe        preusuel annais  nombre\n",
      "0     1  _PRENOMS_RARES   1900    1250\n",
      "1     1  _PRENOMS_RARES   1901    1342\n",
      "2     1  _PRENOMS_RARES   1902    1330\n",
      "3     1  _PRENOMS_RARES   1903    1286\n",
      "4     1  _PRENOMS_RARES   1904    1430\n"
     ]
    }
   ],
   "source": [
    "data = pd.read_csv(params['fpath'],compression='zip',sep=';')\n",
    "print(data.head())"
   ]
  },
  {
   "cell_type": "markdown",
   "metadata": {
    "nteract": {
     "transient": {
      "deleting": false
     }
    }
   },
   "source": [
    "## Explore the data"
   ]
  },
  {
   "cell_type": "markdown",
   "metadata": {
    "nteract": {
     "transient": {
      "deleting": false
     }
    }
   },
   "source": [
    "**QUESTION:** Look at the data, Use the attributes `columns`, `dtypes` and the methods `head`, `describe`, to get a feeling of the data.\n",
    "\n",
    "- This dataset is supposed to report all given names used\n",
    "for either sex during a year in France since 1900\n",
    "\n",
    "- The file is made of `652 056` lines and  4 columns.\n",
    "\n",
    "```\n",
    "|-- preusuel : object\n",
    "|-- nombre: int64\n",
    "|-- sexe: int64\n",
    "|-- annais: object\n",
    "```\n",
    "\n",
    "Each row indicates for a given `preusuel` (prénom usuel, given name), `sexe` (sex), and `annais` (année naissance, birthyear) the `nombre` (number) of babies of the given sex who were given that name during the given year.\n",
    "\n",
    "|sexe    |preusuel     | annais|   nombre|\n",
    "|:------|:--------|----:|---:|\n",
    "|2     |SYLVETTE | 1953| 577|\n",
    "|1   |BOUBOU   | 1979|   4|\n",
    "|1   |NILS     | 1959|   3|\n",
    "|2   |NICOLE   | 2003|  36|\n",
    "|1   |JOSÉLITO | 2013|   4|\n",
    "\n",
    "\n",
    "**QUESTION:** Compare memory usage and disk space used by data\n",
    "\n",
    "**Hints:**\n",
    "\n",
    "- The method `info`  prints a concise summary of a `DataFrame`.\n",
    "- With optional parameter `memory_usage`, you can get an estimate\n",
    "of the amount of memory used by the `DataFrame`.\n",
    "- Beware that the resulting estimate depends on the argument fed."
   ]
  },
  {
   "cell_type": "code",
   "execution_count": 30,
   "metadata": {
    "ExecuteTime": {
     "end_time": "2022-01-30T22:45:51.653930Z",
     "start_time": "2022-01-30T22:45:51.023791Z"
    },
    "jupyter": {
     "outputs_hidden": false,
     "source_hidden": false
    },
    "nteract": {
     "transient": {
      "deleting": false
     }
    }
   },
   "outputs": [
    {
     "name": "stdout",
     "output_type": "stream",
     "text": [
      "<class 'pandas.core.frame.DataFrame'>\n",
      "RangeIndex: 667364 entries, 0 to 667363\n",
      "Data columns (total 4 columns):\n",
      " #   Column    Non-Null Count   Dtype \n",
      "---  ------    --------------   ----- \n",
      " 0   sexe      667364 non-null  int64 \n",
      " 1   preusuel  667362 non-null  object\n",
      " 2   annais    667364 non-null  object\n",
      " 3   nombre    667364 non-null  int64 \n",
      "dtypes: int64(2), object(2)\n",
      "memory usage: 20.4+ MB\n",
      "total 9972\n",
      "-rw-r--r-- 1 root root  463908 Jan 30 23:11 'homework01 18.ipynb'\n",
      "-rw-r--r-- 1 root root  470646 Jan 30 23:13 'homework01 19.ipynb'\n",
      "-rw-r--r-- 1 root root  463681 Jan 30 23:15 'homework01 20.ipynb'\n",
      "-rw-r--r-- 1 root root  501271 Jan 30 23:17 'homework01 21.ipynb'\n",
      "-rw-r--r-- 1 root root  462225 Jan 30 23:19 'homework01 22.ipynb'\n",
      "-rw-r--r-- 1 root root  464027 Jan 30 23:20 'homework01 23.ipynb'\n",
      "-rw-r--r-- 1 root root  462178 Jan 30 23:21 'homework01 24.ipynb'\n",
      "-rw-r--r-- 1 root root  459511 Jan 30 23:23 'homework01 25.ipynb'\n",
      "-rw-r--r-- 1 root root  464030 Jan 30 23:25 'homework01 26.ipynb'\n",
      "-rw-r--r-- 1 root root  459480 Jan 30 23:27 'homework01 27.ipynb'\n",
      "-rw-r--r-- 1 root root  508813 Jan 30 23:29 'homework01 28.ipynb'\n",
      "-rw-r--r-- 1 root root  508813 Jan 30 23:30 'homework01 29.ipynb'\n",
      "-rw-r--r-- 1 root root  508813 Jan 30 23:31 'homework01 30.ipynb'\n",
      "-rw-r--r-- 1 root root  508813 Jan 30 23:39 'homework01 32.ipynb'\n",
      "-rw-r--r-- 1 root root  509442 Jan 30 23:40 'homework01 33.ipynb'\n",
      "-rw-r--r-- 1 root root  509478 Jan 30 23:42 'homework01 34.ipynb'\n",
      "-rw-r--r-- 1 root root 2443960 Jan 30 23:45  nat2020_csv.zip\n"
     ]
    }
   ],
   "source": [
    "data.info(memory_usage=True)\n",
    "\n",
    "%ls -l\n",
    "\n",
    "#The memory used by the DataFrame is 20.4+ MB\n",
    "#The disk space used by data (i.e the size of the .zip file) is 2,4 Mo"
   ]
  },
  {
   "cell_type": "markdown",
   "metadata": {
    "nteract": {
     "transient": {
      "deleting": false
     }
    }
   },
   "source": [
    "**QUESTION:** Display the output of `.describe()` with style."
   ]
  },
  {
   "cell_type": "code",
   "execution_count": 31,
   "metadata": {
    "ExecuteTime": {
     "end_time": "2022-01-30T22:45:51.780168Z",
     "start_time": "2022-01-30T22:45:51.661171Z"
    },
    "jupyter": {
     "outputs_hidden": false,
     "source_hidden": false
    },
    "nteract": {
     "transient": {
      "deleting": false
     }
    }
   },
   "outputs": [
    {
     "data": {
      "text/html": [
       "<div>\n",
       "<style scoped>\n",
       "    .dataframe tbody tr th:only-of-type {\n",
       "        vertical-align: middle;\n",
       "    }\n",
       "\n",
       "    .dataframe tbody tr th {\n",
       "        vertical-align: top;\n",
       "    }\n",
       "\n",
       "    .dataframe thead th {\n",
       "        text-align: right;\n",
       "    }\n",
       "</style>\n",
       "<table border=\"1\" class=\"dataframe\">\n",
       "  <thead>\n",
       "    <tr style=\"text-align: right;\">\n",
       "      <th></th>\n",
       "      <th>sexe</th>\n",
       "      <th>nombre</th>\n",
       "    </tr>\n",
       "  </thead>\n",
       "  <tbody>\n",
       "    <tr>\n",
       "      <th>count</th>\n",
       "      <td>667364.000000</td>\n",
       "      <td>667364.000000</td>\n",
       "    </tr>\n",
       "    <tr>\n",
       "      <th>mean</th>\n",
       "      <td>1.543828</td>\n",
       "      <td>129.772665</td>\n",
       "    </tr>\n",
       "    <tr>\n",
       "      <th>std</th>\n",
       "      <td>0.498076</td>\n",
       "      <td>884.912504</td>\n",
       "    </tr>\n",
       "    <tr>\n",
       "      <th>min</th>\n",
       "      <td>1.000000</td>\n",
       "      <td>1.000000</td>\n",
       "    </tr>\n",
       "    <tr>\n",
       "      <th>25%</th>\n",
       "      <td>1.000000</td>\n",
       "      <td>4.000000</td>\n",
       "    </tr>\n",
       "    <tr>\n",
       "      <th>50%</th>\n",
       "      <td>2.000000</td>\n",
       "      <td>8.000000</td>\n",
       "    </tr>\n",
       "    <tr>\n",
       "      <th>75%</th>\n",
       "      <td>2.000000</td>\n",
       "      <td>25.000000</td>\n",
       "    </tr>\n",
       "    <tr>\n",
       "      <th>max</th>\n",
       "      <td>2.000000</td>\n",
       "      <td>53584.000000</td>\n",
       "    </tr>\n",
       "  </tbody>\n",
       "</table>\n",
       "</div>"
      ],
      "text/plain": [
       "                sexe         nombre\n",
       "count  667364.000000  667364.000000\n",
       "mean        1.543828     129.772665\n",
       "std         0.498076     884.912504\n",
       "min         1.000000       1.000000\n",
       "25%         1.000000       4.000000\n",
       "50%         2.000000       8.000000\n",
       "75%         2.000000      25.000000\n",
       "max         2.000000   53584.000000"
      ]
     },
     "execution_count": 31,
     "metadata": {},
     "output_type": "execute_result"
    }
   ],
   "source": [
    "# your code here\n",
    "\n",
    "data.describe()"
   ]
  },
  {
   "cell_type": "markdown",
   "metadata": {
    "nteract": {
     "transient": {
      "deleting": false
     }
    }
   },
   "source": [
    "**QUESTION:** For each column compute the number of distinct values"
   ]
  },
  {
   "cell_type": "code",
   "execution_count": 32,
   "metadata": {
    "ExecuteTime": {
     "end_time": "2022-01-30T22:45:52.260627Z",
     "start_time": "2022-01-30T22:45:51.967030Z"
    },
    "jupyter": {
     "outputs_hidden": false,
     "source_hidden": false
    },
    "nteract": {
     "transient": {
      "deleting": false
     }
    }
   },
   "outputs": [
    {
     "data": {
      "text/plain": [
       "sexe            2\n",
       "preusuel    35010\n",
       "annais        122\n",
       "nombre       7304\n",
       "dtype: int64"
      ]
     },
     "execution_count": 32,
     "metadata": {},
     "output_type": "execute_result"
    }
   ],
   "source": [
    "data.nunique()"
   ]
  },
  {
   "cell_type": "markdown",
   "metadata": {
    "nteract": {
     "transient": {
      "deleting": false
     }
    }
   },
   "source": [
    "# Transformations\n",
    "\n",
    "## Improving the data types\n",
    "\n",
    "**QUESTION:** Make `sexe` a category with two levels `Female` and `Male`. Call the new column `genre`. Do you see any reason why this factor should be ordered?\n",
    "\n",
    "__Hint:__ Read [Pandas and categorical variables](https://pandas.pydata.org/pandas-docs/stable/user_guide/categorical.html?highlight=category)"
   ]
  },
  {
   "cell_type": "code",
   "execution_count": 33,
   "metadata": {
    "ExecuteTime": {
     "end_time": "2022-01-30T22:45:52.439082Z",
     "start_time": "2022-01-30T22:45:52.414310Z"
    },
    "jupyter": {
     "outputs_hidden": false,
     "source_hidden": false
    },
    "nteract": {
     "transient": {
      "deleting": false
     }
    }
   },
   "outputs": [],
   "source": [
    "data['genre'] = data['sexe'].astype(\"category\")"
   ]
  },
  {
   "cell_type": "code",
   "execution_count": 34,
   "metadata": {
    "ExecuteTime": {
     "end_time": "2022-01-30T22:45:52.609603Z",
     "start_time": "2022-01-30T22:45:52.596562Z"
    },
    "jupyter": {
     "outputs_hidden": false,
     "source_hidden": false
    },
    "nteract": {
     "transient": {
      "deleting": false
     }
    }
   },
   "outputs": [],
   "source": [
    "data['genre'] = data['genre'].cat.rename_categories(['Male', 'Female'])"
   ]
  },
  {
   "cell_type": "markdown",
   "metadata": {
    "nteract": {
     "transient": {
      "deleting": false
     }
    }
   },
   "source": [
    "**QUESTION:** Compare memory usage of columns `sexe` and `genre`"
   ]
  },
  {
   "cell_type": "code",
   "execution_count": 35,
   "metadata": {
    "ExecuteTime": {
     "end_time": "2022-01-30T22:45:52.953794Z",
     "start_time": "2022-01-30T22:45:52.922217Z"
    },
    "jupyter": {
     "outputs_hidden": false,
     "source_hidden": false
    },
    "nteract": {
     "transient": {
      "deleting": false
     }
    }
   },
   "outputs": [
    {
     "name": "stdout",
     "output_type": "stream",
     "text": [
      "667616\n",
      "5339040\n"
     ]
    },
    {
     "data": {
      "text/plain": [
       "0           Male\n",
       "1           Male\n",
       "2           Male\n",
       "3           Male\n",
       "4           Male\n",
       "           ...  \n",
       "667359    Female\n",
       "667360    Female\n",
       "667361    Female\n",
       "667362    Female\n",
       "667363    Female\n",
       "Name: genre, Length: 667364, dtype: category\n",
       "Categories (2, object): ['Male', 'Female']"
      ]
     },
     "execution_count": 35,
     "metadata": {},
     "output_type": "execute_result"
    }
   ],
   "source": [
    "# your code here\n",
    "\n",
    "print(data['genre'].memory_usage())\n",
    "print(data['sexe'].memory_usage())\n",
    "\n",
    "data['genre']"
   ]
  },
  {
   "cell_type": "markdown",
   "metadata": {
    "nteract": {
     "transient": {
      "deleting": false
     }
    }
   },
   "source": [
    "**QUESTION:** Would it be more memory-efficient to recode `sexe` using modalities `F` and `M` instead of `Male` and `Female` ?"
   ]
  },
  {
   "cell_type": "markdown",
   "metadata": {
    "nteract": {
     "transient": {
      "deleting": false
     }
    }
   },
   "source": [
    "_Insert your answer here_\n",
    "\n",
    "> No because it's not the String 'Male'/'Female' that is stored but a value coresponding to the position of the category"
   ]
  },
  {
   "cell_type": "markdown",
   "metadata": {
    "nteract": {
     "transient": {
      "deleting": false
     }
    }
   },
   "source": [
    "## Dealing with missing values\n",
    "\n",
    "**QUESTION:** Variable `annais` class is `object`. Make `annais` of type `float`. Note that missing years are encoded as \"XXXX\", find a way to deal with that.\n",
    "\n",
    "__Hint:__  As of releasing this Homework (2021-01-22), `Pandas` is not very good at managing missing values,\n",
    "see [roadmap](https://pandas.pydata.org/docs/development/roadmap.html). Don't try to convert `annais` into an integer column."
   ]
  },
  {
   "cell_type": "code",
   "execution_count": 36,
   "metadata": {
    "ExecuteTime": {
     "end_time": "2022-01-30T22:45:54.037795Z",
     "start_time": "2022-01-30T22:45:53.571267Z"
    },
    "jupyter": {
     "outputs_hidden": false,
     "source_hidden": false
    },
    "nteract": {
     "transient": {
      "deleting": false
     }
    }
   },
   "outputs": [
    {
     "data": {
      "text/plain": [
       "0         1900.0\n",
       "1         1901.0\n",
       "2         1902.0\n",
       "3         1903.0\n",
       "4         1904.0\n",
       "           ...  \n",
       "667359    2017.0\n",
       "667360    2018.0\n",
       "667361    2019.0\n",
       "667362    2020.0\n",
       "667363       NaN\n",
       "Name: annais, Length: 667364, dtype: float32"
      ]
     },
     "execution_count": 36,
     "metadata": {},
     "output_type": "execute_result"
    }
   ],
   "source": [
    "data['annais'] = pd.to_numeric(data['annais'], downcast='float', errors='coerce')\n",
    "\n",
    "data['annais'] \n"
   ]
  },
  {
   "cell_type": "markdown",
   "metadata": {
    "nteract": {
     "transient": {
      "deleting": false
     }
    }
   },
   "source": [
    "## Rename and remove columns"
   ]
  },
  {
   "cell_type": "markdown",
   "metadata": {
    "nteract": {
     "transient": {
      "deleting": false
     }
    }
   },
   "source": [
    "**QUESTION:** Remove useless columns (now that you've created new ones, and rename them). You should end up with a dataframe with columns called `\"gender\"`, `\"year\"`, `\"count\"`, `\"firstname`\" with the following dtypes:\n",
    "\n",
    "```python\n",
    "gender        category\n",
    "firstname     object\n",
    "count         int64\n",
    "year          float64\n",
    "```"
   ]
  },
  {
   "cell_type": "code",
   "execution_count": 37,
   "metadata": {
    "ExecuteTime": {
     "end_time": "2022-01-30T22:45:54.223258Z",
     "start_time": "2022-01-30T22:45:54.123454Z"
    },
    "jupyter": {
     "outputs_hidden": false,
     "source_hidden": false
    },
    "nteract": {
     "transient": {
      "deleting": false
     }
    }
   },
   "outputs": [
    {
     "data": {
      "text/html": [
       "<div>\n",
       "<style scoped>\n",
       "    .dataframe tbody tr th:only-of-type {\n",
       "        vertical-align: middle;\n",
       "    }\n",
       "\n",
       "    .dataframe tbody tr th {\n",
       "        vertical-align: top;\n",
       "    }\n",
       "\n",
       "    .dataframe thead th {\n",
       "        text-align: right;\n",
       "    }\n",
       "</style>\n",
       "<table border=\"1\" class=\"dataframe\">\n",
       "  <thead>\n",
       "    <tr style=\"text-align: right;\">\n",
       "      <th></th>\n",
       "      <th>firstname</th>\n",
       "      <th>year</th>\n",
       "      <th>count</th>\n",
       "      <th>gender</th>\n",
       "    </tr>\n",
       "  </thead>\n",
       "  <tbody>\n",
       "    <tr>\n",
       "      <th>0</th>\n",
       "      <td>_PRENOMS_RARES</td>\n",
       "      <td>1900.0</td>\n",
       "      <td>1250</td>\n",
       "      <td>Male</td>\n",
       "    </tr>\n",
       "    <tr>\n",
       "      <th>1</th>\n",
       "      <td>_PRENOMS_RARES</td>\n",
       "      <td>1901.0</td>\n",
       "      <td>1342</td>\n",
       "      <td>Male</td>\n",
       "    </tr>\n",
       "    <tr>\n",
       "      <th>2</th>\n",
       "      <td>_PRENOMS_RARES</td>\n",
       "      <td>1902.0</td>\n",
       "      <td>1330</td>\n",
       "      <td>Male</td>\n",
       "    </tr>\n",
       "    <tr>\n",
       "      <th>3</th>\n",
       "      <td>_PRENOMS_RARES</td>\n",
       "      <td>1903.0</td>\n",
       "      <td>1286</td>\n",
       "      <td>Male</td>\n",
       "    </tr>\n",
       "    <tr>\n",
       "      <th>4</th>\n",
       "      <td>_PRENOMS_RARES</td>\n",
       "      <td>1904.0</td>\n",
       "      <td>1430</td>\n",
       "      <td>Male</td>\n",
       "    </tr>\n",
       "    <tr>\n",
       "      <th>...</th>\n",
       "      <td>...</td>\n",
       "      <td>...</td>\n",
       "      <td>...</td>\n",
       "      <td>...</td>\n",
       "    </tr>\n",
       "    <tr>\n",
       "      <th>667359</th>\n",
       "      <td>ZYNEB</td>\n",
       "      <td>2017.0</td>\n",
       "      <td>6</td>\n",
       "      <td>Female</td>\n",
       "    </tr>\n",
       "    <tr>\n",
       "      <th>667360</th>\n",
       "      <td>ZYNEB</td>\n",
       "      <td>2018.0</td>\n",
       "      <td>5</td>\n",
       "      <td>Female</td>\n",
       "    </tr>\n",
       "    <tr>\n",
       "      <th>667361</th>\n",
       "      <td>ZYNEB</td>\n",
       "      <td>2019.0</td>\n",
       "      <td>7</td>\n",
       "      <td>Female</td>\n",
       "    </tr>\n",
       "    <tr>\n",
       "      <th>667362</th>\n",
       "      <td>ZYNEB</td>\n",
       "      <td>2020.0</td>\n",
       "      <td>8</td>\n",
       "      <td>Female</td>\n",
       "    </tr>\n",
       "    <tr>\n",
       "      <th>667363</th>\n",
       "      <td>ZYNEB</td>\n",
       "      <td>NaN</td>\n",
       "      <td>19</td>\n",
       "      <td>Female</td>\n",
       "    </tr>\n",
       "  </tbody>\n",
       "</table>\n",
       "<p>667364 rows × 4 columns</p>\n",
       "</div>"
      ],
      "text/plain": [
       "             firstname    year  count  gender\n",
       "0       _PRENOMS_RARES  1900.0   1250    Male\n",
       "1       _PRENOMS_RARES  1901.0   1342    Male\n",
       "2       _PRENOMS_RARES  1902.0   1330    Male\n",
       "3       _PRENOMS_RARES  1903.0   1286    Male\n",
       "4       _PRENOMS_RARES  1904.0   1430    Male\n",
       "...                ...     ...    ...     ...\n",
       "667359           ZYNEB  2017.0      6  Female\n",
       "667360           ZYNEB  2018.0      5  Female\n",
       "667361           ZYNEB  2019.0      7  Female\n",
       "667362           ZYNEB  2020.0      8  Female\n",
       "667363           ZYNEB     NaN     19  Female\n",
       "\n",
       "[667364 rows x 4 columns]"
      ]
     },
     "execution_count": 37,
     "metadata": {},
     "output_type": "execute_result"
    }
   ],
   "source": [
    "# your code here\n",
    "data = data.drop(columns=[\"sexe\"]).rename(columns={\"preusuel\":\"firstname\", \"annais\":\"year\", \"genre\":\"gender\", \"nombre\":\"count\"})\n",
    "data"
   ]
  },
  {
   "cell_type": "markdown",
   "metadata": {
    "nteract": {
     "transient": {
      "deleting": false
     }
    }
   },
   "source": [
    "**QUESTION:** How many missing values (NA) have been introduced? How many births are concerned?"
   ]
  },
  {
   "cell_type": "code",
   "execution_count": 38,
   "metadata": {
    "ExecuteTime": {
     "end_time": "2022-01-30T22:45:54.537503Z",
     "start_time": "2022-01-30T22:45:54.518974Z"
    },
    "jupyter": {
     "outputs_hidden": false,
     "source_hidden": false
    },
    "nteract": {
     "transient": {
      "deleting": false
     }
    }
   },
   "outputs": [
    {
     "data": {
      "text/plain": [
       "36675"
      ]
     },
     "execution_count": 38,
     "metadata": {},
     "output_type": "execute_result"
    }
   ],
   "source": [
    "# your code here\n",
    "\n",
    "data[data['year'].isna()].shape[0]\n"
   ]
  },
  {
   "cell_type": "markdown",
   "metadata": {
    "nteract": {
     "transient": {
      "deleting": false
     }
    }
   },
   "source": [
    "**QUESTION:** Read the documentation and describe the origin of rows containing the missing values."
   ]
  },
  {
   "cell_type": "markdown",
   "metadata": {},
   "source": [
    "> \"Les effectifs des prénoms remplissant la condition 2 mais pas la condition 3 sont regroupés (pour chaque sexe et chaque prénom) dans un enregistrement dont le champ année de naissance (ANNAIS) prend la valeur «XXXX».\"\n",
    "\n",
    "> The rows containing missing values correpsond to the names that were given at least 20 times from 1946 to 2020 but weren't given at least 3 times each year."
   ]
  },
  {
   "cell_type": "markdown",
   "metadata": {
    "nteract": {
     "transient": {
      "deleting": false
     }
    }
   },
   "source": [
    "## Checkpointing: save your transformed dataframe"
   ]
  },
  {
   "cell_type": "markdown",
   "metadata": {
    "nteract": {
     "transient": {
      "deleting": false
     }
    }
   },
   "source": [
    "**QUESTION:** Save the transformed dataframe (retyped and renamed) to `./nat2020_csv.zip`. Try several compression methods."
   ]
  },
  {
   "cell_type": "code",
   "execution_count": null,
   "metadata": {
    "ExecuteTime": {
     "start_time": "2022-01-30T22:45:55.619Z"
    },
    "jupyter": {
     "outputs_hidden": false,
     "source_hidden": false
    },
    "nteract": {
     "transient": {
      "deleting": false
     }
    }
   },
   "outputs": [],
   "source": [
    "data.to_csv(path_or_buf='./nat2020_csv.zip', compression='zip')"
   ]
  },
  {
   "cell_type": "markdown",
   "metadata": {
    "nteract": {
     "transient": {
      "deleting": false
     }
    }
   },
   "source": [
    "**QUESTION:** Save the transformed dataframe (retyped and renamed) to `./nat2020.hdf` using `.hdf` format"
   ]
  },
  {
   "cell_type": "code",
   "execution_count": 18,
   "metadata": {
    "ExecuteTime": {
     "end_time": "2022-01-30T22:45:29.067560Z",
     "start_time": "2022-01-30T22:45:29.060417Z"
    },
    "jupyter": {
     "outputs_hidden": false,
     "source_hidden": false
    },
    "nteract": {
     "transient": {
      "deleting": false
     }
    }
   },
   "outputs": [],
   "source": [
    "#This line doesn't work because the optional dependency 'tables' is missing\n",
    "\n",
    "#data.to_hdf('./nat2020.hdf', key='prenoms', format='table')"
   ]
  },
  {
   "cell_type": "markdown",
   "metadata": {
    "nteract": {
     "transient": {
      "deleting": false
     }
    }
   },
   "source": [
    "At that point your working directory should look like:\n",
    "\n",
    "```\n",
    "├── homework01.py      # if you use `jupytext`\n",
    "├── homework01.ipynb\n",
    "├── nat2020.hdf\n",
    "├── nat2020.zip\n",
    "```\n",
    "\n",
    "**QUESTION:** Reload the data using `read_hdf(...)` so that the resulting dataframe  is properly typed with meaningful column names.\n",
    "\n",
    "__Hint:__ use `try: ... except` to handle exceptions such as `FileNotFoundError`"
   ]
  },
  {
   "cell_type": "code",
   "execution_count": 19,
   "metadata": {
    "ExecuteTime": {
     "end_time": "2022-01-30T22:45:29.367299Z",
     "start_time": "2022-01-30T22:45:29.334830Z"
    },
    "jupyter": {
     "outputs_hidden": false,
     "source_hidden": false
    },
    "nteract": {
     "transient": {
      "deleting": false
     }
    }
   },
   "outputs": [
    {
     "ename": "NameError",
     "evalue": "name 'read_hdf' is not defined",
     "output_type": "error",
     "traceback": [
      "\u001b[0;31m---------------------------------------------------------------------------\u001b[0m",
      "\u001b[0;31mNameError\u001b[0m                                 Traceback (most recent call last)",
      "\u001b[0;32m<ipython-input-19-755577e69943>\u001b[0m in \u001b[0;36m<module>\u001b[0;34m\u001b[0m\n\u001b[0;32m----> 1\u001b[0;31m \u001b[0mread_hdf\u001b[0m\u001b[0;34m(\u001b[0m\u001b[0;34m'./nat2020.hdf'\u001b[0m\u001b[0;34m)\u001b[0m\u001b[0;34m\u001b[0m\u001b[0;34m\u001b[0m\u001b[0m\n\u001b[0m\u001b[1;32m      2\u001b[0m \u001b[0mget_ipython\u001b[0m\u001b[0;34m(\u001b[0m\u001b[0;34m)\u001b[0m\u001b[0;34m.\u001b[0m\u001b[0mrun_line_magic\u001b[0m\u001b[0;34m(\u001b[0m\u001b[0;34m'ls'\u001b[0m\u001b[0;34m,\u001b[0m \u001b[0;34m''\u001b[0m\u001b[0;34m)\u001b[0m\u001b[0;34m\u001b[0m\u001b[0;34m\u001b[0m\u001b[0m\n",
      "\u001b[0;31mNameError\u001b[0m: name 'read_hdf' is not defined"
     ]
    }
   ],
   "source": [
    "read_hdf('./nat2020.hdf')\n",
    "%ls"
   ]
  },
  {
   "cell_type": "markdown",
   "metadata": {
    "nteract": {
     "transient": {
      "deleting": false
     }
    }
   },
   "source": [
    "## Some data \"analytics\" and visualization\n",
    "\n",
    "**QUESTION**: For each year, compute the total number of Female and Male births and the proportion of Female  births among total births\n",
    "\n",
    "__Hints:__\n",
    "\n",
    "- Groupby operations using several columns for the groups return a dataframe with a `MultiIndex` index see [Pandas advanced](https://pandas.pydata.org/pandas-docs/stable/user_guide/advanced.html)\n",
    "\n",
    "- Have a look at `MultiIndex`, `reset_index`, `pivot`, `columns.droplevel`"
   ]
  },
  {
   "cell_type": "code",
   "execution_count": 20,
   "metadata": {
    "ExecuteTime": {
     "end_time": "2022-01-30T22:45:30.503357Z",
     "start_time": "2022-01-30T22:45:30.466727Z"
    },
    "jupyter": {
     "outputs_hidden": false,
     "source_hidden": false
    },
    "nteract": {
     "transient": {
      "deleting": false
     }
    }
   },
   "outputs": [
    {
     "ename": "NameError",
     "evalue": "name 'data' is not defined",
     "output_type": "error",
     "traceback": [
      "\u001b[0;31m---------------------------------------------------------------------------\u001b[0m",
      "\u001b[0;31mNameError\u001b[0m                                 Traceback (most recent call last)",
      "\u001b[0;32m<ipython-input-20-c0af2402e0ca>\u001b[0m in \u001b[0;36m<module>\u001b[0;34m\u001b[0m\n\u001b[1;32m      1\u001b[0m \u001b[0;31m# your code here\u001b[0m\u001b[0;34m\u001b[0m\u001b[0;34m\u001b[0m\u001b[0;34m\u001b[0m\u001b[0m\n\u001b[1;32m      2\u001b[0m \u001b[0;34m\u001b[0m\u001b[0m\n\u001b[0;32m----> 3\u001b[0;31m \u001b[0mdata2\u001b[0m \u001b[0;34m=\u001b[0m \u001b[0mdata\u001b[0m\u001b[0;34m.\u001b[0m\u001b[0mgroupby\u001b[0m\u001b[0;34m(\u001b[0m\u001b[0;34m[\u001b[0m\u001b[0;34m'year'\u001b[0m\u001b[0;34m,\u001b[0m \u001b[0;34m'gender'\u001b[0m\u001b[0;34m]\u001b[0m\u001b[0;34m)\u001b[0m\u001b[0;34m.\u001b[0m\u001b[0msum\u001b[0m\u001b[0;34m(\u001b[0m\u001b[0;34m)\u001b[0m\u001b[0;34m\u001b[0m\u001b[0;34m\u001b[0m\u001b[0m\n\u001b[0m\u001b[1;32m      4\u001b[0m \u001b[0mdata2\u001b[0m\u001b[0;34m\u001b[0m\u001b[0;34m\u001b[0m\u001b[0m\n",
      "\u001b[0;31mNameError\u001b[0m: name 'data' is not defined"
     ]
    }
   ],
   "source": [
    "# your code here\n",
    "\n",
    "data2 = data.groupby(['year', 'gender']).sum()\n",
    "data2"
   ]
  },
  {
   "cell_type": "code",
   "execution_count": 21,
   "metadata": {
    "ExecuteTime": {
     "end_time": "2022-01-30T22:45:31.026135Z",
     "start_time": "2022-01-30T22:45:30.997012Z"
    }
   },
   "outputs": [
    {
     "ename": "NameError",
     "evalue": "name 'data' is not defined",
     "output_type": "error",
     "traceback": [
      "\u001b[0;31m---------------------------------------------------------------------------\u001b[0m",
      "\u001b[0;31mNameError\u001b[0m                                 Traceback (most recent call last)",
      "\u001b[0;32m<ipython-input-21-52d82ef4eb45>\u001b[0m in \u001b[0;36m<module>\u001b[0;34m\u001b[0m\n\u001b[0;32m----> 1\u001b[0;31m \u001b[0mdata3\u001b[0m \u001b[0;34m=\u001b[0m  \u001b[0mdata\u001b[0m\u001b[0;34m[\u001b[0m\u001b[0mdata\u001b[0m\u001b[0;34m[\u001b[0m\u001b[0;34m'gender'\u001b[0m\u001b[0;34m]\u001b[0m\u001b[0;34m==\u001b[0m\u001b[0;34m'Female'\u001b[0m\u001b[0;34m]\u001b[0m\u001b[0;34m.\u001b[0m\u001b[0mgroupby\u001b[0m\u001b[0;34m(\u001b[0m\u001b[0;34m[\u001b[0m\u001b[0;34m'year'\u001b[0m\u001b[0;34m]\u001b[0m\u001b[0;34m)\u001b[0m\u001b[0;34m.\u001b[0m\u001b[0msum\u001b[0m\u001b[0;34m(\u001b[0m\u001b[0;34m)\u001b[0m \u001b[0;34m/\u001b[0m \u001b[0mdata\u001b[0m\u001b[0;34m.\u001b[0m\u001b[0mgroupby\u001b[0m\u001b[0;34m(\u001b[0m\u001b[0;34m[\u001b[0m\u001b[0;34m'year'\u001b[0m\u001b[0;34m]\u001b[0m\u001b[0;34m)\u001b[0m\u001b[0;34m.\u001b[0m\u001b[0msum\u001b[0m\u001b[0;34m(\u001b[0m\u001b[0;34m)\u001b[0m\u001b[0;34m\u001b[0m\u001b[0;34m\u001b[0m\u001b[0m\n\u001b[0m\u001b[1;32m      2\u001b[0m \u001b[0mdata3\u001b[0m \u001b[0;34m=\u001b[0m \u001b[0mdata3\u001b[0m\u001b[0;34m.\u001b[0m\u001b[0mrename\u001b[0m\u001b[0;34m(\u001b[0m\u001b[0mcolumns\u001b[0m\u001b[0;34m=\u001b[0m\u001b[0;34m{\u001b[0m\u001b[0;34m\"count\"\u001b[0m\u001b[0;34m:\u001b[0m\u001b[0;34m\"f_proportion\"\u001b[0m\u001b[0;34m}\u001b[0m\u001b[0;34m)\u001b[0m\u001b[0;34m\u001b[0m\u001b[0;34m\u001b[0m\u001b[0m\n\u001b[1;32m      3\u001b[0m \u001b[0mdata3\u001b[0m\u001b[0;34m\u001b[0m\u001b[0;34m\u001b[0m\u001b[0m\n",
      "\u001b[0;31mNameError\u001b[0m: name 'data' is not defined"
     ]
    }
   ],
   "source": [
    "data3 =  data[data['gender']=='Female'].groupby(['year']).sum() / data.groupby(['year']).sum()\n",
    "data3 = data3.rename(columns={\"count\":\"f_proportion\"})\n",
    "data3"
   ]
  },
  {
   "cell_type": "markdown",
   "metadata": {
    "nteract": {
     "transient": {
      "deleting": false
     }
    }
   },
   "source": [
    "**QUESTION:** Plot the proportion of female births as a function of year. Don't forget: title, axes labels, ticks, scales, etc.\n",
    "\n",
    "Because of what we did before, the `plot` method of a `DataFrame` with be rendered using `plotly`, so you can use this. But you can use also `seaborn` or any other available plotting library that you want.\n",
    "\n",
    "__Hint:__ Mind the missing values in the `year` column"
   ]
  },
  {
   "cell_type": "code",
   "execution_count": 108,
   "metadata": {
    "ExecuteTime": {
     "end_time": "2022-01-30T21:42:14.690977Z",
     "start_time": "2022-01-30T21:42:14.530295Z"
    },
    "jupyter": {
     "outputs_hidden": false,
     "source_hidden": false
    },
    "nteract": {
     "transient": {
      "deleting": false
     }
    }
   },
   "outputs": [
    {
     "data": {
      "application/vnd.plotly.v1+json": {
       "config": {
        "plotlyServerURL": "https://plot.ly"
       },
       "data": [
        {
         "hovertemplate": "year=%{x}<br>f_proportion=%{y}<extra></extra>",
         "legendgroup": "",
         "line": {
          "color": "#636efa",
          "dash": "solid"
         },
         "mode": "lines",
         "name": "",
         "orientation": "v",
         "showlegend": false,
         "type": "scatter",
         "x": [
          1900,
          1901,
          1902,
          1903,
          1904,
          1905,
          1906,
          1907,
          1908,
          1909,
          1910,
          1911,
          1912,
          1913,
          1914,
          1915,
          1916,
          1917,
          1918,
          1919,
          1920,
          1921,
          1922,
          1923,
          1924,
          1925,
          1926,
          1927,
          1928,
          1929,
          1930,
          1931,
          1932,
          1933,
          1934,
          1935,
          1936,
          1937,
          1938,
          1939,
          1940,
          1941,
          1942,
          1943,
          1944,
          1945,
          1946,
          1947,
          1948,
          1949,
          1950,
          1951,
          1952,
          1953,
          1954,
          1955,
          1956,
          1957,
          1958,
          1959,
          1960,
          1961,
          1962,
          1963,
          1964,
          1965,
          1966,
          1967,
          1968,
          1969,
          1970,
          1971,
          1972,
          1973,
          1974,
          1975,
          1976,
          1977,
          1978,
          1979,
          1980,
          1981,
          1982,
          1983,
          1984,
          1985,
          1986,
          1987,
          1988,
          1989,
          1990,
          1991,
          1992,
          1993,
          1994,
          1995,
          1996,
          1997,
          1998,
          1999,
          2000,
          2001,
          2002,
          2003,
          2004,
          2005,
          2006,
          2007,
          2008,
          2009,
          2010,
          2011,
          2012,
          2013,
          2014,
          2015,
          2016,
          2017,
          2018,
          2019,
          2020
         ],
         "xaxis": "x",
         "y": [
          0.5726012610802306,
          0.5678434070780848,
          0.5612765409304622,
          0.5576909950342145,
          0.5529081639044433,
          0.5465392673792205,
          0.5441828020209469,
          0.5398883087436929,
          0.5362624146271378,
          0.5325426807947825,
          0.5291934537929076,
          0.5277284960601615,
          0.5238244404998086,
          0.5229531480480788,
          0.5239278397957366,
          0.5188419902332412,
          0.5172904491021144,
          0.5158523170528694,
          0.5122948467806726,
          0.5108128649358128,
          0.5094544214979925,
          0.5122369657226706,
          0.5114073083472227,
          0.5098740412744823,
          0.5101172833629943,
          0.5081916072668672,
          0.5075539467144318,
          0.504890309559043,
          0.5029412547996108,
          0.5019419574040702,
          0.5026281108950186,
          0.5022615523787839,
          0.5020721326164874,
          0.5018227756722613,
          0.5016255507542131,
          0.5022904185724968,
          0.5017106895634112,
          0.5003470201832547,
          0.49976040047601616,
          0.5008907557387093,
          0.49916775558459336,
          0.49735794724121973,
          0.49452374103944324,
          0.4941969688837022,
          0.4959717672683188,
          0.4955987596427636,
          0.4867780025120987,
          0.4866327828899621,
          0.48644129154893745,
          0.4877984994976346,
          0.4882461233849085,
          0.48809313645875263,
          0.4881928609533521,
          0.48834249453639095,
          0.48769420998871027,
          0.4897419094666801,
          0.48830638155096073,
          0.48885984794181175,
          0.4893358470265342,
          0.4884766237749743,
          0.4883177652626163,
          0.48908919335269807,
          0.48897888918880406,
          0.4894717419865418,
          0.48852299197748283,
          0.48856317341840727,
          0.48857627902870154,
          0.4883560872592569,
          0.4887500072200498,
          0.48813599854674894,
          0.486872707602486,
          0.4874323617647868,
          0.48666003146370435,
          0.4870364654025811,
          0.48674844988048,
          0.48777339370390144,
          0.4875913337674663,
          0.48671781599379904,
          0.4870463150444738,
          0.4872395493131177,
          0.48739100444374744,
          0.4870479894531888,
          0.4871100919688418,
          0.4876655183409743,
          0.48827069855907634,
          0.48773822549044554,
          0.48770155075335786,
          0.48805524211727486,
          0.48757345661976753,
          0.4884934481972835,
          0.48676749185942386,
          0.4873132844618039,
          0.4865334616921092,
          0.487394716259549,
          0.4872298759465827,
          0.4878557524185408,
          0.4858494393650971,
          0.485909323258438,
          0.4873122542703274,
          0.48624273042968913,
          0.48655483941979244,
          0.48807892711605666,
          0.48708859660767717,
          0.4880246611713288,
          0.48686307805441215,
          0.48758045856187365,
          0.4878234305564402,
          0.48754274366214667,
          0.4872566497721201,
          0.4878154659720989,
          0.48787528868360275,
          0.48843247705651033,
          0.4872474087002224,
          0.4874409974487077,
          0.488336803029923,
          0.4875820497027269,
          0.48730049362131855,
          0.4874691551525966,
          0.486864730218319,
          0.4881776788120096,
          0.4879253806046212
         ],
         "yaxis": "y"
        }
       ],
       "layout": {
        "legend": {
         "tracegroupgap": 0
        },
        "margin": {
         "t": 60
        },
        "template": {
         "data": {
          "bar": [
           {
            "error_x": {
             "color": "#2a3f5f"
            },
            "error_y": {
             "color": "#2a3f5f"
            },
            "marker": {
             "line": {
              "color": "#E5ECF6",
              "width": 0.5
             }
            },
            "type": "bar"
           }
          ],
          "barpolar": [
           {
            "marker": {
             "line": {
              "color": "#E5ECF6",
              "width": 0.5
             }
            },
            "type": "barpolar"
           }
          ],
          "carpet": [
           {
            "aaxis": {
             "endlinecolor": "#2a3f5f",
             "gridcolor": "white",
             "linecolor": "white",
             "minorgridcolor": "white",
             "startlinecolor": "#2a3f5f"
            },
            "baxis": {
             "endlinecolor": "#2a3f5f",
             "gridcolor": "white",
             "linecolor": "white",
             "minorgridcolor": "white",
             "startlinecolor": "#2a3f5f"
            },
            "type": "carpet"
           }
          ],
          "choropleth": [
           {
            "colorbar": {
             "outlinewidth": 0,
             "ticks": ""
            },
            "type": "choropleth"
           }
          ],
          "contour": [
           {
            "colorbar": {
             "outlinewidth": 0,
             "ticks": ""
            },
            "colorscale": [
             [
              0,
              "#0d0887"
             ],
             [
              0.1111111111111111,
              "#46039f"
             ],
             [
              0.2222222222222222,
              "#7201a8"
             ],
             [
              0.3333333333333333,
              "#9c179e"
             ],
             [
              0.4444444444444444,
              "#bd3786"
             ],
             [
              0.5555555555555556,
              "#d8576b"
             ],
             [
              0.6666666666666666,
              "#ed7953"
             ],
             [
              0.7777777777777778,
              "#fb9f3a"
             ],
             [
              0.8888888888888888,
              "#fdca26"
             ],
             [
              1,
              "#f0f921"
             ]
            ],
            "type": "contour"
           }
          ],
          "contourcarpet": [
           {
            "colorbar": {
             "outlinewidth": 0,
             "ticks": ""
            },
            "type": "contourcarpet"
           }
          ],
          "heatmap": [
           {
            "colorbar": {
             "outlinewidth": 0,
             "ticks": ""
            },
            "colorscale": [
             [
              0,
              "#0d0887"
             ],
             [
              0.1111111111111111,
              "#46039f"
             ],
             [
              0.2222222222222222,
              "#7201a8"
             ],
             [
              0.3333333333333333,
              "#9c179e"
             ],
             [
              0.4444444444444444,
              "#bd3786"
             ],
             [
              0.5555555555555556,
              "#d8576b"
             ],
             [
              0.6666666666666666,
              "#ed7953"
             ],
             [
              0.7777777777777778,
              "#fb9f3a"
             ],
             [
              0.8888888888888888,
              "#fdca26"
             ],
             [
              1,
              "#f0f921"
             ]
            ],
            "type": "heatmap"
           }
          ],
          "heatmapgl": [
           {
            "colorbar": {
             "outlinewidth": 0,
             "ticks": ""
            },
            "colorscale": [
             [
              0,
              "#0d0887"
             ],
             [
              0.1111111111111111,
              "#46039f"
             ],
             [
              0.2222222222222222,
              "#7201a8"
             ],
             [
              0.3333333333333333,
              "#9c179e"
             ],
             [
              0.4444444444444444,
              "#bd3786"
             ],
             [
              0.5555555555555556,
              "#d8576b"
             ],
             [
              0.6666666666666666,
              "#ed7953"
             ],
             [
              0.7777777777777778,
              "#fb9f3a"
             ],
             [
              0.8888888888888888,
              "#fdca26"
             ],
             [
              1,
              "#f0f921"
             ]
            ],
            "type": "heatmapgl"
           }
          ],
          "histogram": [
           {
            "marker": {
             "colorbar": {
              "outlinewidth": 0,
              "ticks": ""
             }
            },
            "type": "histogram"
           }
          ],
          "histogram2d": [
           {
            "colorbar": {
             "outlinewidth": 0,
             "ticks": ""
            },
            "colorscale": [
             [
              0,
              "#0d0887"
             ],
             [
              0.1111111111111111,
              "#46039f"
             ],
             [
              0.2222222222222222,
              "#7201a8"
             ],
             [
              0.3333333333333333,
              "#9c179e"
             ],
             [
              0.4444444444444444,
              "#bd3786"
             ],
             [
              0.5555555555555556,
              "#d8576b"
             ],
             [
              0.6666666666666666,
              "#ed7953"
             ],
             [
              0.7777777777777778,
              "#fb9f3a"
             ],
             [
              0.8888888888888888,
              "#fdca26"
             ],
             [
              1,
              "#f0f921"
             ]
            ],
            "type": "histogram2d"
           }
          ],
          "histogram2dcontour": [
           {
            "colorbar": {
             "outlinewidth": 0,
             "ticks": ""
            },
            "colorscale": [
             [
              0,
              "#0d0887"
             ],
             [
              0.1111111111111111,
              "#46039f"
             ],
             [
              0.2222222222222222,
              "#7201a8"
             ],
             [
              0.3333333333333333,
              "#9c179e"
             ],
             [
              0.4444444444444444,
              "#bd3786"
             ],
             [
              0.5555555555555556,
              "#d8576b"
             ],
             [
              0.6666666666666666,
              "#ed7953"
             ],
             [
              0.7777777777777778,
              "#fb9f3a"
             ],
             [
              0.8888888888888888,
              "#fdca26"
             ],
             [
              1,
              "#f0f921"
             ]
            ],
            "type": "histogram2dcontour"
           }
          ],
          "mesh3d": [
           {
            "colorbar": {
             "outlinewidth": 0,
             "ticks": ""
            },
            "type": "mesh3d"
           }
          ],
          "parcoords": [
           {
            "line": {
             "colorbar": {
              "outlinewidth": 0,
              "ticks": ""
             }
            },
            "type": "parcoords"
           }
          ],
          "pie": [
           {
            "automargin": true,
            "type": "pie"
           }
          ],
          "scatter": [
           {
            "marker": {
             "colorbar": {
              "outlinewidth": 0,
              "ticks": ""
             }
            },
            "type": "scatter"
           }
          ],
          "scatter3d": [
           {
            "line": {
             "colorbar": {
              "outlinewidth": 0,
              "ticks": ""
             }
            },
            "marker": {
             "colorbar": {
              "outlinewidth": 0,
              "ticks": ""
             }
            },
            "type": "scatter3d"
           }
          ],
          "scattercarpet": [
           {
            "marker": {
             "colorbar": {
              "outlinewidth": 0,
              "ticks": ""
             }
            },
            "type": "scattercarpet"
           }
          ],
          "scattergeo": [
           {
            "marker": {
             "colorbar": {
              "outlinewidth": 0,
              "ticks": ""
             }
            },
            "type": "scattergeo"
           }
          ],
          "scattergl": [
           {
            "marker": {
             "colorbar": {
              "outlinewidth": 0,
              "ticks": ""
             }
            },
            "type": "scattergl"
           }
          ],
          "scattermapbox": [
           {
            "marker": {
             "colorbar": {
              "outlinewidth": 0,
              "ticks": ""
             }
            },
            "type": "scattermapbox"
           }
          ],
          "scatterpolar": [
           {
            "marker": {
             "colorbar": {
              "outlinewidth": 0,
              "ticks": ""
             }
            },
            "type": "scatterpolar"
           }
          ],
          "scatterpolargl": [
           {
            "marker": {
             "colorbar": {
              "outlinewidth": 0,
              "ticks": ""
             }
            },
            "type": "scatterpolargl"
           }
          ],
          "scatterternary": [
           {
            "marker": {
             "colorbar": {
              "outlinewidth": 0,
              "ticks": ""
             }
            },
            "type": "scatterternary"
           }
          ],
          "surface": [
           {
            "colorbar": {
             "outlinewidth": 0,
             "ticks": ""
            },
            "colorscale": [
             [
              0,
              "#0d0887"
             ],
             [
              0.1111111111111111,
              "#46039f"
             ],
             [
              0.2222222222222222,
              "#7201a8"
             ],
             [
              0.3333333333333333,
              "#9c179e"
             ],
             [
              0.4444444444444444,
              "#bd3786"
             ],
             [
              0.5555555555555556,
              "#d8576b"
             ],
             [
              0.6666666666666666,
              "#ed7953"
             ],
             [
              0.7777777777777778,
              "#fb9f3a"
             ],
             [
              0.8888888888888888,
              "#fdca26"
             ],
             [
              1,
              "#f0f921"
             ]
            ],
            "type": "surface"
           }
          ],
          "table": [
           {
            "cells": {
             "fill": {
              "color": "#EBF0F8"
             },
             "line": {
              "color": "white"
             }
            },
            "header": {
             "fill": {
              "color": "#C8D4E3"
             },
             "line": {
              "color": "white"
             }
            },
            "type": "table"
           }
          ]
         },
         "layout": {
          "annotationdefaults": {
           "arrowcolor": "#2a3f5f",
           "arrowhead": 0,
           "arrowwidth": 1
          },
          "autotypenumbers": "strict",
          "coloraxis": {
           "colorbar": {
            "outlinewidth": 0,
            "ticks": ""
           }
          },
          "colorscale": {
           "diverging": [
            [
             0,
             "#8e0152"
            ],
            [
             0.1,
             "#c51b7d"
            ],
            [
             0.2,
             "#de77ae"
            ],
            [
             0.3,
             "#f1b6da"
            ],
            [
             0.4,
             "#fde0ef"
            ],
            [
             0.5,
             "#f7f7f7"
            ],
            [
             0.6,
             "#e6f5d0"
            ],
            [
             0.7,
             "#b8e186"
            ],
            [
             0.8,
             "#7fbc41"
            ],
            [
             0.9,
             "#4d9221"
            ],
            [
             1,
             "#276419"
            ]
           ],
           "sequential": [
            [
             0,
             "#0d0887"
            ],
            [
             0.1111111111111111,
             "#46039f"
            ],
            [
             0.2222222222222222,
             "#7201a8"
            ],
            [
             0.3333333333333333,
             "#9c179e"
            ],
            [
             0.4444444444444444,
             "#bd3786"
            ],
            [
             0.5555555555555556,
             "#d8576b"
            ],
            [
             0.6666666666666666,
             "#ed7953"
            ],
            [
             0.7777777777777778,
             "#fb9f3a"
            ],
            [
             0.8888888888888888,
             "#fdca26"
            ],
            [
             1,
             "#f0f921"
            ]
           ],
           "sequentialminus": [
            [
             0,
             "#0d0887"
            ],
            [
             0.1111111111111111,
             "#46039f"
            ],
            [
             0.2222222222222222,
             "#7201a8"
            ],
            [
             0.3333333333333333,
             "#9c179e"
            ],
            [
             0.4444444444444444,
             "#bd3786"
            ],
            [
             0.5555555555555556,
             "#d8576b"
            ],
            [
             0.6666666666666666,
             "#ed7953"
            ],
            [
             0.7777777777777778,
             "#fb9f3a"
            ],
            [
             0.8888888888888888,
             "#fdca26"
            ],
            [
             1,
             "#f0f921"
            ]
           ]
          },
          "colorway": [
           "#636efa",
           "#EF553B",
           "#00cc96",
           "#ab63fa",
           "#FFA15A",
           "#19d3f3",
           "#FF6692",
           "#B6E880",
           "#FF97FF",
           "#FECB52"
          ],
          "font": {
           "color": "#2a3f5f"
          },
          "geo": {
           "bgcolor": "white",
           "lakecolor": "white",
           "landcolor": "#E5ECF6",
           "showlakes": true,
           "showland": true,
           "subunitcolor": "white"
          },
          "hoverlabel": {
           "align": "left"
          },
          "hovermode": "closest",
          "mapbox": {
           "style": "light"
          },
          "paper_bgcolor": "white",
          "plot_bgcolor": "#E5ECF6",
          "polar": {
           "angularaxis": {
            "gridcolor": "white",
            "linecolor": "white",
            "ticks": ""
           },
           "bgcolor": "#E5ECF6",
           "radialaxis": {
            "gridcolor": "white",
            "linecolor": "white",
            "ticks": ""
           }
          },
          "scene": {
           "xaxis": {
            "backgroundcolor": "#E5ECF6",
            "gridcolor": "white",
            "gridwidth": 2,
            "linecolor": "white",
            "showbackground": true,
            "ticks": "",
            "zerolinecolor": "white"
           },
           "yaxis": {
            "backgroundcolor": "#E5ECF6",
            "gridcolor": "white",
            "gridwidth": 2,
            "linecolor": "white",
            "showbackground": true,
            "ticks": "",
            "zerolinecolor": "white"
           },
           "zaxis": {
            "backgroundcolor": "#E5ECF6",
            "gridcolor": "white",
            "gridwidth": 2,
            "linecolor": "white",
            "showbackground": true,
            "ticks": "",
            "zerolinecolor": "white"
           }
          },
          "shapedefaults": {
           "line": {
            "color": "#2a3f5f"
           }
          },
          "ternary": {
           "aaxis": {
            "gridcolor": "white",
            "linecolor": "white",
            "ticks": ""
           },
           "baxis": {
            "gridcolor": "white",
            "linecolor": "white",
            "ticks": ""
           },
           "bgcolor": "#E5ECF6",
           "caxis": {
            "gridcolor": "white",
            "linecolor": "white",
            "ticks": ""
           }
          },
          "title": {
           "x": 0.05
          },
          "xaxis": {
           "automargin": true,
           "gridcolor": "white",
           "linecolor": "white",
           "ticks": "",
           "title": {
            "standoff": 15
           },
           "zerolinecolor": "white",
           "zerolinewidth": 2
          },
          "yaxis": {
           "automargin": true,
           "gridcolor": "white",
           "linecolor": "white",
           "ticks": "",
           "title": {
            "standoff": 15
           },
           "zerolinecolor": "white",
           "zerolinewidth": 2
          }
         }
        },
        "xaxis": {
         "anchor": "y",
         "domain": [
          0,
          1
         ],
         "title": {
          "text": "year"
         }
        },
        "yaxis": {
         "anchor": "x",
         "domain": [
          0,
          1
         ],
         "title": {
          "text": "f_proportion"
         }
        }
       }
      },
      "text/html": [
       "<div>                            <div id=\"00f70691-0231-4553-bc1a-8e801d8030ee\" class=\"plotly-graph-div\" style=\"height:525px; width:100%;\"></div>            <script type=\"text/javascript\">                require([\"plotly\"], function(Plotly) {                    window.PLOTLYENV=window.PLOTLYENV || {};                                    if (document.getElementById(\"00f70691-0231-4553-bc1a-8e801d8030ee\")) {                    Plotly.newPlot(                        \"00f70691-0231-4553-bc1a-8e801d8030ee\",                        [{\"hovertemplate\": \"year=%{x}<br>f_proportion=%{y}<extra></extra>\", \"legendgroup\": \"\", \"line\": {\"color\": \"#636efa\", \"dash\": \"solid\"}, \"mode\": \"lines\", \"name\": \"\", \"orientation\": \"v\", \"showlegend\": false, \"type\": \"scatter\", \"x\": [1900.0, 1901.0, 1902.0, 1903.0, 1904.0, 1905.0, 1906.0, 1907.0, 1908.0, 1909.0, 1910.0, 1911.0, 1912.0, 1913.0, 1914.0, 1915.0, 1916.0, 1917.0, 1918.0, 1919.0, 1920.0, 1921.0, 1922.0, 1923.0, 1924.0, 1925.0, 1926.0, 1927.0, 1928.0, 1929.0, 1930.0, 1931.0, 1932.0, 1933.0, 1934.0, 1935.0, 1936.0, 1937.0, 1938.0, 1939.0, 1940.0, 1941.0, 1942.0, 1943.0, 1944.0, 1945.0, 1946.0, 1947.0, 1948.0, 1949.0, 1950.0, 1951.0, 1952.0, 1953.0, 1954.0, 1955.0, 1956.0, 1957.0, 1958.0, 1959.0, 1960.0, 1961.0, 1962.0, 1963.0, 1964.0, 1965.0, 1966.0, 1967.0, 1968.0, 1969.0, 1970.0, 1971.0, 1972.0, 1973.0, 1974.0, 1975.0, 1976.0, 1977.0, 1978.0, 1979.0, 1980.0, 1981.0, 1982.0, 1983.0, 1984.0, 1985.0, 1986.0, 1987.0, 1988.0, 1989.0, 1990.0, 1991.0, 1992.0, 1993.0, 1994.0, 1995.0, 1996.0, 1997.0, 1998.0, 1999.0, 2000.0, 2001.0, 2002.0, 2003.0, 2004.0, 2005.0, 2006.0, 2007.0, 2008.0, 2009.0, 2010.0, 2011.0, 2012.0, 2013.0, 2014.0, 2015.0, 2016.0, 2017.0, 2018.0, 2019.0, 2020.0], \"xaxis\": \"x\", \"y\": [0.5726012610802306, 0.5678434070780848, 0.5612765409304622, 0.5576909950342145, 0.5529081639044433, 0.5465392673792205, 0.5441828020209469, 0.5398883087436929, 0.5362624146271378, 0.5325426807947825, 0.5291934537929076, 0.5277284960601615, 0.5238244404998086, 0.5229531480480788, 0.5239278397957366, 0.5188419902332412, 0.5172904491021144, 0.5158523170528694, 0.5122948467806726, 0.5108128649358128, 0.5094544214979925, 0.5122369657226706, 0.5114073083472227, 0.5098740412744823, 0.5101172833629943, 0.5081916072668672, 0.5075539467144318, 0.504890309559043, 0.5029412547996108, 0.5019419574040702, 0.5026281108950186, 0.5022615523787839, 0.5020721326164874, 0.5018227756722613, 0.5016255507542131, 0.5022904185724968, 0.5017106895634112, 0.5003470201832547, 0.49976040047601616, 0.5008907557387093, 0.49916775558459336, 0.49735794724121973, 0.49452374103944324, 0.4941969688837022, 0.4959717672683188, 0.4955987596427636, 0.4867780025120987, 0.4866327828899621, 0.48644129154893745, 0.4877984994976346, 0.4882461233849085, 0.48809313645875263, 0.4881928609533521, 0.48834249453639095, 0.48769420998871027, 0.4897419094666801, 0.48830638155096073, 0.48885984794181175, 0.4893358470265342, 0.4884766237749743, 0.4883177652626163, 0.48908919335269807, 0.48897888918880406, 0.4894717419865418, 0.48852299197748283, 0.48856317341840727, 0.48857627902870154, 0.4883560872592569, 0.4887500072200498, 0.48813599854674894, 0.486872707602486, 0.4874323617647868, 0.48666003146370435, 0.4870364654025811, 0.48674844988048, 0.48777339370390144, 0.4875913337674663, 0.48671781599379904, 0.4870463150444738, 0.4872395493131177, 0.48739100444374744, 0.4870479894531888, 0.4871100919688418, 0.4876655183409743, 0.48827069855907634, 0.48773822549044554, 0.48770155075335786, 0.48805524211727486, 0.48757345661976753, 0.4884934481972835, 0.48676749185942386, 0.4873132844618039, 0.4865334616921092, 0.487394716259549, 0.4872298759465827, 0.4878557524185408, 0.4858494393650971, 0.485909323258438, 0.4873122542703274, 0.48624273042968913, 0.48655483941979244, 0.48807892711605666, 0.48708859660767717, 0.4880246611713288, 0.48686307805441215, 0.48758045856187365, 0.4878234305564402, 0.48754274366214667, 0.4872566497721201, 0.4878154659720989, 0.48787528868360275, 0.48843247705651033, 0.4872474087002224, 0.4874409974487077, 0.488336803029923, 0.4875820497027269, 0.48730049362131855, 0.4874691551525966, 0.486864730218319, 0.4881776788120096, 0.4879253806046212], \"yaxis\": \"y\"}],                        {\"legend\": {\"tracegroupgap\": 0}, \"margin\": {\"t\": 60}, \"template\": {\"data\": {\"bar\": [{\"error_x\": {\"color\": \"#2a3f5f\"}, \"error_y\": {\"color\": \"#2a3f5f\"}, \"marker\": {\"line\": {\"color\": \"#E5ECF6\", \"width\": 0.5}}, \"type\": \"bar\"}], \"barpolar\": [{\"marker\": {\"line\": {\"color\": \"#E5ECF6\", \"width\": 0.5}}, \"type\": \"barpolar\"}], \"carpet\": [{\"aaxis\": {\"endlinecolor\": \"#2a3f5f\", \"gridcolor\": \"white\", \"linecolor\": \"white\", \"minorgridcolor\": \"white\", \"startlinecolor\": \"#2a3f5f\"}, \"baxis\": {\"endlinecolor\": \"#2a3f5f\", \"gridcolor\": \"white\", \"linecolor\": \"white\", \"minorgridcolor\": \"white\", \"startlinecolor\": \"#2a3f5f\"}, \"type\": \"carpet\"}], \"choropleth\": [{\"colorbar\": {\"outlinewidth\": 0, \"ticks\": \"\"}, \"type\": \"choropleth\"}], \"contour\": [{\"colorbar\": {\"outlinewidth\": 0, \"ticks\": \"\"}, \"colorscale\": [[0.0, \"#0d0887\"], [0.1111111111111111, \"#46039f\"], [0.2222222222222222, \"#7201a8\"], [0.3333333333333333, \"#9c179e\"], [0.4444444444444444, \"#bd3786\"], [0.5555555555555556, \"#d8576b\"], [0.6666666666666666, \"#ed7953\"], [0.7777777777777778, \"#fb9f3a\"], [0.8888888888888888, \"#fdca26\"], [1.0, \"#f0f921\"]], \"type\": \"contour\"}], \"contourcarpet\": [{\"colorbar\": {\"outlinewidth\": 0, \"ticks\": \"\"}, \"type\": \"contourcarpet\"}], \"heatmap\": [{\"colorbar\": {\"outlinewidth\": 0, \"ticks\": \"\"}, \"colorscale\": [[0.0, \"#0d0887\"], [0.1111111111111111, \"#46039f\"], [0.2222222222222222, \"#7201a8\"], [0.3333333333333333, \"#9c179e\"], [0.4444444444444444, \"#bd3786\"], [0.5555555555555556, \"#d8576b\"], [0.6666666666666666, \"#ed7953\"], [0.7777777777777778, \"#fb9f3a\"], [0.8888888888888888, \"#fdca26\"], [1.0, \"#f0f921\"]], \"type\": \"heatmap\"}], \"heatmapgl\": [{\"colorbar\": {\"outlinewidth\": 0, \"ticks\": \"\"}, \"colorscale\": [[0.0, \"#0d0887\"], [0.1111111111111111, \"#46039f\"], [0.2222222222222222, \"#7201a8\"], [0.3333333333333333, \"#9c179e\"], [0.4444444444444444, \"#bd3786\"], [0.5555555555555556, \"#d8576b\"], [0.6666666666666666, \"#ed7953\"], [0.7777777777777778, \"#fb9f3a\"], [0.8888888888888888, \"#fdca26\"], [1.0, \"#f0f921\"]], \"type\": \"heatmapgl\"}], \"histogram\": [{\"marker\": {\"colorbar\": {\"outlinewidth\": 0, \"ticks\": \"\"}}, \"type\": \"histogram\"}], \"histogram2d\": [{\"colorbar\": {\"outlinewidth\": 0, \"ticks\": \"\"}, \"colorscale\": [[0.0, \"#0d0887\"], [0.1111111111111111, \"#46039f\"], [0.2222222222222222, \"#7201a8\"], [0.3333333333333333, \"#9c179e\"], [0.4444444444444444, \"#bd3786\"], [0.5555555555555556, \"#d8576b\"], [0.6666666666666666, \"#ed7953\"], [0.7777777777777778, \"#fb9f3a\"], [0.8888888888888888, \"#fdca26\"], [1.0, \"#f0f921\"]], \"type\": \"histogram2d\"}], \"histogram2dcontour\": [{\"colorbar\": {\"outlinewidth\": 0, \"ticks\": \"\"}, \"colorscale\": [[0.0, \"#0d0887\"], [0.1111111111111111, \"#46039f\"], [0.2222222222222222, \"#7201a8\"], [0.3333333333333333, \"#9c179e\"], [0.4444444444444444, \"#bd3786\"], [0.5555555555555556, \"#d8576b\"], [0.6666666666666666, \"#ed7953\"], [0.7777777777777778, \"#fb9f3a\"], [0.8888888888888888, \"#fdca26\"], [1.0, \"#f0f921\"]], \"type\": \"histogram2dcontour\"}], \"mesh3d\": [{\"colorbar\": {\"outlinewidth\": 0, \"ticks\": \"\"}, \"type\": \"mesh3d\"}], \"parcoords\": [{\"line\": {\"colorbar\": {\"outlinewidth\": 0, \"ticks\": \"\"}}, \"type\": \"parcoords\"}], \"pie\": [{\"automargin\": true, \"type\": \"pie\"}], \"scatter\": [{\"marker\": {\"colorbar\": {\"outlinewidth\": 0, \"ticks\": \"\"}}, \"type\": \"scatter\"}], \"scatter3d\": [{\"line\": {\"colorbar\": {\"outlinewidth\": 0, \"ticks\": \"\"}}, \"marker\": {\"colorbar\": {\"outlinewidth\": 0, \"ticks\": \"\"}}, \"type\": \"scatter3d\"}], \"scattercarpet\": [{\"marker\": {\"colorbar\": {\"outlinewidth\": 0, \"ticks\": \"\"}}, \"type\": \"scattercarpet\"}], \"scattergeo\": [{\"marker\": {\"colorbar\": {\"outlinewidth\": 0, \"ticks\": \"\"}}, \"type\": \"scattergeo\"}], \"scattergl\": [{\"marker\": {\"colorbar\": {\"outlinewidth\": 0, \"ticks\": \"\"}}, \"type\": \"scattergl\"}], \"scattermapbox\": [{\"marker\": {\"colorbar\": {\"outlinewidth\": 0, \"ticks\": \"\"}}, \"type\": \"scattermapbox\"}], \"scatterpolar\": [{\"marker\": {\"colorbar\": {\"outlinewidth\": 0, \"ticks\": \"\"}}, \"type\": \"scatterpolar\"}], \"scatterpolargl\": [{\"marker\": {\"colorbar\": {\"outlinewidth\": 0, \"ticks\": \"\"}}, \"type\": \"scatterpolargl\"}], \"scatterternary\": [{\"marker\": {\"colorbar\": {\"outlinewidth\": 0, \"ticks\": \"\"}}, \"type\": \"scatterternary\"}], \"surface\": [{\"colorbar\": {\"outlinewidth\": 0, \"ticks\": \"\"}, \"colorscale\": [[0.0, \"#0d0887\"], [0.1111111111111111, \"#46039f\"], [0.2222222222222222, \"#7201a8\"], [0.3333333333333333, \"#9c179e\"], [0.4444444444444444, \"#bd3786\"], [0.5555555555555556, \"#d8576b\"], [0.6666666666666666, \"#ed7953\"], [0.7777777777777778, \"#fb9f3a\"], [0.8888888888888888, \"#fdca26\"], [1.0, \"#f0f921\"]], \"type\": \"surface\"}], \"table\": [{\"cells\": {\"fill\": {\"color\": \"#EBF0F8\"}, \"line\": {\"color\": \"white\"}}, \"header\": {\"fill\": {\"color\": \"#C8D4E3\"}, \"line\": {\"color\": \"white\"}}, \"type\": \"table\"}]}, \"layout\": {\"annotationdefaults\": {\"arrowcolor\": \"#2a3f5f\", \"arrowhead\": 0, \"arrowwidth\": 1}, \"autotypenumbers\": \"strict\", \"coloraxis\": {\"colorbar\": {\"outlinewidth\": 0, \"ticks\": \"\"}}, \"colorscale\": {\"diverging\": [[0, \"#8e0152\"], [0.1, \"#c51b7d\"], [0.2, \"#de77ae\"], [0.3, \"#f1b6da\"], [0.4, \"#fde0ef\"], [0.5, \"#f7f7f7\"], [0.6, \"#e6f5d0\"], [0.7, \"#b8e186\"], [0.8, \"#7fbc41\"], [0.9, \"#4d9221\"], [1, \"#276419\"]], \"sequential\": [[0.0, \"#0d0887\"], [0.1111111111111111, \"#46039f\"], [0.2222222222222222, \"#7201a8\"], [0.3333333333333333, \"#9c179e\"], [0.4444444444444444, \"#bd3786\"], [0.5555555555555556, \"#d8576b\"], [0.6666666666666666, \"#ed7953\"], [0.7777777777777778, \"#fb9f3a\"], [0.8888888888888888, \"#fdca26\"], [1.0, \"#f0f921\"]], \"sequentialminus\": [[0.0, \"#0d0887\"], [0.1111111111111111, \"#46039f\"], [0.2222222222222222, \"#7201a8\"], [0.3333333333333333, \"#9c179e\"], [0.4444444444444444, \"#bd3786\"], [0.5555555555555556, \"#d8576b\"], [0.6666666666666666, \"#ed7953\"], [0.7777777777777778, \"#fb9f3a\"], [0.8888888888888888, \"#fdca26\"], [1.0, \"#f0f921\"]]}, \"colorway\": [\"#636efa\", \"#EF553B\", \"#00cc96\", \"#ab63fa\", \"#FFA15A\", \"#19d3f3\", \"#FF6692\", \"#B6E880\", \"#FF97FF\", \"#FECB52\"], \"font\": {\"color\": \"#2a3f5f\"}, \"geo\": {\"bgcolor\": \"white\", \"lakecolor\": \"white\", \"landcolor\": \"#E5ECF6\", \"showlakes\": true, \"showland\": true, \"subunitcolor\": \"white\"}, \"hoverlabel\": {\"align\": \"left\"}, \"hovermode\": \"closest\", \"mapbox\": {\"style\": \"light\"}, \"paper_bgcolor\": \"white\", \"plot_bgcolor\": \"#E5ECF6\", \"polar\": {\"angularaxis\": {\"gridcolor\": \"white\", \"linecolor\": \"white\", \"ticks\": \"\"}, \"bgcolor\": \"#E5ECF6\", \"radialaxis\": {\"gridcolor\": \"white\", \"linecolor\": \"white\", \"ticks\": \"\"}}, \"scene\": {\"xaxis\": {\"backgroundcolor\": \"#E5ECF6\", \"gridcolor\": \"white\", \"gridwidth\": 2, \"linecolor\": \"white\", \"showbackground\": true, \"ticks\": \"\", \"zerolinecolor\": \"white\"}, \"yaxis\": {\"backgroundcolor\": \"#E5ECF6\", \"gridcolor\": \"white\", \"gridwidth\": 2, \"linecolor\": \"white\", \"showbackground\": true, \"ticks\": \"\", \"zerolinecolor\": \"white\"}, \"zaxis\": {\"backgroundcolor\": \"#E5ECF6\", \"gridcolor\": \"white\", \"gridwidth\": 2, \"linecolor\": \"white\", \"showbackground\": true, \"ticks\": \"\", \"zerolinecolor\": \"white\"}}, \"shapedefaults\": {\"line\": {\"color\": \"#2a3f5f\"}}, \"ternary\": {\"aaxis\": {\"gridcolor\": \"white\", \"linecolor\": \"white\", \"ticks\": \"\"}, \"baxis\": {\"gridcolor\": \"white\", \"linecolor\": \"white\", \"ticks\": \"\"}, \"bgcolor\": \"#E5ECF6\", \"caxis\": {\"gridcolor\": \"white\", \"linecolor\": \"white\", \"ticks\": \"\"}}, \"title\": {\"x\": 0.05}, \"xaxis\": {\"automargin\": true, \"gridcolor\": \"white\", \"linecolor\": \"white\", \"ticks\": \"\", \"title\": {\"standoff\": 15}, \"zerolinecolor\": \"white\", \"zerolinewidth\": 2}, \"yaxis\": {\"automargin\": true, \"gridcolor\": \"white\", \"linecolor\": \"white\", \"ticks\": \"\", \"title\": {\"standoff\": 15}, \"zerolinecolor\": \"white\", \"zerolinewidth\": 2}}}, \"xaxis\": {\"anchor\": \"y\", \"domain\": [0.0, 1.0], \"title\": {\"text\": \"year\"}}, \"yaxis\": {\"anchor\": \"x\", \"domain\": [0.0, 1.0], \"title\": {\"text\": \"f_proportion\"}}},                        {\"responsive\": true}                    ).then(function(){\n",
       "                            \n",
       "var gd = document.getElementById('00f70691-0231-4553-bc1a-8e801d8030ee');\n",
       "var x = new MutationObserver(function (mutations, observer) {{\n",
       "        var display = window.getComputedStyle(gd).display;\n",
       "        if (!display || display === 'none') {{\n",
       "            console.log([gd, 'removed!']);\n",
       "            Plotly.purge(gd);\n",
       "            observer.disconnect();\n",
       "        }}\n",
       "}});\n",
       "\n",
       "// Listen for the removal of the full notebook cells\n",
       "var notebookContainer = gd.closest('#notebook-container');\n",
       "if (notebookContainer) {{\n",
       "    x.observe(notebookContainer, {childList: true});\n",
       "}}\n",
       "\n",
       "// Listen for the clearing of the current output cell\n",
       "var outputEl = gd.closest('.output');\n",
       "if (outputEl) {{\n",
       "    x.observe(outputEl, {childList: true});\n",
       "}}\n",
       "\n",
       "                        })                };                });            </script>        </div>"
      ]
     },
     "metadata": {},
     "output_type": "display_data"
    }
   ],
   "source": [
    "data3.plot(y='f_proportion')"
   ]
  },
  {
   "cell_type": "markdown",
   "metadata": {
    "nteract": {
     "transient": {
      "deleting": false
     }
    }
   },
   "source": [
    "**QUESTION:** Make any sensible comment about this plot.\n",
    "\n",
    "_Insert your answer here_\n",
    "\n",
    "> As we can expect, the proportion of female births is around 0.5"
   ]
  },
  {
   "cell_type": "markdown",
   "metadata": {
    "nteract": {
     "transient": {
      "deleting": false
     }
    }
   },
   "source": [
    "**QUESTION:** Explore the fluctuations of sex ratio around its mean value since 1945.\n",
    "Plot deviations of sex ratio around its mean since 1945 as a function of time."
   ]
  },
  {
   "cell_type": "code",
   "execution_count": 188,
   "metadata": {
    "ExecuteTime": {
     "end_time": "2022-01-30T22:25:06.262654Z",
     "start_time": "2022-01-30T22:25:06.128074Z"
    },
    "jupyter": {
     "outputs_hidden": false,
     "source_hidden": false
    },
    "nteract": {
     "transient": {
      "deleting": false
     }
    }
   },
   "outputs": [
    {
     "data": {
      "application/vnd.plotly.v1+json": {
       "config": {
        "plotlyServerURL": "https://plot.ly"
       },
       "data": [
        {
         "hovertemplate": "year=%{x}<br>sex_ratio=%{y}<extra></extra>",
         "legendgroup": "",
         "line": {
          "color": "#636efa",
          "dash": "solid"
         },
         "mode": "lines",
         "name": "",
         "orientation": "v",
         "showlegend": false,
         "type": "scatter",
         "x": [
          1946,
          1947,
          1948,
          1949,
          1950,
          1951,
          1952,
          1953,
          1954,
          1955,
          1956,
          1957,
          1958,
          1959,
          1960,
          1961,
          1962,
          1963,
          1964,
          1965,
          1966,
          1967,
          1968,
          1969,
          1970,
          1971,
          1972,
          1973,
          1974,
          1975,
          1976,
          1977,
          1978,
          1979,
          1980,
          1981,
          1982,
          1983,
          1984,
          1985,
          1986,
          1987,
          1988,
          1989,
          1990,
          1991,
          1992,
          1993,
          1994,
          1995,
          1996,
          1997,
          1998,
          1999,
          2000,
          2001,
          2002,
          2003,
          2004,
          2005,
          2006,
          2007,
          2008,
          2009,
          2010,
          2011,
          2012,
          2013,
          2014,
          2015,
          2016,
          2017,
          2018,
          2019,
          2020
         ],
         "xaxis": "x",
         "y": [
          0.9484745488205112,
          0.9479233707781823,
          0.9471970459153276,
          0.9523566389774406,
          0.9540643377522199,
          0.9534803520356082,
          0.9538609833827593,
          0.9544323875282694,
          0.9519591999496295,
          0.9597925413682391,
          0.954294452666879,
          0.9564105773599251,
          0.9582341822453322,
          0.9549448695382539,
          0.954337931066223,
          0.9572888006855803,
          0.9568663189131228,
          0.9587554347944413,
          0.9551220960375528,
          0.955275701759548,
          0.9553258071424513,
          0.9544843104714381,
          0.9559902476720723,
          0.953643931124019,
          0.9488341680826269,
          0.9509620299928261,
          0.9480267684032773,
          0.9494563113239898,
          0.9483623571465722,
          0.9522609480030374,
          0.9515673053550481,
          0.9482460743034848,
          0.9494937444239268,
          0.9502284130151275,
          0.9508046262724281,
          0.94950010807832,
          0.949736160414468,
          0.9518498867416281,
          0.9541581793034075,
          0.9521269197909837,
          0.951987169726055,
          0.9533357546930429,
          0.9514992205584804,
          0.9550091713892477,
          0.94843464538707,
          0.9505088969396129,
          0.947546578780891,
          0.9508187522045384,
          0.950191622115305,
          0.9525748941287185,
          0.9449555763688016,
          0.9451821346737026,
          0.9505049775995134,
          0.9464444772457742,
          0.9476276665456769,
          0.9534261294742757,
          0.9496544498448322,
          0.9532190794342982,
          0.948797596182405,
          0.9515258867635281,
          0.9524516732314064,
          0.9513822619007252,
          0.9502934549137834,
          0.9524213121701275,
          0.9526493799323562,
          0.9547761637528054,
          0.9502583057944142,
          0.9509949001430895,
          0.9544106473197872,
          0.9515319465679569,
          0.9504602355934333,
          0.951102084983259,
          0.9488038708106362,
          0.9538030261730296,
          0.9528403910756772
         ],
         "yaxis": "y"
        }
       ],
       "layout": {
        "legend": {
         "tracegroupgap": 0
        },
        "margin": {
         "t": 60
        },
        "template": {
         "data": {
          "bar": [
           {
            "error_x": {
             "color": "#2a3f5f"
            },
            "error_y": {
             "color": "#2a3f5f"
            },
            "marker": {
             "line": {
              "color": "#E5ECF6",
              "width": 0.5
             }
            },
            "type": "bar"
           }
          ],
          "barpolar": [
           {
            "marker": {
             "line": {
              "color": "#E5ECF6",
              "width": 0.5
             }
            },
            "type": "barpolar"
           }
          ],
          "carpet": [
           {
            "aaxis": {
             "endlinecolor": "#2a3f5f",
             "gridcolor": "white",
             "linecolor": "white",
             "minorgridcolor": "white",
             "startlinecolor": "#2a3f5f"
            },
            "baxis": {
             "endlinecolor": "#2a3f5f",
             "gridcolor": "white",
             "linecolor": "white",
             "minorgridcolor": "white",
             "startlinecolor": "#2a3f5f"
            },
            "type": "carpet"
           }
          ],
          "choropleth": [
           {
            "colorbar": {
             "outlinewidth": 0,
             "ticks": ""
            },
            "type": "choropleth"
           }
          ],
          "contour": [
           {
            "colorbar": {
             "outlinewidth": 0,
             "ticks": ""
            },
            "colorscale": [
             [
              0,
              "#0d0887"
             ],
             [
              0.1111111111111111,
              "#46039f"
             ],
             [
              0.2222222222222222,
              "#7201a8"
             ],
             [
              0.3333333333333333,
              "#9c179e"
             ],
             [
              0.4444444444444444,
              "#bd3786"
             ],
             [
              0.5555555555555556,
              "#d8576b"
             ],
             [
              0.6666666666666666,
              "#ed7953"
             ],
             [
              0.7777777777777778,
              "#fb9f3a"
             ],
             [
              0.8888888888888888,
              "#fdca26"
             ],
             [
              1,
              "#f0f921"
             ]
            ],
            "type": "contour"
           }
          ],
          "contourcarpet": [
           {
            "colorbar": {
             "outlinewidth": 0,
             "ticks": ""
            },
            "type": "contourcarpet"
           }
          ],
          "heatmap": [
           {
            "colorbar": {
             "outlinewidth": 0,
             "ticks": ""
            },
            "colorscale": [
             [
              0,
              "#0d0887"
             ],
             [
              0.1111111111111111,
              "#46039f"
             ],
             [
              0.2222222222222222,
              "#7201a8"
             ],
             [
              0.3333333333333333,
              "#9c179e"
             ],
             [
              0.4444444444444444,
              "#bd3786"
             ],
             [
              0.5555555555555556,
              "#d8576b"
             ],
             [
              0.6666666666666666,
              "#ed7953"
             ],
             [
              0.7777777777777778,
              "#fb9f3a"
             ],
             [
              0.8888888888888888,
              "#fdca26"
             ],
             [
              1,
              "#f0f921"
             ]
            ],
            "type": "heatmap"
           }
          ],
          "heatmapgl": [
           {
            "colorbar": {
             "outlinewidth": 0,
             "ticks": ""
            },
            "colorscale": [
             [
              0,
              "#0d0887"
             ],
             [
              0.1111111111111111,
              "#46039f"
             ],
             [
              0.2222222222222222,
              "#7201a8"
             ],
             [
              0.3333333333333333,
              "#9c179e"
             ],
             [
              0.4444444444444444,
              "#bd3786"
             ],
             [
              0.5555555555555556,
              "#d8576b"
             ],
             [
              0.6666666666666666,
              "#ed7953"
             ],
             [
              0.7777777777777778,
              "#fb9f3a"
             ],
             [
              0.8888888888888888,
              "#fdca26"
             ],
             [
              1,
              "#f0f921"
             ]
            ],
            "type": "heatmapgl"
           }
          ],
          "histogram": [
           {
            "marker": {
             "colorbar": {
              "outlinewidth": 0,
              "ticks": ""
             }
            },
            "type": "histogram"
           }
          ],
          "histogram2d": [
           {
            "colorbar": {
             "outlinewidth": 0,
             "ticks": ""
            },
            "colorscale": [
             [
              0,
              "#0d0887"
             ],
             [
              0.1111111111111111,
              "#46039f"
             ],
             [
              0.2222222222222222,
              "#7201a8"
             ],
             [
              0.3333333333333333,
              "#9c179e"
             ],
             [
              0.4444444444444444,
              "#bd3786"
             ],
             [
              0.5555555555555556,
              "#d8576b"
             ],
             [
              0.6666666666666666,
              "#ed7953"
             ],
             [
              0.7777777777777778,
              "#fb9f3a"
             ],
             [
              0.8888888888888888,
              "#fdca26"
             ],
             [
              1,
              "#f0f921"
             ]
            ],
            "type": "histogram2d"
           }
          ],
          "histogram2dcontour": [
           {
            "colorbar": {
             "outlinewidth": 0,
             "ticks": ""
            },
            "colorscale": [
             [
              0,
              "#0d0887"
             ],
             [
              0.1111111111111111,
              "#46039f"
             ],
             [
              0.2222222222222222,
              "#7201a8"
             ],
             [
              0.3333333333333333,
              "#9c179e"
             ],
             [
              0.4444444444444444,
              "#bd3786"
             ],
             [
              0.5555555555555556,
              "#d8576b"
             ],
             [
              0.6666666666666666,
              "#ed7953"
             ],
             [
              0.7777777777777778,
              "#fb9f3a"
             ],
             [
              0.8888888888888888,
              "#fdca26"
             ],
             [
              1,
              "#f0f921"
             ]
            ],
            "type": "histogram2dcontour"
           }
          ],
          "mesh3d": [
           {
            "colorbar": {
             "outlinewidth": 0,
             "ticks": ""
            },
            "type": "mesh3d"
           }
          ],
          "parcoords": [
           {
            "line": {
             "colorbar": {
              "outlinewidth": 0,
              "ticks": ""
             }
            },
            "type": "parcoords"
           }
          ],
          "pie": [
           {
            "automargin": true,
            "type": "pie"
           }
          ],
          "scatter": [
           {
            "marker": {
             "colorbar": {
              "outlinewidth": 0,
              "ticks": ""
             }
            },
            "type": "scatter"
           }
          ],
          "scatter3d": [
           {
            "line": {
             "colorbar": {
              "outlinewidth": 0,
              "ticks": ""
             }
            },
            "marker": {
             "colorbar": {
              "outlinewidth": 0,
              "ticks": ""
             }
            },
            "type": "scatter3d"
           }
          ],
          "scattercarpet": [
           {
            "marker": {
             "colorbar": {
              "outlinewidth": 0,
              "ticks": ""
             }
            },
            "type": "scattercarpet"
           }
          ],
          "scattergeo": [
           {
            "marker": {
             "colorbar": {
              "outlinewidth": 0,
              "ticks": ""
             }
            },
            "type": "scattergeo"
           }
          ],
          "scattergl": [
           {
            "marker": {
             "colorbar": {
              "outlinewidth": 0,
              "ticks": ""
             }
            },
            "type": "scattergl"
           }
          ],
          "scattermapbox": [
           {
            "marker": {
             "colorbar": {
              "outlinewidth": 0,
              "ticks": ""
             }
            },
            "type": "scattermapbox"
           }
          ],
          "scatterpolar": [
           {
            "marker": {
             "colorbar": {
              "outlinewidth": 0,
              "ticks": ""
             }
            },
            "type": "scatterpolar"
           }
          ],
          "scatterpolargl": [
           {
            "marker": {
             "colorbar": {
              "outlinewidth": 0,
              "ticks": ""
             }
            },
            "type": "scatterpolargl"
           }
          ],
          "scatterternary": [
           {
            "marker": {
             "colorbar": {
              "outlinewidth": 0,
              "ticks": ""
             }
            },
            "type": "scatterternary"
           }
          ],
          "surface": [
           {
            "colorbar": {
             "outlinewidth": 0,
             "ticks": ""
            },
            "colorscale": [
             [
              0,
              "#0d0887"
             ],
             [
              0.1111111111111111,
              "#46039f"
             ],
             [
              0.2222222222222222,
              "#7201a8"
             ],
             [
              0.3333333333333333,
              "#9c179e"
             ],
             [
              0.4444444444444444,
              "#bd3786"
             ],
             [
              0.5555555555555556,
              "#d8576b"
             ],
             [
              0.6666666666666666,
              "#ed7953"
             ],
             [
              0.7777777777777778,
              "#fb9f3a"
             ],
             [
              0.8888888888888888,
              "#fdca26"
             ],
             [
              1,
              "#f0f921"
             ]
            ],
            "type": "surface"
           }
          ],
          "table": [
           {
            "cells": {
             "fill": {
              "color": "#EBF0F8"
             },
             "line": {
              "color": "white"
             }
            },
            "header": {
             "fill": {
              "color": "#C8D4E3"
             },
             "line": {
              "color": "white"
             }
            },
            "type": "table"
           }
          ]
         },
         "layout": {
          "annotationdefaults": {
           "arrowcolor": "#2a3f5f",
           "arrowhead": 0,
           "arrowwidth": 1
          },
          "autotypenumbers": "strict",
          "coloraxis": {
           "colorbar": {
            "outlinewidth": 0,
            "ticks": ""
           }
          },
          "colorscale": {
           "diverging": [
            [
             0,
             "#8e0152"
            ],
            [
             0.1,
             "#c51b7d"
            ],
            [
             0.2,
             "#de77ae"
            ],
            [
             0.3,
             "#f1b6da"
            ],
            [
             0.4,
             "#fde0ef"
            ],
            [
             0.5,
             "#f7f7f7"
            ],
            [
             0.6,
             "#e6f5d0"
            ],
            [
             0.7,
             "#b8e186"
            ],
            [
             0.8,
             "#7fbc41"
            ],
            [
             0.9,
             "#4d9221"
            ],
            [
             1,
             "#276419"
            ]
           ],
           "sequential": [
            [
             0,
             "#0d0887"
            ],
            [
             0.1111111111111111,
             "#46039f"
            ],
            [
             0.2222222222222222,
             "#7201a8"
            ],
            [
             0.3333333333333333,
             "#9c179e"
            ],
            [
             0.4444444444444444,
             "#bd3786"
            ],
            [
             0.5555555555555556,
             "#d8576b"
            ],
            [
             0.6666666666666666,
             "#ed7953"
            ],
            [
             0.7777777777777778,
             "#fb9f3a"
            ],
            [
             0.8888888888888888,
             "#fdca26"
            ],
            [
             1,
             "#f0f921"
            ]
           ],
           "sequentialminus": [
            [
             0,
             "#0d0887"
            ],
            [
             0.1111111111111111,
             "#46039f"
            ],
            [
             0.2222222222222222,
             "#7201a8"
            ],
            [
             0.3333333333333333,
             "#9c179e"
            ],
            [
             0.4444444444444444,
             "#bd3786"
            ],
            [
             0.5555555555555556,
             "#d8576b"
            ],
            [
             0.6666666666666666,
             "#ed7953"
            ],
            [
             0.7777777777777778,
             "#fb9f3a"
            ],
            [
             0.8888888888888888,
             "#fdca26"
            ],
            [
             1,
             "#f0f921"
            ]
           ]
          },
          "colorway": [
           "#636efa",
           "#EF553B",
           "#00cc96",
           "#ab63fa",
           "#FFA15A",
           "#19d3f3",
           "#FF6692",
           "#B6E880",
           "#FF97FF",
           "#FECB52"
          ],
          "font": {
           "color": "#2a3f5f"
          },
          "geo": {
           "bgcolor": "white",
           "lakecolor": "white",
           "landcolor": "#E5ECF6",
           "showlakes": true,
           "showland": true,
           "subunitcolor": "white"
          },
          "hoverlabel": {
           "align": "left"
          },
          "hovermode": "closest",
          "mapbox": {
           "style": "light"
          },
          "paper_bgcolor": "white",
          "plot_bgcolor": "#E5ECF6",
          "polar": {
           "angularaxis": {
            "gridcolor": "white",
            "linecolor": "white",
            "ticks": ""
           },
           "bgcolor": "#E5ECF6",
           "radialaxis": {
            "gridcolor": "white",
            "linecolor": "white",
            "ticks": ""
           }
          },
          "scene": {
           "xaxis": {
            "backgroundcolor": "#E5ECF6",
            "gridcolor": "white",
            "gridwidth": 2,
            "linecolor": "white",
            "showbackground": true,
            "ticks": "",
            "zerolinecolor": "white"
           },
           "yaxis": {
            "backgroundcolor": "#E5ECF6",
            "gridcolor": "white",
            "gridwidth": 2,
            "linecolor": "white",
            "showbackground": true,
            "ticks": "",
            "zerolinecolor": "white"
           },
           "zaxis": {
            "backgroundcolor": "#E5ECF6",
            "gridcolor": "white",
            "gridwidth": 2,
            "linecolor": "white",
            "showbackground": true,
            "ticks": "",
            "zerolinecolor": "white"
           }
          },
          "shapedefaults": {
           "line": {
            "color": "#2a3f5f"
           }
          },
          "ternary": {
           "aaxis": {
            "gridcolor": "white",
            "linecolor": "white",
            "ticks": ""
           },
           "baxis": {
            "gridcolor": "white",
            "linecolor": "white",
            "ticks": ""
           },
           "bgcolor": "#E5ECF6",
           "caxis": {
            "gridcolor": "white",
            "linecolor": "white",
            "ticks": ""
           }
          },
          "title": {
           "x": 0.05
          },
          "xaxis": {
           "automargin": true,
           "gridcolor": "white",
           "linecolor": "white",
           "ticks": "",
           "title": {
            "standoff": 15
           },
           "zerolinecolor": "white",
           "zerolinewidth": 2
          },
          "yaxis": {
           "automargin": true,
           "gridcolor": "white",
           "linecolor": "white",
           "ticks": "",
           "title": {
            "standoff": 15
           },
           "zerolinecolor": "white",
           "zerolinewidth": 2
          }
         }
        },
        "xaxis": {
         "anchor": "y",
         "domain": [
          0,
          1
         ],
         "title": {
          "text": "year"
         }
        },
        "yaxis": {
         "anchor": "x",
         "domain": [
          0,
          1
         ],
         "title": {
          "text": "sex_ratio"
         }
        }
       }
      },
      "text/html": [
       "<div>                            <div id=\"055ccf74-3044-45ff-9bd0-fd01fbb2db86\" class=\"plotly-graph-div\" style=\"height:525px; width:100%;\"></div>            <script type=\"text/javascript\">                require([\"plotly\"], function(Plotly) {                    window.PLOTLYENV=window.PLOTLYENV || {};                                    if (document.getElementById(\"055ccf74-3044-45ff-9bd0-fd01fbb2db86\")) {                    Plotly.newPlot(                        \"055ccf74-3044-45ff-9bd0-fd01fbb2db86\",                        [{\"hovertemplate\": \"year=%{x}<br>sex_ratio=%{y}<extra></extra>\", \"legendgroup\": \"\", \"line\": {\"color\": \"#636efa\", \"dash\": \"solid\"}, \"mode\": \"lines\", \"name\": \"\", \"orientation\": \"v\", \"showlegend\": false, \"type\": \"scatter\", \"x\": [1946.0, 1947.0, 1948.0, 1949.0, 1950.0, 1951.0, 1952.0, 1953.0, 1954.0, 1955.0, 1956.0, 1957.0, 1958.0, 1959.0, 1960.0, 1961.0, 1962.0, 1963.0, 1964.0, 1965.0, 1966.0, 1967.0, 1968.0, 1969.0, 1970.0, 1971.0, 1972.0, 1973.0, 1974.0, 1975.0, 1976.0, 1977.0, 1978.0, 1979.0, 1980.0, 1981.0, 1982.0, 1983.0, 1984.0, 1985.0, 1986.0, 1987.0, 1988.0, 1989.0, 1990.0, 1991.0, 1992.0, 1993.0, 1994.0, 1995.0, 1996.0, 1997.0, 1998.0, 1999.0, 2000.0, 2001.0, 2002.0, 2003.0, 2004.0, 2005.0, 2006.0, 2007.0, 2008.0, 2009.0, 2010.0, 2011.0, 2012.0, 2013.0, 2014.0, 2015.0, 2016.0, 2017.0, 2018.0, 2019.0, 2020.0], \"xaxis\": \"x\", \"y\": [0.9484745488205112, 0.9479233707781823, 0.9471970459153276, 0.9523566389774406, 0.9540643377522199, 0.9534803520356082, 0.9538609833827593, 0.9544323875282694, 0.9519591999496295, 0.9597925413682391, 0.954294452666879, 0.9564105773599251, 0.9582341822453322, 0.9549448695382539, 0.954337931066223, 0.9572888006855803, 0.9568663189131228, 0.9587554347944413, 0.9551220960375528, 0.955275701759548, 0.9553258071424513, 0.9544843104714381, 0.9559902476720723, 0.953643931124019, 0.9488341680826269, 0.9509620299928261, 0.9480267684032773, 0.9494563113239898, 0.9483623571465722, 0.9522609480030374, 0.9515673053550481, 0.9482460743034848, 0.9494937444239268, 0.9502284130151275, 0.9508046262724281, 0.94950010807832, 0.949736160414468, 0.9518498867416281, 0.9541581793034075, 0.9521269197909837, 0.951987169726055, 0.9533357546930429, 0.9514992205584804, 0.9550091713892477, 0.94843464538707, 0.9505088969396129, 0.947546578780891, 0.9508187522045384, 0.950191622115305, 0.9525748941287185, 0.9449555763688016, 0.9451821346737026, 0.9505049775995134, 0.9464444772457742, 0.9476276665456769, 0.9534261294742757, 0.9496544498448322, 0.9532190794342982, 0.948797596182405, 0.9515258867635281, 0.9524516732314064, 0.9513822619007252, 0.9502934549137834, 0.9524213121701275, 0.9526493799323562, 0.9547761637528054, 0.9502583057944142, 0.9509949001430895, 0.9544106473197872, 0.9515319465679569, 0.9504602355934333, 0.951102084983259, 0.9488038708106362, 0.9538030261730296, 0.9528403910756772], \"yaxis\": \"y\"}],                        {\"legend\": {\"tracegroupgap\": 0}, \"margin\": {\"t\": 60}, \"template\": {\"data\": {\"bar\": [{\"error_x\": {\"color\": \"#2a3f5f\"}, \"error_y\": {\"color\": \"#2a3f5f\"}, \"marker\": {\"line\": {\"color\": \"#E5ECF6\", \"width\": 0.5}}, \"type\": \"bar\"}], \"barpolar\": [{\"marker\": {\"line\": {\"color\": \"#E5ECF6\", \"width\": 0.5}}, \"type\": \"barpolar\"}], \"carpet\": [{\"aaxis\": {\"endlinecolor\": \"#2a3f5f\", \"gridcolor\": \"white\", \"linecolor\": \"white\", \"minorgridcolor\": \"white\", \"startlinecolor\": \"#2a3f5f\"}, \"baxis\": {\"endlinecolor\": \"#2a3f5f\", \"gridcolor\": \"white\", \"linecolor\": \"white\", \"minorgridcolor\": \"white\", \"startlinecolor\": \"#2a3f5f\"}, \"type\": \"carpet\"}], \"choropleth\": [{\"colorbar\": {\"outlinewidth\": 0, \"ticks\": \"\"}, \"type\": \"choropleth\"}], \"contour\": [{\"colorbar\": {\"outlinewidth\": 0, \"ticks\": \"\"}, \"colorscale\": [[0.0, \"#0d0887\"], [0.1111111111111111, \"#46039f\"], [0.2222222222222222, \"#7201a8\"], [0.3333333333333333, \"#9c179e\"], [0.4444444444444444, \"#bd3786\"], [0.5555555555555556, \"#d8576b\"], [0.6666666666666666, \"#ed7953\"], [0.7777777777777778, \"#fb9f3a\"], [0.8888888888888888, \"#fdca26\"], [1.0, \"#f0f921\"]], \"type\": \"contour\"}], \"contourcarpet\": [{\"colorbar\": {\"outlinewidth\": 0, \"ticks\": \"\"}, \"type\": \"contourcarpet\"}], \"heatmap\": [{\"colorbar\": {\"outlinewidth\": 0, \"ticks\": \"\"}, \"colorscale\": [[0.0, \"#0d0887\"], [0.1111111111111111, \"#46039f\"], [0.2222222222222222, \"#7201a8\"], [0.3333333333333333, \"#9c179e\"], [0.4444444444444444, \"#bd3786\"], [0.5555555555555556, \"#d8576b\"], [0.6666666666666666, \"#ed7953\"], [0.7777777777777778, \"#fb9f3a\"], [0.8888888888888888, \"#fdca26\"], [1.0, \"#f0f921\"]], \"type\": \"heatmap\"}], \"heatmapgl\": [{\"colorbar\": {\"outlinewidth\": 0, \"ticks\": \"\"}, \"colorscale\": [[0.0, \"#0d0887\"], [0.1111111111111111, \"#46039f\"], [0.2222222222222222, \"#7201a8\"], [0.3333333333333333, \"#9c179e\"], [0.4444444444444444, \"#bd3786\"], [0.5555555555555556, \"#d8576b\"], [0.6666666666666666, \"#ed7953\"], [0.7777777777777778, \"#fb9f3a\"], [0.8888888888888888, \"#fdca26\"], [1.0, \"#f0f921\"]], \"type\": \"heatmapgl\"}], \"histogram\": [{\"marker\": {\"colorbar\": {\"outlinewidth\": 0, \"ticks\": \"\"}}, \"type\": \"histogram\"}], \"histogram2d\": [{\"colorbar\": {\"outlinewidth\": 0, \"ticks\": \"\"}, \"colorscale\": [[0.0, \"#0d0887\"], [0.1111111111111111, \"#46039f\"], [0.2222222222222222, \"#7201a8\"], [0.3333333333333333, \"#9c179e\"], [0.4444444444444444, \"#bd3786\"], [0.5555555555555556, \"#d8576b\"], [0.6666666666666666, \"#ed7953\"], [0.7777777777777778, \"#fb9f3a\"], [0.8888888888888888, \"#fdca26\"], [1.0, \"#f0f921\"]], \"type\": \"histogram2d\"}], \"histogram2dcontour\": [{\"colorbar\": {\"outlinewidth\": 0, \"ticks\": \"\"}, \"colorscale\": [[0.0, \"#0d0887\"], [0.1111111111111111, \"#46039f\"], [0.2222222222222222, \"#7201a8\"], [0.3333333333333333, \"#9c179e\"], [0.4444444444444444, \"#bd3786\"], [0.5555555555555556, \"#d8576b\"], [0.6666666666666666, \"#ed7953\"], [0.7777777777777778, \"#fb9f3a\"], [0.8888888888888888, \"#fdca26\"], [1.0, \"#f0f921\"]], \"type\": \"histogram2dcontour\"}], \"mesh3d\": [{\"colorbar\": {\"outlinewidth\": 0, \"ticks\": \"\"}, \"type\": \"mesh3d\"}], \"parcoords\": [{\"line\": {\"colorbar\": {\"outlinewidth\": 0, \"ticks\": \"\"}}, \"type\": \"parcoords\"}], \"pie\": [{\"automargin\": true, \"type\": \"pie\"}], \"scatter\": [{\"marker\": {\"colorbar\": {\"outlinewidth\": 0, \"ticks\": \"\"}}, \"type\": \"scatter\"}], \"scatter3d\": [{\"line\": {\"colorbar\": {\"outlinewidth\": 0, \"ticks\": \"\"}}, \"marker\": {\"colorbar\": {\"outlinewidth\": 0, \"ticks\": \"\"}}, \"type\": \"scatter3d\"}], \"scattercarpet\": [{\"marker\": {\"colorbar\": {\"outlinewidth\": 0, \"ticks\": \"\"}}, \"type\": \"scattercarpet\"}], \"scattergeo\": [{\"marker\": {\"colorbar\": {\"outlinewidth\": 0, \"ticks\": \"\"}}, \"type\": \"scattergeo\"}], \"scattergl\": [{\"marker\": {\"colorbar\": {\"outlinewidth\": 0, \"ticks\": \"\"}}, \"type\": \"scattergl\"}], \"scattermapbox\": [{\"marker\": {\"colorbar\": {\"outlinewidth\": 0, \"ticks\": \"\"}}, \"type\": \"scattermapbox\"}], \"scatterpolar\": [{\"marker\": {\"colorbar\": {\"outlinewidth\": 0, \"ticks\": \"\"}}, \"type\": \"scatterpolar\"}], \"scatterpolargl\": [{\"marker\": {\"colorbar\": {\"outlinewidth\": 0, \"ticks\": \"\"}}, \"type\": \"scatterpolargl\"}], \"scatterternary\": [{\"marker\": {\"colorbar\": {\"outlinewidth\": 0, \"ticks\": \"\"}}, \"type\": \"scatterternary\"}], \"surface\": [{\"colorbar\": {\"outlinewidth\": 0, \"ticks\": \"\"}, \"colorscale\": [[0.0, \"#0d0887\"], [0.1111111111111111, \"#46039f\"], [0.2222222222222222, \"#7201a8\"], [0.3333333333333333, \"#9c179e\"], [0.4444444444444444, \"#bd3786\"], [0.5555555555555556, \"#d8576b\"], [0.6666666666666666, \"#ed7953\"], [0.7777777777777778, \"#fb9f3a\"], [0.8888888888888888, \"#fdca26\"], [1.0, \"#f0f921\"]], \"type\": \"surface\"}], \"table\": [{\"cells\": {\"fill\": {\"color\": \"#EBF0F8\"}, \"line\": {\"color\": \"white\"}}, \"header\": {\"fill\": {\"color\": \"#C8D4E3\"}, \"line\": {\"color\": \"white\"}}, \"type\": \"table\"}]}, \"layout\": {\"annotationdefaults\": {\"arrowcolor\": \"#2a3f5f\", \"arrowhead\": 0, \"arrowwidth\": 1}, \"autotypenumbers\": \"strict\", \"coloraxis\": {\"colorbar\": {\"outlinewidth\": 0, \"ticks\": \"\"}}, \"colorscale\": {\"diverging\": [[0, \"#8e0152\"], [0.1, \"#c51b7d\"], [0.2, \"#de77ae\"], [0.3, \"#f1b6da\"], [0.4, \"#fde0ef\"], [0.5, \"#f7f7f7\"], [0.6, \"#e6f5d0\"], [0.7, \"#b8e186\"], [0.8, \"#7fbc41\"], [0.9, \"#4d9221\"], [1, \"#276419\"]], \"sequential\": [[0.0, \"#0d0887\"], [0.1111111111111111, \"#46039f\"], [0.2222222222222222, \"#7201a8\"], [0.3333333333333333, \"#9c179e\"], [0.4444444444444444, \"#bd3786\"], [0.5555555555555556, \"#d8576b\"], [0.6666666666666666, \"#ed7953\"], [0.7777777777777778, \"#fb9f3a\"], [0.8888888888888888, \"#fdca26\"], [1.0, \"#f0f921\"]], \"sequentialminus\": [[0.0, \"#0d0887\"], [0.1111111111111111, \"#46039f\"], [0.2222222222222222, \"#7201a8\"], [0.3333333333333333, \"#9c179e\"], [0.4444444444444444, \"#bd3786\"], [0.5555555555555556, \"#d8576b\"], [0.6666666666666666, \"#ed7953\"], [0.7777777777777778, \"#fb9f3a\"], [0.8888888888888888, \"#fdca26\"], [1.0, \"#f0f921\"]]}, \"colorway\": [\"#636efa\", \"#EF553B\", \"#00cc96\", \"#ab63fa\", \"#FFA15A\", \"#19d3f3\", \"#FF6692\", \"#B6E880\", \"#FF97FF\", \"#FECB52\"], \"font\": {\"color\": \"#2a3f5f\"}, \"geo\": {\"bgcolor\": \"white\", \"lakecolor\": \"white\", \"landcolor\": \"#E5ECF6\", \"showlakes\": true, \"showland\": true, \"subunitcolor\": \"white\"}, \"hoverlabel\": {\"align\": \"left\"}, \"hovermode\": \"closest\", \"mapbox\": {\"style\": \"light\"}, \"paper_bgcolor\": \"white\", \"plot_bgcolor\": \"#E5ECF6\", \"polar\": {\"angularaxis\": {\"gridcolor\": \"white\", \"linecolor\": \"white\", \"ticks\": \"\"}, \"bgcolor\": \"#E5ECF6\", \"radialaxis\": {\"gridcolor\": \"white\", \"linecolor\": \"white\", \"ticks\": \"\"}}, \"scene\": {\"xaxis\": {\"backgroundcolor\": \"#E5ECF6\", \"gridcolor\": \"white\", \"gridwidth\": 2, \"linecolor\": \"white\", \"showbackground\": true, \"ticks\": \"\", \"zerolinecolor\": \"white\"}, \"yaxis\": {\"backgroundcolor\": \"#E5ECF6\", \"gridcolor\": \"white\", \"gridwidth\": 2, \"linecolor\": \"white\", \"showbackground\": true, \"ticks\": \"\", \"zerolinecolor\": \"white\"}, \"zaxis\": {\"backgroundcolor\": \"#E5ECF6\", \"gridcolor\": \"white\", \"gridwidth\": 2, \"linecolor\": \"white\", \"showbackground\": true, \"ticks\": \"\", \"zerolinecolor\": \"white\"}}, \"shapedefaults\": {\"line\": {\"color\": \"#2a3f5f\"}}, \"ternary\": {\"aaxis\": {\"gridcolor\": \"white\", \"linecolor\": \"white\", \"ticks\": \"\"}, \"baxis\": {\"gridcolor\": \"white\", \"linecolor\": \"white\", \"ticks\": \"\"}, \"bgcolor\": \"#E5ECF6\", \"caxis\": {\"gridcolor\": \"white\", \"linecolor\": \"white\", \"ticks\": \"\"}}, \"title\": {\"x\": 0.05}, \"xaxis\": {\"automargin\": true, \"gridcolor\": \"white\", \"linecolor\": \"white\", \"ticks\": \"\", \"title\": {\"standoff\": 15}, \"zerolinecolor\": \"white\", \"zerolinewidth\": 2}, \"yaxis\": {\"automargin\": true, \"gridcolor\": \"white\", \"linecolor\": \"white\", \"ticks\": \"\", \"title\": {\"standoff\": 15}, \"zerolinecolor\": \"white\", \"zerolinewidth\": 2}}}, \"xaxis\": {\"anchor\": \"y\", \"domain\": [0.0, 1.0], \"title\": {\"text\": \"year\"}}, \"yaxis\": {\"anchor\": \"x\", \"domain\": [0.0, 1.0], \"title\": {\"text\": \"sex_ratio\"}}},                        {\"responsive\": true}                    ).then(function(){\n",
       "                            \n",
       "var gd = document.getElementById('055ccf74-3044-45ff-9bd0-fd01fbb2db86');\n",
       "var x = new MutationObserver(function (mutations, observer) {{\n",
       "        var display = window.getComputedStyle(gd).display;\n",
       "        if (!display || display === 'none') {{\n",
       "            console.log([gd, 'removed!']);\n",
       "            Plotly.purge(gd);\n",
       "            observer.disconnect();\n",
       "        }}\n",
       "}});\n",
       "\n",
       "// Listen for the removal of the full notebook cells\n",
       "var notebookContainer = gd.closest('#notebook-container');\n",
       "if (notebookContainer) {{\n",
       "    x.observe(notebookContainer, {childList: true});\n",
       "}}\n",
       "\n",
       "// Listen for the clearing of the current output cell\n",
       "var outputEl = gd.closest('.output');\n",
       "if (outputEl) {{\n",
       "    x.observe(outputEl, {childList: true});\n",
       "}}\n",
       "\n",
       "                        })                };                });            </script>        </div>"
      ]
     },
     "metadata": {},
     "output_type": "display_data"
    }
   ],
   "source": [
    "female_birth_per_year = data[data['gender']=='Male'].groupby(['year']).sum()\n",
    "\n",
    "data4 =  data[data['gender']=='Female'].groupby(['year']).sum() / female_birth_per_year\n",
    "data4 = data4.rename(columns={\"count\":\"sex_ratio\"})\n",
    "data4 = data4[1946:]\n",
    "# We removed the 1945 year for scaling issues\n",
    "\n",
    "data4.plot(y='sex_ratio')"
   ]
  },
  {
   "cell_type": "markdown",
   "metadata": {
    "nteract": {
     "transient": {
      "deleting": false
     }
    }
   },
   "source": [
    "# Popular firstnames\n",
    "\n",
    "## The top-20 most popular firstnames since 1900\n",
    "\n",
    "**QUESTION:** For each firstname and sex (some names may be given to girls and boys), compute the total number of times this firstname has been given during `1900-2019`. Print the top 20 firstnames given and style your result dataframe using `background_gradient` for instance."
   ]
  },
  {
   "cell_type": "code",
   "execution_count": 17,
   "metadata": {
    "ExecuteTime": {
     "end_time": "2022-01-30T19:08:11.415892Z",
     "start_time": "2022-01-30T19:08:11.001619Z"
    },
    "jupyter": {
     "outputs_hidden": false,
     "source_hidden": false
    },
    "nteract": {
     "transient": {
      "deleting": false
     }
    }
   },
   "outputs": [
    {
     "data": {
      "text/html": [
       "<div>\n",
       "<style scoped>\n",
       "    .dataframe tbody tr th:only-of-type {\n",
       "        vertical-align: middle;\n",
       "    }\n",
       "\n",
       "    .dataframe tbody tr th {\n",
       "        vertical-align: top;\n",
       "    }\n",
       "\n",
       "    .dataframe thead th {\n",
       "        text-align: right;\n",
       "    }\n",
       "</style>\n",
       "<table border=\"1\" class=\"dataframe\">\n",
       "  <thead>\n",
       "    <tr style=\"text-align: right;\">\n",
       "      <th></th>\n",
       "      <th></th>\n",
       "      <th>count</th>\n",
       "    </tr>\n",
       "    <tr>\n",
       "      <th>firstname</th>\n",
       "      <th>gender</th>\n",
       "      <th></th>\n",
       "    </tr>\n",
       "  </thead>\n",
       "  <tbody>\n",
       "    <tr>\n",
       "      <th>MARIE</th>\n",
       "      <th>Female</th>\n",
       "      <td>2231586</td>\n",
       "    </tr>\n",
       "    <tr>\n",
       "      <th>JEAN</th>\n",
       "      <th>Male</th>\n",
       "      <td>1913439</td>\n",
       "    </tr>\n",
       "    <tr>\n",
       "      <th>PIERRE</th>\n",
       "      <th>Male</th>\n",
       "      <td>891177</td>\n",
       "    </tr>\n",
       "    <tr>\n",
       "      <th>_PRENOMS_RARES</th>\n",
       "      <th>Female</th>\n",
       "      <td>826278</td>\n",
       "    </tr>\n",
       "    <tr>\n",
       "      <th>MICHEL</th>\n",
       "      <th>Male</th>\n",
       "      <td>820288</td>\n",
       "    </tr>\n",
       "    <tr>\n",
       "      <th>_PRENOMS_RARES</th>\n",
       "      <th>Male</th>\n",
       "      <td>773079</td>\n",
       "    </tr>\n",
       "    <tr>\n",
       "      <th>ANDRÉ</th>\n",
       "      <th>Male</th>\n",
       "      <td>711845</td>\n",
       "    </tr>\n",
       "    <tr>\n",
       "      <th>JEANNE</th>\n",
       "      <th>Female</th>\n",
       "      <td>557620</td>\n",
       "    </tr>\n",
       "    <tr>\n",
       "      <th>PHILIPPE</th>\n",
       "      <th>Male</th>\n",
       "      <td>538427</td>\n",
       "    </tr>\n",
       "    <tr>\n",
       "      <th>LOUIS</th>\n",
       "      <th>Male</th>\n",
       "      <td>521436</td>\n",
       "    </tr>\n",
       "  </tbody>\n",
       "</table>\n",
       "</div>"
      ],
      "text/plain": [
       "                         count\n",
       "firstname      gender         \n",
       "MARIE          Female  2231586\n",
       "JEAN           Male    1913439\n",
       "PIERRE         Male     891177\n",
       "_PRENOMS_RARES Female   826278\n",
       "MICHEL         Male     820288\n",
       "_PRENOMS_RARES Male     773079\n",
       "ANDRÉ          Male     711845\n",
       "JEANNE         Female   557620\n",
       "PHILIPPE       Male     538427\n",
       "LOUIS          Male     521436"
      ]
     },
     "execution_count": 17,
     "metadata": {},
     "output_type": "execute_result"
    }
   ],
   "source": [
    "df = data[data['year'] <= 2019].groupby(['firstname', 'gender']).sum()\n",
    "df = df.sort_values(['count'], ascending = False).drop(columns=['year']).head(10)\n",
    "df"
   ]
  },
  {
   "cell_type": "markdown",
   "metadata": {
    "nteract": {
     "transient": {
      "deleting": false
     }
    }
   },
   "source": [
    "## Rare firstnames\n",
    "\n",
    "**QUESTION:** For each sex, plot the proportion of births given `_PRENOMS_RARES` as a function of the year."
   ]
  },
  {
   "cell_type": "code",
   "execution_count": 110,
   "metadata": {
    "ExecuteTime": {
     "end_time": "2022-01-30T21:49:50.891305Z",
     "start_time": "2022-01-30T21:49:50.675082Z"
    },
    "jupyter": {
     "outputs_hidden": false,
     "source_hidden": false
    },
    "nteract": {
     "transient": {
      "deleting": false
     }
    }
   },
   "outputs": [
    {
     "data": {
      "application/vnd.plotly.v1+json": {
       "config": {
        "plotlyServerURL": "https://plot.ly"
       },
       "data": [
        {
         "alignmentgroup": "True",
         "hovertemplate": "variable=count<br>year=%{x}<br>value=%{y}<extra></extra>",
         "legendgroup": "count",
         "marker": {
          "color": "#636efa"
         },
         "name": "count",
         "offsetgroup": "count",
         "orientation": "v",
         "showlegend": true,
         "textposition": "auto",
         "type": "bar",
         "x": [
          1900,
          1901,
          1902,
          1903,
          1904,
          1905,
          1906,
          1907,
          1908,
          1909,
          1910,
          1911,
          1912,
          1913,
          1914,
          1915,
          1916,
          1917,
          1918,
          1919,
          1920,
          1921,
          1922,
          1923,
          1924,
          1925,
          1926,
          1927,
          1928,
          1929,
          1930,
          1931,
          1932,
          1933,
          1934,
          1935,
          1936,
          1937,
          1938,
          1939,
          1940,
          1941,
          1942,
          1943,
          1944,
          1945,
          1946,
          1947,
          1948,
          1949,
          1950,
          1951,
          1952,
          1953,
          1954,
          1955,
          1956,
          1957,
          1958,
          1959,
          1960,
          1961,
          1962,
          1963,
          1964,
          1965,
          1966,
          1967,
          1968,
          1969,
          1970,
          1971,
          1972,
          1973,
          1974,
          1975,
          1976,
          1977,
          1978,
          1979,
          1980,
          1981,
          1982,
          1983,
          1984,
          1985,
          1986,
          1987,
          1988,
          1989,
          1990,
          1991,
          1992,
          1993,
          1994,
          1995,
          1996,
          1997,
          1998,
          1999,
          2000,
          2001,
          2002,
          2003,
          2004,
          2005,
          2006,
          2007,
          2008,
          2009,
          2010,
          2011,
          2012,
          2013,
          2014,
          2015,
          2016,
          2017,
          2018,
          2019,
          2020
         ],
         "xaxis": "x",
         "y": [
          0.007266897535482405,
          0.006889534432137697,
          0.006686123234278239,
          0.006743163128705297,
          0.006842331830437048,
          0.006818937590841326,
          0.006563116894532323,
          0.00659157033164878,
          0.0069659332860184525,
          0.006758468603808864,
          0.00684368238819456,
          0.007117686696590654,
          0.007011715334848749,
          0.007104033066044816,
          0.006835463660479333,
          0.00791469896170997,
          0.008588067034824442,
          0.00893467311245539,
          0.007981181214819793,
          0.006890948330582709,
          0.00592206848527052,
          0.006229182385307595,
          0.00612722320141003,
          0.007500588718248993,
          0.008796151327962652,
          0.009883398112159911,
          0.01023305371814296,
          0.009837593683920775,
          0.009017455551264,
          0.008624265085340333,
          0.008719610039662115,
          0.009128000294056386,
          0.0085300861374481,
          0.007974080152746628,
          0.007420945146142539,
          0.007051993976847657,
          0.006733322541648441,
          0.006756946098555435,
          0.006825226092248468,
          0.0074447197831443365,
          0.007101453791856896,
          0.0069395334218351305,
          0.006907908403174088,
          0.006888094737579707,
          0.007792189857379104,
          0.007859437121093297,
          0.004999395234447446,
          0.004711238155735535,
          0.004974448064365994,
          0.0051687874886016325,
          0.0054070569500125,
          0.005319225891078843,
          0.0053790995991664205,
          0.005727797695073059,
          0.005808114212364841,
          0.006173247951849156,
          0.005914124942637896,
          0.006308666600421224,
          0.006277682243718061,
          0.006487041436365156,
          0.007209701026478169,
          0.007185245040414058,
          0.0072330545618233075,
          0.007207657284298253,
          0.0071377410592416745,
          0.007447107059008741,
          0.007718015641906034,
          0.008039451425667424,
          0.00838840513940494,
          0.008542801153172165,
          0.009396901296205143,
          0.009965059051783524,
          0.010387140510757948,
          0.011133402771466985,
          0.012269908062939991,
          0.013282991402447345,
          0.014646552992755857,
          0.015172413793103448,
          0.014990357878405471,
          0.01577647995752588,
          0.01587943993363666,
          0.01731664544406113,
          0.018302168884039963,
          0.019678518979064606,
          0.02000679983448465,
          0.020053629373037153,
          0.02015154290490773,
          0.020207713584885965,
          0.021114125848706332,
          0.021591489539138323,
          0.0225144011862116,
          0.022963514754926865,
          0.024726687323837496,
          0.02730571098551808,
          0.02796596573493691,
          0.028477104704197058,
          0.030145305299933468,
          0.03147390887780149,
          0.03324320586217277,
          0.03395860110676698,
          0.03522071752475553,
          0.03835695046863772,
          0.04063229671403826,
          0.043680928809949136,
          0.04658564135473487,
          0.04855271345249683,
          0.0497864465764913,
          0.05200088594479138,
          0.05189579012883864,
          0.05431902758676482,
          0.05676978004144508,
          0.062018465617970704,
          0.06467114920334485,
          0.0661522633744856,
          0.06639872621279437,
          0.06803562462010096,
          0.06979084872083391,
          0.07188534839303626,
          0.0739636221614685,
          0.07657285348052058,
          0.07987954853688252
         ],
         "yaxis": "y"
        }
       ],
       "layout": {
        "barmode": "relative",
        "legend": {
         "title": {
          "text": "variable"
         },
         "tracegroupgap": 0
        },
        "template": {
         "data": {
          "bar": [
           {
            "error_x": {
             "color": "#2a3f5f"
            },
            "error_y": {
             "color": "#2a3f5f"
            },
            "marker": {
             "line": {
              "color": "#E5ECF6",
              "width": 0.5
             }
            },
            "type": "bar"
           }
          ],
          "barpolar": [
           {
            "marker": {
             "line": {
              "color": "#E5ECF6",
              "width": 0.5
             }
            },
            "type": "barpolar"
           }
          ],
          "carpet": [
           {
            "aaxis": {
             "endlinecolor": "#2a3f5f",
             "gridcolor": "white",
             "linecolor": "white",
             "minorgridcolor": "white",
             "startlinecolor": "#2a3f5f"
            },
            "baxis": {
             "endlinecolor": "#2a3f5f",
             "gridcolor": "white",
             "linecolor": "white",
             "minorgridcolor": "white",
             "startlinecolor": "#2a3f5f"
            },
            "type": "carpet"
           }
          ],
          "choropleth": [
           {
            "colorbar": {
             "outlinewidth": 0,
             "ticks": ""
            },
            "type": "choropleth"
           }
          ],
          "contour": [
           {
            "colorbar": {
             "outlinewidth": 0,
             "ticks": ""
            },
            "colorscale": [
             [
              0,
              "#0d0887"
             ],
             [
              0.1111111111111111,
              "#46039f"
             ],
             [
              0.2222222222222222,
              "#7201a8"
             ],
             [
              0.3333333333333333,
              "#9c179e"
             ],
             [
              0.4444444444444444,
              "#bd3786"
             ],
             [
              0.5555555555555556,
              "#d8576b"
             ],
             [
              0.6666666666666666,
              "#ed7953"
             ],
             [
              0.7777777777777778,
              "#fb9f3a"
             ],
             [
              0.8888888888888888,
              "#fdca26"
             ],
             [
              1,
              "#f0f921"
             ]
            ],
            "type": "contour"
           }
          ],
          "contourcarpet": [
           {
            "colorbar": {
             "outlinewidth": 0,
             "ticks": ""
            },
            "type": "contourcarpet"
           }
          ],
          "heatmap": [
           {
            "colorbar": {
             "outlinewidth": 0,
             "ticks": ""
            },
            "colorscale": [
             [
              0,
              "#0d0887"
             ],
             [
              0.1111111111111111,
              "#46039f"
             ],
             [
              0.2222222222222222,
              "#7201a8"
             ],
             [
              0.3333333333333333,
              "#9c179e"
             ],
             [
              0.4444444444444444,
              "#bd3786"
             ],
             [
              0.5555555555555556,
              "#d8576b"
             ],
             [
              0.6666666666666666,
              "#ed7953"
             ],
             [
              0.7777777777777778,
              "#fb9f3a"
             ],
             [
              0.8888888888888888,
              "#fdca26"
             ],
             [
              1,
              "#f0f921"
             ]
            ],
            "type": "heatmap"
           }
          ],
          "heatmapgl": [
           {
            "colorbar": {
             "outlinewidth": 0,
             "ticks": ""
            },
            "colorscale": [
             [
              0,
              "#0d0887"
             ],
             [
              0.1111111111111111,
              "#46039f"
             ],
             [
              0.2222222222222222,
              "#7201a8"
             ],
             [
              0.3333333333333333,
              "#9c179e"
             ],
             [
              0.4444444444444444,
              "#bd3786"
             ],
             [
              0.5555555555555556,
              "#d8576b"
             ],
             [
              0.6666666666666666,
              "#ed7953"
             ],
             [
              0.7777777777777778,
              "#fb9f3a"
             ],
             [
              0.8888888888888888,
              "#fdca26"
             ],
             [
              1,
              "#f0f921"
             ]
            ],
            "type": "heatmapgl"
           }
          ],
          "histogram": [
           {
            "marker": {
             "colorbar": {
              "outlinewidth": 0,
              "ticks": ""
             }
            },
            "type": "histogram"
           }
          ],
          "histogram2d": [
           {
            "colorbar": {
             "outlinewidth": 0,
             "ticks": ""
            },
            "colorscale": [
             [
              0,
              "#0d0887"
             ],
             [
              0.1111111111111111,
              "#46039f"
             ],
             [
              0.2222222222222222,
              "#7201a8"
             ],
             [
              0.3333333333333333,
              "#9c179e"
             ],
             [
              0.4444444444444444,
              "#bd3786"
             ],
             [
              0.5555555555555556,
              "#d8576b"
             ],
             [
              0.6666666666666666,
              "#ed7953"
             ],
             [
              0.7777777777777778,
              "#fb9f3a"
             ],
             [
              0.8888888888888888,
              "#fdca26"
             ],
             [
              1,
              "#f0f921"
             ]
            ],
            "type": "histogram2d"
           }
          ],
          "histogram2dcontour": [
           {
            "colorbar": {
             "outlinewidth": 0,
             "ticks": ""
            },
            "colorscale": [
             [
              0,
              "#0d0887"
             ],
             [
              0.1111111111111111,
              "#46039f"
             ],
             [
              0.2222222222222222,
              "#7201a8"
             ],
             [
              0.3333333333333333,
              "#9c179e"
             ],
             [
              0.4444444444444444,
              "#bd3786"
             ],
             [
              0.5555555555555556,
              "#d8576b"
             ],
             [
              0.6666666666666666,
              "#ed7953"
             ],
             [
              0.7777777777777778,
              "#fb9f3a"
             ],
             [
              0.8888888888888888,
              "#fdca26"
             ],
             [
              1,
              "#f0f921"
             ]
            ],
            "type": "histogram2dcontour"
           }
          ],
          "mesh3d": [
           {
            "colorbar": {
             "outlinewidth": 0,
             "ticks": ""
            },
            "type": "mesh3d"
           }
          ],
          "parcoords": [
           {
            "line": {
             "colorbar": {
              "outlinewidth": 0,
              "ticks": ""
             }
            },
            "type": "parcoords"
           }
          ],
          "pie": [
           {
            "automargin": true,
            "type": "pie"
           }
          ],
          "scatter": [
           {
            "marker": {
             "colorbar": {
              "outlinewidth": 0,
              "ticks": ""
             }
            },
            "type": "scatter"
           }
          ],
          "scatter3d": [
           {
            "line": {
             "colorbar": {
              "outlinewidth": 0,
              "ticks": ""
             }
            },
            "marker": {
             "colorbar": {
              "outlinewidth": 0,
              "ticks": ""
             }
            },
            "type": "scatter3d"
           }
          ],
          "scattercarpet": [
           {
            "marker": {
             "colorbar": {
              "outlinewidth": 0,
              "ticks": ""
             }
            },
            "type": "scattercarpet"
           }
          ],
          "scattergeo": [
           {
            "marker": {
             "colorbar": {
              "outlinewidth": 0,
              "ticks": ""
             }
            },
            "type": "scattergeo"
           }
          ],
          "scattergl": [
           {
            "marker": {
             "colorbar": {
              "outlinewidth": 0,
              "ticks": ""
             }
            },
            "type": "scattergl"
           }
          ],
          "scattermapbox": [
           {
            "marker": {
             "colorbar": {
              "outlinewidth": 0,
              "ticks": ""
             }
            },
            "type": "scattermapbox"
           }
          ],
          "scatterpolar": [
           {
            "marker": {
             "colorbar": {
              "outlinewidth": 0,
              "ticks": ""
             }
            },
            "type": "scatterpolar"
           }
          ],
          "scatterpolargl": [
           {
            "marker": {
             "colorbar": {
              "outlinewidth": 0,
              "ticks": ""
             }
            },
            "type": "scatterpolargl"
           }
          ],
          "scatterternary": [
           {
            "marker": {
             "colorbar": {
              "outlinewidth": 0,
              "ticks": ""
             }
            },
            "type": "scatterternary"
           }
          ],
          "surface": [
           {
            "colorbar": {
             "outlinewidth": 0,
             "ticks": ""
            },
            "colorscale": [
             [
              0,
              "#0d0887"
             ],
             [
              0.1111111111111111,
              "#46039f"
             ],
             [
              0.2222222222222222,
              "#7201a8"
             ],
             [
              0.3333333333333333,
              "#9c179e"
             ],
             [
              0.4444444444444444,
              "#bd3786"
             ],
             [
              0.5555555555555556,
              "#d8576b"
             ],
             [
              0.6666666666666666,
              "#ed7953"
             ],
             [
              0.7777777777777778,
              "#fb9f3a"
             ],
             [
              0.8888888888888888,
              "#fdca26"
             ],
             [
              1,
              "#f0f921"
             ]
            ],
            "type": "surface"
           }
          ],
          "table": [
           {
            "cells": {
             "fill": {
              "color": "#EBF0F8"
             },
             "line": {
              "color": "white"
             }
            },
            "header": {
             "fill": {
              "color": "#C8D4E3"
             },
             "line": {
              "color": "white"
             }
            },
            "type": "table"
           }
          ]
         },
         "layout": {
          "annotationdefaults": {
           "arrowcolor": "#2a3f5f",
           "arrowhead": 0,
           "arrowwidth": 1
          },
          "autotypenumbers": "strict",
          "coloraxis": {
           "colorbar": {
            "outlinewidth": 0,
            "ticks": ""
           }
          },
          "colorscale": {
           "diverging": [
            [
             0,
             "#8e0152"
            ],
            [
             0.1,
             "#c51b7d"
            ],
            [
             0.2,
             "#de77ae"
            ],
            [
             0.3,
             "#f1b6da"
            ],
            [
             0.4,
             "#fde0ef"
            ],
            [
             0.5,
             "#f7f7f7"
            ],
            [
             0.6,
             "#e6f5d0"
            ],
            [
             0.7,
             "#b8e186"
            ],
            [
             0.8,
             "#7fbc41"
            ],
            [
             0.9,
             "#4d9221"
            ],
            [
             1,
             "#276419"
            ]
           ],
           "sequential": [
            [
             0,
             "#0d0887"
            ],
            [
             0.1111111111111111,
             "#46039f"
            ],
            [
             0.2222222222222222,
             "#7201a8"
            ],
            [
             0.3333333333333333,
             "#9c179e"
            ],
            [
             0.4444444444444444,
             "#bd3786"
            ],
            [
             0.5555555555555556,
             "#d8576b"
            ],
            [
             0.6666666666666666,
             "#ed7953"
            ],
            [
             0.7777777777777778,
             "#fb9f3a"
            ],
            [
             0.8888888888888888,
             "#fdca26"
            ],
            [
             1,
             "#f0f921"
            ]
           ],
           "sequentialminus": [
            [
             0,
             "#0d0887"
            ],
            [
             0.1111111111111111,
             "#46039f"
            ],
            [
             0.2222222222222222,
             "#7201a8"
            ],
            [
             0.3333333333333333,
             "#9c179e"
            ],
            [
             0.4444444444444444,
             "#bd3786"
            ],
            [
             0.5555555555555556,
             "#d8576b"
            ],
            [
             0.6666666666666666,
             "#ed7953"
            ],
            [
             0.7777777777777778,
             "#fb9f3a"
            ],
            [
             0.8888888888888888,
             "#fdca26"
            ],
            [
             1,
             "#f0f921"
            ]
           ]
          },
          "colorway": [
           "#636efa",
           "#EF553B",
           "#00cc96",
           "#ab63fa",
           "#FFA15A",
           "#19d3f3",
           "#FF6692",
           "#B6E880",
           "#FF97FF",
           "#FECB52"
          ],
          "font": {
           "color": "#2a3f5f"
          },
          "geo": {
           "bgcolor": "white",
           "lakecolor": "white",
           "landcolor": "#E5ECF6",
           "showlakes": true,
           "showland": true,
           "subunitcolor": "white"
          },
          "hoverlabel": {
           "align": "left"
          },
          "hovermode": "closest",
          "mapbox": {
           "style": "light"
          },
          "paper_bgcolor": "white",
          "plot_bgcolor": "#E5ECF6",
          "polar": {
           "angularaxis": {
            "gridcolor": "white",
            "linecolor": "white",
            "ticks": ""
           },
           "bgcolor": "#E5ECF6",
           "radialaxis": {
            "gridcolor": "white",
            "linecolor": "white",
            "ticks": ""
           }
          },
          "scene": {
           "xaxis": {
            "backgroundcolor": "#E5ECF6",
            "gridcolor": "white",
            "gridwidth": 2,
            "linecolor": "white",
            "showbackground": true,
            "ticks": "",
            "zerolinecolor": "white"
           },
           "yaxis": {
            "backgroundcolor": "#E5ECF6",
            "gridcolor": "white",
            "gridwidth": 2,
            "linecolor": "white",
            "showbackground": true,
            "ticks": "",
            "zerolinecolor": "white"
           },
           "zaxis": {
            "backgroundcolor": "#E5ECF6",
            "gridcolor": "white",
            "gridwidth": 2,
            "linecolor": "white",
            "showbackground": true,
            "ticks": "",
            "zerolinecolor": "white"
           }
          },
          "shapedefaults": {
           "line": {
            "color": "#2a3f5f"
           }
          },
          "ternary": {
           "aaxis": {
            "gridcolor": "white",
            "linecolor": "white",
            "ticks": ""
           },
           "baxis": {
            "gridcolor": "white",
            "linecolor": "white",
            "ticks": ""
           },
           "bgcolor": "#E5ECF6",
           "caxis": {
            "gridcolor": "white",
            "linecolor": "white",
            "ticks": ""
           }
          },
          "title": {
           "x": 0.05
          },
          "xaxis": {
           "automargin": true,
           "gridcolor": "white",
           "linecolor": "white",
           "ticks": "",
           "title": {
            "standoff": 15
           },
           "zerolinecolor": "white",
           "zerolinewidth": 2
          },
          "yaxis": {
           "automargin": true,
           "gridcolor": "white",
           "linecolor": "white",
           "ticks": "",
           "title": {
            "standoff": 15
           },
           "zerolinecolor": "white",
           "zerolinewidth": 2
          }
         }
        },
        "title": {
         "text": "Proportion of births given _PRENOMS_RARES as a function of the year (Female)"
        },
        "xaxis": {
         "anchor": "y",
         "domain": [
          0,
          1
         ],
         "title": {
          "text": "year"
         }
        },
        "yaxis": {
         "anchor": "x",
         "domain": [
          0,
          1
         ],
         "title": {
          "text": "value"
         }
        }
       }
      },
      "text/html": [
       "<div>                            <div id=\"2ad9c312-7fb9-4539-9f99-1af28a6f600e\" class=\"plotly-graph-div\" style=\"height:525px; width:100%;\"></div>            <script type=\"text/javascript\">                require([\"plotly\"], function(Plotly) {                    window.PLOTLYENV=window.PLOTLYENV || {};                                    if (document.getElementById(\"2ad9c312-7fb9-4539-9f99-1af28a6f600e\")) {                    Plotly.newPlot(                        \"2ad9c312-7fb9-4539-9f99-1af28a6f600e\",                        [{\"alignmentgroup\": \"True\", \"hovertemplate\": \"variable=count<br>year=%{x}<br>value=%{y}<extra></extra>\", \"legendgroup\": \"count\", \"marker\": {\"color\": \"#636efa\"}, \"name\": \"count\", \"offsetgroup\": \"count\", \"orientation\": \"v\", \"showlegend\": true, \"textposition\": \"auto\", \"type\": \"bar\", \"x\": [1900.0, 1901.0, 1902.0, 1903.0, 1904.0, 1905.0, 1906.0, 1907.0, 1908.0, 1909.0, 1910.0, 1911.0, 1912.0, 1913.0, 1914.0, 1915.0, 1916.0, 1917.0, 1918.0, 1919.0, 1920.0, 1921.0, 1922.0, 1923.0, 1924.0, 1925.0, 1926.0, 1927.0, 1928.0, 1929.0, 1930.0, 1931.0, 1932.0, 1933.0, 1934.0, 1935.0, 1936.0, 1937.0, 1938.0, 1939.0, 1940.0, 1941.0, 1942.0, 1943.0, 1944.0, 1945.0, 1946.0, 1947.0, 1948.0, 1949.0, 1950.0, 1951.0, 1952.0, 1953.0, 1954.0, 1955.0, 1956.0, 1957.0, 1958.0, 1959.0, 1960.0, 1961.0, 1962.0, 1963.0, 1964.0, 1965.0, 1966.0, 1967.0, 1968.0, 1969.0, 1970.0, 1971.0, 1972.0, 1973.0, 1974.0, 1975.0, 1976.0, 1977.0, 1978.0, 1979.0, 1980.0, 1981.0, 1982.0, 1983.0, 1984.0, 1985.0, 1986.0, 1987.0, 1988.0, 1989.0, 1990.0, 1991.0, 1992.0, 1993.0, 1994.0, 1995.0, 1996.0, 1997.0, 1998.0, 1999.0, 2000.0, 2001.0, 2002.0, 2003.0, 2004.0, 2005.0, 2006.0, 2007.0, 2008.0, 2009.0, 2010.0, 2011.0, 2012.0, 2013.0, 2014.0, 2015.0, 2016.0, 2017.0, 2018.0, 2019.0, 2020.0], \"xaxis\": \"x\", \"y\": [0.007266897535482405, 0.006889534432137697, 0.006686123234278239, 0.006743163128705297, 0.006842331830437048, 0.006818937590841326, 0.006563116894532323, 0.00659157033164878, 0.0069659332860184525, 0.006758468603808864, 0.00684368238819456, 0.007117686696590654, 0.007011715334848749, 0.007104033066044816, 0.006835463660479333, 0.00791469896170997, 0.008588067034824442, 0.00893467311245539, 0.007981181214819793, 0.006890948330582709, 0.00592206848527052, 0.006229182385307595, 0.00612722320141003, 0.007500588718248993, 0.008796151327962652, 0.009883398112159911, 0.01023305371814296, 0.009837593683920775, 0.009017455551264, 0.008624265085340333, 0.008719610039662115, 0.009128000294056386, 0.0085300861374481, 0.007974080152746628, 0.007420945146142539, 0.007051993976847657, 0.006733322541648441, 0.006756946098555435, 0.006825226092248468, 0.0074447197831443365, 0.007101453791856896, 0.0069395334218351305, 0.006907908403174088, 0.006888094737579707, 0.007792189857379104, 0.007859437121093297, 0.004999395234447446, 0.004711238155735535, 0.004974448064365994, 0.0051687874886016325, 0.0054070569500125, 0.005319225891078843, 0.0053790995991664205, 0.005727797695073059, 0.005808114212364841, 0.006173247951849156, 0.005914124942637896, 0.006308666600421224, 0.006277682243718061, 0.006487041436365156, 0.007209701026478169, 0.007185245040414058, 0.0072330545618233075, 0.007207657284298253, 0.0071377410592416745, 0.007447107059008741, 0.007718015641906034, 0.008039451425667424, 0.00838840513940494, 0.008542801153172165, 0.009396901296205143, 0.009965059051783524, 0.010387140510757948, 0.011133402771466985, 0.012269908062939991, 0.013282991402447345, 0.014646552992755857, 0.015172413793103448, 0.014990357878405471, 0.01577647995752588, 0.01587943993363666, 0.01731664544406113, 0.018302168884039963, 0.019678518979064606, 0.02000679983448465, 0.020053629373037153, 0.02015154290490773, 0.020207713584885965, 0.021114125848706332, 0.021591489539138323, 0.0225144011862116, 0.022963514754926865, 0.024726687323837496, 0.02730571098551808, 0.02796596573493691, 0.028477104704197058, 0.030145305299933468, 0.03147390887780149, 0.03324320586217277, 0.03395860110676698, 0.03522071752475553, 0.03835695046863772, 0.04063229671403826, 0.043680928809949136, 0.04658564135473487, 0.04855271345249683, 0.0497864465764913, 0.05200088594479138, 0.05189579012883864, 0.05431902758676482, 0.05676978004144508, 0.062018465617970704, 0.06467114920334485, 0.0661522633744856, 0.06639872621279437, 0.06803562462010096, 0.06979084872083391, 0.07188534839303626, 0.0739636221614685, 0.07657285348052058, 0.07987954853688252], \"yaxis\": \"y\"}],                        {\"barmode\": \"relative\", \"legend\": {\"title\": {\"text\": \"variable\"}, \"tracegroupgap\": 0}, \"template\": {\"data\": {\"bar\": [{\"error_x\": {\"color\": \"#2a3f5f\"}, \"error_y\": {\"color\": \"#2a3f5f\"}, \"marker\": {\"line\": {\"color\": \"#E5ECF6\", \"width\": 0.5}}, \"type\": \"bar\"}], \"barpolar\": [{\"marker\": {\"line\": {\"color\": \"#E5ECF6\", \"width\": 0.5}}, \"type\": \"barpolar\"}], \"carpet\": [{\"aaxis\": {\"endlinecolor\": \"#2a3f5f\", \"gridcolor\": \"white\", \"linecolor\": \"white\", \"minorgridcolor\": \"white\", \"startlinecolor\": \"#2a3f5f\"}, \"baxis\": {\"endlinecolor\": \"#2a3f5f\", \"gridcolor\": \"white\", \"linecolor\": \"white\", \"minorgridcolor\": \"white\", \"startlinecolor\": \"#2a3f5f\"}, \"type\": \"carpet\"}], \"choropleth\": [{\"colorbar\": {\"outlinewidth\": 0, \"ticks\": \"\"}, \"type\": \"choropleth\"}], \"contour\": [{\"colorbar\": {\"outlinewidth\": 0, \"ticks\": \"\"}, \"colorscale\": [[0.0, \"#0d0887\"], [0.1111111111111111, \"#46039f\"], [0.2222222222222222, \"#7201a8\"], [0.3333333333333333, \"#9c179e\"], [0.4444444444444444, \"#bd3786\"], [0.5555555555555556, \"#d8576b\"], [0.6666666666666666, \"#ed7953\"], [0.7777777777777778, \"#fb9f3a\"], [0.8888888888888888, \"#fdca26\"], [1.0, \"#f0f921\"]], \"type\": \"contour\"}], \"contourcarpet\": [{\"colorbar\": {\"outlinewidth\": 0, \"ticks\": \"\"}, \"type\": \"contourcarpet\"}], \"heatmap\": [{\"colorbar\": {\"outlinewidth\": 0, \"ticks\": \"\"}, \"colorscale\": [[0.0, \"#0d0887\"], [0.1111111111111111, \"#46039f\"], [0.2222222222222222, \"#7201a8\"], [0.3333333333333333, \"#9c179e\"], [0.4444444444444444, \"#bd3786\"], [0.5555555555555556, \"#d8576b\"], [0.6666666666666666, \"#ed7953\"], [0.7777777777777778, \"#fb9f3a\"], [0.8888888888888888, \"#fdca26\"], [1.0, \"#f0f921\"]], \"type\": \"heatmap\"}], \"heatmapgl\": [{\"colorbar\": {\"outlinewidth\": 0, \"ticks\": \"\"}, \"colorscale\": [[0.0, \"#0d0887\"], [0.1111111111111111, \"#46039f\"], [0.2222222222222222, \"#7201a8\"], [0.3333333333333333, \"#9c179e\"], [0.4444444444444444, \"#bd3786\"], [0.5555555555555556, \"#d8576b\"], [0.6666666666666666, \"#ed7953\"], [0.7777777777777778, \"#fb9f3a\"], [0.8888888888888888, \"#fdca26\"], [1.0, \"#f0f921\"]], \"type\": \"heatmapgl\"}], \"histogram\": [{\"marker\": {\"colorbar\": {\"outlinewidth\": 0, \"ticks\": \"\"}}, \"type\": \"histogram\"}], \"histogram2d\": [{\"colorbar\": {\"outlinewidth\": 0, \"ticks\": \"\"}, \"colorscale\": [[0.0, \"#0d0887\"], [0.1111111111111111, \"#46039f\"], [0.2222222222222222, \"#7201a8\"], [0.3333333333333333, \"#9c179e\"], [0.4444444444444444, \"#bd3786\"], [0.5555555555555556, \"#d8576b\"], [0.6666666666666666, \"#ed7953\"], [0.7777777777777778, \"#fb9f3a\"], [0.8888888888888888, \"#fdca26\"], [1.0, \"#f0f921\"]], \"type\": \"histogram2d\"}], \"histogram2dcontour\": [{\"colorbar\": {\"outlinewidth\": 0, \"ticks\": \"\"}, \"colorscale\": [[0.0, \"#0d0887\"], [0.1111111111111111, \"#46039f\"], [0.2222222222222222, \"#7201a8\"], [0.3333333333333333, \"#9c179e\"], [0.4444444444444444, \"#bd3786\"], [0.5555555555555556, \"#d8576b\"], [0.6666666666666666, \"#ed7953\"], [0.7777777777777778, \"#fb9f3a\"], [0.8888888888888888, \"#fdca26\"], [1.0, \"#f0f921\"]], \"type\": \"histogram2dcontour\"}], \"mesh3d\": [{\"colorbar\": {\"outlinewidth\": 0, \"ticks\": \"\"}, \"type\": \"mesh3d\"}], \"parcoords\": [{\"line\": {\"colorbar\": {\"outlinewidth\": 0, \"ticks\": \"\"}}, \"type\": \"parcoords\"}], \"pie\": [{\"automargin\": true, \"type\": \"pie\"}], \"scatter\": [{\"marker\": {\"colorbar\": {\"outlinewidth\": 0, \"ticks\": \"\"}}, \"type\": \"scatter\"}], \"scatter3d\": [{\"line\": {\"colorbar\": {\"outlinewidth\": 0, \"ticks\": \"\"}}, \"marker\": {\"colorbar\": {\"outlinewidth\": 0, \"ticks\": \"\"}}, \"type\": \"scatter3d\"}], \"scattercarpet\": [{\"marker\": {\"colorbar\": {\"outlinewidth\": 0, \"ticks\": \"\"}}, \"type\": \"scattercarpet\"}], \"scattergeo\": [{\"marker\": {\"colorbar\": {\"outlinewidth\": 0, \"ticks\": \"\"}}, \"type\": \"scattergeo\"}], \"scattergl\": [{\"marker\": {\"colorbar\": {\"outlinewidth\": 0, \"ticks\": \"\"}}, \"type\": \"scattergl\"}], \"scattermapbox\": [{\"marker\": {\"colorbar\": {\"outlinewidth\": 0, \"ticks\": \"\"}}, \"type\": \"scattermapbox\"}], \"scatterpolar\": [{\"marker\": {\"colorbar\": {\"outlinewidth\": 0, \"ticks\": \"\"}}, \"type\": \"scatterpolar\"}], \"scatterpolargl\": [{\"marker\": {\"colorbar\": {\"outlinewidth\": 0, \"ticks\": \"\"}}, \"type\": \"scatterpolargl\"}], \"scatterternary\": [{\"marker\": {\"colorbar\": {\"outlinewidth\": 0, \"ticks\": \"\"}}, \"type\": \"scatterternary\"}], \"surface\": [{\"colorbar\": {\"outlinewidth\": 0, \"ticks\": \"\"}, \"colorscale\": [[0.0, \"#0d0887\"], [0.1111111111111111, \"#46039f\"], [0.2222222222222222, \"#7201a8\"], [0.3333333333333333, \"#9c179e\"], [0.4444444444444444, \"#bd3786\"], [0.5555555555555556, \"#d8576b\"], [0.6666666666666666, \"#ed7953\"], [0.7777777777777778, \"#fb9f3a\"], [0.8888888888888888, \"#fdca26\"], [1.0, \"#f0f921\"]], \"type\": \"surface\"}], \"table\": [{\"cells\": {\"fill\": {\"color\": \"#EBF0F8\"}, \"line\": {\"color\": \"white\"}}, \"header\": {\"fill\": {\"color\": \"#C8D4E3\"}, \"line\": {\"color\": \"white\"}}, \"type\": \"table\"}]}, \"layout\": {\"annotationdefaults\": {\"arrowcolor\": \"#2a3f5f\", \"arrowhead\": 0, \"arrowwidth\": 1}, \"autotypenumbers\": \"strict\", \"coloraxis\": {\"colorbar\": {\"outlinewidth\": 0, \"ticks\": \"\"}}, \"colorscale\": {\"diverging\": [[0, \"#8e0152\"], [0.1, \"#c51b7d\"], [0.2, \"#de77ae\"], [0.3, \"#f1b6da\"], [0.4, \"#fde0ef\"], [0.5, \"#f7f7f7\"], [0.6, \"#e6f5d0\"], [0.7, \"#b8e186\"], [0.8, \"#7fbc41\"], [0.9, \"#4d9221\"], [1, \"#276419\"]], \"sequential\": [[0.0, \"#0d0887\"], [0.1111111111111111, \"#46039f\"], [0.2222222222222222, \"#7201a8\"], [0.3333333333333333, \"#9c179e\"], [0.4444444444444444, \"#bd3786\"], [0.5555555555555556, \"#d8576b\"], [0.6666666666666666, \"#ed7953\"], [0.7777777777777778, \"#fb9f3a\"], [0.8888888888888888, \"#fdca26\"], [1.0, \"#f0f921\"]], \"sequentialminus\": [[0.0, \"#0d0887\"], [0.1111111111111111, \"#46039f\"], [0.2222222222222222, \"#7201a8\"], [0.3333333333333333, \"#9c179e\"], [0.4444444444444444, \"#bd3786\"], [0.5555555555555556, \"#d8576b\"], [0.6666666666666666, \"#ed7953\"], [0.7777777777777778, \"#fb9f3a\"], [0.8888888888888888, \"#fdca26\"], [1.0, \"#f0f921\"]]}, \"colorway\": [\"#636efa\", \"#EF553B\", \"#00cc96\", \"#ab63fa\", \"#FFA15A\", \"#19d3f3\", \"#FF6692\", \"#B6E880\", \"#FF97FF\", \"#FECB52\"], \"font\": {\"color\": \"#2a3f5f\"}, \"geo\": {\"bgcolor\": \"white\", \"lakecolor\": \"white\", \"landcolor\": \"#E5ECF6\", \"showlakes\": true, \"showland\": true, \"subunitcolor\": \"white\"}, \"hoverlabel\": {\"align\": \"left\"}, \"hovermode\": \"closest\", \"mapbox\": {\"style\": \"light\"}, \"paper_bgcolor\": \"white\", \"plot_bgcolor\": \"#E5ECF6\", \"polar\": {\"angularaxis\": {\"gridcolor\": \"white\", \"linecolor\": \"white\", \"ticks\": \"\"}, \"bgcolor\": \"#E5ECF6\", \"radialaxis\": {\"gridcolor\": \"white\", \"linecolor\": \"white\", \"ticks\": \"\"}}, \"scene\": {\"xaxis\": {\"backgroundcolor\": \"#E5ECF6\", \"gridcolor\": \"white\", \"gridwidth\": 2, \"linecolor\": \"white\", \"showbackground\": true, \"ticks\": \"\", \"zerolinecolor\": \"white\"}, \"yaxis\": {\"backgroundcolor\": \"#E5ECF6\", \"gridcolor\": \"white\", \"gridwidth\": 2, \"linecolor\": \"white\", \"showbackground\": true, \"ticks\": \"\", \"zerolinecolor\": \"white\"}, \"zaxis\": {\"backgroundcolor\": \"#E5ECF6\", \"gridcolor\": \"white\", \"gridwidth\": 2, \"linecolor\": \"white\", \"showbackground\": true, \"ticks\": \"\", \"zerolinecolor\": \"white\"}}, \"shapedefaults\": {\"line\": {\"color\": \"#2a3f5f\"}}, \"ternary\": {\"aaxis\": {\"gridcolor\": \"white\", \"linecolor\": \"white\", \"ticks\": \"\"}, \"baxis\": {\"gridcolor\": \"white\", \"linecolor\": \"white\", \"ticks\": \"\"}, \"bgcolor\": \"#E5ECF6\", \"caxis\": {\"gridcolor\": \"white\", \"linecolor\": \"white\", \"ticks\": \"\"}}, \"title\": {\"x\": 0.05}, \"xaxis\": {\"automargin\": true, \"gridcolor\": \"white\", \"linecolor\": \"white\", \"ticks\": \"\", \"title\": {\"standoff\": 15}, \"zerolinecolor\": \"white\", \"zerolinewidth\": 2}, \"yaxis\": {\"automargin\": true, \"gridcolor\": \"white\", \"linecolor\": \"white\", \"ticks\": \"\", \"title\": {\"standoff\": 15}, \"zerolinecolor\": \"white\", \"zerolinewidth\": 2}}}, \"title\": {\"text\": \"Proportion of births given _PRENOMS_RARES as a function of the year (Female)\"}, \"xaxis\": {\"anchor\": \"y\", \"domain\": [0.0, 1.0], \"title\": {\"text\": \"year\"}}, \"yaxis\": {\"anchor\": \"x\", \"domain\": [0.0, 1.0], \"title\": {\"text\": \"value\"}}},                        {\"responsive\": true}                    ).then(function(){\n",
       "                            \n",
       "var gd = document.getElementById('2ad9c312-7fb9-4539-9f99-1af28a6f600e');\n",
       "var x = new MutationObserver(function (mutations, observer) {{\n",
       "        var display = window.getComputedStyle(gd).display;\n",
       "        if (!display || display === 'none') {{\n",
       "            console.log([gd, 'removed!']);\n",
       "            Plotly.purge(gd);\n",
       "            observer.disconnect();\n",
       "        }}\n",
       "}});\n",
       "\n",
       "// Listen for the removal of the full notebook cells\n",
       "var notebookContainer = gd.closest('#notebook-container');\n",
       "if (notebookContainer) {{\n",
       "    x.observe(notebookContainer, {childList: true});\n",
       "}}\n",
       "\n",
       "// Listen for the clearing of the current output cell\n",
       "var outputEl = gd.closest('.output');\n",
       "if (outputEl) {{\n",
       "    x.observe(outputEl, {childList: true});\n",
       "}}\n",
       "\n",
       "                        })                };                });            </script>        </div>"
      ]
     },
     "metadata": {},
     "output_type": "display_data"
    }
   ],
   "source": [
    "df2 = data[data['firstname'] == \"_PRENOMS_RARES\"].groupby(['year', 'gender']).sum() \n",
    "\n",
    "df2['count'] = df2['count'] / data.groupby(['year', 'gender']).sum()['count']\n",
    "df2.xs('Female', level=1).plot(kind='bar',title='Proportion of births given _PRENOMS_RARES as a function of the year (Female)')"
   ]
  },
  {
   "cell_type": "code",
   "execution_count": 117,
   "metadata": {
    "ExecuteTime": {
     "end_time": "2022-01-30T21:54:14.437585Z",
     "start_time": "2022-01-30T21:54:14.321507Z"
    }
   },
   "outputs": [
    {
     "data": {
      "application/vnd.plotly.v1+json": {
       "config": {
        "plotlyServerURL": "https://plot.ly"
       },
       "data": [
        {
         "alignmentgroup": "True",
         "hovertemplate": "variable=count<br>year=%{x}<br>value=%{y}<extra></extra>",
         "legendgroup": "count",
         "marker": {
          "color": "#636efa"
         },
         "name": "count",
         "offsetgroup": "count",
         "orientation": "v",
         "showlegend": true,
         "textposition": "auto",
         "type": "bar",
         "x": [
          1900,
          1901,
          1902,
          1903,
          1904,
          1905,
          1906,
          1907,
          1908,
          1909,
          1910,
          1911,
          1912,
          1913,
          1914,
          1915,
          1916,
          1917,
          1918,
          1919,
          1920,
          1921,
          1922,
          1923,
          1924,
          1925,
          1926,
          1927,
          1928,
          1929,
          1930,
          1931,
          1932,
          1933,
          1934,
          1935,
          1936,
          1937,
          1938,
          1939,
          1940,
          1941,
          1942,
          1943,
          1944,
          1945,
          1946,
          1947,
          1948,
          1949,
          1950,
          1951,
          1952,
          1953,
          1954,
          1955,
          1956,
          1957,
          1958,
          1959,
          1960,
          1961,
          1962,
          1963,
          1964,
          1965,
          1966,
          1967,
          1968,
          1969,
          1970,
          1971,
          1972,
          1973,
          1974,
          1975,
          1976,
          1977,
          1978,
          1979,
          1980,
          1981,
          1982,
          1983,
          1984,
          1985,
          1986,
          1987,
          1988,
          1989,
          1990,
          1991,
          1992,
          1993,
          1994,
          1995,
          1996,
          1997,
          1998,
          1999,
          2000,
          2001,
          2002,
          2003,
          2004,
          2005,
          2006,
          2007,
          2008,
          2009,
          2010,
          2011,
          2012,
          2013,
          2014,
          2015,
          2016,
          2017,
          2018,
          2019,
          2020
         ],
         "xaxis": "x",
         "y": [
          0.007046699889507746,
          0.0068481966075401605,
          0.006508345852519904,
          0.006201834508434688,
          0.00667787428784907,
          0.00662892860842036,
          0.006344445221771373,
          0.006567560415916574,
          0.006192318898267875,
          0.0062034789890687055,
          0.006609353862266778,
          0.006468124326237049,
          0.006186066731040744,
          0.006138279674410951,
          0.0062246405338301615,
          0.007144673728537885,
          0.007516646622275674,
          0.007739865024305064,
          0.006806883365200765,
          0.005461641249708359,
          0.004826573510129516,
          0.005208266230336138,
          0.005279593732914275,
          0.00639253685391845,
          0.008151636914564258,
          0.00906514858365022,
          0.009264725486088629,
          0.008647555494594878,
          0.007898162243254573,
          0.007801307556579422,
          0.008074385930558444,
          0.00841967310402809,
          0.007676301878303903,
          0.007139940193120892,
          0.007073302456507864,
          0.006130160181807555,
          0.005773892296968793,
          0.006043747895386688,
          0.006242510577980127,
          0.0060881131448058245,
          0.006165457905607926,
          0.00561848329595862,
          0.005531476205784217,
          0.005764695008609387,
          0.006329113924050633,
          0.0059969110882551,
          0.00392075706827246,
          0.0038266614015529175,
          0.0037515304018000363,
          0.004178476590712217,
          0.004374719816972853,
          0.004384351520613579,
          0.00451750967378922,
          0.004774915338797776,
          0.004859813955874568,
          0.004810123604887744,
          0.005166082769732282,
          0.005484316616134925,
          0.005686863578202531,
          0.006044286769601182,
          0.006390342459764085,
          0.006436335753912769,
          0.0069392020711058515,
          0.006705725339586205,
          0.006716303924584641,
          0.007469306533627137,
          0.007119724127079864,
          0.007855431318872572,
          0.007770680200017624,
          0.008193959650139486,
          0.00879377985748472,
          0.009620299928261215,
          0.010341161272512783,
          0.011221114810676874,
          0.012511052375255918,
          0.013288452424027763,
          0.01439690977689942,
          0.014786470264528596,
          0.014894599248915908,
          0.015324230446155825,
          0.015918048342108974,
          0.016701069619065492,
          0.01813057660942147,
          0.019381466440830154,
          0.019268200678989062,
          0.019625081957441736,
          0.01936330011150353,
          0.019441362462622333,
          0.019956667498400353,
          0.020729579659177735,
          0.02128623413861938,
          0.021709433358019253,
          0.023332755137440566,
          0.02544170933227872,
          0.026169189089440593,
          0.025725414335755738,
          0.026651591437131635,
          0.027399798527055312,
          0.028715928833988935,
          0.029872397172072948,
          0.030920602285488777,
          0.0330389093167457,
          0.03615771123106443,
          0.03857194294973095,
          0.04100746490307507,
          0.0429709956220734,
          0.04408778814903035,
          0.0457233926088831,
          0.04616257713518083,
          0.048231209307701195,
          0.05116093217073623,
          0.05344481459918201,
          0.05655893651020048,
          0.057177100786380816,
          0.05835437143067232,
          0.059557817655105816,
          0.0617374823356219,
          0.06400796669045174,
          0.06566931884955611,
          0.06856991678291405,
          0.07148274191031324
         ],
         "yaxis": "y"
        }
       ],
       "layout": {
        "barmode": "relative",
        "legend": {
         "title": {
          "text": "variable"
         },
         "tracegroupgap": 0
        },
        "template": {
         "data": {
          "bar": [
           {
            "error_x": {
             "color": "#2a3f5f"
            },
            "error_y": {
             "color": "#2a3f5f"
            },
            "marker": {
             "line": {
              "color": "#E5ECF6",
              "width": 0.5
             }
            },
            "type": "bar"
           }
          ],
          "barpolar": [
           {
            "marker": {
             "line": {
              "color": "#E5ECF6",
              "width": 0.5
             }
            },
            "type": "barpolar"
           }
          ],
          "carpet": [
           {
            "aaxis": {
             "endlinecolor": "#2a3f5f",
             "gridcolor": "white",
             "linecolor": "white",
             "minorgridcolor": "white",
             "startlinecolor": "#2a3f5f"
            },
            "baxis": {
             "endlinecolor": "#2a3f5f",
             "gridcolor": "white",
             "linecolor": "white",
             "minorgridcolor": "white",
             "startlinecolor": "#2a3f5f"
            },
            "type": "carpet"
           }
          ],
          "choropleth": [
           {
            "colorbar": {
             "outlinewidth": 0,
             "ticks": ""
            },
            "type": "choropleth"
           }
          ],
          "contour": [
           {
            "colorbar": {
             "outlinewidth": 0,
             "ticks": ""
            },
            "colorscale": [
             [
              0,
              "#0d0887"
             ],
             [
              0.1111111111111111,
              "#46039f"
             ],
             [
              0.2222222222222222,
              "#7201a8"
             ],
             [
              0.3333333333333333,
              "#9c179e"
             ],
             [
              0.4444444444444444,
              "#bd3786"
             ],
             [
              0.5555555555555556,
              "#d8576b"
             ],
             [
              0.6666666666666666,
              "#ed7953"
             ],
             [
              0.7777777777777778,
              "#fb9f3a"
             ],
             [
              0.8888888888888888,
              "#fdca26"
             ],
             [
              1,
              "#f0f921"
             ]
            ],
            "type": "contour"
           }
          ],
          "contourcarpet": [
           {
            "colorbar": {
             "outlinewidth": 0,
             "ticks": ""
            },
            "type": "contourcarpet"
           }
          ],
          "heatmap": [
           {
            "colorbar": {
             "outlinewidth": 0,
             "ticks": ""
            },
            "colorscale": [
             [
              0,
              "#0d0887"
             ],
             [
              0.1111111111111111,
              "#46039f"
             ],
             [
              0.2222222222222222,
              "#7201a8"
             ],
             [
              0.3333333333333333,
              "#9c179e"
             ],
             [
              0.4444444444444444,
              "#bd3786"
             ],
             [
              0.5555555555555556,
              "#d8576b"
             ],
             [
              0.6666666666666666,
              "#ed7953"
             ],
             [
              0.7777777777777778,
              "#fb9f3a"
             ],
             [
              0.8888888888888888,
              "#fdca26"
             ],
             [
              1,
              "#f0f921"
             ]
            ],
            "type": "heatmap"
           }
          ],
          "heatmapgl": [
           {
            "colorbar": {
             "outlinewidth": 0,
             "ticks": ""
            },
            "colorscale": [
             [
              0,
              "#0d0887"
             ],
             [
              0.1111111111111111,
              "#46039f"
             ],
             [
              0.2222222222222222,
              "#7201a8"
             ],
             [
              0.3333333333333333,
              "#9c179e"
             ],
             [
              0.4444444444444444,
              "#bd3786"
             ],
             [
              0.5555555555555556,
              "#d8576b"
             ],
             [
              0.6666666666666666,
              "#ed7953"
             ],
             [
              0.7777777777777778,
              "#fb9f3a"
             ],
             [
              0.8888888888888888,
              "#fdca26"
             ],
             [
              1,
              "#f0f921"
             ]
            ],
            "type": "heatmapgl"
           }
          ],
          "histogram": [
           {
            "marker": {
             "colorbar": {
              "outlinewidth": 0,
              "ticks": ""
             }
            },
            "type": "histogram"
           }
          ],
          "histogram2d": [
           {
            "colorbar": {
             "outlinewidth": 0,
             "ticks": ""
            },
            "colorscale": [
             [
              0,
              "#0d0887"
             ],
             [
              0.1111111111111111,
              "#46039f"
             ],
             [
              0.2222222222222222,
              "#7201a8"
             ],
             [
              0.3333333333333333,
              "#9c179e"
             ],
             [
              0.4444444444444444,
              "#bd3786"
             ],
             [
              0.5555555555555556,
              "#d8576b"
             ],
             [
              0.6666666666666666,
              "#ed7953"
             ],
             [
              0.7777777777777778,
              "#fb9f3a"
             ],
             [
              0.8888888888888888,
              "#fdca26"
             ],
             [
              1,
              "#f0f921"
             ]
            ],
            "type": "histogram2d"
           }
          ],
          "histogram2dcontour": [
           {
            "colorbar": {
             "outlinewidth": 0,
             "ticks": ""
            },
            "colorscale": [
             [
              0,
              "#0d0887"
             ],
             [
              0.1111111111111111,
              "#46039f"
             ],
             [
              0.2222222222222222,
              "#7201a8"
             ],
             [
              0.3333333333333333,
              "#9c179e"
             ],
             [
              0.4444444444444444,
              "#bd3786"
             ],
             [
              0.5555555555555556,
              "#d8576b"
             ],
             [
              0.6666666666666666,
              "#ed7953"
             ],
             [
              0.7777777777777778,
              "#fb9f3a"
             ],
             [
              0.8888888888888888,
              "#fdca26"
             ],
             [
              1,
              "#f0f921"
             ]
            ],
            "type": "histogram2dcontour"
           }
          ],
          "mesh3d": [
           {
            "colorbar": {
             "outlinewidth": 0,
             "ticks": ""
            },
            "type": "mesh3d"
           }
          ],
          "parcoords": [
           {
            "line": {
             "colorbar": {
              "outlinewidth": 0,
              "ticks": ""
             }
            },
            "type": "parcoords"
           }
          ],
          "pie": [
           {
            "automargin": true,
            "type": "pie"
           }
          ],
          "scatter": [
           {
            "marker": {
             "colorbar": {
              "outlinewidth": 0,
              "ticks": ""
             }
            },
            "type": "scatter"
           }
          ],
          "scatter3d": [
           {
            "line": {
             "colorbar": {
              "outlinewidth": 0,
              "ticks": ""
             }
            },
            "marker": {
             "colorbar": {
              "outlinewidth": 0,
              "ticks": ""
             }
            },
            "type": "scatter3d"
           }
          ],
          "scattercarpet": [
           {
            "marker": {
             "colorbar": {
              "outlinewidth": 0,
              "ticks": ""
             }
            },
            "type": "scattercarpet"
           }
          ],
          "scattergeo": [
           {
            "marker": {
             "colorbar": {
              "outlinewidth": 0,
              "ticks": ""
             }
            },
            "type": "scattergeo"
           }
          ],
          "scattergl": [
           {
            "marker": {
             "colorbar": {
              "outlinewidth": 0,
              "ticks": ""
             }
            },
            "type": "scattergl"
           }
          ],
          "scattermapbox": [
           {
            "marker": {
             "colorbar": {
              "outlinewidth": 0,
              "ticks": ""
             }
            },
            "type": "scattermapbox"
           }
          ],
          "scatterpolar": [
           {
            "marker": {
             "colorbar": {
              "outlinewidth": 0,
              "ticks": ""
             }
            },
            "type": "scatterpolar"
           }
          ],
          "scatterpolargl": [
           {
            "marker": {
             "colorbar": {
              "outlinewidth": 0,
              "ticks": ""
             }
            },
            "type": "scatterpolargl"
           }
          ],
          "scatterternary": [
           {
            "marker": {
             "colorbar": {
              "outlinewidth": 0,
              "ticks": ""
             }
            },
            "type": "scatterternary"
           }
          ],
          "surface": [
           {
            "colorbar": {
             "outlinewidth": 0,
             "ticks": ""
            },
            "colorscale": [
             [
              0,
              "#0d0887"
             ],
             [
              0.1111111111111111,
              "#46039f"
             ],
             [
              0.2222222222222222,
              "#7201a8"
             ],
             [
              0.3333333333333333,
              "#9c179e"
             ],
             [
              0.4444444444444444,
              "#bd3786"
             ],
             [
              0.5555555555555556,
              "#d8576b"
             ],
             [
              0.6666666666666666,
              "#ed7953"
             ],
             [
              0.7777777777777778,
              "#fb9f3a"
             ],
             [
              0.8888888888888888,
              "#fdca26"
             ],
             [
              1,
              "#f0f921"
             ]
            ],
            "type": "surface"
           }
          ],
          "table": [
           {
            "cells": {
             "fill": {
              "color": "#EBF0F8"
             },
             "line": {
              "color": "white"
             }
            },
            "header": {
             "fill": {
              "color": "#C8D4E3"
             },
             "line": {
              "color": "white"
             }
            },
            "type": "table"
           }
          ]
         },
         "layout": {
          "annotationdefaults": {
           "arrowcolor": "#2a3f5f",
           "arrowhead": 0,
           "arrowwidth": 1
          },
          "autotypenumbers": "strict",
          "coloraxis": {
           "colorbar": {
            "outlinewidth": 0,
            "ticks": ""
           }
          },
          "colorscale": {
           "diverging": [
            [
             0,
             "#8e0152"
            ],
            [
             0.1,
             "#c51b7d"
            ],
            [
             0.2,
             "#de77ae"
            ],
            [
             0.3,
             "#f1b6da"
            ],
            [
             0.4,
             "#fde0ef"
            ],
            [
             0.5,
             "#f7f7f7"
            ],
            [
             0.6,
             "#e6f5d0"
            ],
            [
             0.7,
             "#b8e186"
            ],
            [
             0.8,
             "#7fbc41"
            ],
            [
             0.9,
             "#4d9221"
            ],
            [
             1,
             "#276419"
            ]
           ],
           "sequential": [
            [
             0,
             "#0d0887"
            ],
            [
             0.1111111111111111,
             "#46039f"
            ],
            [
             0.2222222222222222,
             "#7201a8"
            ],
            [
             0.3333333333333333,
             "#9c179e"
            ],
            [
             0.4444444444444444,
             "#bd3786"
            ],
            [
             0.5555555555555556,
             "#d8576b"
            ],
            [
             0.6666666666666666,
             "#ed7953"
            ],
            [
             0.7777777777777778,
             "#fb9f3a"
            ],
            [
             0.8888888888888888,
             "#fdca26"
            ],
            [
             1,
             "#f0f921"
            ]
           ],
           "sequentialminus": [
            [
             0,
             "#0d0887"
            ],
            [
             0.1111111111111111,
             "#46039f"
            ],
            [
             0.2222222222222222,
             "#7201a8"
            ],
            [
             0.3333333333333333,
             "#9c179e"
            ],
            [
             0.4444444444444444,
             "#bd3786"
            ],
            [
             0.5555555555555556,
             "#d8576b"
            ],
            [
             0.6666666666666666,
             "#ed7953"
            ],
            [
             0.7777777777777778,
             "#fb9f3a"
            ],
            [
             0.8888888888888888,
             "#fdca26"
            ],
            [
             1,
             "#f0f921"
            ]
           ]
          },
          "colorway": [
           "#636efa",
           "#EF553B",
           "#00cc96",
           "#ab63fa",
           "#FFA15A",
           "#19d3f3",
           "#FF6692",
           "#B6E880",
           "#FF97FF",
           "#FECB52"
          ],
          "font": {
           "color": "#2a3f5f"
          },
          "geo": {
           "bgcolor": "white",
           "lakecolor": "white",
           "landcolor": "#E5ECF6",
           "showlakes": true,
           "showland": true,
           "subunitcolor": "white"
          },
          "hoverlabel": {
           "align": "left"
          },
          "hovermode": "closest",
          "mapbox": {
           "style": "light"
          },
          "paper_bgcolor": "white",
          "plot_bgcolor": "#E5ECF6",
          "polar": {
           "angularaxis": {
            "gridcolor": "white",
            "linecolor": "white",
            "ticks": ""
           },
           "bgcolor": "#E5ECF6",
           "radialaxis": {
            "gridcolor": "white",
            "linecolor": "white",
            "ticks": ""
           }
          },
          "scene": {
           "xaxis": {
            "backgroundcolor": "#E5ECF6",
            "gridcolor": "white",
            "gridwidth": 2,
            "linecolor": "white",
            "showbackground": true,
            "ticks": "",
            "zerolinecolor": "white"
           },
           "yaxis": {
            "backgroundcolor": "#E5ECF6",
            "gridcolor": "white",
            "gridwidth": 2,
            "linecolor": "white",
            "showbackground": true,
            "ticks": "",
            "zerolinecolor": "white"
           },
           "zaxis": {
            "backgroundcolor": "#E5ECF6",
            "gridcolor": "white",
            "gridwidth": 2,
            "linecolor": "white",
            "showbackground": true,
            "ticks": "",
            "zerolinecolor": "white"
           }
          },
          "shapedefaults": {
           "line": {
            "color": "#2a3f5f"
           }
          },
          "ternary": {
           "aaxis": {
            "gridcolor": "white",
            "linecolor": "white",
            "ticks": ""
           },
           "baxis": {
            "gridcolor": "white",
            "linecolor": "white",
            "ticks": ""
           },
           "bgcolor": "#E5ECF6",
           "caxis": {
            "gridcolor": "white",
            "linecolor": "white",
            "ticks": ""
           }
          },
          "title": {
           "x": 0.05
          },
          "xaxis": {
           "automargin": true,
           "gridcolor": "white",
           "linecolor": "white",
           "ticks": "",
           "title": {
            "standoff": 15
           },
           "zerolinecolor": "white",
           "zerolinewidth": 2
          },
          "yaxis": {
           "automargin": true,
           "gridcolor": "white",
           "linecolor": "white",
           "ticks": "",
           "title": {
            "standoff": 15
           },
           "zerolinecolor": "white",
           "zerolinewidth": 2
          }
         }
        },
        "title": {
         "text": "Proportion of births given _PRENOMS_RARES as a function of the year (Male)"
        },
        "xaxis": {
         "anchor": "y",
         "domain": [
          0,
          1
         ],
         "title": {
          "text": "year"
         }
        },
        "yaxis": {
         "anchor": "x",
         "domain": [
          0,
          1
         ],
         "title": {
          "text": "value"
         }
        }
       }
      },
      "text/html": [
       "<div>                            <div id=\"276a757d-ae6e-4a2b-8823-ccc32416d614\" class=\"plotly-graph-div\" style=\"height:525px; width:100%;\"></div>            <script type=\"text/javascript\">                require([\"plotly\"], function(Plotly) {                    window.PLOTLYENV=window.PLOTLYENV || {};                                    if (document.getElementById(\"276a757d-ae6e-4a2b-8823-ccc32416d614\")) {                    Plotly.newPlot(                        \"276a757d-ae6e-4a2b-8823-ccc32416d614\",                        [{\"alignmentgroup\": \"True\", \"hovertemplate\": \"variable=count<br>year=%{x}<br>value=%{y}<extra></extra>\", \"legendgroup\": \"count\", \"marker\": {\"color\": \"#636efa\"}, \"name\": \"count\", \"offsetgroup\": \"count\", \"orientation\": \"v\", \"showlegend\": true, \"textposition\": \"auto\", \"type\": \"bar\", \"x\": [1900.0, 1901.0, 1902.0, 1903.0, 1904.0, 1905.0, 1906.0, 1907.0, 1908.0, 1909.0, 1910.0, 1911.0, 1912.0, 1913.0, 1914.0, 1915.0, 1916.0, 1917.0, 1918.0, 1919.0, 1920.0, 1921.0, 1922.0, 1923.0, 1924.0, 1925.0, 1926.0, 1927.0, 1928.0, 1929.0, 1930.0, 1931.0, 1932.0, 1933.0, 1934.0, 1935.0, 1936.0, 1937.0, 1938.0, 1939.0, 1940.0, 1941.0, 1942.0, 1943.0, 1944.0, 1945.0, 1946.0, 1947.0, 1948.0, 1949.0, 1950.0, 1951.0, 1952.0, 1953.0, 1954.0, 1955.0, 1956.0, 1957.0, 1958.0, 1959.0, 1960.0, 1961.0, 1962.0, 1963.0, 1964.0, 1965.0, 1966.0, 1967.0, 1968.0, 1969.0, 1970.0, 1971.0, 1972.0, 1973.0, 1974.0, 1975.0, 1976.0, 1977.0, 1978.0, 1979.0, 1980.0, 1981.0, 1982.0, 1983.0, 1984.0, 1985.0, 1986.0, 1987.0, 1988.0, 1989.0, 1990.0, 1991.0, 1992.0, 1993.0, 1994.0, 1995.0, 1996.0, 1997.0, 1998.0, 1999.0, 2000.0, 2001.0, 2002.0, 2003.0, 2004.0, 2005.0, 2006.0, 2007.0, 2008.0, 2009.0, 2010.0, 2011.0, 2012.0, 2013.0, 2014.0, 2015.0, 2016.0, 2017.0, 2018.0, 2019.0, 2020.0], \"xaxis\": \"x\", \"y\": [0.007046699889507746, 0.0068481966075401605, 0.006508345852519904, 0.006201834508434688, 0.00667787428784907, 0.00662892860842036, 0.006344445221771373, 0.006567560415916574, 0.006192318898267875, 0.0062034789890687055, 0.006609353862266778, 0.006468124326237049, 0.006186066731040744, 0.006138279674410951, 0.0062246405338301615, 0.007144673728537885, 0.007516646622275674, 0.007739865024305064, 0.006806883365200765, 0.005461641249708359, 0.004826573510129516, 0.005208266230336138, 0.005279593732914275, 0.00639253685391845, 0.008151636914564258, 0.00906514858365022, 0.009264725486088629, 0.008647555494594878, 0.007898162243254573, 0.007801307556579422, 0.008074385930558444, 0.00841967310402809, 0.007676301878303903, 0.007139940193120892, 0.007073302456507864, 0.006130160181807555, 0.005773892296968793, 0.006043747895386688, 0.006242510577980127, 0.0060881131448058245, 0.006165457905607926, 0.00561848329595862, 0.005531476205784217, 0.005764695008609387, 0.006329113924050633, 0.0059969110882551, 0.00392075706827246, 0.0038266614015529175, 0.0037515304018000363, 0.004178476590712217, 0.004374719816972853, 0.004384351520613579, 0.00451750967378922, 0.004774915338797776, 0.004859813955874568, 0.004810123604887744, 0.005166082769732282, 0.005484316616134925, 0.005686863578202531, 0.006044286769601182, 0.006390342459764085, 0.006436335753912769, 0.0069392020711058515, 0.006705725339586205, 0.006716303924584641, 0.007469306533627137, 0.007119724127079864, 0.007855431318872572, 0.007770680200017624, 0.008193959650139486, 0.00879377985748472, 0.009620299928261215, 0.010341161272512783, 0.011221114810676874, 0.012511052375255918, 0.013288452424027763, 0.01439690977689942, 0.014786470264528596, 0.014894599248915908, 0.015324230446155825, 0.015918048342108974, 0.016701069619065492, 0.01813057660942147, 0.019381466440830154, 0.019268200678989062, 0.019625081957441736, 0.01936330011150353, 0.019441362462622333, 0.019956667498400353, 0.020729579659177735, 0.02128623413861938, 0.021709433358019253, 0.023332755137440566, 0.02544170933227872, 0.026169189089440593, 0.025725414335755738, 0.026651591437131635, 0.027399798527055312, 0.028715928833988935, 0.029872397172072948, 0.030920602285488777, 0.0330389093167457, 0.03615771123106443, 0.03857194294973095, 0.04100746490307507, 0.0429709956220734, 0.04408778814903035, 0.0457233926088831, 0.04616257713518083, 0.048231209307701195, 0.05116093217073623, 0.05344481459918201, 0.05655893651020048, 0.057177100786380816, 0.05835437143067232, 0.059557817655105816, 0.0617374823356219, 0.06400796669045174, 0.06566931884955611, 0.06856991678291405, 0.07148274191031324], \"yaxis\": \"y\"}],                        {\"barmode\": \"relative\", \"legend\": {\"title\": {\"text\": \"variable\"}, \"tracegroupgap\": 0}, \"template\": {\"data\": {\"bar\": [{\"error_x\": {\"color\": \"#2a3f5f\"}, \"error_y\": {\"color\": \"#2a3f5f\"}, \"marker\": {\"line\": {\"color\": \"#E5ECF6\", \"width\": 0.5}}, \"type\": \"bar\"}], \"barpolar\": [{\"marker\": {\"line\": {\"color\": \"#E5ECF6\", \"width\": 0.5}}, \"type\": \"barpolar\"}], \"carpet\": [{\"aaxis\": {\"endlinecolor\": \"#2a3f5f\", \"gridcolor\": \"white\", \"linecolor\": \"white\", \"minorgridcolor\": \"white\", \"startlinecolor\": \"#2a3f5f\"}, \"baxis\": {\"endlinecolor\": \"#2a3f5f\", \"gridcolor\": \"white\", \"linecolor\": \"white\", \"minorgridcolor\": \"white\", \"startlinecolor\": \"#2a3f5f\"}, \"type\": \"carpet\"}], \"choropleth\": [{\"colorbar\": {\"outlinewidth\": 0, \"ticks\": \"\"}, \"type\": \"choropleth\"}], \"contour\": [{\"colorbar\": {\"outlinewidth\": 0, \"ticks\": \"\"}, \"colorscale\": [[0.0, \"#0d0887\"], [0.1111111111111111, \"#46039f\"], [0.2222222222222222, \"#7201a8\"], [0.3333333333333333, \"#9c179e\"], [0.4444444444444444, \"#bd3786\"], [0.5555555555555556, \"#d8576b\"], [0.6666666666666666, \"#ed7953\"], [0.7777777777777778, \"#fb9f3a\"], [0.8888888888888888, \"#fdca26\"], [1.0, \"#f0f921\"]], \"type\": \"contour\"}], \"contourcarpet\": [{\"colorbar\": {\"outlinewidth\": 0, \"ticks\": \"\"}, \"type\": \"contourcarpet\"}], \"heatmap\": [{\"colorbar\": {\"outlinewidth\": 0, \"ticks\": \"\"}, \"colorscale\": [[0.0, \"#0d0887\"], [0.1111111111111111, \"#46039f\"], [0.2222222222222222, \"#7201a8\"], [0.3333333333333333, \"#9c179e\"], [0.4444444444444444, \"#bd3786\"], [0.5555555555555556, \"#d8576b\"], [0.6666666666666666, \"#ed7953\"], [0.7777777777777778, \"#fb9f3a\"], [0.8888888888888888, \"#fdca26\"], [1.0, \"#f0f921\"]], \"type\": \"heatmap\"}], \"heatmapgl\": [{\"colorbar\": {\"outlinewidth\": 0, \"ticks\": \"\"}, \"colorscale\": [[0.0, \"#0d0887\"], [0.1111111111111111, \"#46039f\"], [0.2222222222222222, \"#7201a8\"], [0.3333333333333333, \"#9c179e\"], [0.4444444444444444, \"#bd3786\"], [0.5555555555555556, \"#d8576b\"], [0.6666666666666666, \"#ed7953\"], [0.7777777777777778, \"#fb9f3a\"], [0.8888888888888888, \"#fdca26\"], [1.0, \"#f0f921\"]], \"type\": \"heatmapgl\"}], \"histogram\": [{\"marker\": {\"colorbar\": {\"outlinewidth\": 0, \"ticks\": \"\"}}, \"type\": \"histogram\"}], \"histogram2d\": [{\"colorbar\": {\"outlinewidth\": 0, \"ticks\": \"\"}, \"colorscale\": [[0.0, \"#0d0887\"], [0.1111111111111111, \"#46039f\"], [0.2222222222222222, \"#7201a8\"], [0.3333333333333333, \"#9c179e\"], [0.4444444444444444, \"#bd3786\"], [0.5555555555555556, \"#d8576b\"], [0.6666666666666666, \"#ed7953\"], [0.7777777777777778, \"#fb9f3a\"], [0.8888888888888888, \"#fdca26\"], [1.0, \"#f0f921\"]], \"type\": \"histogram2d\"}], \"histogram2dcontour\": [{\"colorbar\": {\"outlinewidth\": 0, \"ticks\": \"\"}, \"colorscale\": [[0.0, \"#0d0887\"], [0.1111111111111111, \"#46039f\"], [0.2222222222222222, \"#7201a8\"], [0.3333333333333333, \"#9c179e\"], [0.4444444444444444, \"#bd3786\"], [0.5555555555555556, \"#d8576b\"], [0.6666666666666666, \"#ed7953\"], [0.7777777777777778, \"#fb9f3a\"], [0.8888888888888888, \"#fdca26\"], [1.0, \"#f0f921\"]], \"type\": \"histogram2dcontour\"}], \"mesh3d\": [{\"colorbar\": {\"outlinewidth\": 0, \"ticks\": \"\"}, \"type\": \"mesh3d\"}], \"parcoords\": [{\"line\": {\"colorbar\": {\"outlinewidth\": 0, \"ticks\": \"\"}}, \"type\": \"parcoords\"}], \"pie\": [{\"automargin\": true, \"type\": \"pie\"}], \"scatter\": [{\"marker\": {\"colorbar\": {\"outlinewidth\": 0, \"ticks\": \"\"}}, \"type\": \"scatter\"}], \"scatter3d\": [{\"line\": {\"colorbar\": {\"outlinewidth\": 0, \"ticks\": \"\"}}, \"marker\": {\"colorbar\": {\"outlinewidth\": 0, \"ticks\": \"\"}}, \"type\": \"scatter3d\"}], \"scattercarpet\": [{\"marker\": {\"colorbar\": {\"outlinewidth\": 0, \"ticks\": \"\"}}, \"type\": \"scattercarpet\"}], \"scattergeo\": [{\"marker\": {\"colorbar\": {\"outlinewidth\": 0, \"ticks\": \"\"}}, \"type\": \"scattergeo\"}], \"scattergl\": [{\"marker\": {\"colorbar\": {\"outlinewidth\": 0, \"ticks\": \"\"}}, \"type\": \"scattergl\"}], \"scattermapbox\": [{\"marker\": {\"colorbar\": {\"outlinewidth\": 0, \"ticks\": \"\"}}, \"type\": \"scattermapbox\"}], \"scatterpolar\": [{\"marker\": {\"colorbar\": {\"outlinewidth\": 0, \"ticks\": \"\"}}, \"type\": \"scatterpolar\"}], \"scatterpolargl\": [{\"marker\": {\"colorbar\": {\"outlinewidth\": 0, \"ticks\": \"\"}}, \"type\": \"scatterpolargl\"}], \"scatterternary\": [{\"marker\": {\"colorbar\": {\"outlinewidth\": 0, \"ticks\": \"\"}}, \"type\": \"scatterternary\"}], \"surface\": [{\"colorbar\": {\"outlinewidth\": 0, \"ticks\": \"\"}, \"colorscale\": [[0.0, \"#0d0887\"], [0.1111111111111111, \"#46039f\"], [0.2222222222222222, \"#7201a8\"], [0.3333333333333333, \"#9c179e\"], [0.4444444444444444, \"#bd3786\"], [0.5555555555555556, \"#d8576b\"], [0.6666666666666666, \"#ed7953\"], [0.7777777777777778, \"#fb9f3a\"], [0.8888888888888888, \"#fdca26\"], [1.0, \"#f0f921\"]], \"type\": \"surface\"}], \"table\": [{\"cells\": {\"fill\": {\"color\": \"#EBF0F8\"}, \"line\": {\"color\": \"white\"}}, \"header\": {\"fill\": {\"color\": \"#C8D4E3\"}, \"line\": {\"color\": \"white\"}}, \"type\": \"table\"}]}, \"layout\": {\"annotationdefaults\": {\"arrowcolor\": \"#2a3f5f\", \"arrowhead\": 0, \"arrowwidth\": 1}, \"autotypenumbers\": \"strict\", \"coloraxis\": {\"colorbar\": {\"outlinewidth\": 0, \"ticks\": \"\"}}, \"colorscale\": {\"diverging\": [[0, \"#8e0152\"], [0.1, \"#c51b7d\"], [0.2, \"#de77ae\"], [0.3, \"#f1b6da\"], [0.4, \"#fde0ef\"], [0.5, \"#f7f7f7\"], [0.6, \"#e6f5d0\"], [0.7, \"#b8e186\"], [0.8, \"#7fbc41\"], [0.9, \"#4d9221\"], [1, \"#276419\"]], \"sequential\": [[0.0, \"#0d0887\"], [0.1111111111111111, \"#46039f\"], [0.2222222222222222, \"#7201a8\"], [0.3333333333333333, \"#9c179e\"], [0.4444444444444444, \"#bd3786\"], [0.5555555555555556, \"#d8576b\"], [0.6666666666666666, \"#ed7953\"], [0.7777777777777778, \"#fb9f3a\"], [0.8888888888888888, \"#fdca26\"], [1.0, \"#f0f921\"]], \"sequentialminus\": [[0.0, \"#0d0887\"], [0.1111111111111111, \"#46039f\"], [0.2222222222222222, \"#7201a8\"], [0.3333333333333333, \"#9c179e\"], [0.4444444444444444, \"#bd3786\"], [0.5555555555555556, \"#d8576b\"], [0.6666666666666666, \"#ed7953\"], [0.7777777777777778, \"#fb9f3a\"], [0.8888888888888888, \"#fdca26\"], [1.0, \"#f0f921\"]]}, \"colorway\": [\"#636efa\", \"#EF553B\", \"#00cc96\", \"#ab63fa\", \"#FFA15A\", \"#19d3f3\", \"#FF6692\", \"#B6E880\", \"#FF97FF\", \"#FECB52\"], \"font\": {\"color\": \"#2a3f5f\"}, \"geo\": {\"bgcolor\": \"white\", \"lakecolor\": \"white\", \"landcolor\": \"#E5ECF6\", \"showlakes\": true, \"showland\": true, \"subunitcolor\": \"white\"}, \"hoverlabel\": {\"align\": \"left\"}, \"hovermode\": \"closest\", \"mapbox\": {\"style\": \"light\"}, \"paper_bgcolor\": \"white\", \"plot_bgcolor\": \"#E5ECF6\", \"polar\": {\"angularaxis\": {\"gridcolor\": \"white\", \"linecolor\": \"white\", \"ticks\": \"\"}, \"bgcolor\": \"#E5ECF6\", \"radialaxis\": {\"gridcolor\": \"white\", \"linecolor\": \"white\", \"ticks\": \"\"}}, \"scene\": {\"xaxis\": {\"backgroundcolor\": \"#E5ECF6\", \"gridcolor\": \"white\", \"gridwidth\": 2, \"linecolor\": \"white\", \"showbackground\": true, \"ticks\": \"\", \"zerolinecolor\": \"white\"}, \"yaxis\": {\"backgroundcolor\": \"#E5ECF6\", \"gridcolor\": \"white\", \"gridwidth\": 2, \"linecolor\": \"white\", \"showbackground\": true, \"ticks\": \"\", \"zerolinecolor\": \"white\"}, \"zaxis\": {\"backgroundcolor\": \"#E5ECF6\", \"gridcolor\": \"white\", \"gridwidth\": 2, \"linecolor\": \"white\", \"showbackground\": true, \"ticks\": \"\", \"zerolinecolor\": \"white\"}}, \"shapedefaults\": {\"line\": {\"color\": \"#2a3f5f\"}}, \"ternary\": {\"aaxis\": {\"gridcolor\": \"white\", \"linecolor\": \"white\", \"ticks\": \"\"}, \"baxis\": {\"gridcolor\": \"white\", \"linecolor\": \"white\", \"ticks\": \"\"}, \"bgcolor\": \"#E5ECF6\", \"caxis\": {\"gridcolor\": \"white\", \"linecolor\": \"white\", \"ticks\": \"\"}}, \"title\": {\"x\": 0.05}, \"xaxis\": {\"automargin\": true, \"gridcolor\": \"white\", \"linecolor\": \"white\", \"ticks\": \"\", \"title\": {\"standoff\": 15}, \"zerolinecolor\": \"white\", \"zerolinewidth\": 2}, \"yaxis\": {\"automargin\": true, \"gridcolor\": \"white\", \"linecolor\": \"white\", \"ticks\": \"\", \"title\": {\"standoff\": 15}, \"zerolinecolor\": \"white\", \"zerolinewidth\": 2}}}, \"title\": {\"text\": \"Proportion of births given _PRENOMS_RARES as a function of the year (Male)\"}, \"xaxis\": {\"anchor\": \"y\", \"domain\": [0.0, 1.0], \"title\": {\"text\": \"year\"}}, \"yaxis\": {\"anchor\": \"x\", \"domain\": [0.0, 1.0], \"title\": {\"text\": \"value\"}}},                        {\"responsive\": true}                    ).then(function(){\n",
       "                            \n",
       "var gd = document.getElementById('276a757d-ae6e-4a2b-8823-ccc32416d614');\n",
       "var x = new MutationObserver(function (mutations, observer) {{\n",
       "        var display = window.getComputedStyle(gd).display;\n",
       "        if (!display || display === 'none') {{\n",
       "            console.log([gd, 'removed!']);\n",
       "            Plotly.purge(gd);\n",
       "            observer.disconnect();\n",
       "        }}\n",
       "}});\n",
       "\n",
       "// Listen for the removal of the full notebook cells\n",
       "var notebookContainer = gd.closest('#notebook-container');\n",
       "if (notebookContainer) {{\n",
       "    x.observe(notebookContainer, {childList: true});\n",
       "}}\n",
       "\n",
       "// Listen for the clearing of the current output cell\n",
       "var outputEl = gd.closest('.output');\n",
       "if (outputEl) {{\n",
       "    x.observe(outputEl, {childList: true});\n",
       "}}\n",
       "\n",
       "                        })                };                });            </script>        </div>"
      ]
     },
     "metadata": {},
     "output_type": "display_data"
    }
   ],
   "source": [
    "df2.xs('Male', level=1).plot(kind='bar', title='Proportion of births given _PRENOMS_RARES as a function of the year (Male)')"
   ]
  },
  {
   "cell_type": "markdown",
   "metadata": {
    "nteract": {
     "transient": {
      "deleting": false
     }
    }
   },
   "source": [
    "# A study of the \"Marie\" firstname\n",
    "\n",
    "**QUESTION:** Plot the proportion of female births given name `'MARIE'` or `'MARIE-...'` (compounded names) as a function of the year.\n",
    "Proceed in such a way that the reader can see the share of compounded names. We are expecting an _area plot_.\n",
    "\n",
    "__Hints:__\n",
    "\n",
    "- Have a look at the `.str` accessor (to apply a string method over a whole column containing string)\n",
    "- Have a look at [r-graph-gallery: stacked area](https://www.r-graph-gallery.com/stacked-area-graph.html)  and\n",
    "at [ggplot documentation](https://ggplot2.tidyverse.org/reference/geom_ribbon.html). Pay attention on the way you stack the area corresponding to names matching pattern 'MARIE-.*' over or under the are corresponding to babies named 'MARIE'\n",
    "- See Graphique 3, page 48, de _L'archipel français_  de J. Fourquet. Le Seuil. Essais. Vol. 898.\n",
    "\n",
    "- Add annotation, 1st World War, Front Populaire, 2nd World War, 1968"
   ]
  },
  {
   "cell_type": "code",
   "execution_count": 1,
   "metadata": {
    "ExecuteTime": {
     "end_time": "2022-01-30T22:45:12.064718Z",
     "start_time": "2022-01-30T22:45:11.966980Z"
    },
    "jupyter": {
     "outputs_hidden": false,
     "source_hidden": false
    },
    "nteract": {
     "transient": {
      "deleting": false
     }
    }
   },
   "outputs": [
    {
     "ename": "NameError",
     "evalue": "name 'data' is not defined",
     "output_type": "error",
     "traceback": [
      "\u001b[0;31m---------------------------------------------------------------------------\u001b[0m",
      "\u001b[0;31mNameError\u001b[0m                                 Traceback (most recent call last)",
      "\u001b[0;32m<ipython-input-1-d5297fd5af04>\u001b[0m in \u001b[0;36m<module>\u001b[0;34m\u001b[0m\n\u001b[1;32m      1\u001b[0m \u001b[0;31m# your code here\u001b[0m\u001b[0;34m\u001b[0m\u001b[0;34m\u001b[0m\u001b[0;34m\u001b[0m\u001b[0m\n\u001b[0;32m----> 2\u001b[0;31m \u001b[0mmarie_df\u001b[0m \u001b[0;34m=\u001b[0m \u001b[0mdata\u001b[0m\u001b[0;34m[\u001b[0m\u001b[0;34m(\u001b[0m\u001b[0mdata\u001b[0m\u001b[0;34m[\u001b[0m\u001b[0;34m'gender'\u001b[0m\u001b[0;34m]\u001b[0m \u001b[0;34m==\u001b[0m \u001b[0;34m'Female'\u001b[0m\u001b[0;34m)\u001b[0m \u001b[0;34m&\u001b[0m\u001b[0;34m(\u001b[0m\u001b[0mdata\u001b[0m\u001b[0;34m[\u001b[0m\u001b[0;34m'firstname'\u001b[0m\u001b[0;34m]\u001b[0m\u001b[0;34m.\u001b[0m\u001b[0mnotna\u001b[0m\u001b[0;34m(\u001b[0m\u001b[0;34m)\u001b[0m\u001b[0;34m)\u001b[0m \u001b[0;34m&\u001b[0m \u001b[0;34m(\u001b[0m\u001b[0mdata\u001b[0m\u001b[0;34m[\u001b[0m\u001b[0;34m'firstname'\u001b[0m\u001b[0;34m]\u001b[0m \u001b[0;34m==\u001b[0m \u001b[0;34m\"MARIE\"\u001b[0m\u001b[0;34m)\u001b[0m\u001b[0;34m]\u001b[0m\u001b[0;34m\u001b[0m\u001b[0;34m\u001b[0m\u001b[0m\n\u001b[0m\u001b[1;32m      3\u001b[0m \u001b[0mmarie_composed_df\u001b[0m \u001b[0;34m=\u001b[0m \u001b[0mdata\u001b[0m\u001b[0;34m[\u001b[0m\u001b[0;34m(\u001b[0m\u001b[0mdata\u001b[0m\u001b[0;34m[\u001b[0m\u001b[0;34m'gender'\u001b[0m\u001b[0;34m]\u001b[0m \u001b[0;34m==\u001b[0m \u001b[0;34m'Female'\u001b[0m\u001b[0;34m)\u001b[0m \u001b[0;34m&\u001b[0m\u001b[0;34m(\u001b[0m\u001b[0mdata\u001b[0m\u001b[0;34m[\u001b[0m\u001b[0;34m'firstname'\u001b[0m\u001b[0;34m]\u001b[0m\u001b[0;34m.\u001b[0m\u001b[0mnotna\u001b[0m\u001b[0;34m(\u001b[0m\u001b[0;34m)\u001b[0m\u001b[0;34m)\u001b[0m \u001b[0;34m&\u001b[0m \u001b[0mdata\u001b[0m\u001b[0;34m[\u001b[0m\u001b[0;34m'firstname'\u001b[0m\u001b[0;34m]\u001b[0m\u001b[0;34m.\u001b[0m\u001b[0mstr\u001b[0m\u001b[0;34m.\u001b[0m\u001b[0mcontains\u001b[0m\u001b[0;34m(\u001b[0m\u001b[0;34m\"^MARIE-\"\u001b[0m\u001b[0;34m,\u001b[0m \u001b[0mregex\u001b[0m\u001b[0;34m=\u001b[0m\u001b[0;32mTrue\u001b[0m\u001b[0;34m)\u001b[0m\u001b[0;34m]\u001b[0m\u001b[0;34m\u001b[0m\u001b[0;34m\u001b[0m\u001b[0m\n\u001b[1;32m      4\u001b[0m \u001b[0mmarie_composed_df\u001b[0m \u001b[0;34m=\u001b[0m \u001b[0mmarie_composed_df\u001b[0m\u001b[0;34m.\u001b[0m\u001b[0mgroupby\u001b[0m\u001b[0;34m(\u001b[0m\u001b[0;34m[\u001b[0m\u001b[0;34m'year'\u001b[0m\u001b[0;34m]\u001b[0m\u001b[0;34m)\u001b[0m\u001b[0;34m.\u001b[0m\u001b[0msum\u001b[0m\u001b[0;34m(\u001b[0m\u001b[0;34m)\u001b[0m\u001b[0;34m\u001b[0m\u001b[0;34m\u001b[0m\u001b[0m\n\u001b[1;32m      5\u001b[0m \u001b[0;34m\u001b[0m\u001b[0m\n",
      "\u001b[0;31mNameError\u001b[0m: name 'data' is not defined"
     ]
    }
   ],
   "source": [
    "# your code here\n",
    "marie_df = data[(data['gender'] == 'Female') &(data['firstname'].notna()) & (data['firstname'] == \"MARIE\")]\n",
    "marie_composed_df = data[(data['gender'] == 'Female') &(data['firstname'].notna()) & data['firstname'].str.contains(\"^MARIE-\", regex=True)]\n",
    "marie_composed_df = marie_composed_df.groupby(['year']).sum()\n",
    "\n",
    "\n",
    "marie_df = marie_df.join(marie_composed_df, 'year', rsuffix='2').set_index('year')\n",
    "\n",
    "marie_df['count'] = marie_df['count'] / female_birth_per_year['count']\n",
    "marie_df['count2'] = marie_df['count2'] / female_birth_per_year['count']\n",
    "marie_df = marie_df.rename(columns={\"count\":\"proportion of Marie\", \"count2\":\"proportion of Marie-...\"})\n",
    "marie_df.plot.area(y=['proportion of Marie', 'proportion of Marie-...'], title=\"Proportion of female births given name Marie or Marie-...\")\n",
    "\n"
   ]
  },
  {
   "cell_type": "markdown",
   "metadata": {
    "nteract": {
     "transient": {
      "deleting": false
     }
    }
   },
   "source": [
    "# Top 10 firstnames of year 2000\n",
    "\n",
    "**QUESTION:** For each sex, select the ten most popular names in year 2000, and plot the proportion\n",
    "of newborns given that name over time. Take into account that some names might have\n",
    "zero occurrence during certain years.\n",
    "\n",
    "__Hint:__ Leave aside the rows with '_PRENOMS_RARES'."
   ]
  },
  {
   "cell_type": "code",
   "execution_count": 73,
   "metadata": {
    "ExecuteTime": {
     "end_time": "2022-01-30T20:59:34.354755Z",
     "start_time": "2022-01-30T20:59:33.860388Z"
    },
    "jupyter": {
     "outputs_hidden": false,
     "source_hidden": false
    },
    "nteract": {
     "transient": {
      "deleting": false
     }
    }
   },
   "outputs": [
    {
     "data": {
      "application/vnd.plotly.v1+json": {
       "config": {
        "plotlyServerURL": "https://plot.ly"
       },
       "data": [
        {
         "hovertemplate": "firstname=CAMILLE<br>year=%{x}<br>proportion=%{y}<extra></extra>",
         "legendgroup": "CAMILLE",
         "line": {
          "color": "#636efa",
          "dash": "solid"
         },
         "mode": "lines",
         "name": "CAMILLE",
         "showlegend": true,
         "type": "scattergl",
         "x": [
          1900,
          1901,
          1902,
          1903,
          1904,
          1905,
          1906,
          1907,
          1908,
          1909,
          1910,
          1911,
          1912,
          1913,
          1914,
          1915,
          1916,
          1917,
          1918,
          1919,
          1920,
          1921,
          1922,
          1923,
          1924,
          1925,
          1926,
          1927,
          1928,
          1929,
          1930,
          1931,
          1932,
          1933,
          1934,
          1935,
          1936,
          1937,
          1938,
          1939,
          1940,
          1941,
          1942,
          1943,
          1944,
          1945,
          1946,
          1947,
          1948,
          1949,
          1950,
          1951,
          1952,
          1953,
          1954,
          1955,
          1956,
          1957,
          1958,
          1959,
          1960,
          1961,
          1962,
          1963,
          1964,
          1965,
          1966,
          1967,
          1968,
          1969,
          1970,
          1971,
          1972,
          1973,
          1974,
          1975,
          1976,
          1977,
          1978,
          1979,
          1980,
          1981,
          1982,
          1983,
          1984,
          1985,
          1986,
          1987,
          1988,
          1989,
          1990,
          1991,
          1992,
          1993,
          1994,
          1995,
          1996,
          1997,
          1998,
          1999,
          2000,
          2001,
          2002,
          2003,
          2004,
          2005,
          2006,
          2007,
          2008,
          2009,
          2010,
          2011,
          2012,
          2013,
          2014,
          2015,
          2016,
          2017,
          2018,
          2019,
          2020
         ],
         "xaxis": "x",
         "y": [
          0.0017885571173409955,
          0.001498867522316472,
          0.0015754940438112693,
          0.0015866574773649032,
          0.0015555368704279829,
          0.0016241876491836914,
          0.001490465434441587,
          0.0015269414759496672,
          0.0014922885653149227,
          0.0014594156216766257,
          0.001368964006401035,
          0.001367611668721019,
          0.0012761029438883521,
          0.0011614892791966612,
          0.001372843841347815,
          0.0014021706404392894,
          0.0012418946744844174,
          0.0015207423329240716,
          0.0013412808075435483,
          0.0011797685356775577,
          0.0010545415070638772,
          0.0010776372881463059,
          0.0010318233439317744,
          0.000916629222662473,
          0.0008575729221756641,
          0.0008182179308423846,
          0.000770255510168004,
          0.0007603592976639275,
          0.0006967573135818698,
          0.0006473394189648017,
          0.0006307482884622172,
          0.0005711695939108355,
          0.0005473599683817279,
          0.0005075193874059146,
          0.00043379670708863256,
          0.00047025345455422386,
          0.00037385192681544234,
          0.000470965921117618,
          0.00036309786555411584,
          0.0004284139794503502,
          0.00040324080327133993,
          0.0003042697112956508,
          0.000287552905975838,
          0.00025963027951203446,
          0.0002466014696068,
          0.0002620518318103698,
          0.00018553800804075343,
          0.00016534410132106563,
          0.0001834856188924898,
          0.00017067222399381988,
          0.0001578576782428964,
          0.00013482109595359316,
          0.00014114577155734787,
          0.00014888463619494447,
          0.00013451999183271477,
          0.00012792168296662452,
          0.00010362706787211456,
          0.00011441511232942017,
          0.0001041695353200579,
          9.38897710615295e-05,
          8.298617450332774e-05,
          8.46870696765766e-05,
          0.00011900692223597673,
          0.00010521367330035146,
          0.00011412413603597016,
          0.00012016922522295883,
          0.00011822606851031776,
          0.00011929428742510809,
          0.00010597945396124413,
          0.00014029001772755678,
          0.00013129057483390015,
          0.00016010068554224102,
          0.00017004101120704506,
          0.00018707377592922872,
          0.0002739840474938446,
          0.0003135011865424655,
          0.00038603514430982826,
          0.0005281605608104864,
          0.0006523086730042799,
          0.0010182456481494864,
          0.0012188350476702696,
          0.0014626243695531186,
          0.0017091061274712497,
          0.0018434322228753543,
          0.0024612177711736925,
          0.0035045364277092013,
          0.0035554756892745287,
          0.004013569998401848,
          0.005026418098724073,
          0.006301250495841435,
          0.007184501016095581,
          0.00747578700435847,
          0.008345937008909579,
          0.009155700366059194,
          0.009895966206283184,
          0.010091919859092911,
          0.009905178621790571,
          0.00970622832443849,
          0.010176236265422207,
          0.00971956810922866,
          0.00952512763334726,
          0.008613460494384374,
          0.007731801396900908,
          0.0071622240407759495,
          0.007029823291519188,
          0.006598448401637344,
          0.006451272969808813,
          0.006016668167245368,
          0.00596185599884326,
          0.005594354693005887,
          0.00535456792666598,
          0.005115877712031558,
          0.0048936498658831195,
          0.004611650161180646,
          0.004268994820232789,
          0.004156195897201586,
          0.00379556578839967,
          0.0034016880535647307,
          0.0030075670972159563,
          0.002719250642946464,
          0.0023113181793364516
         ],
         "yaxis": "y"
        },
        {
         "hovertemplate": "firstname=CHLOÉ<br>year=%{x}<br>proportion=%{y}<extra></extra>",
         "legendgroup": "CHLOÉ",
         "line": {
          "color": "#EF553B",
          "dash": "solid"
         },
         "mode": "lines",
         "name": "CHLOÉ",
         "showlegend": true,
         "type": "scattergl",
         "x": [
          1949,
          1965,
          1966,
          1967,
          1968,
          1969,
          1970,
          1971,
          1972,
          1973,
          1974,
          1975,
          1976,
          1977,
          1978,
          1979,
          1980,
          1981,
          1982,
          1983,
          1984,
          1985,
          1986,
          1987,
          1988,
          1989,
          1990,
          1991,
          1992,
          1993,
          1994,
          1995,
          1996,
          1997,
          1998,
          1999,
          2000,
          2001,
          2002,
          2003,
          2004,
          2005,
          2006,
          2007,
          2008,
          2009,
          2010,
          2011,
          2012,
          2013,
          2014,
          2015,
          2016,
          2017,
          2018,
          2019,
          2020
         ],
         "xaxis": "x",
         "y": [
          3.368530736720129e-06,
          5.61538435621303e-06,
          1.3511550686893458e-05,
          1.2740166618215427e-05,
          1.164609384189496e-05,
          3.0144962486913027e-05,
          2.994346443580179e-05,
          6.226137771087151e-05,
          8.054574215070556e-05,
          0.00012165533894784199,
          0.00015357850195843307,
          0.00015079803909637582,
          0.00026376778543589686,
          0.00029208879499367807,
          0.0003646445998160571,
          0.0004270062395465588,
          0.0005303613179852246,
          0.0007127195021127485,
          0.0008871313330275988,
          0.0011076588410769484,
          0.001323150673782977,
          0.0014407538647248938,
          0.0018675874107922164,
          0.0022491063992339266,
          0.002668951754658064,
          0.002974398324868805,
          0.003291209336586232,
          0.003522725185451473,
          0.003911948284446282,
          0.004404809134316431,
          0.004910631856244212,
          0.005805537208278292,
          0.007733842990255002,
          0.009009569384604114,
          0.00835564186521601,
          0.008294787734734254,
          0.00930653086935545,
          0.009204785546550494,
          0.008102131455224574,
          0.007738939937442345,
          0.007239668762907821,
          0.006951983821797042,
          0.0066877339710926425,
          0.006714763476175377,
          0.006546680764429227,
          0.0065276136775733185,
          0.004255072613039448,
          0.004110013009358345,
          0.005487379291509273,
          0.005764562701475808,
          0.005171742785037655,
          0.004955781929080434,
          0.004677960949440305,
          0.004534146940852017,
          0.004568290022907149,
          0.004220442158412571,
          0.003903761806832038
         ],
         "yaxis": "y"
        },
        {
         "hovertemplate": "firstname=EMMA<br>year=%{x}<br>proportion=%{y}<extra></extra>",
         "legendgroup": "EMMA",
         "line": {
          "color": "#00cc96",
          "dash": "solid"
         },
         "mode": "lines",
         "name": "EMMA",
         "showlegend": true,
         "type": "scattergl",
         "x": [
          1900,
          1901,
          1902,
          1903,
          1904,
          1905,
          1906,
          1907,
          1908,
          1909,
          1910,
          1911,
          1912,
          1913,
          1914,
          1915,
          1916,
          1917,
          1918,
          1919,
          1920,
          1921,
          1922,
          1923,
          1924,
          1925,
          1926,
          1927,
          1928,
          1929,
          1930,
          1931,
          1932,
          1933,
          1934,
          1935,
          1936,
          1937,
          1938,
          1939,
          1940,
          1941,
          1942,
          1943,
          1944,
          1945,
          1946,
          1947,
          1948,
          1949,
          1950,
          1951,
          1952,
          1953,
          1954,
          1955,
          1956,
          1957,
          1958,
          1959,
          1960,
          1961,
          1962,
          1963,
          1964,
          1965,
          1966,
          1967,
          1968,
          1969,
          1970,
          1971,
          1972,
          1973,
          1974,
          1975,
          1976,
          1977,
          1978,
          1979,
          1980,
          1981,
          1982,
          1983,
          1984,
          1985,
          1986,
          1987,
          1988,
          1989,
          1990,
          1991,
          1992,
          1993,
          1994,
          1995,
          1996,
          1997,
          1998,
          1999,
          2000,
          2001,
          2002,
          2003,
          2004,
          2005,
          2006,
          2007,
          2008,
          2009,
          2010,
          2011,
          2012,
          2013,
          2014,
          2015,
          2016,
          2017,
          2018,
          2019,
          2020
         ],
         "xaxis": "x",
         "y": [
          0.0017885571173409955,
          0.0019185504285650842,
          0.0018153840834039315,
          0.0016639506697669825,
          0.0018288068611788447,
          0.0015933486431865328,
          0.0018575652655355445,
          0.0016816447570656204,
          0.0015727457151778583,
          0.0015780050955219085,
          0.0015645302930297543,
          0.0015339163780790828,
          0.0014549786455605633,
          0.0014647261954426247,
          0.0012084761433361038,
          0.0012215228892170497,
          0.0011705214173301406,
          0.0010895361735884582,
          0.0009076770982083495,
          0.0009030971534168916,
          0.000863793557992029,
          0.0008263992693555982,
          0.0008060089699403158,
          0.0007140231199705894,
          0.0006802001545909443,
          0.0005998154657432569,
          0.0006076810889645114,
          0.0006280535917811058,
          0.000526122869439371,
          0.0004726859618678626,
          0.00043124153055445997,
          0.0003631893613454769,
          0.0003528825011056985,
          0.00031905941944410923,
          0.000338492885076736,
          0.00031005722278300475,
          0.00027299884888383464,
          0.00020990615959923798,
          0.0002456250266983725,
          0.00018132043943541794,
          0.00014093853318221592,
          0.0002235450940131312,
          0.00015787218367300913,
          0.00013242886740211154,
          8.622429007230769e-05,
          7.997685776030766e-05,
          5.6821014962480735e-05,
          5.398991063545e-05,
          5.8535289462634784e-05,
          6.849345831330928e-05,
          5.791900424739365e-05,
          5.913205962876893e-05,
          6.0491044953149094e-05,
          3.51028817044991e-05,
          3.843428338077565e-05,
          5.913360816381699e-05,
          4.8198636219588163e-05,
          4.1713843036767774e-05,
          6.106490001520636e-05,
          5.516024049864857e-05,
          4.742067114475871e-05,
          4.872406748515366e-05,
          4.666938126901048e-05,
          4.812965906292673e-05,
          4.653605547097812e-05,
          4.492307484970424e-05,
          5.292024019033271e-05,
          2.6638530201723164e-05,
          5.124281290433782e-05,
          4.0579757193921386e-05,
          4.261185323556408e-05,
          5.8925946762074814e-05,
          4.2510252801761266e-05,
          5.394151821272239e-05,
          5.897414475203829e-05,
          6.084833156520428e-05,
          7.830606130128189e-05,
          0.00017338604269031118,
          0.00017692015768853137,
          0.0001786856879333292,
          0.00019546180029032925,
          0.00017972926575017135,
          0.0001691563982467879,
          0.00017994457707026237,
          0.0002021480196057326,
          0.00024272159703022988,
          0.0002965035683113416,
          0.00032872554535308114,
          0.000430392704262051,
          0.0005683480839386392,
          0.0005655133502943804,
          0.0006717449888086236,
          0.0007837316631617936,
          0.0009679044025581938,
          0.0013855198377405455,
          0.0017971158080140907,
          0.0021193111964798624,
          0.003132200709652182,
          0.0062295694532898205,
          0.007506094143544934,
          0.008875804701253246,
          0.00836227817134036,
          0.008668908999684092,
          0.008316990824610283,
          0.008810853526532835,
          0.009363411986169905,
          0.009129450832175659,
          0.008796000892518115,
          0.008736223374658368,
          0.008563106114666074,
          0.008242352456483675,
          0.007768895043854127,
          0.00683976298321329,
          0.0064031399833542404,
          0.006019657169758077,
          0.00605813719850377,
          0.0066454066195117695,
          0.006914035160836467,
          0.006375750249292273,
          0.005820435080102871,
          0.0052747799394568095
         ],
         "yaxis": "y"
        },
        {
         "hovertemplate": "firstname=LAURA<br>year=%{x}<br>proportion=%{y}<extra></extra>",
         "legendgroup": "LAURA",
         "line": {
          "color": "#ab63fa",
          "dash": "solid"
         },
         "mode": "lines",
         "name": "LAURA",
         "showlegend": true,
         "type": "scattergl",
         "x": [
          1900,
          1901,
          1902,
          1903,
          1904,
          1905,
          1906,
          1907,
          1908,
          1909,
          1910,
          1911,
          1912,
          1913,
          1914,
          1915,
          1916,
          1917,
          1918,
          1919,
          1920,
          1921,
          1922,
          1923,
          1924,
          1925,
          1926,
          1927,
          1928,
          1929,
          1930,
          1931,
          1932,
          1933,
          1934,
          1935,
          1936,
          1937,
          1938,
          1939,
          1940,
          1941,
          1942,
          1943,
          1944,
          1945,
          1946,
          1947,
          1948,
          1949,
          1950,
          1951,
          1952,
          1953,
          1954,
          1955,
          1956,
          1957,
          1958,
          1959,
          1960,
          1961,
          1962,
          1963,
          1964,
          1965,
          1966,
          1967,
          1968,
          1969,
          1970,
          1971,
          1972,
          1973,
          1974,
          1975,
          1976,
          1977,
          1978,
          1979,
          1980,
          1981,
          1982,
          1983,
          1984,
          1985,
          1986,
          1987,
          1988,
          1989,
          1990,
          1991,
          1992,
          1993,
          1994,
          1995,
          1996,
          1997,
          1998,
          1999,
          2000,
          2001,
          2002,
          2003,
          2004,
          2005,
          2006,
          2007,
          2008,
          2009,
          2010,
          2011,
          2012,
          2013,
          2014,
          2015,
          2016,
          2017,
          2018,
          2019,
          2020
         ],
         "xaxis": "x",
         "y": [
          3.397530480702027e-05,
          4.6631434027623576e-05,
          1.7289372222894586e-05,
          3.2205496834199664e-05,
          1.0510384259648532e-05,
          4.317460839602218e-05,
          2.607813007771283e-05,
          1.6073068167891233e-05,
          1.5325171402463904e-05,
          3.060373518587944e-05,
          3.196756608354065e-05,
          3.130441587916495e-05,
          4.425790556838215e-05,
          2.9404791878396482e-05,
          3.7356295002661635e-05,
          2.0071972358026638e-05,
          4.639261715027996e-05,
          3.291650071264224e-05,
          4.9141753724655866e-05,
          1.5660644278905633e-05,
          1.39571670052572e-05,
          2.370169988591582e-05,
          3.131732194042127e-05,
          2.777664311098403e-05,
          1.7900004068182743e-05,
          4.1148290525922635e-05,
          3.314624121624608e-05,
          3.0286848334621854e-05,
          3.475886825124974e-05,
          2.7239530005944627e-05,
          2.7624012633381776e-05,
          2.0177186741415385e-05,
          2.3525500073713232e-05,
          1.6531576137000478e-05,
          2.136120148542509e-05,
          1.7225401265722484e-05,
          1.912730788358077e-05,
          1.4111338460452974e-05,
          1.2459240484700052e-05,
          1.422121093611121e-05,
          1.761731664777699e-05,
          1.4489033871221467e-05,
          1.127658454807208e-05,
          1.568236587656584e-05,
          2.0693829617353846e-05,
          1.0209811628975445e-05,
          1.043651295229238e-05,
          3.5993273756966666e-05,
          2.8141966087805187e-05,
          3.4808150946108e-05,
          3.861266949826243e-05,
          4.020980054756287e-05,
          4.625785790534931e-05,
          5.931176563863641e-05,
          4.804285422596957e-05,
          6.637445814305989e-05,
          7.952774976232048e-05,
          6.793397294559323e-05,
          8.620927060970309e-05,
          0.00010914685885902803,
          0.00012685029531222955,
          0.00013457123400661486,
          0.00012600732942632829,
          0.00010969085088760045,
          0.00013185215716777135,
          0.00017407691504260392,
          0.000203799222860643,
          0.0002188992264402469,
          0.0001979835953122143,
          0.00023536259172474402,
          0.00019578419054178093,
          0.00025349275210854826,
          0.00017115970207024931,
          0.00022609529974268748,
          0.00023098206694548333,
          0.00031217839672583066,
          0.0003283359412457258,
          0.00044946997220488363,
          0.0005996377863641827,
          0.0004808747189970477,
          0.0006274697283205474,
          0.000673055112429952,
          0.0007204809554955782,
          0.0011263197601805311,
          0.002988902861313332,
          0.003277390548135457,
          0.0033385531652718593,
          0.005645503931063785,
          0.011947598072667867,
          0.010502084159735725,
          0.010349024913932263,
          0.009560558073141484,
          0.01005699500639466,
          0.010635693725784804,
          0.01117577496789907,
          0.010435931307793923,
          0.010163931732988695,
          0.008173302204842608,
          0.0075701269779360324,
          0.007279209685805541,
          0.006764858435959556,
          0.006003519169005148,
          0.005001446809188433,
          0.004414813588601317,
          0.0043257386095745315,
          0.0036303338667145082,
          0.0032372025121411158,
          0.002978974935116282,
          0.002596208837954482,
          0.0023786405874072426,
          0.0021153053867545577,
          0.0018307524445003987,
          0.0014909205576834525,
          0.0014120840731077472,
          0.0013521158406188437,
          0.0011821762502305176,
          0.0009569835877314704,
          0.0008536555571683354,
          0.0009475296340258038,
          0.0006621168864875068,
          0.0005884458356840834
         ],
         "yaxis": "y"
        },
        {
         "hovertemplate": "firstname=LÉA<br>year=%{x}<br>proportion=%{y}<extra></extra>",
         "legendgroup": "LÉA",
         "line": {
          "color": "#FFA15A",
          "dash": "solid"
         },
         "mode": "lines",
         "name": "LÉA",
         "showlegend": true,
         "type": "scattergl",
         "x": [
          1900,
          1901,
          1902,
          1903,
          1904,
          1905,
          1906,
          1907,
          1908,
          1909,
          1910,
          1911,
          1912,
          1913,
          1914,
          1915,
          1916,
          1917,
          1918,
          1919,
          1920,
          1921,
          1922,
          1923,
          1924,
          1925,
          1926,
          1927,
          1928,
          1929,
          1930,
          1931,
          1932,
          1933,
          1934,
          1935,
          1936,
          1937,
          1938,
          1939,
          1940,
          1941,
          1942,
          1943,
          1944,
          1945,
          1946,
          1947,
          1948,
          1949,
          1950,
          1951,
          1952,
          1953,
          1954,
          1955,
          1956,
          1957,
          1958,
          1959,
          1960,
          1961,
          1962,
          1963,
          1964,
          1965,
          1966,
          1967,
          1968,
          1969,
          1970,
          1971,
          1972,
          1973,
          1974,
          1975,
          1976,
          1977,
          1978,
          1979,
          1980,
          1981,
          1982,
          1983,
          1984,
          1985,
          1986,
          1987,
          1988,
          1989,
          1990,
          1991,
          1992,
          1993,
          1994,
          1995,
          1996,
          1997,
          1998,
          1999,
          2000,
          2001,
          2002,
          2003,
          2004,
          2005,
          2006,
          2007,
          2008,
          2009,
          2010,
          2011,
          2012,
          2013,
          2014,
          2015,
          2016,
          2017,
          2018,
          2019,
          2020
         ],
         "xaxis": "x",
         "y": [
          0.002269064999611711,
          0.0024470400142114846,
          0.0024010615674544857,
          0.0018700658495058604,
          0.0022891616917514505,
          0.0023108695160537584,
          0.0020802323761990923,
          0.0022180834071689904,
          0.0018485988004222085,
          0.001993068253980398,
          0.0020948158010037814,
          0.0020191348242061397,
          0.0019750090359890535,
          0.001806556901028984,
          0.0014027288773499444,
          0.0013534244218555104,
          0.001456014445947248,
          0.0013956596302160309,
          0.0013123738935878683,
          0.001344205300606067,
          0.0014143262565327296,
          0.0013588974601258402,
          0.0013136792413955658,
          0.0011437441280993423,
          0.001100036613644685,
          0.0008957666322181619,
          0.0010022791986817267,
          0.0009117935393370369,
          0.0009511290312387428,
          0.0008284021772396101,
          0.0006875309810975021,
          0.0005804821416376426,
          0.0006226415686176102,
          0.0005934835833183172,
          0.0005783956094515101,
          0.0005563804608828362,
          0.0003460303880756885,
          0.00044097932688915543,
          0.0003933560210169588,
          0.0003964162548441,
          0.00021336527940085464,
          0.00024217385184755881,
          0.00019358136807523738,
          0.00018121845012920526,
          0.0001569282079316,
          0.00016846189187809485,
          0.00014495156878183862,
          0.00010685503146599479,
          0.00010806514977717191,
          0.00010554729641723071,
          0.00010902400799509392,
          9.461129540603029e-05,
          0.00010200450717589847,
          5.931176563863641e-05,
          7.566749540590207e-05,
          9.65446663899053e-05,
          6.506815889644402e-05,
          9.29622787676539e-05,
          9.698542943591598e-05,
          5.633386263691769e-05,
          5.927583893094839e-05,
          9.280774759076888e-05,
          7.350427549869151e-05,
          7.499272458642072e-05,
          4.210405018802782e-05,
          5.390768981964509e-05,
          5.4046202747573834e-05,
          5.443525736873864e-05,
          4.541976598339034e-05,
          7.536240621728258e-05,
          5.067355519904918e-05,
          5.8925946762074814e-05,
          6.488407006584615e-05,
          6.77138207351196e-05,
          7.740356498705026e-05,
          5.95255417485694e-05,
          0.00011677219667735017,
          0.0001413763117320999,
          0.0001580126599202914,
          0.0001786856879333292,
          0.00021289151496590002,
          0.0002528604842278273,
          0.00030322850648683463,
          0.00035988915414052474,
          0.0006090693577731164,
          0.0008086393312825305,
          0.00113082096832161,
          0.001330493906883617,
          0.001724155758214943,
          0.00217454919072175,
          0.0028680538504537167,
          0.0030845165404083477,
          0.003811297814005983,
          0.004967544252082823,
          0.006320112871239681,
          0.007565499779832673,
          0.008430696607185395,
          0.010373859808446437,
          0.01110630771181968,
          0.013041804811841208,
          0.013805226402867368,
          0.014029579335020964,
          0.012936332431621674,
          0.01199221967535701,
          0.009824221214314649,
          0.008761874107092211,
          0.008360952578003216,
          0.007608586441814735,
          0.007421981406961867,
          0.00687596104228651,
          0.004385106602121743,
          0.004092964455075748,
          0.004922676637802621,
          0.005296985193824236,
          0.004735748953146712,
          0.004270422473184279,
          0.004392273201926352,
          0.004067079506374392,
          0.00409379521388036,
          0.0039682773753627635,
          0.0036838529249397906
         ],
         "yaxis": "y"
        },
        {
         "hovertemplate": "firstname=MANON<br>year=%{x}<br>proportion=%{y}<extra></extra>",
         "legendgroup": "MANON",
         "line": {
          "color": "#19d3f3",
          "dash": "solid"
         },
         "mode": "lines",
         "name": "MANON",
         "showlegend": true,
         "type": "scattergl",
         "x": [
          1907,
          1911,
          1912,
          1913,
          1914,
          1916,
          1917,
          1919,
          1920,
          1921,
          1922,
          1923,
          1924,
          1925,
          1926,
          1927,
          1928,
          1929,
          1930,
          1931,
          1932,
          1934,
          1935,
          1936,
          1937,
          1938,
          1939,
          1940,
          1941,
          1943,
          1944,
          1945,
          1946,
          1947,
          1948,
          1949,
          1950,
          1951,
          1952,
          1953,
          1954,
          1955,
          1956,
          1957,
          1958,
          1959,
          1960,
          1961,
          1962,
          1964,
          1965,
          1966,
          1967,
          1968,
          1969,
          1970,
          1971,
          1972,
          1973,
          1974,
          1975,
          1976,
          1977,
          1978,
          1979,
          1980,
          1981,
          1982,
          1983,
          1984,
          1985,
          1986,
          1987,
          1988,
          1989,
          1990,
          1991,
          1992,
          1993,
          1994,
          1995,
          1996,
          1997,
          1998,
          1999,
          2000,
          2001,
          2002,
          2003,
          2004,
          2005,
          2006,
          2007,
          2008,
          2009,
          2010,
          2011,
          2012,
          2013,
          2014,
          2015,
          2016,
          2017,
          2018,
          2019,
          2020
         ],
         "xaxis": "x",
         "y": [
          6.0274005629592125e-06,
          9.782629962239048e-06,
          1.1064476392095537e-05,
          5.513398477199341e-06,
          1.3074703250931573e-05,
          1.4274651430855372e-05,
          1.9749900427585344e-05,
          1.3050536899088028e-05,
          1.2406370671339733e-05,
          9.480679954366328e-06,
          6.59312040850974e-06,
          8.169600914995302e-06,
          1.4645457873967698e-05,
          7.91313279344666e-06,
          2.051910170529519e-05,
          1.1158312544334367e-05,
          1.2639588454999905e-05,
          1.2818602355738647e-05,
          1.074267157964847e-05,
          1.7073004165813017e-05,
          1.411530004422794e-05,
          6.572677380130797e-06,
          8.612700632861242e-06,
          1.564961554111154e-05,
          7.055669230226487e-06,
          7.119565991257173e-06,
          5.3329541010417035e-06,
          7.829918510123106e-06,
          8.279447926412266e-06,
          1.0454910584377227e-05,
          5.173457404338461e-06,
          1.0209811628975445e-05,
          9.27690040203767e-06,
          6.74873882943125e-06,
          9.005429148097659e-06,
          4.491374315626838e-06,
          1.0221000749540056e-05,
          1.4191694310904543e-05,
          7.116593523899893e-06,
          7.262665180241193e-06,
          8.407499489544673e-06,
          6.034041649369081e-06,
          8.434761338427929e-06,
          1.3110064954412728e-05,
          1.1973509806903207e-05,
          8.21535496788383e-06,
          9.484134228951743e-06,
          6.960581069307666e-06,
          5.83367265862631e-06,
          9.972011886638169e-06,
          5.61538435621303e-06,
          3.3778876717233646e-06,
          4.632787861169246e-06,
          1.164609384189496e-05,
          9.275373072896317e-06,
          1.0365045381623696e-05,
          1.2229913478921189e-05,
          2.4611198990493366e-05,
          2.1806145660462246e-05,
          2.0886676266346897e-05,
          2.9101375965967263e-05,
          5.083025031837596e-05,
          8.002432739552824e-05,
          0.00010129016661557141,
          0.00011430628566323267,
          0.00013819273778488246,
          0.00014502292477772447,
          0.0001954696157518438,
          0.00025725409907081953,
          0.00025727929768002333,
          0.0004958270056981167,
          0.0006764388766237101,
          0.0009796800837795381,
          0.001981357404305478,
          0.002908069372281001,
          0.003622942341146908,
          0.004500166624245271,
          0.007140815376171068,
          0.008374905390158326,
          0.010549965397241082,
          0.011342745486569793,
          0.01042816110050847,
          0.01021213541169917,
          0.010416254703202201,
          0.010115265407547959,
          0.010170570149512425,
          0.009920393518972769,
          0.010052005489910828,
          0.009238134270674664,
          0.008355302914594222,
          0.007817354103978989,
          0.007163226201935125,
          0.006598631733194497,
          0.0069094528596381835,
          0.006419729978800203,
          0.006493974662684108,
          0.006340750765873516,
          0.005728829257930576,
          0.0053410710731170985,
          0.005119584013737818,
          0.004859446262589007,
          0.004268428267043455,
          0.0040210913282104415,
          0.0031754652604100513,
          0.0028652407805016163,
          0.0023234510831649895
         ],
         "yaxis": "y"
        },
        {
         "hovertemplate": "firstname=MARIE<br>year=%{x}<br>proportion=%{y}<extra></extra>",
         "legendgroup": "MARIE",
         "line": {
          "color": "#FF6692",
          "dash": "solid"
         },
         "mode": "lines",
         "name": "MARIE",
         "showlegend": true,
         "type": "scattergl",
         "x": [
          1900,
          1901,
          1902,
          1903,
          1904,
          1905,
          1906,
          1907,
          1908,
          1909,
          1910,
          1911,
          1912,
          1913,
          1914,
          1915,
          1916,
          1917,
          1918,
          1919,
          1920,
          1921,
          1922,
          1923,
          1924,
          1925,
          1926,
          1927,
          1928,
          1929,
          1930,
          1931,
          1932,
          1933,
          1934,
          1935,
          1936,
          1937,
          1938,
          1939,
          1940,
          1941,
          1942,
          1943,
          1944,
          1945,
          1946,
          1947,
          1948,
          1949,
          1950,
          1951,
          1952,
          1953,
          1954,
          1955,
          1956,
          1957,
          1958,
          1959,
          1960,
          1961,
          1962,
          1963,
          1964,
          1965,
          1966,
          1967,
          1968,
          1969,
          1970,
          1971,
          1972,
          1973,
          1974,
          1975,
          1976,
          1977,
          1978,
          1979,
          1980,
          1981,
          1982,
          1983,
          1984,
          1985,
          1986,
          1987,
          1988,
          1989,
          1990,
          1991,
          1992,
          1993,
          1994,
          1995,
          1996,
          1997,
          1998,
          1999,
          2000,
          2001,
          2002,
          2003,
          2004,
          2005,
          2006,
          2007,
          2008,
          2009,
          2010,
          2011,
          2012,
          2013,
          2014,
          2015,
          2016,
          2017,
          2018,
          2019,
          2020
         ],
         "xaxis": "x",
         "y": [
          0.11821707307602702,
          0.11580139450193187,
          0.11207187192033058,
          0.10826199815784558,
          0.10537921466408812,
          0.10070169018312201,
          0.0971851667596118,
          0.09251658037438194,
          0.09091657934511711,
          0.08874700657215213,
          0.0851766396070622,
          0.08274735379859521,
          0.08057704932543576,
          0.07846668712750102,
          0.07902350644863043,
          0.07668927153077464,
          0.07051320940556782,
          0.06681720479659248,
          0.06461273407373576,
          0.06212838596179847,
          0.05935983127335887,
          0.058130789140197134,
          0.056265689566222125,
          0.05471998692863854,
          0.05265367560310809,
          0.05012969624648459,
          0.04902171236638908,
          0.04665768688180956,
          0.04510911124733779,
          0.0430977434452878,
          0.04263152483015069,
          0.042463665542952576,
          0.04181736056436106,
          0.041305796135909394,
          0.04075224292615597,
          0.04056754252090303,
          0.040236900402369005,
          0.04008502081422423,
          0.04127212405131783,
          0.04202190066484161,
          0.04377511691047076,
          0.04247563772447653,
          0.042379284162412885,
          0.04242776963650018,
          0.043586378631551535,
          0.04304796909830347,
          0.03623209413270838,
          0.03704270264494323,
          0.03494444213054945,
          0.03409851380423896,
          0.03190428600631431,
          0.02970321619272321,
          0.030453089787688292,
          0.027340303071017973,
          0.028139900791506023,
          0.02405651724770465,
          0.02359323242948841,
          0.021681663786425123,
          0.02164690837990031,
          0.01947978025099083,
          0.01776496892760523,
          0.01650469781217336,
          0.01498437159094754,
          0.013390118869064941,
          0.012612379033955809,
          0.010963476417070319,
          0.01082275210020166,
          0.009391819191555354,
          0.009339002651815568,
          0.008352473452143133,
          0.00646087828787877,
          0.006049359930800926,
          0.005699729948025622,
          0.005567453294679071,
          0.006372893517267138,
          0.006628499771157361,
          0.006640903514568362,
          0.007003462385898647,
          0.008170740106989427,
          0.008667569730118918,
          0.009211604206039148,
          0.009190982796810488,
          0.009039216718165393,
          0.009630367180241819,
          0.009892126465901305,
          0.010212478745635554,
          0.010214612106587256,
          0.009789004975059737,
          0.00949965878776599,
          0.009115678993880829,
          0.00884316603889896,
          0.008783852929831512,
          0.00978188372052451,
          0.009603074784683476,
          0.01018068137131227,
          0.010501981505944518,
          0.010170777053390761,
          0.009375868231937666,
          0.00935662785004848,
          0.008528424706096844,
          0.008282101064139395,
          0.007370631291822838,
          0.0062664093381578,
          0.006431984236432158,
          0.005531686002111736,
          0.004788558116342175,
          0.004389949893399783,
          0.0036000840324072803,
          0.0029835100072167116,
          0.0026528991469388975,
          0.0024564836749407766,
          0.0021428721305971716,
          0.0018880595734911687,
          0.0017260289711023742,
          0.0016503570201025254,
          0.0014271440878801474,
          0.0013510356532679582,
          0.001251740724400034,
          0.0011606873020809153,
          0.0011015619470070546,
          0.000988831662025831
         ],
         "yaxis": "y"
        },
        {
         "hovertemplate": "firstname=MATHILDE<br>year=%{x}<br>proportion=%{y}<extra></extra>",
         "legendgroup": "MATHILDE",
         "line": {
          "color": "#B6E880",
          "dash": "solid"
         },
         "mode": "lines",
         "name": "MATHILDE",
         "showlegend": true,
         "type": "scattergl",
         "x": [
          1900,
          1901,
          1902,
          1903,
          1904,
          1905,
          1906,
          1907,
          1908,
          1909,
          1910,
          1911,
          1912,
          1913,
          1914,
          1915,
          1916,
          1917,
          1918,
          1919,
          1920,
          1921,
          1922,
          1923,
          1924,
          1925,
          1926,
          1927,
          1928,
          1929,
          1930,
          1931,
          1932,
          1933,
          1934,
          1935,
          1936,
          1937,
          1938,
          1939,
          1940,
          1941,
          1942,
          1943,
          1944,
          1945,
          1946,
          1947,
          1948,
          1949,
          1950,
          1951,
          1952,
          1953,
          1954,
          1955,
          1956,
          1957,
          1958,
          1959,
          1960,
          1961,
          1962,
          1963,
          1964,
          1965,
          1966,
          1967,
          1968,
          1969,
          1970,
          1971,
          1972,
          1973,
          1974,
          1975,
          1976,
          1977,
          1978,
          1979,
          1980,
          1981,
          1982,
          1983,
          1984,
          1985,
          1986,
          1987,
          1988,
          1989,
          1990,
          1991,
          1992,
          1993,
          1994,
          1995,
          1996,
          1997,
          1998,
          1999,
          2000,
          2001,
          2002,
          2003,
          2004,
          2005,
          2006,
          2007,
          2008,
          2009,
          2010,
          2011,
          2012,
          2013,
          2014,
          2015,
          2016,
          2017,
          2018,
          2019,
          2020
         ],
         "xaxis": "x",
         "y": [
          0.00271317076958919,
          0.002504774170626638,
          0.0023556769653693874,
          0.002557116448635453,
          0.0023606323047170603,
          0.0023663797268486443,
          0.0022848453968088395,
          0.0021698642026653165,
          0.0020229226251252353,
          0.0019280353167104045,
          0.0019443801959047667,
          0.0018547866408405236,
          0.0017850688579247468,
          0.0016264525507738055,
          0.001619395388365382,
          0.0013907009419489886,
          0.001570211657394091,
          0.001366034779574653,
          0.0012516693742809406,
          0.0013337648710867965,
          0.0010855574337422266,
          0.0010839577414492167,
          0.00114390639087644,
          0.0010391732363874025,
          0.0008754729262438469,
          0.0009400801758614632,
          0.0007418444462683646,
          0.0008225270389823619,
          0.0006872776222406198,
          0.0006409301177869324,
          0.000592381604249187,
          0.0006084197848180639,
          0.000519129368293272,
          0.0005339699092251155,
          0.00046501692464425386,
          0.00044958297303535684,
          0.0004538388506922347,
          0.00033690820574331477,
          0.00035775819106067294,
          0.000305756035126391,
          0.00029753690338467804,
          0.00030840943525885695,
          0.00027251745991174194,
          0.00021781063717452557,
          0.0001862444665561846,
          0.00014974390389163987,
          0.00013451505582954624,
          0.00012822603775919375,
          0.00013845847315200151,
          0.00011677573220629781,
          0.0001578576782428964,
          0.00019040523200463595,
          0.0001280986834301981,
          0.0001549368571784788,
          0.0001044932079414838,
          0.00013154210795624595,
          0.00012531645417092924,
          0.00014063524223824564,
          0.00013649801179869658,
          0.00013496654590094864,
          0.00014818959732737098,
          0.0001392116213861533,
          0.00016217609990981142,
          0.0001645362763314007,
          0.00018725222320465005,
          0.00014936922387526658,
          0.0002094290356468486,
          0.00023743037788492385,
          0.00023175726745370968,
          0.0002504350729682005,
          0.0002902212706854635,
          0.00028573525128024955,
          0.0002953343878859204,
          0.0003821813949965225,
          0.0005270814187213422,
          0.0006203884240017567,
          0.0007390993154401693,
          0.0008976062056198418,
          0.0010358607705885769,
          0.001211383854959776,
          0.0012250599457686877,
          0.0014427921747117204,
          0.001548720801726147,
          0.001808776230254415,
          0.0022065637724495877,
          0.002589463027140688,
          0.0022821789803357806,
          0.002829898173039568,
          0.0027775192836611037,
          0.0038366747085102648,
          0.004605081000318673,
          0.005213895674854433,
          0.005470017566862107,
          0.005675183662674061,
          0.0061650699595901795,
          0.006676574196389256,
          0.007023298732520475,
          0.006655580943060572,
          0.0067096063288498075,
          0.006323053756760955,
          0.006503577096750411,
          0.005775885188746509,
          0.005025339071015766,
          0.004289324481456315,
          0.003678936428775392,
          0.004003656717107025,
          0.003462097486188236,
          0.0032790906754039495,
          0.002926705835724918,
          0.002732187166519139,
          0.0025234318673395817,
          0.0024615489529564816,
          0.0022284644441834967,
          0.002010583282901759,
          0.0018322440174558022,
          0.0017890909491265108,
          0.0017591610068593206,
          0.0016641971973079671,
          0.001594302558330012,
          0.0013242337729750136,
          0.0011511092507325241
         ],
         "yaxis": "y"
        },
        {
         "hovertemplate": "firstname=OCÉANE<br>year=%{x}<br>proportion=%{y}<extra></extra>",
         "legendgroup": "OCÉANE",
         "line": {
          "color": "#FF97FF",
          "dash": "solid"
         },
         "mode": "lines",
         "name": "OCÉANE",
         "showlegend": true,
         "type": "scattergl",
         "x": [
          1966,
          1972,
          1973,
          1974,
          1975,
          1976,
          1977,
          1978,
          1979,
          1980,
          1981,
          1982,
          1983,
          1984,
          1985,
          1986,
          1987,
          1988,
          1989,
          1990,
          1991,
          1992,
          1993,
          1994,
          1995,
          1996,
          1997,
          1998,
          1999,
          2000,
          2001,
          2002,
          2003,
          2004,
          2005,
          2006,
          2007,
          2008,
          2009,
          2010,
          2011,
          2012,
          2013,
          2014,
          2015,
          2016,
          2017,
          2018,
          2019,
          2020
         ],
         "xaxis": "x",
         "y": [
          3.3778876717233646e-06,
          8.949526905633952e-06,
          1.836307002986294e-05,
          7.3717680940047866e-06,
          1.851905743288826e-05,
          1.2364114942307666e-05,
          1.2003649109329237e-05,
          1.8907497768239994e-05,
          3.15327684588228e-05,
          3.236947011177427e-05,
          2.6029755729335164e-05,
          8.269868358731853e-05,
          9.597044110413993e-05,
          0.0001023866592808256,
          0.00012720169256129693,
          0.00021948965446423987,
          0.00038329658450260445,
          0.0004769216452633538,
          0.0006645900935758458,
          0.0011545353387072339,
          0.0014392661185997266,
          0.0017620542358414983,
          0.0020947814758853936,
          0.0027513069412711546,
          0.004754238221047997,
          0.006149835849216759,
          0.006685990658688263,
          0.008227450199583514,
          0.007976069091719393,
          0.008115243179198902,
          0.007479215316888741,
          0.0068769893626340955,
          0.006498733761509287,
          0.0059380955859403535,
          0.005301712140379945,
          0.004425933089247321,
          0.003960222920752481,
          0.0033165890127822297,
          0.002881664580481889,
          0.0016659800185394994,
          0.001361261488102732,
          0.0016030694491906148,
          0.0014334590448861048,
          0.0012584975331575985,
          0.0010349203028793355,
          0.0010554966041155924,
          0.001070662272879478,
          0.0008891302729148144,
          0.0008700422339145412,
          0.0007143247129051632
         ],
         "yaxis": "y"
        },
        {
         "hovertemplate": "firstname=SARAH<br>year=%{x}<br>proportion=%{y}<extra></extra>",
         "legendgroup": "SARAH",
         "line": {
          "color": "#FECB52",
          "dash": "solid"
         },
         "mode": "lines",
         "name": "SARAH",
         "showlegend": true,
         "type": "scattergl",
         "x": [
          1900,
          1901,
          1902,
          1903,
          1904,
          1905,
          1906,
          1907,
          1908,
          1909,
          1910,
          1911,
          1912,
          1913,
          1914,
          1915,
          1916,
          1917,
          1918,
          1919,
          1920,
          1921,
          1922,
          1923,
          1924,
          1925,
          1926,
          1927,
          1928,
          1929,
          1930,
          1931,
          1932,
          1933,
          1934,
          1935,
          1936,
          1937,
          1938,
          1939,
          1940,
          1941,
          1942,
          1943,
          1944,
          1945,
          1946,
          1947,
          1948,
          1949,
          1950,
          1951,
          1952,
          1953,
          1954,
          1955,
          1956,
          1957,
          1958,
          1959,
          1960,
          1961,
          1962,
          1963,
          1964,
          1965,
          1966,
          1967,
          1968,
          1969,
          1970,
          1971,
          1972,
          1973,
          1974,
          1975,
          1976,
          1977,
          1978,
          1979,
          1980,
          1981,
          1982,
          1983,
          1984,
          1985,
          1986,
          1987,
          1988,
          1989,
          1990,
          1991,
          1992,
          1993,
          1994,
          1995,
          1996,
          1997,
          1998,
          1999,
          2000,
          2001,
          2002,
          2003,
          2004,
          2005,
          2006,
          2007,
          2008,
          2009,
          2010,
          2011,
          2012,
          2013,
          2014,
          2015,
          2016,
          2017,
          2018,
          2019,
          2020
         ],
         "xaxis": "x",
         "y": [
          0.0001310476042556496,
          0.00011990940178531776,
          8.860803264233476e-05,
          0.0001137927554808388,
          0.00011561422685613386,
          0.00013157975892121046,
          0.00013841469041247579,
          0.00012255714478017065,
          0.00013984218904748312,
          9.75494059049907e-05,
          0.00011094625876052344,
          9.000019565259924e-05,
          0.00011986516091436833,
          0.00013599716243758373,
          0.00011767232925838416,
          0.00012903410801588553,
          9.278523430055992e-05,
          0.00011191610242298362,
          6.359521070249582e-05,
          7.308300663489296e-05,
          6.9785835026286e-05,
          7.900566628638606e-05,
          8.406228520849919e-05,
          0.00010293697152894081,
          8.624547414669867e-05,
          9.179234040398125e-05,
          8.681158413778734e-05,
          7.332605386276869e-05,
          7.425758217312444e-05,
          7.050231295656256e-05,
          8.287203790014533e-05,
          9.467756855587218e-05,
          7.214486689272058e-05,
          6.447314693430186e-05,
          4.929508035098097e-05,
          6.37339846831732e-05,
          4.8687692794569234e-05,
          4.2334015381358925e-05,
          3.381793845847157e-05,
          3.022007323923632e-05,
          3.523463329555398e-05,
          2.8978067742442934e-05,
          2.81914613701802e-05,
          1.568236587656584e-05,
          1.724485801446154e-05,
          1.8717987986454984e-05,
          2.087302590458476e-05,
          2.587016551281979e-05,
          2.3639251513756357e-05,
          3.256246378829458e-05,
          2.952733549867127e-05,
          2.483546504408295e-05,
          2.9652473016249555e-05,
          3.3892437507792236e-05,
          4.0836426092074133e-05,
          3.4997441566340666e-05,
          3.976387488116024e-05,
          5.124843573088612e-05,
          7.54331117834902e-05,
          8.450079395537654e-05,
          9.721237584675536e-05,
          8.700726336634582e-05,
          8.983855894284518e-05,
          0.00010073649571310246,
          0.0001296361545262962,
          0.00017183076130011872,
          0.00018240593427306168,
          0.00020384266589144683,
          0.0003831564873983442,
          0.0005228991569845298,
          0.0007785300753308465,
          0.0012830291049704592,
          0.0015225382648209758,
          0.001555122493154018,
          0.001415379474048919,
          0.0016138035762945483,
          0.001604587361401706,
          0.0016471674055579563,
          0.001827274605744908,
          0.0017526963801695675,
          0.001543774728407696,
          0.0017588677799965046,
          0.002315563140444919,
          0.0032816559166443404,
          0.0032947501896778498,
          0.003360461041236712,
          0.004246033783436874,
          0.00537654666668399,
          0.005314639038815476,
          0.005968305165204611,
          0.006231095136846394,
          0.006342217335743919,
          0.006604012867156141,
          0.006762669277757613,
          0.006876857872162891,
          0.007006825187142228,
          0.007484673327619772,
          0.00723613005958922,
          0.007054632833158547,
          0.007082036288008211,
          0.007093400317935412,
          0.007009556702447065,
          0.006150930072659023,
          0.006034157066972468,
          0.006001846108893862,
          0.006169720746592934,
          0.005889678091759719,
          0.0059918759973955175,
          0.005770787422007227,
          0.0053304945622716406,
          0.005319806365228139,
          0.00474998950858198,
          0.004361932180266809,
          0.003978416622246804,
          0.0036885613139730675,
          0.003492856022217757,
          0.003332554611394297,
          0.0029116265300051306,
          0.0025535120645780135,
          0.0023196210744874123,
          0.0019761467110730947
         ],
         "yaxis": "y"
        }
       ],
       "layout": {
        "legend": {
         "title": {
          "text": "firstname"
         },
         "tracegroupgap": 0
        },
        "template": {
         "data": {
          "bar": [
           {
            "error_x": {
             "color": "#2a3f5f"
            },
            "error_y": {
             "color": "#2a3f5f"
            },
            "marker": {
             "line": {
              "color": "#E5ECF6",
              "width": 0.5
             }
            },
            "type": "bar"
           }
          ],
          "barpolar": [
           {
            "marker": {
             "line": {
              "color": "#E5ECF6",
              "width": 0.5
             }
            },
            "type": "barpolar"
           }
          ],
          "carpet": [
           {
            "aaxis": {
             "endlinecolor": "#2a3f5f",
             "gridcolor": "white",
             "linecolor": "white",
             "minorgridcolor": "white",
             "startlinecolor": "#2a3f5f"
            },
            "baxis": {
             "endlinecolor": "#2a3f5f",
             "gridcolor": "white",
             "linecolor": "white",
             "minorgridcolor": "white",
             "startlinecolor": "#2a3f5f"
            },
            "type": "carpet"
           }
          ],
          "choropleth": [
           {
            "colorbar": {
             "outlinewidth": 0,
             "ticks": ""
            },
            "type": "choropleth"
           }
          ],
          "contour": [
           {
            "colorbar": {
             "outlinewidth": 0,
             "ticks": ""
            },
            "colorscale": [
             [
              0,
              "#0d0887"
             ],
             [
              0.1111111111111111,
              "#46039f"
             ],
             [
              0.2222222222222222,
              "#7201a8"
             ],
             [
              0.3333333333333333,
              "#9c179e"
             ],
             [
              0.4444444444444444,
              "#bd3786"
             ],
             [
              0.5555555555555556,
              "#d8576b"
             ],
             [
              0.6666666666666666,
              "#ed7953"
             ],
             [
              0.7777777777777778,
              "#fb9f3a"
             ],
             [
              0.8888888888888888,
              "#fdca26"
             ],
             [
              1,
              "#f0f921"
             ]
            ],
            "type": "contour"
           }
          ],
          "contourcarpet": [
           {
            "colorbar": {
             "outlinewidth": 0,
             "ticks": ""
            },
            "type": "contourcarpet"
           }
          ],
          "heatmap": [
           {
            "colorbar": {
             "outlinewidth": 0,
             "ticks": ""
            },
            "colorscale": [
             [
              0,
              "#0d0887"
             ],
             [
              0.1111111111111111,
              "#46039f"
             ],
             [
              0.2222222222222222,
              "#7201a8"
             ],
             [
              0.3333333333333333,
              "#9c179e"
             ],
             [
              0.4444444444444444,
              "#bd3786"
             ],
             [
              0.5555555555555556,
              "#d8576b"
             ],
             [
              0.6666666666666666,
              "#ed7953"
             ],
             [
              0.7777777777777778,
              "#fb9f3a"
             ],
             [
              0.8888888888888888,
              "#fdca26"
             ],
             [
              1,
              "#f0f921"
             ]
            ],
            "type": "heatmap"
           }
          ],
          "heatmapgl": [
           {
            "colorbar": {
             "outlinewidth": 0,
             "ticks": ""
            },
            "colorscale": [
             [
              0,
              "#0d0887"
             ],
             [
              0.1111111111111111,
              "#46039f"
             ],
             [
              0.2222222222222222,
              "#7201a8"
             ],
             [
              0.3333333333333333,
              "#9c179e"
             ],
             [
              0.4444444444444444,
              "#bd3786"
             ],
             [
              0.5555555555555556,
              "#d8576b"
             ],
             [
              0.6666666666666666,
              "#ed7953"
             ],
             [
              0.7777777777777778,
              "#fb9f3a"
             ],
             [
              0.8888888888888888,
              "#fdca26"
             ],
             [
              1,
              "#f0f921"
             ]
            ],
            "type": "heatmapgl"
           }
          ],
          "histogram": [
           {
            "marker": {
             "colorbar": {
              "outlinewidth": 0,
              "ticks": ""
             }
            },
            "type": "histogram"
           }
          ],
          "histogram2d": [
           {
            "colorbar": {
             "outlinewidth": 0,
             "ticks": ""
            },
            "colorscale": [
             [
              0,
              "#0d0887"
             ],
             [
              0.1111111111111111,
              "#46039f"
             ],
             [
              0.2222222222222222,
              "#7201a8"
             ],
             [
              0.3333333333333333,
              "#9c179e"
             ],
             [
              0.4444444444444444,
              "#bd3786"
             ],
             [
              0.5555555555555556,
              "#d8576b"
             ],
             [
              0.6666666666666666,
              "#ed7953"
             ],
             [
              0.7777777777777778,
              "#fb9f3a"
             ],
             [
              0.8888888888888888,
              "#fdca26"
             ],
             [
              1,
              "#f0f921"
             ]
            ],
            "type": "histogram2d"
           }
          ],
          "histogram2dcontour": [
           {
            "colorbar": {
             "outlinewidth": 0,
             "ticks": ""
            },
            "colorscale": [
             [
              0,
              "#0d0887"
             ],
             [
              0.1111111111111111,
              "#46039f"
             ],
             [
              0.2222222222222222,
              "#7201a8"
             ],
             [
              0.3333333333333333,
              "#9c179e"
             ],
             [
              0.4444444444444444,
              "#bd3786"
             ],
             [
              0.5555555555555556,
              "#d8576b"
             ],
             [
              0.6666666666666666,
              "#ed7953"
             ],
             [
              0.7777777777777778,
              "#fb9f3a"
             ],
             [
              0.8888888888888888,
              "#fdca26"
             ],
             [
              1,
              "#f0f921"
             ]
            ],
            "type": "histogram2dcontour"
           }
          ],
          "mesh3d": [
           {
            "colorbar": {
             "outlinewidth": 0,
             "ticks": ""
            },
            "type": "mesh3d"
           }
          ],
          "parcoords": [
           {
            "line": {
             "colorbar": {
              "outlinewidth": 0,
              "ticks": ""
             }
            },
            "type": "parcoords"
           }
          ],
          "pie": [
           {
            "automargin": true,
            "type": "pie"
           }
          ],
          "scatter": [
           {
            "marker": {
             "colorbar": {
              "outlinewidth": 0,
              "ticks": ""
             }
            },
            "type": "scatter"
           }
          ],
          "scatter3d": [
           {
            "line": {
             "colorbar": {
              "outlinewidth": 0,
              "ticks": ""
             }
            },
            "marker": {
             "colorbar": {
              "outlinewidth": 0,
              "ticks": ""
             }
            },
            "type": "scatter3d"
           }
          ],
          "scattercarpet": [
           {
            "marker": {
             "colorbar": {
              "outlinewidth": 0,
              "ticks": ""
             }
            },
            "type": "scattercarpet"
           }
          ],
          "scattergeo": [
           {
            "marker": {
             "colorbar": {
              "outlinewidth": 0,
              "ticks": ""
             }
            },
            "type": "scattergeo"
           }
          ],
          "scattergl": [
           {
            "marker": {
             "colorbar": {
              "outlinewidth": 0,
              "ticks": ""
             }
            },
            "type": "scattergl"
           }
          ],
          "scattermapbox": [
           {
            "marker": {
             "colorbar": {
              "outlinewidth": 0,
              "ticks": ""
             }
            },
            "type": "scattermapbox"
           }
          ],
          "scatterpolar": [
           {
            "marker": {
             "colorbar": {
              "outlinewidth": 0,
              "ticks": ""
             }
            },
            "type": "scatterpolar"
           }
          ],
          "scatterpolargl": [
           {
            "marker": {
             "colorbar": {
              "outlinewidth": 0,
              "ticks": ""
             }
            },
            "type": "scatterpolargl"
           }
          ],
          "scatterternary": [
           {
            "marker": {
             "colorbar": {
              "outlinewidth": 0,
              "ticks": ""
             }
            },
            "type": "scatterternary"
           }
          ],
          "surface": [
           {
            "colorbar": {
             "outlinewidth": 0,
             "ticks": ""
            },
            "colorscale": [
             [
              0,
              "#0d0887"
             ],
             [
              0.1111111111111111,
              "#46039f"
             ],
             [
              0.2222222222222222,
              "#7201a8"
             ],
             [
              0.3333333333333333,
              "#9c179e"
             ],
             [
              0.4444444444444444,
              "#bd3786"
             ],
             [
              0.5555555555555556,
              "#d8576b"
             ],
             [
              0.6666666666666666,
              "#ed7953"
             ],
             [
              0.7777777777777778,
              "#fb9f3a"
             ],
             [
              0.8888888888888888,
              "#fdca26"
             ],
             [
              1,
              "#f0f921"
             ]
            ],
            "type": "surface"
           }
          ],
          "table": [
           {
            "cells": {
             "fill": {
              "color": "#EBF0F8"
             },
             "line": {
              "color": "white"
             }
            },
            "header": {
             "fill": {
              "color": "#C8D4E3"
             },
             "line": {
              "color": "white"
             }
            },
            "type": "table"
           }
          ]
         },
         "layout": {
          "annotationdefaults": {
           "arrowcolor": "#2a3f5f",
           "arrowhead": 0,
           "arrowwidth": 1
          },
          "autotypenumbers": "strict",
          "coloraxis": {
           "colorbar": {
            "outlinewidth": 0,
            "ticks": ""
           }
          },
          "colorscale": {
           "diverging": [
            [
             0,
             "#8e0152"
            ],
            [
             0.1,
             "#c51b7d"
            ],
            [
             0.2,
             "#de77ae"
            ],
            [
             0.3,
             "#f1b6da"
            ],
            [
             0.4,
             "#fde0ef"
            ],
            [
             0.5,
             "#f7f7f7"
            ],
            [
             0.6,
             "#e6f5d0"
            ],
            [
             0.7,
             "#b8e186"
            ],
            [
             0.8,
             "#7fbc41"
            ],
            [
             0.9,
             "#4d9221"
            ],
            [
             1,
             "#276419"
            ]
           ],
           "sequential": [
            [
             0,
             "#0d0887"
            ],
            [
             0.1111111111111111,
             "#46039f"
            ],
            [
             0.2222222222222222,
             "#7201a8"
            ],
            [
             0.3333333333333333,
             "#9c179e"
            ],
            [
             0.4444444444444444,
             "#bd3786"
            ],
            [
             0.5555555555555556,
             "#d8576b"
            ],
            [
             0.6666666666666666,
             "#ed7953"
            ],
            [
             0.7777777777777778,
             "#fb9f3a"
            ],
            [
             0.8888888888888888,
             "#fdca26"
            ],
            [
             1,
             "#f0f921"
            ]
           ],
           "sequentialminus": [
            [
             0,
             "#0d0887"
            ],
            [
             0.1111111111111111,
             "#46039f"
            ],
            [
             0.2222222222222222,
             "#7201a8"
            ],
            [
             0.3333333333333333,
             "#9c179e"
            ],
            [
             0.4444444444444444,
             "#bd3786"
            ],
            [
             0.5555555555555556,
             "#d8576b"
            ],
            [
             0.6666666666666666,
             "#ed7953"
            ],
            [
             0.7777777777777778,
             "#fb9f3a"
            ],
            [
             0.8888888888888888,
             "#fdca26"
            ],
            [
             1,
             "#f0f921"
            ]
           ]
          },
          "colorway": [
           "#636efa",
           "#EF553B",
           "#00cc96",
           "#ab63fa",
           "#FFA15A",
           "#19d3f3",
           "#FF6692",
           "#B6E880",
           "#FF97FF",
           "#FECB52"
          ],
          "font": {
           "color": "#2a3f5f"
          },
          "geo": {
           "bgcolor": "white",
           "lakecolor": "white",
           "landcolor": "#E5ECF6",
           "showlakes": true,
           "showland": true,
           "subunitcolor": "white"
          },
          "hoverlabel": {
           "align": "left"
          },
          "hovermode": "closest",
          "mapbox": {
           "style": "light"
          },
          "paper_bgcolor": "white",
          "plot_bgcolor": "#E5ECF6",
          "polar": {
           "angularaxis": {
            "gridcolor": "white",
            "linecolor": "white",
            "ticks": ""
           },
           "bgcolor": "#E5ECF6",
           "radialaxis": {
            "gridcolor": "white",
            "linecolor": "white",
            "ticks": ""
           }
          },
          "scene": {
           "xaxis": {
            "backgroundcolor": "#E5ECF6",
            "gridcolor": "white",
            "gridwidth": 2,
            "linecolor": "white",
            "showbackground": true,
            "ticks": "",
            "zerolinecolor": "white"
           },
           "yaxis": {
            "backgroundcolor": "#E5ECF6",
            "gridcolor": "white",
            "gridwidth": 2,
            "linecolor": "white",
            "showbackground": true,
            "ticks": "",
            "zerolinecolor": "white"
           },
           "zaxis": {
            "backgroundcolor": "#E5ECF6",
            "gridcolor": "white",
            "gridwidth": 2,
            "linecolor": "white",
            "showbackground": true,
            "ticks": "",
            "zerolinecolor": "white"
           }
          },
          "shapedefaults": {
           "line": {
            "color": "#2a3f5f"
           }
          },
          "ternary": {
           "aaxis": {
            "gridcolor": "white",
            "linecolor": "white",
            "ticks": ""
           },
           "baxis": {
            "gridcolor": "white",
            "linecolor": "white",
            "ticks": ""
           },
           "bgcolor": "#E5ECF6",
           "caxis": {
            "gridcolor": "white",
            "linecolor": "white",
            "ticks": ""
           }
          },
          "title": {
           "x": 0.05
          },
          "xaxis": {
           "automargin": true,
           "gridcolor": "white",
           "linecolor": "white",
           "ticks": "",
           "title": {
            "standoff": 15
           },
           "zerolinecolor": "white",
           "zerolinewidth": 2
          },
          "yaxis": {
           "automargin": true,
           "gridcolor": "white",
           "linecolor": "white",
           "ticks": "",
           "title": {
            "standoff": 15
           },
           "zerolinecolor": "white",
           "zerolinewidth": 2
          }
         }
        },
        "title": {
         "text": "Proportion of newborns given one of the Top 10 firstnames of year 2000 (Female)"
        },
        "xaxis": {
         "anchor": "y",
         "domain": [
          0,
          1
         ],
         "title": {
          "text": "year"
         }
        },
        "yaxis": {
         "anchor": "x",
         "domain": [
          0,
          1
         ],
         "title": {
          "text": "proportion"
         }
        }
       }
      },
      "text/html": [
       "<div>                            <div id=\"618ce322-70ef-4e1a-80ca-0f5b243ec5a0\" class=\"plotly-graph-div\" style=\"height:525px; width:100%;\"></div>            <script type=\"text/javascript\">                require([\"plotly\"], function(Plotly) {                    window.PLOTLYENV=window.PLOTLYENV || {};                                    if (document.getElementById(\"618ce322-70ef-4e1a-80ca-0f5b243ec5a0\")) {                    Plotly.newPlot(                        \"618ce322-70ef-4e1a-80ca-0f5b243ec5a0\",                        [{\"hovertemplate\": \"firstname=CAMILLE<br>year=%{x}<br>proportion=%{y}<extra></extra>\", \"legendgroup\": \"CAMILLE\", \"line\": {\"color\": \"#636efa\", \"dash\": \"solid\"}, \"mode\": \"lines\", \"name\": \"CAMILLE\", \"showlegend\": true, \"type\": \"scattergl\", \"x\": [1900.0, 1901.0, 1902.0, 1903.0, 1904.0, 1905.0, 1906.0, 1907.0, 1908.0, 1909.0, 1910.0, 1911.0, 1912.0, 1913.0, 1914.0, 1915.0, 1916.0, 1917.0, 1918.0, 1919.0, 1920.0, 1921.0, 1922.0, 1923.0, 1924.0, 1925.0, 1926.0, 1927.0, 1928.0, 1929.0, 1930.0, 1931.0, 1932.0, 1933.0, 1934.0, 1935.0, 1936.0, 1937.0, 1938.0, 1939.0, 1940.0, 1941.0, 1942.0, 1943.0, 1944.0, 1945.0, 1946.0, 1947.0, 1948.0, 1949.0, 1950.0, 1951.0, 1952.0, 1953.0, 1954.0, 1955.0, 1956.0, 1957.0, 1958.0, 1959.0, 1960.0, 1961.0, 1962.0, 1963.0, 1964.0, 1965.0, 1966.0, 1967.0, 1968.0, 1969.0, 1970.0, 1971.0, 1972.0, 1973.0, 1974.0, 1975.0, 1976.0, 1977.0, 1978.0, 1979.0, 1980.0, 1981.0, 1982.0, 1983.0, 1984.0, 1985.0, 1986.0, 1987.0, 1988.0, 1989.0, 1990.0, 1991.0, 1992.0, 1993.0, 1994.0, 1995.0, 1996.0, 1997.0, 1998.0, 1999.0, 2000.0, 2001.0, 2002.0, 2003.0, 2004.0, 2005.0, 2006.0, 2007.0, 2008.0, 2009.0, 2010.0, 2011.0, 2012.0, 2013.0, 2014.0, 2015.0, 2016.0, 2017.0, 2018.0, 2019.0, 2020.0], \"xaxis\": \"x\", \"y\": [0.0017885571173409955, 0.001498867522316472, 0.0015754940438112693, 0.0015866574773649032, 0.0015555368704279829, 0.0016241876491836914, 0.001490465434441587, 0.0015269414759496672, 0.0014922885653149227, 0.0014594156216766257, 0.001368964006401035, 0.001367611668721019, 0.0012761029438883521, 0.0011614892791966612, 0.001372843841347815, 0.0014021706404392894, 0.0012418946744844174, 0.0015207423329240716, 0.0013412808075435483, 0.0011797685356775577, 0.0010545415070638772, 0.0010776372881463059, 0.0010318233439317744, 0.000916629222662473, 0.0008575729221756641, 0.0008182179308423846, 0.000770255510168004, 0.0007603592976639275, 0.0006967573135818698, 0.0006473394189648017, 0.0006307482884622172, 0.0005711695939108355, 0.0005473599683817279, 0.0005075193874059146, 0.00043379670708863256, 0.00047025345455422386, 0.00037385192681544234, 0.000470965921117618, 0.00036309786555411584, 0.0004284139794503502, 0.00040324080327133993, 0.0003042697112956508, 0.000287552905975838, 0.00025963027951203446, 0.0002466014696068, 0.0002620518318103698, 0.00018553800804075343, 0.00016534410132106563, 0.0001834856188924898, 0.00017067222399381988, 0.0001578576782428964, 0.00013482109595359316, 0.00014114577155734787, 0.00014888463619494447, 0.00013451999183271477, 0.00012792168296662452, 0.00010362706787211456, 0.00011441511232942017, 0.0001041695353200579, 9.38897710615295e-05, 8.298617450332774e-05, 8.46870696765766e-05, 0.00011900692223597673, 0.00010521367330035146, 0.00011412413603597016, 0.00012016922522295883, 0.00011822606851031776, 0.00011929428742510809, 0.00010597945396124413, 0.00014029001772755678, 0.00013129057483390015, 0.00016010068554224102, 0.00017004101120704506, 0.00018707377592922872, 0.0002739840474938446, 0.0003135011865424655, 0.00038603514430982826, 0.0005281605608104864, 0.0006523086730042799, 0.0010182456481494864, 0.0012188350476702696, 0.0014626243695531186, 0.0017091061274712497, 0.0018434322228753543, 0.0024612177711736925, 0.0035045364277092013, 0.0035554756892745287, 0.004013569998401848, 0.005026418098724073, 0.006301250495841435, 0.007184501016095581, 0.00747578700435847, 0.008345937008909579, 0.009155700366059194, 0.009895966206283184, 0.010091919859092911, 0.009905178621790571, 0.00970622832443849, 0.010176236265422207, 0.00971956810922866, 0.00952512763334726, 0.008613460494384374, 0.007731801396900908, 0.0071622240407759495, 0.007029823291519188, 0.006598448401637344, 0.006451272969808813, 0.006016668167245368, 0.00596185599884326, 0.005594354693005887, 0.00535456792666598, 0.005115877712031558, 0.0048936498658831195, 0.004611650161180646, 0.004268994820232789, 0.004156195897201586, 0.00379556578839967, 0.0034016880535647307, 0.0030075670972159563, 0.002719250642946464, 0.0023113181793364516], \"yaxis\": \"y\"}, {\"hovertemplate\": \"firstname=CHLO\\u00c9<br>year=%{x}<br>proportion=%{y}<extra></extra>\", \"legendgroup\": \"CHLO\\u00c9\", \"line\": {\"color\": \"#EF553B\", \"dash\": \"solid\"}, \"mode\": \"lines\", \"name\": \"CHLO\\u00c9\", \"showlegend\": true, \"type\": \"scattergl\", \"x\": [1949.0, 1965.0, 1966.0, 1967.0, 1968.0, 1969.0, 1970.0, 1971.0, 1972.0, 1973.0, 1974.0, 1975.0, 1976.0, 1977.0, 1978.0, 1979.0, 1980.0, 1981.0, 1982.0, 1983.0, 1984.0, 1985.0, 1986.0, 1987.0, 1988.0, 1989.0, 1990.0, 1991.0, 1992.0, 1993.0, 1994.0, 1995.0, 1996.0, 1997.0, 1998.0, 1999.0, 2000.0, 2001.0, 2002.0, 2003.0, 2004.0, 2005.0, 2006.0, 2007.0, 2008.0, 2009.0, 2010.0, 2011.0, 2012.0, 2013.0, 2014.0, 2015.0, 2016.0, 2017.0, 2018.0, 2019.0, 2020.0], \"xaxis\": \"x\", \"y\": [3.368530736720129e-06, 5.61538435621303e-06, 1.3511550686893458e-05, 1.2740166618215427e-05, 1.164609384189496e-05, 3.0144962486913027e-05, 2.994346443580179e-05, 6.226137771087151e-05, 8.054574215070556e-05, 0.00012165533894784199, 0.00015357850195843307, 0.00015079803909637582, 0.00026376778543589686, 0.00029208879499367807, 0.0003646445998160571, 0.0004270062395465588, 0.0005303613179852246, 0.0007127195021127485, 0.0008871313330275988, 0.0011076588410769484, 0.001323150673782977, 0.0014407538647248938, 0.0018675874107922164, 0.0022491063992339266, 0.002668951754658064, 0.002974398324868805, 0.003291209336586232, 0.003522725185451473, 0.003911948284446282, 0.004404809134316431, 0.004910631856244212, 0.005805537208278292, 0.007733842990255002, 0.009009569384604114, 0.00835564186521601, 0.008294787734734254, 0.00930653086935545, 0.009204785546550494, 0.008102131455224574, 0.007738939937442345, 0.007239668762907821, 0.006951983821797042, 0.0066877339710926425, 0.006714763476175377, 0.006546680764429227, 0.0065276136775733185, 0.004255072613039448, 0.004110013009358345, 0.005487379291509273, 0.005764562701475808, 0.005171742785037655, 0.004955781929080434, 0.004677960949440305, 0.004534146940852017, 0.004568290022907149, 0.004220442158412571, 0.003903761806832038], \"yaxis\": \"y\"}, {\"hovertemplate\": \"firstname=EMMA<br>year=%{x}<br>proportion=%{y}<extra></extra>\", \"legendgroup\": \"EMMA\", \"line\": {\"color\": \"#00cc96\", \"dash\": \"solid\"}, \"mode\": \"lines\", \"name\": \"EMMA\", \"showlegend\": true, \"type\": \"scattergl\", \"x\": [1900.0, 1901.0, 1902.0, 1903.0, 1904.0, 1905.0, 1906.0, 1907.0, 1908.0, 1909.0, 1910.0, 1911.0, 1912.0, 1913.0, 1914.0, 1915.0, 1916.0, 1917.0, 1918.0, 1919.0, 1920.0, 1921.0, 1922.0, 1923.0, 1924.0, 1925.0, 1926.0, 1927.0, 1928.0, 1929.0, 1930.0, 1931.0, 1932.0, 1933.0, 1934.0, 1935.0, 1936.0, 1937.0, 1938.0, 1939.0, 1940.0, 1941.0, 1942.0, 1943.0, 1944.0, 1945.0, 1946.0, 1947.0, 1948.0, 1949.0, 1950.0, 1951.0, 1952.0, 1953.0, 1954.0, 1955.0, 1956.0, 1957.0, 1958.0, 1959.0, 1960.0, 1961.0, 1962.0, 1963.0, 1964.0, 1965.0, 1966.0, 1967.0, 1968.0, 1969.0, 1970.0, 1971.0, 1972.0, 1973.0, 1974.0, 1975.0, 1976.0, 1977.0, 1978.0, 1979.0, 1980.0, 1981.0, 1982.0, 1983.0, 1984.0, 1985.0, 1986.0, 1987.0, 1988.0, 1989.0, 1990.0, 1991.0, 1992.0, 1993.0, 1994.0, 1995.0, 1996.0, 1997.0, 1998.0, 1999.0, 2000.0, 2001.0, 2002.0, 2003.0, 2004.0, 2005.0, 2006.0, 2007.0, 2008.0, 2009.0, 2010.0, 2011.0, 2012.0, 2013.0, 2014.0, 2015.0, 2016.0, 2017.0, 2018.0, 2019.0, 2020.0], \"xaxis\": \"x\", \"y\": [0.0017885571173409955, 0.0019185504285650842, 0.0018153840834039315, 0.0016639506697669825, 0.0018288068611788447, 0.0015933486431865328, 0.0018575652655355445, 0.0016816447570656204, 0.0015727457151778583, 0.0015780050955219085, 0.0015645302930297543, 0.0015339163780790828, 0.0014549786455605633, 0.0014647261954426247, 0.0012084761433361038, 0.0012215228892170497, 0.0011705214173301406, 0.0010895361735884582, 0.0009076770982083495, 0.0009030971534168916, 0.000863793557992029, 0.0008263992693555982, 0.0008060089699403158, 0.0007140231199705894, 0.0006802001545909443, 0.0005998154657432569, 0.0006076810889645114, 0.0006280535917811058, 0.000526122869439371, 0.0004726859618678626, 0.00043124153055445997, 0.0003631893613454769, 0.0003528825011056985, 0.00031905941944410923, 0.000338492885076736, 0.00031005722278300475, 0.00027299884888383464, 0.00020990615959923798, 0.0002456250266983725, 0.00018132043943541794, 0.00014093853318221592, 0.0002235450940131312, 0.00015787218367300913, 0.00013242886740211154, 8.622429007230769e-05, 7.997685776030766e-05, 5.6821014962480735e-05, 5.398991063545e-05, 5.8535289462634784e-05, 6.849345831330928e-05, 5.791900424739365e-05, 5.913205962876893e-05, 6.0491044953149094e-05, 3.51028817044991e-05, 3.843428338077565e-05, 5.913360816381699e-05, 4.8198636219588163e-05, 4.1713843036767774e-05, 6.106490001520636e-05, 5.516024049864857e-05, 4.742067114475871e-05, 4.872406748515366e-05, 4.666938126901048e-05, 4.812965906292673e-05, 4.653605547097812e-05, 4.492307484970424e-05, 5.292024019033271e-05, 2.6638530201723164e-05, 5.124281290433782e-05, 4.0579757193921386e-05, 4.261185323556408e-05, 5.8925946762074814e-05, 4.2510252801761266e-05, 5.394151821272239e-05, 5.897414475203829e-05, 6.084833156520428e-05, 7.830606130128189e-05, 0.00017338604269031118, 0.00017692015768853137, 0.0001786856879333292, 0.00019546180029032925, 0.00017972926575017135, 0.0001691563982467879, 0.00017994457707026237, 0.0002021480196057326, 0.00024272159703022988, 0.0002965035683113416, 0.00032872554535308114, 0.000430392704262051, 0.0005683480839386392, 0.0005655133502943804, 0.0006717449888086236, 0.0007837316631617936, 0.0009679044025581938, 0.0013855198377405455, 0.0017971158080140907, 0.0021193111964798624, 0.003132200709652182, 0.0062295694532898205, 0.007506094143544934, 0.008875804701253246, 0.00836227817134036, 0.008668908999684092, 0.008316990824610283, 0.008810853526532835, 0.009363411986169905, 0.009129450832175659, 0.008796000892518115, 0.008736223374658368, 0.008563106114666074, 0.008242352456483675, 0.007768895043854127, 0.00683976298321329, 0.0064031399833542404, 0.006019657169758077, 0.00605813719850377, 0.0066454066195117695, 0.006914035160836467, 0.006375750249292273, 0.005820435080102871, 0.0052747799394568095], \"yaxis\": \"y\"}, {\"hovertemplate\": \"firstname=LAURA<br>year=%{x}<br>proportion=%{y}<extra></extra>\", \"legendgroup\": \"LAURA\", \"line\": {\"color\": \"#ab63fa\", \"dash\": \"solid\"}, \"mode\": \"lines\", \"name\": \"LAURA\", \"showlegend\": true, \"type\": \"scattergl\", \"x\": [1900.0, 1901.0, 1902.0, 1903.0, 1904.0, 1905.0, 1906.0, 1907.0, 1908.0, 1909.0, 1910.0, 1911.0, 1912.0, 1913.0, 1914.0, 1915.0, 1916.0, 1917.0, 1918.0, 1919.0, 1920.0, 1921.0, 1922.0, 1923.0, 1924.0, 1925.0, 1926.0, 1927.0, 1928.0, 1929.0, 1930.0, 1931.0, 1932.0, 1933.0, 1934.0, 1935.0, 1936.0, 1937.0, 1938.0, 1939.0, 1940.0, 1941.0, 1942.0, 1943.0, 1944.0, 1945.0, 1946.0, 1947.0, 1948.0, 1949.0, 1950.0, 1951.0, 1952.0, 1953.0, 1954.0, 1955.0, 1956.0, 1957.0, 1958.0, 1959.0, 1960.0, 1961.0, 1962.0, 1963.0, 1964.0, 1965.0, 1966.0, 1967.0, 1968.0, 1969.0, 1970.0, 1971.0, 1972.0, 1973.0, 1974.0, 1975.0, 1976.0, 1977.0, 1978.0, 1979.0, 1980.0, 1981.0, 1982.0, 1983.0, 1984.0, 1985.0, 1986.0, 1987.0, 1988.0, 1989.0, 1990.0, 1991.0, 1992.0, 1993.0, 1994.0, 1995.0, 1996.0, 1997.0, 1998.0, 1999.0, 2000.0, 2001.0, 2002.0, 2003.0, 2004.0, 2005.0, 2006.0, 2007.0, 2008.0, 2009.0, 2010.0, 2011.0, 2012.0, 2013.0, 2014.0, 2015.0, 2016.0, 2017.0, 2018.0, 2019.0, 2020.0], \"xaxis\": \"x\", \"y\": [3.397530480702027e-05, 4.6631434027623576e-05, 1.7289372222894586e-05, 3.2205496834199664e-05, 1.0510384259648532e-05, 4.317460839602218e-05, 2.607813007771283e-05, 1.6073068167891233e-05, 1.5325171402463904e-05, 3.060373518587944e-05, 3.196756608354065e-05, 3.130441587916495e-05, 4.425790556838215e-05, 2.9404791878396482e-05, 3.7356295002661635e-05, 2.0071972358026638e-05, 4.639261715027996e-05, 3.291650071264224e-05, 4.9141753724655866e-05, 1.5660644278905633e-05, 1.39571670052572e-05, 2.370169988591582e-05, 3.131732194042127e-05, 2.777664311098403e-05, 1.7900004068182743e-05, 4.1148290525922635e-05, 3.314624121624608e-05, 3.0286848334621854e-05, 3.475886825124974e-05, 2.7239530005944627e-05, 2.7624012633381776e-05, 2.0177186741415385e-05, 2.3525500073713232e-05, 1.6531576137000478e-05, 2.136120148542509e-05, 1.7225401265722484e-05, 1.912730788358077e-05, 1.4111338460452974e-05, 1.2459240484700052e-05, 1.422121093611121e-05, 1.761731664777699e-05, 1.4489033871221467e-05, 1.127658454807208e-05, 1.568236587656584e-05, 2.0693829617353846e-05, 1.0209811628975445e-05, 1.043651295229238e-05, 3.5993273756966666e-05, 2.8141966087805187e-05, 3.4808150946108e-05, 3.861266949826243e-05, 4.020980054756287e-05, 4.625785790534931e-05, 5.931176563863641e-05, 4.804285422596957e-05, 6.637445814305989e-05, 7.952774976232048e-05, 6.793397294559323e-05, 8.620927060970309e-05, 0.00010914685885902803, 0.00012685029531222955, 0.00013457123400661486, 0.00012600732942632829, 0.00010969085088760045, 0.00013185215716777135, 0.00017407691504260392, 0.000203799222860643, 0.0002188992264402469, 0.0001979835953122143, 0.00023536259172474402, 0.00019578419054178093, 0.00025349275210854826, 0.00017115970207024931, 0.00022609529974268748, 0.00023098206694548333, 0.00031217839672583066, 0.0003283359412457258, 0.00044946997220488363, 0.0005996377863641827, 0.0004808747189970477, 0.0006274697283205474, 0.000673055112429952, 0.0007204809554955782, 0.0011263197601805311, 0.002988902861313332, 0.003277390548135457, 0.0033385531652718593, 0.005645503931063785, 0.011947598072667867, 0.010502084159735725, 0.010349024913932263, 0.009560558073141484, 0.01005699500639466, 0.010635693725784804, 0.01117577496789907, 0.010435931307793923, 0.010163931732988695, 0.008173302204842608, 0.0075701269779360324, 0.007279209685805541, 0.006764858435959556, 0.006003519169005148, 0.005001446809188433, 0.004414813588601317, 0.0043257386095745315, 0.0036303338667145082, 0.0032372025121411158, 0.002978974935116282, 0.002596208837954482, 0.0023786405874072426, 0.0021153053867545577, 0.0018307524445003987, 0.0014909205576834525, 0.0014120840731077472, 0.0013521158406188437, 0.0011821762502305176, 0.0009569835877314704, 0.0008536555571683354, 0.0009475296340258038, 0.0006621168864875068, 0.0005884458356840834], \"yaxis\": \"y\"}, {\"hovertemplate\": \"firstname=L\\u00c9A<br>year=%{x}<br>proportion=%{y}<extra></extra>\", \"legendgroup\": \"L\\u00c9A\", \"line\": {\"color\": \"#FFA15A\", \"dash\": \"solid\"}, \"mode\": \"lines\", \"name\": \"L\\u00c9A\", \"showlegend\": true, \"type\": \"scattergl\", \"x\": [1900.0, 1901.0, 1902.0, 1903.0, 1904.0, 1905.0, 1906.0, 1907.0, 1908.0, 1909.0, 1910.0, 1911.0, 1912.0, 1913.0, 1914.0, 1915.0, 1916.0, 1917.0, 1918.0, 1919.0, 1920.0, 1921.0, 1922.0, 1923.0, 1924.0, 1925.0, 1926.0, 1927.0, 1928.0, 1929.0, 1930.0, 1931.0, 1932.0, 1933.0, 1934.0, 1935.0, 1936.0, 1937.0, 1938.0, 1939.0, 1940.0, 1941.0, 1942.0, 1943.0, 1944.0, 1945.0, 1946.0, 1947.0, 1948.0, 1949.0, 1950.0, 1951.0, 1952.0, 1953.0, 1954.0, 1955.0, 1956.0, 1957.0, 1958.0, 1959.0, 1960.0, 1961.0, 1962.0, 1963.0, 1964.0, 1965.0, 1966.0, 1967.0, 1968.0, 1969.0, 1970.0, 1971.0, 1972.0, 1973.0, 1974.0, 1975.0, 1976.0, 1977.0, 1978.0, 1979.0, 1980.0, 1981.0, 1982.0, 1983.0, 1984.0, 1985.0, 1986.0, 1987.0, 1988.0, 1989.0, 1990.0, 1991.0, 1992.0, 1993.0, 1994.0, 1995.0, 1996.0, 1997.0, 1998.0, 1999.0, 2000.0, 2001.0, 2002.0, 2003.0, 2004.0, 2005.0, 2006.0, 2007.0, 2008.0, 2009.0, 2010.0, 2011.0, 2012.0, 2013.0, 2014.0, 2015.0, 2016.0, 2017.0, 2018.0, 2019.0, 2020.0], \"xaxis\": \"x\", \"y\": [0.002269064999611711, 0.0024470400142114846, 0.0024010615674544857, 0.0018700658495058604, 0.0022891616917514505, 0.0023108695160537584, 0.0020802323761990923, 0.0022180834071689904, 0.0018485988004222085, 0.001993068253980398, 0.0020948158010037814, 0.0020191348242061397, 0.0019750090359890535, 0.001806556901028984, 0.0014027288773499444, 0.0013534244218555104, 0.001456014445947248, 0.0013956596302160309, 0.0013123738935878683, 0.001344205300606067, 0.0014143262565327296, 0.0013588974601258402, 0.0013136792413955658, 0.0011437441280993423, 0.001100036613644685, 0.0008957666322181619, 0.0010022791986817267, 0.0009117935393370369, 0.0009511290312387428, 0.0008284021772396101, 0.0006875309810975021, 0.0005804821416376426, 0.0006226415686176102, 0.0005934835833183172, 0.0005783956094515101, 0.0005563804608828362, 0.0003460303880756885, 0.00044097932688915543, 0.0003933560210169588, 0.0003964162548441, 0.00021336527940085464, 0.00024217385184755881, 0.00019358136807523738, 0.00018121845012920526, 0.0001569282079316, 0.00016846189187809485, 0.00014495156878183862, 0.00010685503146599479, 0.00010806514977717191, 0.00010554729641723071, 0.00010902400799509392, 9.461129540603029e-05, 0.00010200450717589847, 5.931176563863641e-05, 7.566749540590207e-05, 9.65446663899053e-05, 6.506815889644402e-05, 9.29622787676539e-05, 9.698542943591598e-05, 5.633386263691769e-05, 5.927583893094839e-05, 9.280774759076888e-05, 7.350427549869151e-05, 7.499272458642072e-05, 4.210405018802782e-05, 5.390768981964509e-05, 5.4046202747573834e-05, 5.443525736873864e-05, 4.541976598339034e-05, 7.536240621728258e-05, 5.067355519904918e-05, 5.8925946762074814e-05, 6.488407006584615e-05, 6.77138207351196e-05, 7.740356498705026e-05, 5.95255417485694e-05, 0.00011677219667735017, 0.0001413763117320999, 0.0001580126599202914, 0.0001786856879333292, 0.00021289151496590002, 0.0002528604842278273, 0.00030322850648683463, 0.00035988915414052474, 0.0006090693577731164, 0.0008086393312825305, 0.00113082096832161, 0.001330493906883617, 0.001724155758214943, 0.00217454919072175, 0.0028680538504537167, 0.0030845165404083477, 0.003811297814005983, 0.004967544252082823, 0.006320112871239681, 0.007565499779832673, 0.008430696607185395, 0.010373859808446437, 0.01110630771181968, 0.013041804811841208, 0.013805226402867368, 0.014029579335020964, 0.012936332431621674, 0.01199221967535701, 0.009824221214314649, 0.008761874107092211, 0.008360952578003216, 0.007608586441814735, 0.007421981406961867, 0.00687596104228651, 0.004385106602121743, 0.004092964455075748, 0.004922676637802621, 0.005296985193824236, 0.004735748953146712, 0.004270422473184279, 0.004392273201926352, 0.004067079506374392, 0.00409379521388036, 0.0039682773753627635, 0.0036838529249397906], \"yaxis\": \"y\"}, {\"hovertemplate\": \"firstname=MANON<br>year=%{x}<br>proportion=%{y}<extra></extra>\", \"legendgroup\": \"MANON\", \"line\": {\"color\": \"#19d3f3\", \"dash\": \"solid\"}, \"mode\": \"lines\", \"name\": \"MANON\", \"showlegend\": true, \"type\": \"scattergl\", \"x\": [1907.0, 1911.0, 1912.0, 1913.0, 1914.0, 1916.0, 1917.0, 1919.0, 1920.0, 1921.0, 1922.0, 1923.0, 1924.0, 1925.0, 1926.0, 1927.0, 1928.0, 1929.0, 1930.0, 1931.0, 1932.0, 1934.0, 1935.0, 1936.0, 1937.0, 1938.0, 1939.0, 1940.0, 1941.0, 1943.0, 1944.0, 1945.0, 1946.0, 1947.0, 1948.0, 1949.0, 1950.0, 1951.0, 1952.0, 1953.0, 1954.0, 1955.0, 1956.0, 1957.0, 1958.0, 1959.0, 1960.0, 1961.0, 1962.0, 1964.0, 1965.0, 1966.0, 1967.0, 1968.0, 1969.0, 1970.0, 1971.0, 1972.0, 1973.0, 1974.0, 1975.0, 1976.0, 1977.0, 1978.0, 1979.0, 1980.0, 1981.0, 1982.0, 1983.0, 1984.0, 1985.0, 1986.0, 1987.0, 1988.0, 1989.0, 1990.0, 1991.0, 1992.0, 1993.0, 1994.0, 1995.0, 1996.0, 1997.0, 1998.0, 1999.0, 2000.0, 2001.0, 2002.0, 2003.0, 2004.0, 2005.0, 2006.0, 2007.0, 2008.0, 2009.0, 2010.0, 2011.0, 2012.0, 2013.0, 2014.0, 2015.0, 2016.0, 2017.0, 2018.0, 2019.0, 2020.0], \"xaxis\": \"x\", \"y\": [6.0274005629592125e-06, 9.782629962239048e-06, 1.1064476392095537e-05, 5.513398477199341e-06, 1.3074703250931573e-05, 1.4274651430855372e-05, 1.9749900427585344e-05, 1.3050536899088028e-05, 1.2406370671339733e-05, 9.480679954366328e-06, 6.59312040850974e-06, 8.169600914995302e-06, 1.4645457873967698e-05, 7.91313279344666e-06, 2.051910170529519e-05, 1.1158312544334367e-05, 1.2639588454999905e-05, 1.2818602355738647e-05, 1.074267157964847e-05, 1.7073004165813017e-05, 1.411530004422794e-05, 6.572677380130797e-06, 8.612700632861242e-06, 1.564961554111154e-05, 7.055669230226487e-06, 7.119565991257173e-06, 5.3329541010417035e-06, 7.829918510123106e-06, 8.279447926412266e-06, 1.0454910584377227e-05, 5.173457404338461e-06, 1.0209811628975445e-05, 9.27690040203767e-06, 6.74873882943125e-06, 9.005429148097659e-06, 4.491374315626838e-06, 1.0221000749540056e-05, 1.4191694310904543e-05, 7.116593523899893e-06, 7.262665180241193e-06, 8.407499489544673e-06, 6.034041649369081e-06, 8.434761338427929e-06, 1.3110064954412728e-05, 1.1973509806903207e-05, 8.21535496788383e-06, 9.484134228951743e-06, 6.960581069307666e-06, 5.83367265862631e-06, 9.972011886638169e-06, 5.61538435621303e-06, 3.3778876717233646e-06, 4.632787861169246e-06, 1.164609384189496e-05, 9.275373072896317e-06, 1.0365045381623696e-05, 1.2229913478921189e-05, 2.4611198990493366e-05, 2.1806145660462246e-05, 2.0886676266346897e-05, 2.9101375965967263e-05, 5.083025031837596e-05, 8.002432739552824e-05, 0.00010129016661557141, 0.00011430628566323267, 0.00013819273778488246, 0.00014502292477772447, 0.0001954696157518438, 0.00025725409907081953, 0.00025727929768002333, 0.0004958270056981167, 0.0006764388766237101, 0.0009796800837795381, 0.001981357404305478, 0.002908069372281001, 0.003622942341146908, 0.004500166624245271, 0.007140815376171068, 0.008374905390158326, 0.010549965397241082, 0.011342745486569793, 0.01042816110050847, 0.01021213541169917, 0.010416254703202201, 0.010115265407547959, 0.010170570149512425, 0.009920393518972769, 0.010052005489910828, 0.009238134270674664, 0.008355302914594222, 0.007817354103978989, 0.007163226201935125, 0.006598631733194497, 0.0069094528596381835, 0.006419729978800203, 0.006493974662684108, 0.006340750765873516, 0.005728829257930576, 0.0053410710731170985, 0.005119584013737818, 0.004859446262589007, 0.004268428267043455, 0.0040210913282104415, 0.0031754652604100513, 0.0028652407805016163, 0.0023234510831649895], \"yaxis\": \"y\"}, {\"hovertemplate\": \"firstname=MARIE<br>year=%{x}<br>proportion=%{y}<extra></extra>\", \"legendgroup\": \"MARIE\", \"line\": {\"color\": \"#FF6692\", \"dash\": \"solid\"}, \"mode\": \"lines\", \"name\": \"MARIE\", \"showlegend\": true, \"type\": \"scattergl\", \"x\": [1900.0, 1901.0, 1902.0, 1903.0, 1904.0, 1905.0, 1906.0, 1907.0, 1908.0, 1909.0, 1910.0, 1911.0, 1912.0, 1913.0, 1914.0, 1915.0, 1916.0, 1917.0, 1918.0, 1919.0, 1920.0, 1921.0, 1922.0, 1923.0, 1924.0, 1925.0, 1926.0, 1927.0, 1928.0, 1929.0, 1930.0, 1931.0, 1932.0, 1933.0, 1934.0, 1935.0, 1936.0, 1937.0, 1938.0, 1939.0, 1940.0, 1941.0, 1942.0, 1943.0, 1944.0, 1945.0, 1946.0, 1947.0, 1948.0, 1949.0, 1950.0, 1951.0, 1952.0, 1953.0, 1954.0, 1955.0, 1956.0, 1957.0, 1958.0, 1959.0, 1960.0, 1961.0, 1962.0, 1963.0, 1964.0, 1965.0, 1966.0, 1967.0, 1968.0, 1969.0, 1970.0, 1971.0, 1972.0, 1973.0, 1974.0, 1975.0, 1976.0, 1977.0, 1978.0, 1979.0, 1980.0, 1981.0, 1982.0, 1983.0, 1984.0, 1985.0, 1986.0, 1987.0, 1988.0, 1989.0, 1990.0, 1991.0, 1992.0, 1993.0, 1994.0, 1995.0, 1996.0, 1997.0, 1998.0, 1999.0, 2000.0, 2001.0, 2002.0, 2003.0, 2004.0, 2005.0, 2006.0, 2007.0, 2008.0, 2009.0, 2010.0, 2011.0, 2012.0, 2013.0, 2014.0, 2015.0, 2016.0, 2017.0, 2018.0, 2019.0, 2020.0], \"xaxis\": \"x\", \"y\": [0.11821707307602702, 0.11580139450193187, 0.11207187192033058, 0.10826199815784558, 0.10537921466408812, 0.10070169018312201, 0.0971851667596118, 0.09251658037438194, 0.09091657934511711, 0.08874700657215213, 0.0851766396070622, 0.08274735379859521, 0.08057704932543576, 0.07846668712750102, 0.07902350644863043, 0.07668927153077464, 0.07051320940556782, 0.06681720479659248, 0.06461273407373576, 0.06212838596179847, 0.05935983127335887, 0.058130789140197134, 0.056265689566222125, 0.05471998692863854, 0.05265367560310809, 0.05012969624648459, 0.04902171236638908, 0.04665768688180956, 0.04510911124733779, 0.0430977434452878, 0.04263152483015069, 0.042463665542952576, 0.04181736056436106, 0.041305796135909394, 0.04075224292615597, 0.04056754252090303, 0.040236900402369005, 0.04008502081422423, 0.04127212405131783, 0.04202190066484161, 0.04377511691047076, 0.04247563772447653, 0.042379284162412885, 0.04242776963650018, 0.043586378631551535, 0.04304796909830347, 0.03623209413270838, 0.03704270264494323, 0.03494444213054945, 0.03409851380423896, 0.03190428600631431, 0.02970321619272321, 0.030453089787688292, 0.027340303071017973, 0.028139900791506023, 0.02405651724770465, 0.02359323242948841, 0.021681663786425123, 0.02164690837990031, 0.01947978025099083, 0.01776496892760523, 0.01650469781217336, 0.01498437159094754, 0.013390118869064941, 0.012612379033955809, 0.010963476417070319, 0.01082275210020166, 0.009391819191555354, 0.009339002651815568, 0.008352473452143133, 0.00646087828787877, 0.006049359930800926, 0.005699729948025622, 0.005567453294679071, 0.006372893517267138, 0.006628499771157361, 0.006640903514568362, 0.007003462385898647, 0.008170740106989427, 0.008667569730118918, 0.009211604206039148, 0.009190982796810488, 0.009039216718165393, 0.009630367180241819, 0.009892126465901305, 0.010212478745635554, 0.010214612106587256, 0.009789004975059737, 0.00949965878776599, 0.009115678993880829, 0.00884316603889896, 0.008783852929831512, 0.00978188372052451, 0.009603074784683476, 0.01018068137131227, 0.010501981505944518, 0.010170777053390761, 0.009375868231937666, 0.00935662785004848, 0.008528424706096844, 0.008282101064139395, 0.007370631291822838, 0.0062664093381578, 0.006431984236432158, 0.005531686002111736, 0.004788558116342175, 0.004389949893399783, 0.0036000840324072803, 0.0029835100072167116, 0.0026528991469388975, 0.0024564836749407766, 0.0021428721305971716, 0.0018880595734911687, 0.0017260289711023742, 0.0016503570201025254, 0.0014271440878801474, 0.0013510356532679582, 0.001251740724400034, 0.0011606873020809153, 0.0011015619470070546, 0.000988831662025831], \"yaxis\": \"y\"}, {\"hovertemplate\": \"firstname=MATHILDE<br>year=%{x}<br>proportion=%{y}<extra></extra>\", \"legendgroup\": \"MATHILDE\", \"line\": {\"color\": \"#B6E880\", \"dash\": \"solid\"}, \"mode\": \"lines\", \"name\": \"MATHILDE\", \"showlegend\": true, \"type\": \"scattergl\", \"x\": [1900.0, 1901.0, 1902.0, 1903.0, 1904.0, 1905.0, 1906.0, 1907.0, 1908.0, 1909.0, 1910.0, 1911.0, 1912.0, 1913.0, 1914.0, 1915.0, 1916.0, 1917.0, 1918.0, 1919.0, 1920.0, 1921.0, 1922.0, 1923.0, 1924.0, 1925.0, 1926.0, 1927.0, 1928.0, 1929.0, 1930.0, 1931.0, 1932.0, 1933.0, 1934.0, 1935.0, 1936.0, 1937.0, 1938.0, 1939.0, 1940.0, 1941.0, 1942.0, 1943.0, 1944.0, 1945.0, 1946.0, 1947.0, 1948.0, 1949.0, 1950.0, 1951.0, 1952.0, 1953.0, 1954.0, 1955.0, 1956.0, 1957.0, 1958.0, 1959.0, 1960.0, 1961.0, 1962.0, 1963.0, 1964.0, 1965.0, 1966.0, 1967.0, 1968.0, 1969.0, 1970.0, 1971.0, 1972.0, 1973.0, 1974.0, 1975.0, 1976.0, 1977.0, 1978.0, 1979.0, 1980.0, 1981.0, 1982.0, 1983.0, 1984.0, 1985.0, 1986.0, 1987.0, 1988.0, 1989.0, 1990.0, 1991.0, 1992.0, 1993.0, 1994.0, 1995.0, 1996.0, 1997.0, 1998.0, 1999.0, 2000.0, 2001.0, 2002.0, 2003.0, 2004.0, 2005.0, 2006.0, 2007.0, 2008.0, 2009.0, 2010.0, 2011.0, 2012.0, 2013.0, 2014.0, 2015.0, 2016.0, 2017.0, 2018.0, 2019.0, 2020.0], \"xaxis\": \"x\", \"y\": [0.00271317076958919, 0.002504774170626638, 0.0023556769653693874, 0.002557116448635453, 0.0023606323047170603, 0.0023663797268486443, 0.0022848453968088395, 0.0021698642026653165, 0.0020229226251252353, 0.0019280353167104045, 0.0019443801959047667, 0.0018547866408405236, 0.0017850688579247468, 0.0016264525507738055, 0.001619395388365382, 0.0013907009419489886, 0.001570211657394091, 0.001366034779574653, 0.0012516693742809406, 0.0013337648710867965, 0.0010855574337422266, 0.0010839577414492167, 0.00114390639087644, 0.0010391732363874025, 0.0008754729262438469, 0.0009400801758614632, 0.0007418444462683646, 0.0008225270389823619, 0.0006872776222406198, 0.0006409301177869324, 0.000592381604249187, 0.0006084197848180639, 0.000519129368293272, 0.0005339699092251155, 0.00046501692464425386, 0.00044958297303535684, 0.0004538388506922347, 0.00033690820574331477, 0.00035775819106067294, 0.000305756035126391, 0.00029753690338467804, 0.00030840943525885695, 0.00027251745991174194, 0.00021781063717452557, 0.0001862444665561846, 0.00014974390389163987, 0.00013451505582954624, 0.00012822603775919375, 0.00013845847315200151, 0.00011677573220629781, 0.0001578576782428964, 0.00019040523200463595, 0.0001280986834301981, 0.0001549368571784788, 0.0001044932079414838, 0.00013154210795624595, 0.00012531645417092924, 0.00014063524223824564, 0.00013649801179869658, 0.00013496654590094864, 0.00014818959732737098, 0.0001392116213861533, 0.00016217609990981142, 0.0001645362763314007, 0.00018725222320465005, 0.00014936922387526658, 0.0002094290356468486, 0.00023743037788492385, 0.00023175726745370968, 0.0002504350729682005, 0.0002902212706854635, 0.00028573525128024955, 0.0002953343878859204, 0.0003821813949965225, 0.0005270814187213422, 0.0006203884240017567, 0.0007390993154401693, 0.0008976062056198418, 0.0010358607705885769, 0.001211383854959776, 0.0012250599457686877, 0.0014427921747117204, 0.001548720801726147, 0.001808776230254415, 0.0022065637724495877, 0.002589463027140688, 0.0022821789803357806, 0.002829898173039568, 0.0027775192836611037, 0.0038366747085102648, 0.004605081000318673, 0.005213895674854433, 0.005470017566862107, 0.005675183662674061, 0.0061650699595901795, 0.006676574196389256, 0.007023298732520475, 0.006655580943060572, 0.0067096063288498075, 0.006323053756760955, 0.006503577096750411, 0.005775885188746509, 0.005025339071015766, 0.004289324481456315, 0.003678936428775392, 0.004003656717107025, 0.003462097486188236, 0.0032790906754039495, 0.002926705835724918, 0.002732187166519139, 0.0025234318673395817, 0.0024615489529564816, 0.0022284644441834967, 0.002010583282901759, 0.0018322440174558022, 0.0017890909491265108, 0.0017591610068593206, 0.0016641971973079671, 0.001594302558330012, 0.0013242337729750136, 0.0011511092507325241], \"yaxis\": \"y\"}, {\"hovertemplate\": \"firstname=OC\\u00c9ANE<br>year=%{x}<br>proportion=%{y}<extra></extra>\", \"legendgroup\": \"OC\\u00c9ANE\", \"line\": {\"color\": \"#FF97FF\", \"dash\": \"solid\"}, \"mode\": \"lines\", \"name\": \"OC\\u00c9ANE\", \"showlegend\": true, \"type\": \"scattergl\", \"x\": [1966.0, 1972.0, 1973.0, 1974.0, 1975.0, 1976.0, 1977.0, 1978.0, 1979.0, 1980.0, 1981.0, 1982.0, 1983.0, 1984.0, 1985.0, 1986.0, 1987.0, 1988.0, 1989.0, 1990.0, 1991.0, 1992.0, 1993.0, 1994.0, 1995.0, 1996.0, 1997.0, 1998.0, 1999.0, 2000.0, 2001.0, 2002.0, 2003.0, 2004.0, 2005.0, 2006.0, 2007.0, 2008.0, 2009.0, 2010.0, 2011.0, 2012.0, 2013.0, 2014.0, 2015.0, 2016.0, 2017.0, 2018.0, 2019.0, 2020.0], \"xaxis\": \"x\", \"y\": [3.3778876717233646e-06, 8.949526905633952e-06, 1.836307002986294e-05, 7.3717680940047866e-06, 1.851905743288826e-05, 1.2364114942307666e-05, 1.2003649109329237e-05, 1.8907497768239994e-05, 3.15327684588228e-05, 3.236947011177427e-05, 2.6029755729335164e-05, 8.269868358731853e-05, 9.597044110413993e-05, 0.0001023866592808256, 0.00012720169256129693, 0.00021948965446423987, 0.00038329658450260445, 0.0004769216452633538, 0.0006645900935758458, 0.0011545353387072339, 0.0014392661185997266, 0.0017620542358414983, 0.0020947814758853936, 0.0027513069412711546, 0.004754238221047997, 0.006149835849216759, 0.006685990658688263, 0.008227450199583514, 0.007976069091719393, 0.008115243179198902, 0.007479215316888741, 0.0068769893626340955, 0.006498733761509287, 0.0059380955859403535, 0.005301712140379945, 0.004425933089247321, 0.003960222920752481, 0.0033165890127822297, 0.002881664580481889, 0.0016659800185394994, 0.001361261488102732, 0.0016030694491906148, 0.0014334590448861048, 0.0012584975331575985, 0.0010349203028793355, 0.0010554966041155924, 0.001070662272879478, 0.0008891302729148144, 0.0008700422339145412, 0.0007143247129051632], \"yaxis\": \"y\"}, {\"hovertemplate\": \"firstname=SARAH<br>year=%{x}<br>proportion=%{y}<extra></extra>\", \"legendgroup\": \"SARAH\", \"line\": {\"color\": \"#FECB52\", \"dash\": \"solid\"}, \"mode\": \"lines\", \"name\": \"SARAH\", \"showlegend\": true, \"type\": \"scattergl\", \"x\": [1900.0, 1901.0, 1902.0, 1903.0, 1904.0, 1905.0, 1906.0, 1907.0, 1908.0, 1909.0, 1910.0, 1911.0, 1912.0, 1913.0, 1914.0, 1915.0, 1916.0, 1917.0, 1918.0, 1919.0, 1920.0, 1921.0, 1922.0, 1923.0, 1924.0, 1925.0, 1926.0, 1927.0, 1928.0, 1929.0, 1930.0, 1931.0, 1932.0, 1933.0, 1934.0, 1935.0, 1936.0, 1937.0, 1938.0, 1939.0, 1940.0, 1941.0, 1942.0, 1943.0, 1944.0, 1945.0, 1946.0, 1947.0, 1948.0, 1949.0, 1950.0, 1951.0, 1952.0, 1953.0, 1954.0, 1955.0, 1956.0, 1957.0, 1958.0, 1959.0, 1960.0, 1961.0, 1962.0, 1963.0, 1964.0, 1965.0, 1966.0, 1967.0, 1968.0, 1969.0, 1970.0, 1971.0, 1972.0, 1973.0, 1974.0, 1975.0, 1976.0, 1977.0, 1978.0, 1979.0, 1980.0, 1981.0, 1982.0, 1983.0, 1984.0, 1985.0, 1986.0, 1987.0, 1988.0, 1989.0, 1990.0, 1991.0, 1992.0, 1993.0, 1994.0, 1995.0, 1996.0, 1997.0, 1998.0, 1999.0, 2000.0, 2001.0, 2002.0, 2003.0, 2004.0, 2005.0, 2006.0, 2007.0, 2008.0, 2009.0, 2010.0, 2011.0, 2012.0, 2013.0, 2014.0, 2015.0, 2016.0, 2017.0, 2018.0, 2019.0, 2020.0], \"xaxis\": \"x\", \"y\": [0.0001310476042556496, 0.00011990940178531776, 8.860803264233476e-05, 0.0001137927554808388, 0.00011561422685613386, 0.00013157975892121046, 0.00013841469041247579, 0.00012255714478017065, 0.00013984218904748312, 9.75494059049907e-05, 0.00011094625876052344, 9.000019565259924e-05, 0.00011986516091436833, 0.00013599716243758373, 0.00011767232925838416, 0.00012903410801588553, 9.278523430055992e-05, 0.00011191610242298362, 6.359521070249582e-05, 7.308300663489296e-05, 6.9785835026286e-05, 7.900566628638606e-05, 8.406228520849919e-05, 0.00010293697152894081, 8.624547414669867e-05, 9.179234040398125e-05, 8.681158413778734e-05, 7.332605386276869e-05, 7.425758217312444e-05, 7.050231295656256e-05, 8.287203790014533e-05, 9.467756855587218e-05, 7.214486689272058e-05, 6.447314693430186e-05, 4.929508035098097e-05, 6.37339846831732e-05, 4.8687692794569234e-05, 4.2334015381358925e-05, 3.381793845847157e-05, 3.022007323923632e-05, 3.523463329555398e-05, 2.8978067742442934e-05, 2.81914613701802e-05, 1.568236587656584e-05, 1.724485801446154e-05, 1.8717987986454984e-05, 2.087302590458476e-05, 2.587016551281979e-05, 2.3639251513756357e-05, 3.256246378829458e-05, 2.952733549867127e-05, 2.483546504408295e-05, 2.9652473016249555e-05, 3.3892437507792236e-05, 4.0836426092074133e-05, 3.4997441566340666e-05, 3.976387488116024e-05, 5.124843573088612e-05, 7.54331117834902e-05, 8.450079395537654e-05, 9.721237584675536e-05, 8.700726336634582e-05, 8.983855894284518e-05, 0.00010073649571310246, 0.0001296361545262962, 0.00017183076130011872, 0.00018240593427306168, 0.00020384266589144683, 0.0003831564873983442, 0.0005228991569845298, 0.0007785300753308465, 0.0012830291049704592, 0.0015225382648209758, 0.001555122493154018, 0.001415379474048919, 0.0016138035762945483, 0.001604587361401706, 0.0016471674055579563, 0.001827274605744908, 0.0017526963801695675, 0.001543774728407696, 0.0017588677799965046, 0.002315563140444919, 0.0032816559166443404, 0.0032947501896778498, 0.003360461041236712, 0.004246033783436874, 0.00537654666668399, 0.005314639038815476, 0.005968305165204611, 0.006231095136846394, 0.006342217335743919, 0.006604012867156141, 0.006762669277757613, 0.006876857872162891, 0.007006825187142228, 0.007484673327619772, 0.00723613005958922, 0.007054632833158547, 0.007082036288008211, 0.007093400317935412, 0.007009556702447065, 0.006150930072659023, 0.006034157066972468, 0.006001846108893862, 0.006169720746592934, 0.005889678091759719, 0.0059918759973955175, 0.005770787422007227, 0.0053304945622716406, 0.005319806365228139, 0.00474998950858198, 0.004361932180266809, 0.003978416622246804, 0.0036885613139730675, 0.003492856022217757, 0.003332554611394297, 0.0029116265300051306, 0.0025535120645780135, 0.0023196210744874123, 0.0019761467110730947], \"yaxis\": \"y\"}],                        {\"legend\": {\"title\": {\"text\": \"firstname\"}, \"tracegroupgap\": 0}, \"template\": {\"data\": {\"bar\": [{\"error_x\": {\"color\": \"#2a3f5f\"}, \"error_y\": {\"color\": \"#2a3f5f\"}, \"marker\": {\"line\": {\"color\": \"#E5ECF6\", \"width\": 0.5}}, \"type\": \"bar\"}], \"barpolar\": [{\"marker\": {\"line\": {\"color\": \"#E5ECF6\", \"width\": 0.5}}, \"type\": \"barpolar\"}], \"carpet\": [{\"aaxis\": {\"endlinecolor\": \"#2a3f5f\", \"gridcolor\": \"white\", \"linecolor\": \"white\", \"minorgridcolor\": \"white\", \"startlinecolor\": \"#2a3f5f\"}, \"baxis\": {\"endlinecolor\": \"#2a3f5f\", \"gridcolor\": \"white\", \"linecolor\": \"white\", \"minorgridcolor\": \"white\", \"startlinecolor\": \"#2a3f5f\"}, \"type\": \"carpet\"}], \"choropleth\": [{\"colorbar\": {\"outlinewidth\": 0, \"ticks\": \"\"}, \"type\": \"choropleth\"}], \"contour\": [{\"colorbar\": {\"outlinewidth\": 0, \"ticks\": \"\"}, \"colorscale\": [[0.0, \"#0d0887\"], [0.1111111111111111, \"#46039f\"], [0.2222222222222222, \"#7201a8\"], [0.3333333333333333, \"#9c179e\"], [0.4444444444444444, \"#bd3786\"], [0.5555555555555556, \"#d8576b\"], [0.6666666666666666, \"#ed7953\"], [0.7777777777777778, \"#fb9f3a\"], [0.8888888888888888, \"#fdca26\"], [1.0, \"#f0f921\"]], \"type\": \"contour\"}], \"contourcarpet\": [{\"colorbar\": {\"outlinewidth\": 0, \"ticks\": \"\"}, \"type\": \"contourcarpet\"}], \"heatmap\": [{\"colorbar\": {\"outlinewidth\": 0, \"ticks\": \"\"}, \"colorscale\": [[0.0, \"#0d0887\"], [0.1111111111111111, \"#46039f\"], [0.2222222222222222, \"#7201a8\"], [0.3333333333333333, \"#9c179e\"], [0.4444444444444444, \"#bd3786\"], [0.5555555555555556, \"#d8576b\"], [0.6666666666666666, \"#ed7953\"], [0.7777777777777778, \"#fb9f3a\"], [0.8888888888888888, \"#fdca26\"], [1.0, \"#f0f921\"]], \"type\": \"heatmap\"}], \"heatmapgl\": [{\"colorbar\": {\"outlinewidth\": 0, \"ticks\": \"\"}, \"colorscale\": [[0.0, \"#0d0887\"], [0.1111111111111111, \"#46039f\"], [0.2222222222222222, \"#7201a8\"], [0.3333333333333333, \"#9c179e\"], [0.4444444444444444, \"#bd3786\"], [0.5555555555555556, \"#d8576b\"], [0.6666666666666666, \"#ed7953\"], [0.7777777777777778, \"#fb9f3a\"], [0.8888888888888888, \"#fdca26\"], [1.0, \"#f0f921\"]], \"type\": \"heatmapgl\"}], \"histogram\": [{\"marker\": {\"colorbar\": {\"outlinewidth\": 0, \"ticks\": \"\"}}, \"type\": \"histogram\"}], \"histogram2d\": [{\"colorbar\": {\"outlinewidth\": 0, \"ticks\": \"\"}, \"colorscale\": [[0.0, \"#0d0887\"], [0.1111111111111111, \"#46039f\"], [0.2222222222222222, \"#7201a8\"], [0.3333333333333333, \"#9c179e\"], [0.4444444444444444, \"#bd3786\"], [0.5555555555555556, \"#d8576b\"], [0.6666666666666666, \"#ed7953\"], [0.7777777777777778, \"#fb9f3a\"], [0.8888888888888888, \"#fdca26\"], [1.0, \"#f0f921\"]], \"type\": \"histogram2d\"}], \"histogram2dcontour\": [{\"colorbar\": {\"outlinewidth\": 0, \"ticks\": \"\"}, \"colorscale\": [[0.0, \"#0d0887\"], [0.1111111111111111, \"#46039f\"], [0.2222222222222222, \"#7201a8\"], [0.3333333333333333, \"#9c179e\"], [0.4444444444444444, \"#bd3786\"], [0.5555555555555556, \"#d8576b\"], [0.6666666666666666, \"#ed7953\"], [0.7777777777777778, \"#fb9f3a\"], [0.8888888888888888, \"#fdca26\"], [1.0, \"#f0f921\"]], \"type\": \"histogram2dcontour\"}], \"mesh3d\": [{\"colorbar\": {\"outlinewidth\": 0, \"ticks\": \"\"}, \"type\": \"mesh3d\"}], \"parcoords\": [{\"line\": {\"colorbar\": {\"outlinewidth\": 0, \"ticks\": \"\"}}, \"type\": \"parcoords\"}], \"pie\": [{\"automargin\": true, \"type\": \"pie\"}], \"scatter\": [{\"marker\": {\"colorbar\": {\"outlinewidth\": 0, \"ticks\": \"\"}}, \"type\": \"scatter\"}], \"scatter3d\": [{\"line\": {\"colorbar\": {\"outlinewidth\": 0, \"ticks\": \"\"}}, \"marker\": {\"colorbar\": {\"outlinewidth\": 0, \"ticks\": \"\"}}, \"type\": \"scatter3d\"}], \"scattercarpet\": [{\"marker\": {\"colorbar\": {\"outlinewidth\": 0, \"ticks\": \"\"}}, \"type\": \"scattercarpet\"}], \"scattergeo\": [{\"marker\": {\"colorbar\": {\"outlinewidth\": 0, \"ticks\": \"\"}}, \"type\": \"scattergeo\"}], \"scattergl\": [{\"marker\": {\"colorbar\": {\"outlinewidth\": 0, \"ticks\": \"\"}}, \"type\": \"scattergl\"}], \"scattermapbox\": [{\"marker\": {\"colorbar\": {\"outlinewidth\": 0, \"ticks\": \"\"}}, \"type\": \"scattermapbox\"}], \"scatterpolar\": [{\"marker\": {\"colorbar\": {\"outlinewidth\": 0, \"ticks\": \"\"}}, \"type\": \"scatterpolar\"}], \"scatterpolargl\": [{\"marker\": {\"colorbar\": {\"outlinewidth\": 0, \"ticks\": \"\"}}, \"type\": \"scatterpolargl\"}], \"scatterternary\": [{\"marker\": {\"colorbar\": {\"outlinewidth\": 0, \"ticks\": \"\"}}, \"type\": \"scatterternary\"}], \"surface\": [{\"colorbar\": {\"outlinewidth\": 0, \"ticks\": \"\"}, \"colorscale\": [[0.0, \"#0d0887\"], [0.1111111111111111, \"#46039f\"], [0.2222222222222222, \"#7201a8\"], [0.3333333333333333, \"#9c179e\"], [0.4444444444444444, \"#bd3786\"], [0.5555555555555556, \"#d8576b\"], [0.6666666666666666, \"#ed7953\"], [0.7777777777777778, \"#fb9f3a\"], [0.8888888888888888, \"#fdca26\"], [1.0, \"#f0f921\"]], \"type\": \"surface\"}], \"table\": [{\"cells\": {\"fill\": {\"color\": \"#EBF0F8\"}, \"line\": {\"color\": \"white\"}}, \"header\": {\"fill\": {\"color\": \"#C8D4E3\"}, \"line\": {\"color\": \"white\"}}, \"type\": \"table\"}]}, \"layout\": {\"annotationdefaults\": {\"arrowcolor\": \"#2a3f5f\", \"arrowhead\": 0, \"arrowwidth\": 1}, \"autotypenumbers\": \"strict\", \"coloraxis\": {\"colorbar\": {\"outlinewidth\": 0, \"ticks\": \"\"}}, \"colorscale\": {\"diverging\": [[0, \"#8e0152\"], [0.1, \"#c51b7d\"], [0.2, \"#de77ae\"], [0.3, \"#f1b6da\"], [0.4, \"#fde0ef\"], [0.5, \"#f7f7f7\"], [0.6, \"#e6f5d0\"], [0.7, \"#b8e186\"], [0.8, \"#7fbc41\"], [0.9, \"#4d9221\"], [1, \"#276419\"]], \"sequential\": [[0.0, \"#0d0887\"], [0.1111111111111111, \"#46039f\"], [0.2222222222222222, \"#7201a8\"], [0.3333333333333333, \"#9c179e\"], [0.4444444444444444, \"#bd3786\"], [0.5555555555555556, \"#d8576b\"], [0.6666666666666666, \"#ed7953\"], [0.7777777777777778, \"#fb9f3a\"], [0.8888888888888888, \"#fdca26\"], [1.0, \"#f0f921\"]], \"sequentialminus\": [[0.0, \"#0d0887\"], [0.1111111111111111, \"#46039f\"], [0.2222222222222222, \"#7201a8\"], [0.3333333333333333, \"#9c179e\"], [0.4444444444444444, \"#bd3786\"], [0.5555555555555556, \"#d8576b\"], [0.6666666666666666, \"#ed7953\"], [0.7777777777777778, \"#fb9f3a\"], [0.8888888888888888, \"#fdca26\"], [1.0, \"#f0f921\"]]}, \"colorway\": [\"#636efa\", \"#EF553B\", \"#00cc96\", \"#ab63fa\", \"#FFA15A\", \"#19d3f3\", \"#FF6692\", \"#B6E880\", \"#FF97FF\", \"#FECB52\"], \"font\": {\"color\": \"#2a3f5f\"}, \"geo\": {\"bgcolor\": \"white\", \"lakecolor\": \"white\", \"landcolor\": \"#E5ECF6\", \"showlakes\": true, \"showland\": true, \"subunitcolor\": \"white\"}, \"hoverlabel\": {\"align\": \"left\"}, \"hovermode\": \"closest\", \"mapbox\": {\"style\": \"light\"}, \"paper_bgcolor\": \"white\", \"plot_bgcolor\": \"#E5ECF6\", \"polar\": {\"angularaxis\": {\"gridcolor\": \"white\", \"linecolor\": \"white\", \"ticks\": \"\"}, \"bgcolor\": \"#E5ECF6\", \"radialaxis\": {\"gridcolor\": \"white\", \"linecolor\": \"white\", \"ticks\": \"\"}}, \"scene\": {\"xaxis\": {\"backgroundcolor\": \"#E5ECF6\", \"gridcolor\": \"white\", \"gridwidth\": 2, \"linecolor\": \"white\", \"showbackground\": true, \"ticks\": \"\", \"zerolinecolor\": \"white\"}, \"yaxis\": {\"backgroundcolor\": \"#E5ECF6\", \"gridcolor\": \"white\", \"gridwidth\": 2, \"linecolor\": \"white\", \"showbackground\": true, \"ticks\": \"\", \"zerolinecolor\": \"white\"}, \"zaxis\": {\"backgroundcolor\": \"#E5ECF6\", \"gridcolor\": \"white\", \"gridwidth\": 2, \"linecolor\": \"white\", \"showbackground\": true, \"ticks\": \"\", \"zerolinecolor\": \"white\"}}, \"shapedefaults\": {\"line\": {\"color\": \"#2a3f5f\"}}, \"ternary\": {\"aaxis\": {\"gridcolor\": \"white\", \"linecolor\": \"white\", \"ticks\": \"\"}, \"baxis\": {\"gridcolor\": \"white\", \"linecolor\": \"white\", \"ticks\": \"\"}, \"bgcolor\": \"#E5ECF6\", \"caxis\": {\"gridcolor\": \"white\", \"linecolor\": \"white\", \"ticks\": \"\"}}, \"title\": {\"x\": 0.05}, \"xaxis\": {\"automargin\": true, \"gridcolor\": \"white\", \"linecolor\": \"white\", \"ticks\": \"\", \"title\": {\"standoff\": 15}, \"zerolinecolor\": \"white\", \"zerolinewidth\": 2}, \"yaxis\": {\"automargin\": true, \"gridcolor\": \"white\", \"linecolor\": \"white\", \"ticks\": \"\", \"title\": {\"standoff\": 15}, \"zerolinecolor\": \"white\", \"zerolinewidth\": 2}}}, \"title\": {\"text\": \"Proportion of newborns given one of the Top 10 firstnames of year 2000 (Female)\"}, \"xaxis\": {\"anchor\": \"y\", \"domain\": [0.0, 1.0], \"title\": {\"text\": \"year\"}}, \"yaxis\": {\"anchor\": \"x\", \"domain\": [0.0, 1.0], \"title\": {\"text\": \"proportion\"}}},                        {\"responsive\": true}                    ).then(function(){\n",
       "                            \n",
       "var gd = document.getElementById('618ce322-70ef-4e1a-80ca-0f5b243ec5a0');\n",
       "var x = new MutationObserver(function (mutations, observer) {{\n",
       "        var display = window.getComputedStyle(gd).display;\n",
       "        if (!display || display === 'none') {{\n",
       "            console.log([gd, 'removed!']);\n",
       "            Plotly.purge(gd);\n",
       "            observer.disconnect();\n",
       "        }}\n",
       "}});\n",
       "\n",
       "// Listen for the removal of the full notebook cells\n",
       "var notebookContainer = gd.closest('#notebook-container');\n",
       "if (notebookContainer) {{\n",
       "    x.observe(notebookContainer, {childList: true});\n",
       "}}\n",
       "\n",
       "// Listen for the clearing of the current output cell\n",
       "var outputEl = gd.closest('.output');\n",
       "if (outputEl) {{\n",
       "    x.observe(outputEl, {childList: true});\n",
       "}}\n",
       "\n",
       "                        })                };                });            </script>        </div>"
      ]
     },
     "metadata": {},
     "output_type": "display_data"
    }
   ],
   "source": [
    "yr_2000 = data[(data['year']==2000) & (data['firstname'] != '_PRENOMS_RARES')].join(data[data['firstname'] != '_PRENOMS_RARES'].groupby(['year', 'gender']).sum(), on=['year', 'gender'], rsuffix='2')\n",
    "m_popular_names_yr_2000 = yr_2000[yr_2000['gender'] == \"Male\"].sort_values('count', ascending=False).head(10)\n",
    "f_popular_names_yr_2000 = yr_2000[yr_2000['gender'] == \"Female\"].sort_values('count', ascending=False).head(10)\n",
    "\n",
    "onlytop_f = data[(data['year'].notna()) &(data['gender'] == 'Female') & (data['firstname'].isin(f_popular_names_yr_2000['firstname']))]\n",
    "onlytop_f = onlytop_f.join(data[data['firstname'] != '_PRENOMS_RARES'].groupby(['year']).sum(), on=['year'], rsuffix='2')\n",
    "onlytop_f['proportion'] = onlytop_f['count'] / onlytop_f['count2']\n",
    "onlytop_f.plot(x='year', y='proportion', color='firstname', title='Proportion of newborns given one of the Top 10 firstnames of year 2000 (Female)') \n",
    "\n",
    "#data.groupby(['year']).sum()['count']\n",
    "#onlytop_m['proportion'] = onlytop['count'] "
   ]
  },
  {
   "cell_type": "code",
   "execution_count": 75,
   "metadata": {
    "ExecuteTime": {
     "end_time": "2022-01-30T20:59:59.734001Z",
     "start_time": "2022-01-30T20:59:59.510777Z"
    }
   },
   "outputs": [
    {
     "data": {
      "application/vnd.plotly.v1+json": {
       "config": {
        "plotlyServerURL": "https://plot.ly"
       },
       "data": [
        {
         "hovertemplate": "firstname=ALEXANDRE<br>year=%{x}<br>proportion=%{y}<extra></extra>",
         "legendgroup": "ALEXANDRE",
         "line": {
          "color": "#636efa",
          "dash": "solid"
         },
         "mode": "lines",
         "name": "ALEXANDRE",
         "showlegend": true,
         "type": "scattergl",
         "x": [
          1900,
          1901,
          1902,
          1903,
          1904,
          1905,
          1906,
          1907,
          1908,
          1909,
          1910,
          1911,
          1912,
          1913,
          1914,
          1915,
          1916,
          1917,
          1918,
          1919,
          1920,
          1921,
          1922,
          1923,
          1924,
          1925,
          1926,
          1927,
          1928,
          1929,
          1930,
          1931,
          1932,
          1933,
          1934,
          1935,
          1936,
          1937,
          1938,
          1939,
          1940,
          1941,
          1942,
          1943,
          1944,
          1945,
          1946,
          1947,
          1948,
          1949,
          1950,
          1951,
          1952,
          1953,
          1954,
          1955,
          1956,
          1957,
          1958,
          1959,
          1960,
          1961,
          1962,
          1963,
          1964,
          1965,
          1966,
          1967,
          1968,
          1969,
          1970,
          1971,
          1972,
          1973,
          1974,
          1975,
          1976,
          1977,
          1978,
          1979,
          1980,
          1981,
          1982,
          1983,
          1984,
          1985,
          1986,
          1987,
          1988,
          1989,
          1990,
          1991,
          1992,
          1993,
          1994,
          1995,
          1996,
          1997,
          1998,
          1999,
          2000,
          2001,
          2002,
          2003,
          2004,
          2005,
          2006,
          2007,
          2008,
          2009,
          2010,
          2011,
          2012,
          2013,
          2014,
          2015,
          2016,
          2017,
          2018,
          2019,
          2020
         ],
         "xaxis": "x",
         "y": [
          0.0023709909140327717,
          0.0024137318470488964,
          0.002314614706340013,
          0.002282296208983616,
          0.002261834692676364,
          0.002395162799112659,
          0.0021143345463007167,
          0.002097535395909806,
          0.0020190913322746195,
          0.002058101191250392,
          0.0021249029220235843,
          0.0020817436559644694,
          0.0019934498299758793,
          0.001788178906104986,
          0.001802441233878424,
          0.0019154396478802563,
          0.0018842539888729091,
          0.0015832836842780919,
          0.0015551919708155797,
          0.0016521979714245443,
          0.0015507963339174667,
          0.0013920798399661223,
          0.0014026863669104473,
          0.0013659572729872145,
          0.0011944184532769212,
          0.0012566054875993297,
          0.001193264683784859,
          0.0010871384507480054,
          0.0010253866134118674,
          0.0010270905137535593,
          0.0010190191326980833,
          0.0009685049635879384,
          0.0009143577695316543,
          0.0008497230134418245,
          0.0006671267540832758,
          0.0008767729244252744,
          0.0007459650074596501,
          0.0006755803287941862,
          0.0005980435432656026,
          0.0005955132079496569,
          0.0005813714493766406,
          0.0004677888078422931,
          0.0004529428126808952,
          0.0004269088488620701,
          0.0004000807059355077,
          0.0003556417717426447,
          0.00034672415252615796,
          0.00034081131088627815,
          0.0003185670561139547,
          0.00028520226904230425,
          0.0003009516887364572,
          0.000287381809795817,
          0.00027517494959079585,
          0.00027477083265245846,
          0.00031347962382445143,
          0.0002763591075411039,
          0.00026870739692420404,
          0.00030272331803825754,
          0.0003232847647863866,
          0.0003767327063843871,
          0.00035446951680707136,
          0.00037355118405284476,
          0.0003990232098500396,
          0.0004891316514069531,
          0.000544028648482149,
          0.0007052922751403565,
          0.0008298344046867066,
          0.0009694108599496647,
          0.0012193460252464022,
          0.0014979727512727551,
          0.002102952540760541,
          0.002379274076808304,
          0.0034500426221218882,
          0.003673761697849455,
          0.004185935649379051,
          0.0053824317638873085,
          0.006162824403465799,
          0.006586002144651974,
          0.0070403418475596495,
          0.008093410571097854,
          0.008707387460067278,
          0.00871005207190658,
          0.00901791554208987,
          0.008425404975267618,
          0.007973032929124805,
          0.00899627480757499,
          0.011219643682291934,
          0.010680331947835284,
          0.010668052195132038,
          0.010828526651883547,
          0.01093412879599204,
          0.011651889151580832,
          0.011781473066605113,
          0.012599639286789512,
          0.012447126843424982,
          0.012403676794363716,
          0.012138122136944741,
          0.01132623681151367,
          0.010251242027228455,
          0.009394096952590601,
          0.008249764264732323,
          0.007251581336630101,
          0.006680541876498244,
          0.006811121538870251,
          0.005519732779057953,
          0.0053835001853422635,
          0.004941263858349579,
          0.004371250999842113,
          0.0037645673652288757,
          0.0036030555783021184,
          0.003360284272324647,
          0.0030503797893323263,
          0.0027760149144831717,
          0.0026317934002102763,
          0.0024287263764231656,
          0.0023822434099523,
          0.002209506224615307,
          0.002026354100349079,
          0.0020103980062458116,
          0.0017017436236226788,
          0.0015757608847313473
         ],
         "yaxis": "y"
        },
        {
         "hovertemplate": "firstname=ANTOINE<br>year=%{x}<br>proportion=%{y}<extra></extra>",
         "legendgroup": "ANTOINE",
         "line": {
          "color": "#EF553B",
          "dash": "solid"
         },
         "mode": "lines",
         "name": "ANTOINE",
         "showlegend": true,
         "type": "scattergl",
         "x": [
          1900,
          1901,
          1902,
          1903,
          1904,
          1905,
          1906,
          1907,
          1908,
          1909,
          1910,
          1911,
          1912,
          1913,
          1914,
          1915,
          1916,
          1917,
          1918,
          1919,
          1920,
          1921,
          1922,
          1923,
          1924,
          1925,
          1926,
          1927,
          1928,
          1929,
          1930,
          1931,
          1932,
          1933,
          1934,
          1935,
          1936,
          1937,
          1938,
          1939,
          1940,
          1941,
          1942,
          1943,
          1944,
          1945,
          1946,
          1947,
          1948,
          1949,
          1950,
          1951,
          1952,
          1953,
          1954,
          1955,
          1956,
          1957,
          1958,
          1959,
          1960,
          1961,
          1962,
          1963,
          1964,
          1965,
          1966,
          1967,
          1968,
          1969,
          1970,
          1971,
          1972,
          1973,
          1974,
          1975,
          1976,
          1977,
          1978,
          1979,
          1980,
          1981,
          1982,
          1983,
          1984,
          1985,
          1986,
          1987,
          1988,
          1989,
          1990,
          1991,
          1992,
          1993,
          1994,
          1995,
          1996,
          1997,
          1998,
          1999,
          2000,
          2001,
          2002,
          2003,
          2004,
          2005,
          2006,
          2007,
          2008,
          2009,
          2010,
          2011,
          2012,
          2013,
          2014,
          2015,
          2016,
          2017,
          2018,
          2019,
          2020
         ],
         "xaxis": "x",
         "y": [
          0.005055039993787373,
          0.004854110227827863,
          0.004655163471014368,
          0.004581768682945472,
          0.004590935844614479,
          0.004282509966138772,
          0.004188548892481876,
          0.004181006857172707,
          0.004174193560746106,
          0.004012914776248441,
          0.0039940653153788435,
          0.003946312926767232,
          0.003962926627768885,
          0.0038777569289635363,
          0.0039541638260317345,
          0.00392263688368292,
          0.004046863680647498,
          0.004124437539294073,
          0.003604692170273286,
          0.0033983598085225225,
          0.0033853883969418297,
          0.003280315264210749,
          0.003261946322110194,
          0.003370777337527062,
          0.0033115007526138074,
          0.0033915687152712383,
          0.0033509271477185918,
          0.00319446547697801,
          0.0031267181940556016,
          0.0029562901682922255,
          0.0030248293833553047,
          0.003080901206285349,
          0.0027650304419970955,
          0.0027277100626050786,
          0.0026241414440172205,
          0.0025751974892255117,
          0.002434384639728462,
          0.0023019120863613913,
          0.002214185023280981,
          0.002142069897251751,
          0.0021708449069316313,
          0.0020263948799894025,
          0.001860636450431893,
          0.001678013148792545,
          0.001648608426182523,
          0.0015127537563598618,
          0.001259339229576614,
          0.0011641574480768906,
          0.0012979074759695752,
          0.0013283239538466375,
          0.001352579099189134,
          0.0013896034012760698,
          0.0013675720555094296,
          0.001295175290476346,
          0.0012743367083438426,
          0.0012997325712741,
          0.0013338972573771026,
          0.0014862046361956976,
          0.0014751364082104751,
          0.0015808690202485027,
          0.0016692076242955066,
          0.0017621871073797242,
          0.0017384344522706405,
          0.0016744644176311253,
          0.0016908100154455384,
          0.00174975376539598,
          0.0014761369125431104,
          0.00115240598046585,
          0.0010481484457705464,
          0.001203479656208297,
          0.001292175657575754,
          0.0013919865159644843,
          0.0012585272211047744,
          0.0014667502186353025,
          0.0016426756569474,
          0.0017474053477746707,
          0.0018903357956239276,
          0.0023220392332602446,
          0.0025282025587246622,
          0.0026474386851886647,
          0.0029057824323415827,
          0.003116133614454695,
          0.0034106941927981977,
          0.0035748989311292123,
          0.0036596667445505356,
          0.003931570681307841,
          0.004090722390511886,
          0.00501014111810862,
          0.005392187273817648,
          0.005310217910117767,
          0.005903280238638797,
          0.006382889395613191,
          0.006900596253386888,
          0.007478749715115347,
          0.008683812533387082,
          0.008711745926904447,
          0.009239813478709684,
          0.00880361267421657,
          0.00834745941847351,
          0.008182696008589197,
          0.007732375474219164,
          0.007417727977393591,
          0.006756200705618133,
          0.006160981164619014,
          0.005321840530723104,
          0.005156604318672606,
          0.0048037566456464835,
          0.004308618149695122,
          0.004132503476027994,
          0.004020292533798143,
          0.003646101555258008,
          0.0037034705610810357,
          0.003229888075406276,
          0.003049941285624396,
          0.002965025537736871,
          0.0029010797851989883,
          0.0029370952170523217,
          0.0029360577496547295,
          0.002754989860410927,
          0.0026337210674091025,
          0.002206671883815313
         ],
         "yaxis": "y"
        },
        {
         "hovertemplate": "firstname=CLÉMENT<br>year=%{x}<br>proportion=%{y}<extra></extra>",
         "legendgroup": "CLÉMENT",
         "line": {
          "color": "#00cc96",
          "dash": "solid"
         },
         "mode": "lines",
         "name": "CLÉMENT",
         "showlegend": true,
         "type": "scattergl",
         "x": [
          1900,
          1901,
          1902,
          1903,
          1904,
          1905,
          1906,
          1907,
          1908,
          1909,
          1910,
          1911,
          1912,
          1913,
          1914,
          1915,
          1916,
          1917,
          1918,
          1919,
          1920,
          1921,
          1922,
          1923,
          1924,
          1925,
          1926,
          1927,
          1928,
          1929,
          1930,
          1931,
          1932,
          1933,
          1934,
          1935,
          1936,
          1937,
          1938,
          1939,
          1940,
          1941,
          1942,
          1943,
          1944,
          1945,
          1946,
          1947,
          1948,
          1949,
          1950,
          1951,
          1952,
          1953,
          1954,
          1955,
          1956,
          1957,
          1958,
          1959,
          1960,
          1961,
          1962,
          1963,
          1964,
          1965,
          1966,
          1967,
          1968,
          1969,
          1970,
          1971,
          1972,
          1973,
          1974,
          1975,
          1976,
          1977,
          1978,
          1979,
          1980,
          1981,
          1982,
          1983,
          1984,
          1985,
          1986,
          1987,
          1988,
          1989,
          1990,
          1991,
          1992,
          1993,
          1994,
          1995,
          1996,
          1997,
          1998,
          1999,
          2000,
          2001,
          2002,
          2003,
          2004,
          2005,
          2006,
          2007,
          2008,
          2009,
          2010,
          2011,
          2012,
          2013,
          2014,
          2015,
          2016,
          2017,
          2018,
          2019,
          2020
         ],
         "xaxis": "x",
         "y": [
          0.001210976935621651,
          0.0012657103521783542,
          0.0012189007417140684,
          0.0013590719664032258,
          0.001318002186159926,
          0.001426818010801876,
          0.001309924533903575,
          0.0012416445159695979,
          0.001296892629933508,
          0.0012681422767648791,
          0.0012354524068756594,
          0.001162176439513999,
          0.0011285765919937449,
          0.0011339222868106643,
          0.0012159474023366362,
          0.0011326327259172173,
          0.0010741675201718667,
          0.001161952475156271,
          0.001089790656129133,
          0.0010597035962059478,
          0.0009475365600235721,
          0.0009638691286939099,
          0.0009560024592339124,
          0.0008382010538785181,
          0.0008038729099711159,
          0.0007612433747295687,
          0.0007955097891899058,
          0.0006981915563454932,
          0.0007204565419349946,
          0.0006889998766209523,
          0.0006798576442548959,
          0.0006410137018618887,
          0.0006367568686618381,
          0.0005686862191128164,
          0.0005471753918958888,
          0.0005115944175919578,
          0.0005199150051991501,
          0.00048331334227051437,
          0.000443192982955759,
          0.0004408575390194475,
          0.0004658801513523248,
          0.00040776281037580416,
          0.0003683684285703546,
          0.00029622246655735477,
          0.00023970352640101538,
          0.00027566491398233703,
          0.0002493166983047624,
          0.0002159596425418,
          0.0002262614073459537,
          0.00023467430799150232,
          0.00019079201399141435,
          0.00018330938484918368,
          0.00022535879492349662,
          0.00019972329245663282,
          0.00017895963199173663,
          0.00017498720783170333,
          0.00020484420393324971,
          0.00017758178892795422,
          0.00016403708435457393,
          0.0001455291451453707,
          0.00019086820135765382,
          0.00014617220245546097,
          0.00016100936537808615,
          0.00013655391641109445,
          0.0001473641756580974,
          0.0001313999939353849,
          0.00012160395618204112,
          0.00012508527225156964,
          0.00010597945396124413,
          0.00010318852543597152,
          0.00013244224654296945,
          0.00014119991016572645,
          0.0001275307584052838,
          0.0001457568683620371,
          0.00018798008639712207,
          0.0003359886134252584,
          0.00040664200254700766,
          0.0005601702917686977,
          0.0007576504462844741,
          0.0009328444002401746,
          0.0012449796196836258,
          0.0016535092449015765,
          0.002012334633958084,
          0.0024632413216729245,
          0.0027880674911855588,
          0.003000921563282842,
          0.003727473430199723,
          0.004240949328191529,
          0.005038050333974399,
          0.005331026993282568,
          0.006402185780930838,
          0.006701705864911033,
          0.006755659575952858,
          0.006887877841460635,
          0.007136202378922057,
          0.0073370761778952,
          0.007182110165848423,
          0.007531933657058579,
          0.008185174224747264,
          0.007552011236182669,
          0.0073508012412157086,
          0.007311760434859396,
          0.006711070877722059,
          0.006151636231108215,
          0.005773406734977123,
          0.005814866164417716,
          0.005427037002291358,
          0.005083699670264141,
          0.005123994469339303,
          0.0046740937444352156,
          0.0030809043155834792,
          0.0028025200386084183,
          0.0034475888648025322,
          0.003906276092494847,
          0.0033475231939356733,
          0.0030166825849887013,
          0.0027668084315883392,
          0.0024962957959619504,
          0.0023388944124951272,
          0.0022473633296368825,
          0.0018457179949163134
         ],
         "yaxis": "y"
        },
        {
         "hovertemplate": "firstname=HUGO<br>year=%{x}<br>proportion=%{y}<extra></extra>",
         "legendgroup": "HUGO",
         "line": {
          "color": "#ab63fa",
          "dash": "solid"
         },
         "mode": "lines",
         "name": "HUGO",
         "showlegend": true,
         "type": "scattergl",
         "x": [
          1900,
          1901,
          1902,
          1903,
          1904,
          1905,
          1906,
          1907,
          1908,
          1909,
          1910,
          1911,
          1912,
          1913,
          1914,
          1915,
          1916,
          1917,
          1919,
          1920,
          1921,
          1922,
          1924,
          1925,
          1926,
          1927,
          1928,
          1929,
          1930,
          1931,
          1932,
          1933,
          1934,
          1935,
          1936,
          1938,
          1939,
          1940,
          1941,
          1942,
          1943,
          1944,
          1945,
          1946,
          1947,
          1948,
          1949,
          1950,
          1951,
          1952,
          1953,
          1954,
          1955,
          1956,
          1957,
          1958,
          1959,
          1960,
          1961,
          1962,
          1963,
          1964,
          1965,
          1966,
          1967,
          1968,
          1969,
          1970,
          1971,
          1972,
          1973,
          1974,
          1975,
          1976,
          1977,
          1978,
          1979,
          1980,
          1981,
          1982,
          1983,
          1984,
          1985,
          1986,
          1987,
          1988,
          1989,
          1990,
          1991,
          1992,
          1993,
          1994,
          1995,
          1996,
          1997,
          1998,
          1999,
          2000,
          2001,
          2002,
          2003,
          2004,
          2005,
          2006,
          2007,
          2008,
          2009,
          2010,
          2011,
          2012,
          2013,
          2014,
          2015,
          2016,
          2017,
          2018,
          2019,
          2020
         ],
         "xaxis": "x",
         "y": [
          1.4560844917294401e-05,
          2.6646533730070613e-05,
          1.7289372222894586e-05,
          2.7911430589639706e-05,
          3.783738333473472e-05,
          2.2615271064583048e-05,
          2.0060100059779097e-05,
          3.616440337775528e-05,
          2.4903403529003844e-05,
          3.25164686349969e-05,
          2.068489570111454e-05,
          2.5434837901821526e-05,
          2.7661190980238844e-05,
          1.6540195431598023e-05,
          1.6810332751197737e-05,
          2.0071972358026638e-05,
          1.070598857314153e-05,
          1.9749900427585344e-05,
          1.0440429519270423e-05,
          6.203185335669867e-06,
          1.1060793280094048e-05,
          4.944840306382306e-06,
          1.9527277165290266e-05,
          2.2156771821650648e-05,
          6.3135697554754435e-06,
          1.7534491141096863e-05,
          7.89974278437494e-06,
          2.0830228828075302e-05,
          2.148534315929694e-05,
          1.0864639014608284e-05,
          1.411530004422794e-05,
          9.918945682200287e-06,
          1.3145354760261593e-05,
          1.3780321012577989e-05,
          1.0433077027407693e-05,
          1.4239131982514346e-05,
          8.888256835069507e-06,
          9.787398137653882e-06,
          2.8978067742442934e-05,
          1.8794307580120133e-05,
          5.2274552921886134e-06,
          5.173457404338461e-06,
          8.508176357479537e-06,
          4.638450201018835e-06,
          3.374369414715625e-06,
          7.879750504585452e-06,
          6.737061473440258e-06,
          3.407000249846685e-06,
          4.730564770301514e-06,
          1.067489028584984e-05,
          8.473109376948059e-06,
          8.407499489544673e-06,
          1.0861274968864345e-05,
          6.0248295274485204e-06,
          1.4301889041177522e-05,
          1.1973509806903207e-05,
          1.760433207403678e-05,
          9.484134228951743e-06,
          1.6241355828384555e-05,
          9.333876253802096e-06,
          1.5670121555371492e-05,
          1.9944023773276337e-05,
          1.5723076197396484e-05,
          2.0267326030340188e-05,
          3.822049985464628e-05,
          3.260906275730589e-05,
          3.246380575513711e-05,
          3.224680785394039e-05,
          9.450387688257282e-05,
          0.00015437933912218566,
          0.00015493840337696857,
          0.00017200792219344502,
          0.00015873477799618508,
          0.00016622865644658083,
          0.00018005473663993855,
          0.00023634372210299995,
          0.00022598484062156342,
          0.00024028106659893978,
          0.0002689741425364634,
          0.0002731562579096279,
          0.0003199014703471331,
          0.00040692133816738383,
          0.0005555339226146437,
          0.0007380500077013914,
          0.0009861766360592433,
          0.0013079802303699569,
          0.0018637135109475286,
          0.002055699799915369,
          0.0024167075573935243,
          0.002803451103330457,
          0.0026195319732025537,
          0.0026216346878915713,
          0.00349515631880229,
          0.004886189702995238,
          0.0057529652928386505,
          0.007740594618404778,
          0.009461622088822565,
          0.009955853801449465,
          0.009225717406804163,
          0.009620617429139533,
          0.00986157483489505,
          0.008169363889313155,
          0.007353009074515505,
          0.006557937443214019,
          0.006004924507842807,
          0.005704946223232648,
          0.0058140215013511454,
          0.005999588011123699,
          0.005877816945738386,
          0.006202493399707885,
          0.0072140529751956815,
          0.0065532815222871755,
          0.005987949784345729,
          0.00571516227908456,
          0.0053346286670182845,
          0.005387341062488777,
          0.005150944954344903,
          0.004745482009936848
         ],
         "yaxis": "y"
        },
        {
         "hovertemplate": "firstname=LUCAS<br>year=%{x}<br>proportion=%{y}<extra></extra>",
         "legendgroup": "LUCAS",
         "line": {
          "color": "#FFA15A",
          "dash": "solid"
         },
         "mode": "lines",
         "name": "LUCAS",
         "showlegend": true,
         "type": "scattergl",
         "x": [
          1902,
          1903,
          1904,
          1905,
          1906,
          1910,
          1911,
          1912,
          1913,
          1914,
          1917,
          1918,
          1920,
          1921,
          1922,
          1923,
          1924,
          1925,
          1926,
          1927,
          1928,
          1930,
          1931,
          1932,
          1933,
          1934,
          1935,
          1936,
          1937,
          1938,
          1939,
          1940,
          1943,
          1944,
          1946,
          1947,
          1948,
          1949,
          1950,
          1951,
          1952,
          1953,
          1954,
          1955,
          1956,
          1957,
          1958,
          1959,
          1960,
          1961,
          1962,
          1963,
          1964,
          1965,
          1966,
          1967,
          1968,
          1969,
          1970,
          1971,
          1972,
          1973,
          1974,
          1975,
          1976,
          1977,
          1978,
          1979,
          1980,
          1981,
          1982,
          1983,
          1984,
          1985,
          1986,
          1987,
          1988,
          1989,
          1990,
          1991,
          1992,
          1993,
          1994,
          1995,
          1996,
          1997,
          1998,
          1999,
          2000,
          2001,
          2002,
          2003,
          2004,
          2005,
          2006,
          2007,
          2008,
          2009,
          2010,
          2011,
          2012,
          2013,
          2014,
          2015,
          2016,
          2017,
          2018,
          2019,
          2020
         ],
         "xaxis": "x",
         "y": [
          1.0805857639309117e-05,
          8.58813248911991e-06,
          8.408307407718826e-06,
          6.16780119943174e-06,
          8.02404002391164e-06,
          1.1282670382426113e-05,
          5.869577977343429e-06,
          9.22039699341295e-06,
          5.513398477199341e-06,
          5.603444250399245e-06,
          1.3166600285056896e-05,
          1.1562765582271967e-05,
          1.0855574337422267e-05,
          7.900566628638606e-06,
          9.889680612764611e-06,
          6.535680731996242e-06,
          4.8818192913225664e-06,
          6.330506234757328e-06,
          9.470354633213165e-06,
          7.97022324595312e-06,
          7.89974278437494e-06,
          9.20800421112726e-06,
          1.5520912878011834e-05,
          1.0978566701066176e-05,
          8.265788068500239e-06,
          8.215846725163496e-06,
          8.612700632861242e-06,
          5.2165385137038465e-06,
          5.291751922669866e-06,
          7.119565991257173e-06,
          8.888256835069507e-06,
          5.872438882592329e-06,
          8.712425486981022e-06,
          5.173457404338461e-06,
          3.4788376507641267e-06,
          5.623949024526042e-06,
          7.879750504585452e-06,
          1.6842653683600646e-05,
          1.135666749948895e-05,
          1.3009053118329165e-05,
          1.067489028584984e-05,
          4.8417767868274625e-06,
          1.6814998979089346e-05,
          9.65446663899053e-06,
          8.434761338427929e-06,
          9.534592694118348e-06,
          8.381456864832246e-06,
          8.21535496788383e-06,
          9.484134228951743e-06,
          3.480290534653833e-06,
          1.633428344415367e-05,
          5.596471984061248e-06,
          8.864010565900595e-06,
          1.4599999326153877e-05,
          1.57634758013757e-05,
          1.3898363583507739e-05,
          2.91152346047374e-05,
          3.1304384121025065e-05,
          4.491519665370268e-05,
          6.226137771087151e-05,
          6.0409306613029166e-05,
          7.000920448885247e-05,
          7.126042490871294e-05,
          8.069017881472742e-05,
          9.891291953846133e-05,
          9.336171529478295e-05,
          9.993963106069711e-05,
          0.00011956174707303647,
          0.00010457828805342457,
          0.00016237609526394793,
          0.0001679033878894043,
          0.00021726641527742787,
          0.00032947501896778494,
          0.00037641317186506236,
          0.0005583508753914874,
          0.0007068248880319214,
          0.0009913249374444238,
          0.0013864051658548956,
          0.0017409452562180349,
          0.0019168348215808575,
          0.0021136598792462756,
          0.003488957730151629,
          0.0038774822722525337,
          0.004818912373403787,
          0.006401743640012814,
          0.00803507622471674,
          0.009446634764215978,
          0.010855340900650268,
          0.010739697819076901,
          0.011827809284588264,
          0.01236822753928286,
          0.011069741238791087,
          0.009059214938872545,
          0.008990089135777389,
          0.009238685533855689,
          0.009714616028007323,
          0.009127397555613221,
          0.009722530925577145,
          0.008911834380471727,
          0.008003640522052961,
          0.007560154686306357,
          0.0075573884593855495,
          0.007316939430292477,
          0.006905891063628332,
          0.006455417230770963,
          0.0058462471490922365,
          0.005812196414571225,
          0.005510759030743459,
          0.004921409115450646
         ],
         "yaxis": "y"
        },
        {
         "hovertemplate": "firstname=MAXIME<br>year=%{x}<br>proportion=%{y}<extra></extra>",
         "legendgroup": "MAXIME",
         "line": {
          "color": "#19d3f3",
          "dash": "solid"
         },
         "mode": "lines",
         "name": "MAXIME",
         "showlegend": true,
         "type": "scattergl",
         "x": [
          1900,
          1901,
          1902,
          1903,
          1904,
          1905,
          1906,
          1907,
          1908,
          1909,
          1910,
          1911,
          1912,
          1913,
          1914,
          1915,
          1916,
          1917,
          1918,
          1919,
          1920,
          1921,
          1922,
          1923,
          1924,
          1925,
          1926,
          1927,
          1928,
          1929,
          1930,
          1931,
          1932,
          1933,
          1934,
          1935,
          1936,
          1937,
          1938,
          1939,
          1940,
          1941,
          1942,
          1943,
          1944,
          1945,
          1946,
          1947,
          1948,
          1949,
          1950,
          1951,
          1952,
          1953,
          1954,
          1955,
          1956,
          1957,
          1958,
          1959,
          1960,
          1961,
          1962,
          1963,
          1964,
          1965,
          1966,
          1967,
          1968,
          1969,
          1970,
          1971,
          1972,
          1973,
          1974,
          1975,
          1976,
          1977,
          1978,
          1979,
          1980,
          1981,
          1982,
          1983,
          1984,
          1985,
          1986,
          1987,
          1988,
          1989,
          1990,
          1991,
          1992,
          1993,
          1994,
          1995,
          1996,
          1997,
          1998,
          1999,
          2000,
          2001,
          2002,
          2003,
          2004,
          2005,
          2006,
          2007,
          2008,
          2009,
          2010,
          2011,
          2012,
          2013,
          2014,
          2015,
          2016,
          2017,
          2018,
          2019,
          2020
         ],
         "xaxis": "x",
         "y": [
          0.0007426030907820145,
          0.000768308389217036,
          0.0008406957243382492,
          0.000760049725287112,
          0.0007483393592869755,
          0.000781254818594687,
          0.0008204580924449651,
          0.0008458452123352761,
          0.0008735347699404426,
          0.0008760319196957989,
          0.000932700751613892,
          0.000995871730155935,
          0.0007542284740611792,
          0.0008913327538138934,
          0.0007919534540564267,
          0.0007512652511147114,
          0.0007458505372621932,
          0.0007504962162482431,
          0.00069087524354075,
          0.0007203896368296592,
          0.0006699440162523456,
          0.0006826089567143756,
          0.0007384294857530909,
          0.000704219598872595,
          0.0006492819657459014,
          0.0007248429638797141,
          0.0006629248243249215,
          0.0006519642615189651,
          0.0006224997314087453,
          0.000663362671909475,
          0.0005494109179305931,
          0.000516846398837794,
          0.00048148856817533086,
          0.0004942941264963142,
          0.0005307436984455618,
          0.00048058869531365735,
          0.0004920934664593962,
          0.0003951174768926833,
          0.0003951359125147731,
          0.0003519749706687524,
          0.00034647389407294743,
          0.00038913405254137654,
          0.00029131176749186205,
          0.0002578877944146383,
          0.0002586728702169231,
          0.0002484387496384025,
          0.00022496483474941352,
          0.0002024621648829375,
          0.00021725597819785604,
          0.0002638682410430768,
          0.0002589320189883481,
          0.0002755553978700632,
          0.00023010319060609656,
          0.00021545906701382207,
          0.0002246003435064077,
          0.00019912337442917966,
          0.00022894352204304378,
          0.00020141827066325012,
          0.0001855894020069997,
          0.00021594647344151782,
          0.00021220750337279522,
          0.00021693810999342226,
          0.0001936779322663935,
          0.00020483087461664167,
          0.00023046427471341545,
          0.00021899998989230815,
          0.00021280692331857197,
          0.00027796727167015475,
          0.00023990953314303616,
          0.0002376814349929681,
          0.0002556711194133845,
          0.00030130059570796744,
          0.000371405366583809,
          0.0004671105938846386,
          0.0005627116311756988,
          0.0008981742854950805,
          0.0011842074533632454,
          0.001305730275337036,
          0.0016746640880441139,
          0.0019313820681028967,
          0.002035541678182728,
          0.0026190892312421524,
          0.0037139226992850324,
          0.0037948311919928663,
          0.004126969958704047,
          0.0053450670404838856,
          0.006206037890845613,
          0.0074515454648218194,
          0.008426908203569287,
          0.0101483297459341,
          0.010414326686483578,
          0.01057998357373582,
          0.011986800026303323,
          0.011579681885837927,
          0.010762797030505398,
          0.010599680757375605,
          0.010634889776650886,
          0.010372477548645178,
          0.009816208608752219,
          0.009473776613344318,
          0.008837000541964759,
          0.008631775872106335,
          0.008015853843070315,
          0.007020715047612436,
          0.006324583131345999,
          0.005536522979142729,
          0.005096762668976445,
          0.005169819839216255,
          0.005543570736040052,
          0.004741683531618373,
          0.004594963435987229,
          0.004596552520038609,
          0.0037431341788919954,
          0.003597674937444809,
          0.0034505033321430433,
          0.0030565930753922925,
          0.0028216942550023504,
          0.002423002137013154,
          0.0021622363451343843,
          0.0018300379869287213,
          0.001595476853452721
         ],
         "yaxis": "y"
        },
        {
         "hovertemplate": "firstname=NICOLAS<br>year=%{x}<br>proportion=%{y}<extra></extra>",
         "legendgroup": "NICOLAS",
         "line": {
          "color": "#FF6692",
          "dash": "solid"
         },
         "mode": "lines",
         "name": "NICOLAS",
         "showlegend": true,
         "type": "scattergl",
         "x": [
          1900,
          1901,
          1902,
          1903,
          1904,
          1905,
          1906,
          1907,
          1908,
          1909,
          1910,
          1911,
          1912,
          1913,
          1914,
          1915,
          1916,
          1917,
          1918,
          1919,
          1920,
          1921,
          1922,
          1923,
          1924,
          1925,
          1926,
          1927,
          1928,
          1929,
          1930,
          1931,
          1932,
          1933,
          1934,
          1935,
          1936,
          1937,
          1938,
          1939,
          1940,
          1941,
          1942,
          1943,
          1944,
          1945,
          1946,
          1947,
          1948,
          1949,
          1950,
          1951,
          1952,
          1953,
          1954,
          1955,
          1956,
          1957,
          1958,
          1959,
          1960,
          1961,
          1962,
          1963,
          1964,
          1965,
          1966,
          1967,
          1968,
          1969,
          1970,
          1971,
          1972,
          1973,
          1974,
          1975,
          1976,
          1977,
          1978,
          1979,
          1980,
          1981,
          1982,
          1983,
          1984,
          1985,
          1986,
          1987,
          1988,
          1989,
          1990,
          1991,
          1992,
          1993,
          1994,
          1995,
          1996,
          1997,
          1998,
          1999,
          2000,
          2001,
          2002,
          2003,
          2004,
          2005,
          2006,
          2007,
          2008,
          2009,
          2010,
          2011,
          2012,
          2013,
          2014,
          2015,
          2016,
          2017,
          2018,
          2019,
          2020
         ],
         "xaxis": "x",
         "y": [
          0.0009051991923584685,
          0.0007039125993693653,
          0.0008126004944760455,
          0.0008051374208549915,
          0.0007966871268813587,
          0.0006907937343363548,
          0.0007683018322895395,
          0.0007031967323452414,
          0.0007126204702145716,
          0.0007115368430716969,
          0.0006562753272444522,
          0.0007395668251452721,
          0.0006638685835257323,
          0.0006395542233551235,
          0.00056968349879059,
          0.0006824470601729057,
          0.0006102413486690672,
          0.0005562888620436539,
          0.0005550127479490545,
          0.0005611730866607852,
          0.0004233673991594684,
          0.00039028799145474714,
          0.00038240098369356494,
          0.0003921408439197745,
          0.00043936373621903096,
          0.00041781341149398364,
          0.00044194988288328104,
          0.00043198609993065905,
          0.000402886882003122,
          0.00043583248009511404,
          0.00042663752844889635,
          0.0003833665480868923,
          0.000412480434625772,
          0.00039841098490171154,
          0.0003401360544217687,
          0.0003445080253144497,
          0.00029734269528111927,
          0.000289282438439286,
          0.00030792122912187274,
          0.00031464429196146053,
          0.00027991958673690104,
          0.00027736150553481096,
          0.00027627632142776596,
          0.000297964951654751,
          0.0002862646430400615,
          0.00028417309033981655,
          0.0002493166983047624,
          0.00022495796098104167,
          0.0002555290520772711,
          0.0002638682410430768,
          0.000270288686487837,
          0.0002672769095220356,
          0.0003190606096548452,
          0.0003219781563240262,
          0.000361522478050421,
          0.0003451471823439114,
          0.0003855890897567053,
          0.0004064120135867946,
          0.0005783205236734249,
          0.0007088677715145476,
          0.0010456257987419297,
          0.0013561532116701102,
          0.001674264053025751,
          0.0019408564840724407,
          0.002444250913547089,
          0.002684153722269828,
          0.0028036467675303925,
          0.0032695900330201957,
          0.004290420971354103,
          0.005037687000216812,
          0.005849340610362973,
          0.0068176208593404295,
          0.00893386523354909,
          0.009312371888894245,
          0.009386718039699428,
          0.01133498593874425,
          0.014064867642149542,
          0.02031150803177499,
          0.0182821998063332,
          0.017304920557131464,
          0.02714678060720146,
          0.025814080610434956,
          0.022303584361428333,
          0.019382030334656925,
          0.017833655807555086,
          0.01796659008605584,
          0.01605098321096678,
          0.014176776384772601,
          0.013892766300638997,
          0.012415219243199657,
          0.011952836447792539,
          0.011259600574132046,
          0.011193674319233769,
          0.012218386244502782,
          0.013033470945663097,
          0.012575682518714222,
          0.012110740855336475,
          0.01070698442054978,
          0.009803934938638468,
          0.008837689830039233,
          0.00862357766587808,
          0.007412495012330174,
          0.006103145549004357,
          0.005225152823037664,
          0.004272613173779942,
          0.003689696157412965,
          0.0029429113746737416,
          0.0026214457488605387,
          0.0018383895500980517,
          0.0015129713900229676,
          0.0013621382222679989,
          0.0010806160560661378,
          0.0009723968593032783,
          0.0009485143726646174,
          0.0008813494945280099,
          0.0008312391794403173,
          0.0007402549516864021,
          0.0006208404052133349,
          0.000636553036109785,
          0.0005574168888469433,
          0.0005232314776056927
         ],
         "yaxis": "y"
        },
        {
         "hovertemplate": "firstname=QUENTIN<br>year=%{x}<br>proportion=%{y}<extra></extra>",
         "legendgroup": "QUENTIN",
         "line": {
          "color": "#B6E880",
          "dash": "solid"
         },
         "mode": "lines",
         "name": "QUENTIN",
         "showlegend": true,
         "type": "scattergl",
         "x": [
          1900,
          1901,
          1903,
          1904,
          1906,
          1907,
          1911,
          1912,
          1917,
          1918,
          1928,
          1929,
          1930,
          1933,
          1941,
          1942,
          1944,
          1945,
          1947,
          1949,
          1953,
          1955,
          1956,
          1957,
          1958,
          1959,
          1960,
          1961,
          1962,
          1963,
          1964,
          1965,
          1966,
          1967,
          1968,
          1969,
          1970,
          1971,
          1972,
          1973,
          1974,
          1975,
          1976,
          1977,
          1978,
          1979,
          1980,
          1981,
          1982,
          1983,
          1984,
          1985,
          1986,
          1987,
          1988,
          1989,
          1990,
          1991,
          1992,
          1993,
          1994,
          1995,
          1996,
          1997,
          1998,
          1999,
          2000,
          2001,
          2002,
          2003,
          2004,
          2005,
          2006,
          2007,
          2008,
          2009,
          2010,
          2011,
          2012,
          2013,
          2014,
          2015,
          2016,
          2017,
          2018,
          2019,
          2020
         ],
         "xaxis": "x",
         "y": [
          9.707229944862934e-06,
          1.3323266865035306e-05,
          8.58813248911991e-06,
          1.891869166736736e-05,
          6.018030017933729e-06,
          1.0045667604932021e-05,
          7.826103969791238e-06,
          9.22039699341295e-06,
          1.3166600285056896e-05,
          1.1562765582271967e-05,
          4.739845670624964e-06,
          4.806975883401993e-06,
          6.13866947408484e-06,
          4.959472841100144e-06,
          6.2095859448092e-06,
          7.517723032048054e-06,
          6.8979432057846155e-06,
          8.508176357479537e-06,
          8.998318439241667e-06,
          4.491374315626838e-06,
          1.3314886163775521e-05,
          1.3274891628611977e-05,
          1.0844693149407337e-05,
          1.1918240867647935e-05,
          1.3170860787593528e-05,
          1.1736221382691187e-05,
          9.484134228951743e-06,
          1.0440871603961499e-05,
          3.500203595175786e-06,
          1.3431532761746995e-05,
          9.972011886638169e-06,
          2.0215383682366906e-05,
          1.0133663015170094e-05,
          1.737295447938467e-05,
          1.7469140762842437e-05,
          1.7391324511680592e-05,
          2.073009076324739e-05,
          4.1136981701825815e-05,
          4.2510252801761266e-05,
          3.787383193659232e-05,
          6.143140078337322e-05,
          7.275343991491816e-05,
          0.00012776252107051254,
          0.00020272829606867153,
          0.0002849630020784742,
          0.0003534297798093056,
          0.00047682719433882865,
          0.0005280321876522276,
          0.0006778786033445353,
          0.0006944527752119014,
          0.0008663486554531398,
          0.0012655270433394338,
          0.0018534681932535811,
          0.002592124359602359,
          0.003846392456107699,
          0.004884932272937137,
          0.0057935732607525894,
          0.006297609270080846,
          0.007738008167450175,
          0.008241255799688808,
          0.009526682180354372,
          0.009595167327168648,
          0.009268563824398364,
          0.009945359270056244,
          0.010236240874867205,
          0.009138851937633785,
          0.008412741733743968,
          0.007326151088783793,
          0.006368615124863615,
          0.005550890505414054,
          0.005392231733150936,
          0.0046183862163399324,
          0.004042969076298511,
          0.003683594499269936,
          0.0036445040027575843,
          0.003053238655639133,
          0.002638016273560614,
          0.0024064690083511688,
          0.0019329191300940336,
          0.001709997742268606,
          0.0014631204051800348,
          0.0012000671597217826,
          0.0010118694111454813,
          0.0007616792008404339,
          0.000636553036109785,
          0.0004969563268291532,
          0.00036853695379183575
         ],
         "yaxis": "y"
        },
        {
         "hovertemplate": "firstname=THÉO<br>year=%{x}<br>proportion=%{y}<extra></extra>",
         "legendgroup": "THÉO",
         "line": {
          "color": "#FF97FF",
          "dash": "solid"
         },
         "mode": "lines",
         "name": "THÉO",
         "showlegend": true,
         "type": "scattergl",
         "x": [
          1901,
          1902,
          1903,
          1904,
          1906,
          1907,
          1909,
          1910,
          1911,
          1912,
          1913,
          1914,
          1916,
          1917,
          1918,
          1919,
          1920,
          1921,
          1922,
          1923,
          1924,
          1925,
          1926,
          1927,
          1928,
          1929,
          1930,
          1931,
          1932,
          1933,
          1934,
          1935,
          1936,
          1937,
          1938,
          1939,
          1940,
          1941,
          1942,
          1943,
          1944,
          1945,
          1946,
          1947,
          1948,
          1949,
          1950,
          1951,
          1952,
          1953,
          1954,
          1955,
          1956,
          1957,
          1958,
          1959,
          1960,
          1961,
          1962,
          1963,
          1964,
          1965,
          1966,
          1967,
          1968,
          1969,
          1970,
          1971,
          1972,
          1973,
          1974,
          1975,
          1976,
          1977,
          1978,
          1979,
          1980,
          1981,
          1982,
          1983,
          1984,
          1985,
          1986,
          1987,
          1988,
          1989,
          1990,
          1991,
          1992,
          1993,
          1994,
          1995,
          1996,
          1997,
          1998,
          1999,
          2000,
          2001,
          2002,
          2003,
          2004,
          2005,
          2006,
          2007,
          2008,
          2009,
          2010,
          2011,
          2012,
          2013,
          2014,
          2015,
          2016,
          2017,
          2018,
          2019,
          2020
         ],
         "xaxis": "x",
         "y": [
          8.882177910023538e-06,
          8.644686111447293e-06,
          1.0735165611399887e-05,
          8.408307407718826e-06,
          6.018030017933729e-06,
          2.0091335209864042e-05,
          5.7382003473523946e-06,
          7.521780254950741e-06,
          7.826103969791238e-06,
          2.5817111581556254e-05,
          1.4702395939198241e-05,
          5.603444250399245e-06,
          2.141197714628306e-05,
          1.645825035632112e-05,
          1.445345697783996e-05,
          1.0440429519270423e-05,
          1.2406370671339733e-05,
          9.480679954366328e-06,
          1.648280102127435e-05,
          1.3071361463992483e-05,
          1.4645457873967698e-05,
          1.582626558689332e-05,
          1.1048747072082026e-05,
          9.564267895143743e-06,
          1.2639588454999905e-05,
          2.4034879417009965e-05,
          1.841600842225452e-05,
          1.7073004165813017e-05,
          1.8820400058970587e-05,
          1.487841852330043e-05,
          2.136120148542509e-05,
          2.9283182151728224e-05,
          1.564961554111154e-05,
          2.8222676920905948e-05,
          2.3138589471585813e-05,
          2.3109467771180716e-05,
          2.740471478543087e-05,
          3.3117791705649066e-05,
          3.195032288620423e-05,
          2.4394791363546864e-05,
          1.5520372213015384e-05,
          1.8717987986454984e-05,
          1.5074963153311216e-05,
          1.6871847073578125e-05,
          2.5890608800780772e-05,
          1.3474122946880516e-05,
          1.9306334749131214e-05,
          1.4191694310904543e-05,
          1.7791483809749732e-05,
          1.5735774557189252e-05,
          1.321178491214163e-05,
          1.0861274968864345e-05,
          1.2049659054897041e-05,
          1.7877361301471903e-05,
          2.2749668633116094e-05,
          1.4083465659229423e-05,
          1.4226201343427613e-05,
          1.7401452673269164e-05,
          1.0500610785527359e-05,
          1.3431532761746995e-05,
          1.4404017169588466e-05,
          1.684615306863909e-05,
          6.755775343446729e-06,
          6.9491817917538695e-06,
          1.164609384189496e-05,
          5.797108170560198e-06,
          6.910030254415797e-06,
          8.894482530124501e-06,
          1.2305599495246683e-05,
          8.033843138065037e-06,
          9.829024125339715e-06,
          1.0582318533079004e-05,
          1.6485486589743554e-05,
          2.1339820638807532e-05,
          1.0804284438994283e-05,
          1.83941149343133e-05,
          1.493975543620351e-05,
          2.3550731374160385e-05,
          4.3855362508426495e-05,
          3.7321838207165526e-05,
          5.7756577030209314e-05,
          7.138870500889114e-05,
          0.00010268521846280227,
          0.00013512828741786735,
          0.00021067270508923216,
          0.0005878565994056406,
          0.0009129187802673715,
          0.001193921757452827,
          0.0016251695960426919,
          0.0020075575326316025,
          0.0026963371816863314,
          0.0036313848524878907,
          0.004705473244380676,
          0.005555302141258658,
          0.00729465127093854,
          0.00821240706853126,
          0.01029733040318815,
          0.011594942339266208,
          0.011538635114722678,
          0.010491690351623149,
          0.008628898908936363,
          0.007354328236531026,
          0.006380591692251148,
          0.005762222213523216,
          0.005290533972122062,
          0.005343492598268402,
          0.003349984550417139,
          0.0030831654706450122,
          0.004182493953855349,
          0.004249611576684715,
          0.0038116025180649897,
          0.003874070016762406,
          0.0033958844076412325,
          0.0032177353409089276,
          0.0032221847492988425,
          0.0032014604912346933,
          0.0029316128875704465
         ],
         "yaxis": "y"
        },
        {
         "hovertemplate": "firstname=THOMAS<br>year=%{x}<br>proportion=%{y}<extra></extra>",
         "legendgroup": "THOMAS",
         "line": {
          "color": "#FECB52",
          "dash": "solid"
         },
         "mode": "lines",
         "name": "THOMAS",
         "showlegend": true,
         "type": "scattergl",
         "x": [
          1900,
          1901,
          1902,
          1903,
          1904,
          1905,
          1906,
          1907,
          1908,
          1909,
          1910,
          1911,
          1912,
          1913,
          1914,
          1915,
          1916,
          1917,
          1918,
          1919,
          1920,
          1921,
          1922,
          1923,
          1924,
          1925,
          1926,
          1927,
          1928,
          1929,
          1930,
          1931,
          1932,
          1933,
          1934,
          1935,
          1936,
          1937,
          1938,
          1939,
          1940,
          1941,
          1942,
          1943,
          1944,
          1945,
          1946,
          1947,
          1948,
          1949,
          1950,
          1951,
          1952,
          1953,
          1954,
          1955,
          1956,
          1957,
          1958,
          1959,
          1960,
          1961,
          1962,
          1963,
          1964,
          1965,
          1966,
          1967,
          1968,
          1969,
          1970,
          1971,
          1972,
          1973,
          1974,
          1975,
          1976,
          1977,
          1978,
          1979,
          1980,
          1981,
          1982,
          1983,
          1984,
          1985,
          1986,
          1987,
          1988,
          1989,
          1990,
          1991,
          1992,
          1993,
          1994,
          1995,
          1996,
          1997,
          1998,
          1999,
          2000,
          2001,
          2002,
          2003,
          2004,
          2005,
          2006,
          2007,
          2008,
          2009,
          2010,
          2011,
          2012,
          2013,
          2014,
          2015,
          2016,
          2017,
          2018,
          2019,
          2020
         ],
         "xaxis": "x",
         "y": [
          0.00022811990370427896,
          0.00015099702447040014,
          0.00019882778056328775,
          0.0001717626497823982,
          0.0001891869166736736,
          0.00019325777091552785,
          0.0001865589305559456,
          0.0001506850140739803,
          0.00018581770325487484,
          0.00017023327697145437,
          0.00018804450637376855,
          0.00012717418950910762,
          0.00017334346347616344,
          0.00014702395939198242,
          0.00015689643901117887,
          0.0002093219974479921,
          0.00019984512003197523,
          0.00015799920342068275,
          0.0001763321751296475,
          0.00014877612064960352,
          0.00014732565172215933,
          0.00015485110592131668,
          0.00014175208878295943,
          0.00013888321555492015,
          0.00015621821732232213,
          0.0002231503447751958,
          0.0001483688892536729,
          0.00016896873281420613,
          0.0001453552672324989,
          0.00012337904767398448,
          0.00017034807790585428,
          0.00016296958521912425,
          0.00016467850051599264,
          0.00012398682102750358,
          0.00012816720891255053,
          0.00011885526873348514,
          0.00012519692432889232,
          8.819586537783109e-05,
          0.00011569294735792906,
          8.177196288263945e-05,
          0.00012332121653443892,
          0.00011384240898816868,
          8.833324562656463e-05,
          6.795691879845198e-05,
          0.00010174466228532308,
          0.00010209811628975445,
          6.261907771375429e-05,
          7.198654751393333e-05,
          6.416368268019582e-05,
          7.859905052346968e-05,
          7.041133849683149e-05,
          9.106337182830415e-05,
          7.35381330802989e-05,
          0.0001053086451134973,
          9.128142302934217e-05,
          0.00013274891628611978,
          0.0001494157722807233,
          0.00017638996484118944,
          0.00015805032945112233,
          0.0001830850535699825,
          0.00019679578525074866,
          0.00019837656047526846,
          0.000196011401329844,
          0.00029549372075843386,
          0.0003024843605613578,
          0.00030772306272047403,
          0.0003400406922868187,
          0.0004111599226787706,
          0.00047166680059674583,
          0.0006110152011770449,
          0.0009213373672554396,
          0.0011674008320788406,
          0.0014576541947551298,
          0.001928122353135609,
          0.0028418166002388452,
          0.00308210027275926,
          0.0035278941302051207,
          0.004221283270114114,
          0.0049632181641629984,
          0.005326410138836152,
          0.006039396135085268,
          0.007000764779013571,
          0.007368953911773035,
          0.007910896777125979,
          0.008956207388116321,
          0.009262359980789949,
          0.010449504543820917,
          0.00992023533110978,
          0.010622815724714105,
          0.010537199487576327,
          0.012818737951822964,
          0.012852370918689992,
          0.01312482134541497,
          0.01263481023164991,
          0.011481632348153087,
          0.012195893879348305,
          0.01285688077916175,
          0.013255871494070797,
          0.012839622680105882,
          0.012706880136130675,
          0.013519369096108848,
          0.013222394473988893,
          0.010831158695057753,
          0.009152694878575939,
          0.008577101609036637,
          0.0074624995218037695,
          0.006821385841383502,
          0.006019277869334826,
          0.005467401506085147,
          0.004917157017574644,
          0.00421773612112473,
          0.00365494775273826,
          0.003485851427787329,
          0.003175519244822247,
          0.0029142041708293378,
          0.0027194182426722962,
          0.0022362454719195685,
          0.0019904258361584924,
          0.0017607407374963318,
          0.0015631267253379893,
          0.0013634350677319356
         ],
         "yaxis": "y"
        }
       ],
       "layout": {
        "legend": {
         "title": {
          "text": "firstname"
         },
         "tracegroupgap": 0
        },
        "template": {
         "data": {
          "bar": [
           {
            "error_x": {
             "color": "#2a3f5f"
            },
            "error_y": {
             "color": "#2a3f5f"
            },
            "marker": {
             "line": {
              "color": "#E5ECF6",
              "width": 0.5
             }
            },
            "type": "bar"
           }
          ],
          "barpolar": [
           {
            "marker": {
             "line": {
              "color": "#E5ECF6",
              "width": 0.5
             }
            },
            "type": "barpolar"
           }
          ],
          "carpet": [
           {
            "aaxis": {
             "endlinecolor": "#2a3f5f",
             "gridcolor": "white",
             "linecolor": "white",
             "minorgridcolor": "white",
             "startlinecolor": "#2a3f5f"
            },
            "baxis": {
             "endlinecolor": "#2a3f5f",
             "gridcolor": "white",
             "linecolor": "white",
             "minorgridcolor": "white",
             "startlinecolor": "#2a3f5f"
            },
            "type": "carpet"
           }
          ],
          "choropleth": [
           {
            "colorbar": {
             "outlinewidth": 0,
             "ticks": ""
            },
            "type": "choropleth"
           }
          ],
          "contour": [
           {
            "colorbar": {
             "outlinewidth": 0,
             "ticks": ""
            },
            "colorscale": [
             [
              0,
              "#0d0887"
             ],
             [
              0.1111111111111111,
              "#46039f"
             ],
             [
              0.2222222222222222,
              "#7201a8"
             ],
             [
              0.3333333333333333,
              "#9c179e"
             ],
             [
              0.4444444444444444,
              "#bd3786"
             ],
             [
              0.5555555555555556,
              "#d8576b"
             ],
             [
              0.6666666666666666,
              "#ed7953"
             ],
             [
              0.7777777777777778,
              "#fb9f3a"
             ],
             [
              0.8888888888888888,
              "#fdca26"
             ],
             [
              1,
              "#f0f921"
             ]
            ],
            "type": "contour"
           }
          ],
          "contourcarpet": [
           {
            "colorbar": {
             "outlinewidth": 0,
             "ticks": ""
            },
            "type": "contourcarpet"
           }
          ],
          "heatmap": [
           {
            "colorbar": {
             "outlinewidth": 0,
             "ticks": ""
            },
            "colorscale": [
             [
              0,
              "#0d0887"
             ],
             [
              0.1111111111111111,
              "#46039f"
             ],
             [
              0.2222222222222222,
              "#7201a8"
             ],
             [
              0.3333333333333333,
              "#9c179e"
             ],
             [
              0.4444444444444444,
              "#bd3786"
             ],
             [
              0.5555555555555556,
              "#d8576b"
             ],
             [
              0.6666666666666666,
              "#ed7953"
             ],
             [
              0.7777777777777778,
              "#fb9f3a"
             ],
             [
              0.8888888888888888,
              "#fdca26"
             ],
             [
              1,
              "#f0f921"
             ]
            ],
            "type": "heatmap"
           }
          ],
          "heatmapgl": [
           {
            "colorbar": {
             "outlinewidth": 0,
             "ticks": ""
            },
            "colorscale": [
             [
              0,
              "#0d0887"
             ],
             [
              0.1111111111111111,
              "#46039f"
             ],
             [
              0.2222222222222222,
              "#7201a8"
             ],
             [
              0.3333333333333333,
              "#9c179e"
             ],
             [
              0.4444444444444444,
              "#bd3786"
             ],
             [
              0.5555555555555556,
              "#d8576b"
             ],
             [
              0.6666666666666666,
              "#ed7953"
             ],
             [
              0.7777777777777778,
              "#fb9f3a"
             ],
             [
              0.8888888888888888,
              "#fdca26"
             ],
             [
              1,
              "#f0f921"
             ]
            ],
            "type": "heatmapgl"
           }
          ],
          "histogram": [
           {
            "marker": {
             "colorbar": {
              "outlinewidth": 0,
              "ticks": ""
             }
            },
            "type": "histogram"
           }
          ],
          "histogram2d": [
           {
            "colorbar": {
             "outlinewidth": 0,
             "ticks": ""
            },
            "colorscale": [
             [
              0,
              "#0d0887"
             ],
             [
              0.1111111111111111,
              "#46039f"
             ],
             [
              0.2222222222222222,
              "#7201a8"
             ],
             [
              0.3333333333333333,
              "#9c179e"
             ],
             [
              0.4444444444444444,
              "#bd3786"
             ],
             [
              0.5555555555555556,
              "#d8576b"
             ],
             [
              0.6666666666666666,
              "#ed7953"
             ],
             [
              0.7777777777777778,
              "#fb9f3a"
             ],
             [
              0.8888888888888888,
              "#fdca26"
             ],
             [
              1,
              "#f0f921"
             ]
            ],
            "type": "histogram2d"
           }
          ],
          "histogram2dcontour": [
           {
            "colorbar": {
             "outlinewidth": 0,
             "ticks": ""
            },
            "colorscale": [
             [
              0,
              "#0d0887"
             ],
             [
              0.1111111111111111,
              "#46039f"
             ],
             [
              0.2222222222222222,
              "#7201a8"
             ],
             [
              0.3333333333333333,
              "#9c179e"
             ],
             [
              0.4444444444444444,
              "#bd3786"
             ],
             [
              0.5555555555555556,
              "#d8576b"
             ],
             [
              0.6666666666666666,
              "#ed7953"
             ],
             [
              0.7777777777777778,
              "#fb9f3a"
             ],
             [
              0.8888888888888888,
              "#fdca26"
             ],
             [
              1,
              "#f0f921"
             ]
            ],
            "type": "histogram2dcontour"
           }
          ],
          "mesh3d": [
           {
            "colorbar": {
             "outlinewidth": 0,
             "ticks": ""
            },
            "type": "mesh3d"
           }
          ],
          "parcoords": [
           {
            "line": {
             "colorbar": {
              "outlinewidth": 0,
              "ticks": ""
             }
            },
            "type": "parcoords"
           }
          ],
          "pie": [
           {
            "automargin": true,
            "type": "pie"
           }
          ],
          "scatter": [
           {
            "marker": {
             "colorbar": {
              "outlinewidth": 0,
              "ticks": ""
             }
            },
            "type": "scatter"
           }
          ],
          "scatter3d": [
           {
            "line": {
             "colorbar": {
              "outlinewidth": 0,
              "ticks": ""
             }
            },
            "marker": {
             "colorbar": {
              "outlinewidth": 0,
              "ticks": ""
             }
            },
            "type": "scatter3d"
           }
          ],
          "scattercarpet": [
           {
            "marker": {
             "colorbar": {
              "outlinewidth": 0,
              "ticks": ""
             }
            },
            "type": "scattercarpet"
           }
          ],
          "scattergeo": [
           {
            "marker": {
             "colorbar": {
              "outlinewidth": 0,
              "ticks": ""
             }
            },
            "type": "scattergeo"
           }
          ],
          "scattergl": [
           {
            "marker": {
             "colorbar": {
              "outlinewidth": 0,
              "ticks": ""
             }
            },
            "type": "scattergl"
           }
          ],
          "scattermapbox": [
           {
            "marker": {
             "colorbar": {
              "outlinewidth": 0,
              "ticks": ""
             }
            },
            "type": "scattermapbox"
           }
          ],
          "scatterpolar": [
           {
            "marker": {
             "colorbar": {
              "outlinewidth": 0,
              "ticks": ""
             }
            },
            "type": "scatterpolar"
           }
          ],
          "scatterpolargl": [
           {
            "marker": {
             "colorbar": {
              "outlinewidth": 0,
              "ticks": ""
             }
            },
            "type": "scatterpolargl"
           }
          ],
          "scatterternary": [
           {
            "marker": {
             "colorbar": {
              "outlinewidth": 0,
              "ticks": ""
             }
            },
            "type": "scatterternary"
           }
          ],
          "surface": [
           {
            "colorbar": {
             "outlinewidth": 0,
             "ticks": ""
            },
            "colorscale": [
             [
              0,
              "#0d0887"
             ],
             [
              0.1111111111111111,
              "#46039f"
             ],
             [
              0.2222222222222222,
              "#7201a8"
             ],
             [
              0.3333333333333333,
              "#9c179e"
             ],
             [
              0.4444444444444444,
              "#bd3786"
             ],
             [
              0.5555555555555556,
              "#d8576b"
             ],
             [
              0.6666666666666666,
              "#ed7953"
             ],
             [
              0.7777777777777778,
              "#fb9f3a"
             ],
             [
              0.8888888888888888,
              "#fdca26"
             ],
             [
              1,
              "#f0f921"
             ]
            ],
            "type": "surface"
           }
          ],
          "table": [
           {
            "cells": {
             "fill": {
              "color": "#EBF0F8"
             },
             "line": {
              "color": "white"
             }
            },
            "header": {
             "fill": {
              "color": "#C8D4E3"
             },
             "line": {
              "color": "white"
             }
            },
            "type": "table"
           }
          ]
         },
         "layout": {
          "annotationdefaults": {
           "arrowcolor": "#2a3f5f",
           "arrowhead": 0,
           "arrowwidth": 1
          },
          "autotypenumbers": "strict",
          "coloraxis": {
           "colorbar": {
            "outlinewidth": 0,
            "ticks": ""
           }
          },
          "colorscale": {
           "diverging": [
            [
             0,
             "#8e0152"
            ],
            [
             0.1,
             "#c51b7d"
            ],
            [
             0.2,
             "#de77ae"
            ],
            [
             0.3,
             "#f1b6da"
            ],
            [
             0.4,
             "#fde0ef"
            ],
            [
             0.5,
             "#f7f7f7"
            ],
            [
             0.6,
             "#e6f5d0"
            ],
            [
             0.7,
             "#b8e186"
            ],
            [
             0.8,
             "#7fbc41"
            ],
            [
             0.9,
             "#4d9221"
            ],
            [
             1,
             "#276419"
            ]
           ],
           "sequential": [
            [
             0,
             "#0d0887"
            ],
            [
             0.1111111111111111,
             "#46039f"
            ],
            [
             0.2222222222222222,
             "#7201a8"
            ],
            [
             0.3333333333333333,
             "#9c179e"
            ],
            [
             0.4444444444444444,
             "#bd3786"
            ],
            [
             0.5555555555555556,
             "#d8576b"
            ],
            [
             0.6666666666666666,
             "#ed7953"
            ],
            [
             0.7777777777777778,
             "#fb9f3a"
            ],
            [
             0.8888888888888888,
             "#fdca26"
            ],
            [
             1,
             "#f0f921"
            ]
           ],
           "sequentialminus": [
            [
             0,
             "#0d0887"
            ],
            [
             0.1111111111111111,
             "#46039f"
            ],
            [
             0.2222222222222222,
             "#7201a8"
            ],
            [
             0.3333333333333333,
             "#9c179e"
            ],
            [
             0.4444444444444444,
             "#bd3786"
            ],
            [
             0.5555555555555556,
             "#d8576b"
            ],
            [
             0.6666666666666666,
             "#ed7953"
            ],
            [
             0.7777777777777778,
             "#fb9f3a"
            ],
            [
             0.8888888888888888,
             "#fdca26"
            ],
            [
             1,
             "#f0f921"
            ]
           ]
          },
          "colorway": [
           "#636efa",
           "#EF553B",
           "#00cc96",
           "#ab63fa",
           "#FFA15A",
           "#19d3f3",
           "#FF6692",
           "#B6E880",
           "#FF97FF",
           "#FECB52"
          ],
          "font": {
           "color": "#2a3f5f"
          },
          "geo": {
           "bgcolor": "white",
           "lakecolor": "white",
           "landcolor": "#E5ECF6",
           "showlakes": true,
           "showland": true,
           "subunitcolor": "white"
          },
          "hoverlabel": {
           "align": "left"
          },
          "hovermode": "closest",
          "mapbox": {
           "style": "light"
          },
          "paper_bgcolor": "white",
          "plot_bgcolor": "#E5ECF6",
          "polar": {
           "angularaxis": {
            "gridcolor": "white",
            "linecolor": "white",
            "ticks": ""
           },
           "bgcolor": "#E5ECF6",
           "radialaxis": {
            "gridcolor": "white",
            "linecolor": "white",
            "ticks": ""
           }
          },
          "scene": {
           "xaxis": {
            "backgroundcolor": "#E5ECF6",
            "gridcolor": "white",
            "gridwidth": 2,
            "linecolor": "white",
            "showbackground": true,
            "ticks": "",
            "zerolinecolor": "white"
           },
           "yaxis": {
            "backgroundcolor": "#E5ECF6",
            "gridcolor": "white",
            "gridwidth": 2,
            "linecolor": "white",
            "showbackground": true,
            "ticks": "",
            "zerolinecolor": "white"
           },
           "zaxis": {
            "backgroundcolor": "#E5ECF6",
            "gridcolor": "white",
            "gridwidth": 2,
            "linecolor": "white",
            "showbackground": true,
            "ticks": "",
            "zerolinecolor": "white"
           }
          },
          "shapedefaults": {
           "line": {
            "color": "#2a3f5f"
           }
          },
          "ternary": {
           "aaxis": {
            "gridcolor": "white",
            "linecolor": "white",
            "ticks": ""
           },
           "baxis": {
            "gridcolor": "white",
            "linecolor": "white",
            "ticks": ""
           },
           "bgcolor": "#E5ECF6",
           "caxis": {
            "gridcolor": "white",
            "linecolor": "white",
            "ticks": ""
           }
          },
          "title": {
           "x": 0.05
          },
          "xaxis": {
           "automargin": true,
           "gridcolor": "white",
           "linecolor": "white",
           "ticks": "",
           "title": {
            "standoff": 15
           },
           "zerolinecolor": "white",
           "zerolinewidth": 2
          },
          "yaxis": {
           "automargin": true,
           "gridcolor": "white",
           "linecolor": "white",
           "ticks": "",
           "title": {
            "standoff": 15
           },
           "zerolinecolor": "white",
           "zerolinewidth": 2
          }
         }
        },
        "title": {
         "text": "Proportion of newborns given one of the Top 10 firstnames of year 2000 (Male)"
        },
        "xaxis": {
         "anchor": "y",
         "domain": [
          0,
          1
         ],
         "title": {
          "text": "year"
         }
        },
        "yaxis": {
         "anchor": "x",
         "domain": [
          0,
          1
         ],
         "title": {
          "text": "proportion"
         }
        }
       }
      },
      "text/html": [
       "<div>                            <div id=\"46443cb9-69a1-4e5a-ade3-e1ac1be650b4\" class=\"plotly-graph-div\" style=\"height:525px; width:100%;\"></div>            <script type=\"text/javascript\">                require([\"plotly\"], function(Plotly) {                    window.PLOTLYENV=window.PLOTLYENV || {};                                    if (document.getElementById(\"46443cb9-69a1-4e5a-ade3-e1ac1be650b4\")) {                    Plotly.newPlot(                        \"46443cb9-69a1-4e5a-ade3-e1ac1be650b4\",                        [{\"hovertemplate\": \"firstname=ALEXANDRE<br>year=%{x}<br>proportion=%{y}<extra></extra>\", \"legendgroup\": \"ALEXANDRE\", \"line\": {\"color\": \"#636efa\", \"dash\": \"solid\"}, \"mode\": \"lines\", \"name\": \"ALEXANDRE\", \"showlegend\": true, \"type\": \"scattergl\", \"x\": [1900.0, 1901.0, 1902.0, 1903.0, 1904.0, 1905.0, 1906.0, 1907.0, 1908.0, 1909.0, 1910.0, 1911.0, 1912.0, 1913.0, 1914.0, 1915.0, 1916.0, 1917.0, 1918.0, 1919.0, 1920.0, 1921.0, 1922.0, 1923.0, 1924.0, 1925.0, 1926.0, 1927.0, 1928.0, 1929.0, 1930.0, 1931.0, 1932.0, 1933.0, 1934.0, 1935.0, 1936.0, 1937.0, 1938.0, 1939.0, 1940.0, 1941.0, 1942.0, 1943.0, 1944.0, 1945.0, 1946.0, 1947.0, 1948.0, 1949.0, 1950.0, 1951.0, 1952.0, 1953.0, 1954.0, 1955.0, 1956.0, 1957.0, 1958.0, 1959.0, 1960.0, 1961.0, 1962.0, 1963.0, 1964.0, 1965.0, 1966.0, 1967.0, 1968.0, 1969.0, 1970.0, 1971.0, 1972.0, 1973.0, 1974.0, 1975.0, 1976.0, 1977.0, 1978.0, 1979.0, 1980.0, 1981.0, 1982.0, 1983.0, 1984.0, 1985.0, 1986.0, 1987.0, 1988.0, 1989.0, 1990.0, 1991.0, 1992.0, 1993.0, 1994.0, 1995.0, 1996.0, 1997.0, 1998.0, 1999.0, 2000.0, 2001.0, 2002.0, 2003.0, 2004.0, 2005.0, 2006.0, 2007.0, 2008.0, 2009.0, 2010.0, 2011.0, 2012.0, 2013.0, 2014.0, 2015.0, 2016.0, 2017.0, 2018.0, 2019.0, 2020.0], \"xaxis\": \"x\", \"y\": [0.0023709909140327717, 0.0024137318470488964, 0.002314614706340013, 0.002282296208983616, 0.002261834692676364, 0.002395162799112659, 0.0021143345463007167, 0.002097535395909806, 0.0020190913322746195, 0.002058101191250392, 0.0021249029220235843, 0.0020817436559644694, 0.0019934498299758793, 0.001788178906104986, 0.001802441233878424, 0.0019154396478802563, 0.0018842539888729091, 0.0015832836842780919, 0.0015551919708155797, 0.0016521979714245443, 0.0015507963339174667, 0.0013920798399661223, 0.0014026863669104473, 0.0013659572729872145, 0.0011944184532769212, 0.0012566054875993297, 0.001193264683784859, 0.0010871384507480054, 0.0010253866134118674, 0.0010270905137535593, 0.0010190191326980833, 0.0009685049635879384, 0.0009143577695316543, 0.0008497230134418245, 0.0006671267540832758, 0.0008767729244252744, 0.0007459650074596501, 0.0006755803287941862, 0.0005980435432656026, 0.0005955132079496569, 0.0005813714493766406, 0.0004677888078422931, 0.0004529428126808952, 0.0004269088488620701, 0.0004000807059355077, 0.0003556417717426447, 0.00034672415252615796, 0.00034081131088627815, 0.0003185670561139547, 0.00028520226904230425, 0.0003009516887364572, 0.000287381809795817, 0.00027517494959079585, 0.00027477083265245846, 0.00031347962382445143, 0.0002763591075411039, 0.00026870739692420404, 0.00030272331803825754, 0.0003232847647863866, 0.0003767327063843871, 0.00035446951680707136, 0.00037355118405284476, 0.0003990232098500396, 0.0004891316514069531, 0.000544028648482149, 0.0007052922751403565, 0.0008298344046867066, 0.0009694108599496647, 0.0012193460252464022, 0.0014979727512727551, 0.002102952540760541, 0.002379274076808304, 0.0034500426221218882, 0.003673761697849455, 0.004185935649379051, 0.0053824317638873085, 0.006162824403465799, 0.006586002144651974, 0.0070403418475596495, 0.008093410571097854, 0.008707387460067278, 0.00871005207190658, 0.00901791554208987, 0.008425404975267618, 0.007973032929124805, 0.00899627480757499, 0.011219643682291934, 0.010680331947835284, 0.010668052195132038, 0.010828526651883547, 0.01093412879599204, 0.011651889151580832, 0.011781473066605113, 0.012599639286789512, 0.012447126843424982, 0.012403676794363716, 0.012138122136944741, 0.01132623681151367, 0.010251242027228455, 0.009394096952590601, 0.008249764264732323, 0.007251581336630101, 0.006680541876498244, 0.006811121538870251, 0.005519732779057953, 0.0053835001853422635, 0.004941263858349579, 0.004371250999842113, 0.0037645673652288757, 0.0036030555783021184, 0.003360284272324647, 0.0030503797893323263, 0.0027760149144831717, 0.0026317934002102763, 0.0024287263764231656, 0.0023822434099523, 0.002209506224615307, 0.002026354100349079, 0.0020103980062458116, 0.0017017436236226788, 0.0015757608847313473], \"yaxis\": \"y\"}, {\"hovertemplate\": \"firstname=ANTOINE<br>year=%{x}<br>proportion=%{y}<extra></extra>\", \"legendgroup\": \"ANTOINE\", \"line\": {\"color\": \"#EF553B\", \"dash\": \"solid\"}, \"mode\": \"lines\", \"name\": \"ANTOINE\", \"showlegend\": true, \"type\": \"scattergl\", \"x\": [1900.0, 1901.0, 1902.0, 1903.0, 1904.0, 1905.0, 1906.0, 1907.0, 1908.0, 1909.0, 1910.0, 1911.0, 1912.0, 1913.0, 1914.0, 1915.0, 1916.0, 1917.0, 1918.0, 1919.0, 1920.0, 1921.0, 1922.0, 1923.0, 1924.0, 1925.0, 1926.0, 1927.0, 1928.0, 1929.0, 1930.0, 1931.0, 1932.0, 1933.0, 1934.0, 1935.0, 1936.0, 1937.0, 1938.0, 1939.0, 1940.0, 1941.0, 1942.0, 1943.0, 1944.0, 1945.0, 1946.0, 1947.0, 1948.0, 1949.0, 1950.0, 1951.0, 1952.0, 1953.0, 1954.0, 1955.0, 1956.0, 1957.0, 1958.0, 1959.0, 1960.0, 1961.0, 1962.0, 1963.0, 1964.0, 1965.0, 1966.0, 1967.0, 1968.0, 1969.0, 1970.0, 1971.0, 1972.0, 1973.0, 1974.0, 1975.0, 1976.0, 1977.0, 1978.0, 1979.0, 1980.0, 1981.0, 1982.0, 1983.0, 1984.0, 1985.0, 1986.0, 1987.0, 1988.0, 1989.0, 1990.0, 1991.0, 1992.0, 1993.0, 1994.0, 1995.0, 1996.0, 1997.0, 1998.0, 1999.0, 2000.0, 2001.0, 2002.0, 2003.0, 2004.0, 2005.0, 2006.0, 2007.0, 2008.0, 2009.0, 2010.0, 2011.0, 2012.0, 2013.0, 2014.0, 2015.0, 2016.0, 2017.0, 2018.0, 2019.0, 2020.0], \"xaxis\": \"x\", \"y\": [0.005055039993787373, 0.004854110227827863, 0.004655163471014368, 0.004581768682945472, 0.004590935844614479, 0.004282509966138772, 0.004188548892481876, 0.004181006857172707, 0.004174193560746106, 0.004012914776248441, 0.0039940653153788435, 0.003946312926767232, 0.003962926627768885, 0.0038777569289635363, 0.0039541638260317345, 0.00392263688368292, 0.004046863680647498, 0.004124437539294073, 0.003604692170273286, 0.0033983598085225225, 0.0033853883969418297, 0.003280315264210749, 0.003261946322110194, 0.003370777337527062, 0.0033115007526138074, 0.0033915687152712383, 0.0033509271477185918, 0.00319446547697801, 0.0031267181940556016, 0.0029562901682922255, 0.0030248293833553047, 0.003080901206285349, 0.0027650304419970955, 0.0027277100626050786, 0.0026241414440172205, 0.0025751974892255117, 0.002434384639728462, 0.0023019120863613913, 0.002214185023280981, 0.002142069897251751, 0.0021708449069316313, 0.0020263948799894025, 0.001860636450431893, 0.001678013148792545, 0.001648608426182523, 0.0015127537563598618, 0.001259339229576614, 0.0011641574480768906, 0.0012979074759695752, 0.0013283239538466375, 0.001352579099189134, 0.0013896034012760698, 0.0013675720555094296, 0.001295175290476346, 0.0012743367083438426, 0.0012997325712741, 0.0013338972573771026, 0.0014862046361956976, 0.0014751364082104751, 0.0015808690202485027, 0.0016692076242955066, 0.0017621871073797242, 0.0017384344522706405, 0.0016744644176311253, 0.0016908100154455384, 0.00174975376539598, 0.0014761369125431104, 0.00115240598046585, 0.0010481484457705464, 0.001203479656208297, 0.001292175657575754, 0.0013919865159644843, 0.0012585272211047744, 0.0014667502186353025, 0.0016426756569474, 0.0017474053477746707, 0.0018903357956239276, 0.0023220392332602446, 0.0025282025587246622, 0.0026474386851886647, 0.0029057824323415827, 0.003116133614454695, 0.0034106941927981977, 0.0035748989311292123, 0.0036596667445505356, 0.003931570681307841, 0.004090722390511886, 0.00501014111810862, 0.005392187273817648, 0.005310217910117767, 0.005903280238638797, 0.006382889395613191, 0.006900596253386888, 0.007478749715115347, 0.008683812533387082, 0.008711745926904447, 0.009239813478709684, 0.00880361267421657, 0.00834745941847351, 0.008182696008589197, 0.007732375474219164, 0.007417727977393591, 0.006756200705618133, 0.006160981164619014, 0.005321840530723104, 0.005156604318672606, 0.0048037566456464835, 0.004308618149695122, 0.004132503476027994, 0.004020292533798143, 0.003646101555258008, 0.0037034705610810357, 0.003229888075406276, 0.003049941285624396, 0.002965025537736871, 0.0029010797851989883, 0.0029370952170523217, 0.0029360577496547295, 0.002754989860410927, 0.0026337210674091025, 0.002206671883815313], \"yaxis\": \"y\"}, {\"hovertemplate\": \"firstname=CL\\u00c9MENT<br>year=%{x}<br>proportion=%{y}<extra></extra>\", \"legendgroup\": \"CL\\u00c9MENT\", \"line\": {\"color\": \"#00cc96\", \"dash\": \"solid\"}, \"mode\": \"lines\", \"name\": \"CL\\u00c9MENT\", \"showlegend\": true, \"type\": \"scattergl\", \"x\": [1900.0, 1901.0, 1902.0, 1903.0, 1904.0, 1905.0, 1906.0, 1907.0, 1908.0, 1909.0, 1910.0, 1911.0, 1912.0, 1913.0, 1914.0, 1915.0, 1916.0, 1917.0, 1918.0, 1919.0, 1920.0, 1921.0, 1922.0, 1923.0, 1924.0, 1925.0, 1926.0, 1927.0, 1928.0, 1929.0, 1930.0, 1931.0, 1932.0, 1933.0, 1934.0, 1935.0, 1936.0, 1937.0, 1938.0, 1939.0, 1940.0, 1941.0, 1942.0, 1943.0, 1944.0, 1945.0, 1946.0, 1947.0, 1948.0, 1949.0, 1950.0, 1951.0, 1952.0, 1953.0, 1954.0, 1955.0, 1956.0, 1957.0, 1958.0, 1959.0, 1960.0, 1961.0, 1962.0, 1963.0, 1964.0, 1965.0, 1966.0, 1967.0, 1968.0, 1969.0, 1970.0, 1971.0, 1972.0, 1973.0, 1974.0, 1975.0, 1976.0, 1977.0, 1978.0, 1979.0, 1980.0, 1981.0, 1982.0, 1983.0, 1984.0, 1985.0, 1986.0, 1987.0, 1988.0, 1989.0, 1990.0, 1991.0, 1992.0, 1993.0, 1994.0, 1995.0, 1996.0, 1997.0, 1998.0, 1999.0, 2000.0, 2001.0, 2002.0, 2003.0, 2004.0, 2005.0, 2006.0, 2007.0, 2008.0, 2009.0, 2010.0, 2011.0, 2012.0, 2013.0, 2014.0, 2015.0, 2016.0, 2017.0, 2018.0, 2019.0, 2020.0], \"xaxis\": \"x\", \"y\": [0.001210976935621651, 0.0012657103521783542, 0.0012189007417140684, 0.0013590719664032258, 0.001318002186159926, 0.001426818010801876, 0.001309924533903575, 0.0012416445159695979, 0.001296892629933508, 0.0012681422767648791, 0.0012354524068756594, 0.001162176439513999, 0.0011285765919937449, 0.0011339222868106643, 0.0012159474023366362, 0.0011326327259172173, 0.0010741675201718667, 0.001161952475156271, 0.001089790656129133, 0.0010597035962059478, 0.0009475365600235721, 0.0009638691286939099, 0.0009560024592339124, 0.0008382010538785181, 0.0008038729099711159, 0.0007612433747295687, 0.0007955097891899058, 0.0006981915563454932, 0.0007204565419349946, 0.0006889998766209523, 0.0006798576442548959, 0.0006410137018618887, 0.0006367568686618381, 0.0005686862191128164, 0.0005471753918958888, 0.0005115944175919578, 0.0005199150051991501, 0.00048331334227051437, 0.000443192982955759, 0.0004408575390194475, 0.0004658801513523248, 0.00040776281037580416, 0.0003683684285703546, 0.00029622246655735477, 0.00023970352640101538, 0.00027566491398233703, 0.0002493166983047624, 0.0002159596425418, 0.0002262614073459537, 0.00023467430799150232, 0.00019079201399141435, 0.00018330938484918368, 0.00022535879492349662, 0.00019972329245663282, 0.00017895963199173663, 0.00017498720783170333, 0.00020484420393324971, 0.00017758178892795422, 0.00016403708435457393, 0.0001455291451453707, 0.00019086820135765382, 0.00014617220245546097, 0.00016100936537808615, 0.00013655391641109445, 0.0001473641756580974, 0.0001313999939353849, 0.00012160395618204112, 0.00012508527225156964, 0.00010597945396124413, 0.00010318852543597152, 0.00013244224654296945, 0.00014119991016572645, 0.0001275307584052838, 0.0001457568683620371, 0.00018798008639712207, 0.0003359886134252584, 0.00040664200254700766, 0.0005601702917686977, 0.0007576504462844741, 0.0009328444002401746, 0.0012449796196836258, 0.0016535092449015765, 0.002012334633958084, 0.0024632413216729245, 0.0027880674911855588, 0.003000921563282842, 0.003727473430199723, 0.004240949328191529, 0.005038050333974399, 0.005331026993282568, 0.006402185780930838, 0.006701705864911033, 0.006755659575952858, 0.006887877841460635, 0.007136202378922057, 0.0073370761778952, 0.007182110165848423, 0.007531933657058579, 0.008185174224747264, 0.007552011236182669, 0.0073508012412157086, 0.007311760434859396, 0.006711070877722059, 0.006151636231108215, 0.005773406734977123, 0.005814866164417716, 0.005427037002291358, 0.005083699670264141, 0.005123994469339303, 0.0046740937444352156, 0.0030809043155834792, 0.0028025200386084183, 0.0034475888648025322, 0.003906276092494847, 0.0033475231939356733, 0.0030166825849887013, 0.0027668084315883392, 0.0024962957959619504, 0.0023388944124951272, 0.0022473633296368825, 0.0018457179949163134], \"yaxis\": \"y\"}, {\"hovertemplate\": \"firstname=HUGO<br>year=%{x}<br>proportion=%{y}<extra></extra>\", \"legendgroup\": \"HUGO\", \"line\": {\"color\": \"#ab63fa\", \"dash\": \"solid\"}, \"mode\": \"lines\", \"name\": \"HUGO\", \"showlegend\": true, \"type\": \"scattergl\", \"x\": [1900.0, 1901.0, 1902.0, 1903.0, 1904.0, 1905.0, 1906.0, 1907.0, 1908.0, 1909.0, 1910.0, 1911.0, 1912.0, 1913.0, 1914.0, 1915.0, 1916.0, 1917.0, 1919.0, 1920.0, 1921.0, 1922.0, 1924.0, 1925.0, 1926.0, 1927.0, 1928.0, 1929.0, 1930.0, 1931.0, 1932.0, 1933.0, 1934.0, 1935.0, 1936.0, 1938.0, 1939.0, 1940.0, 1941.0, 1942.0, 1943.0, 1944.0, 1945.0, 1946.0, 1947.0, 1948.0, 1949.0, 1950.0, 1951.0, 1952.0, 1953.0, 1954.0, 1955.0, 1956.0, 1957.0, 1958.0, 1959.0, 1960.0, 1961.0, 1962.0, 1963.0, 1964.0, 1965.0, 1966.0, 1967.0, 1968.0, 1969.0, 1970.0, 1971.0, 1972.0, 1973.0, 1974.0, 1975.0, 1976.0, 1977.0, 1978.0, 1979.0, 1980.0, 1981.0, 1982.0, 1983.0, 1984.0, 1985.0, 1986.0, 1987.0, 1988.0, 1989.0, 1990.0, 1991.0, 1992.0, 1993.0, 1994.0, 1995.0, 1996.0, 1997.0, 1998.0, 1999.0, 2000.0, 2001.0, 2002.0, 2003.0, 2004.0, 2005.0, 2006.0, 2007.0, 2008.0, 2009.0, 2010.0, 2011.0, 2012.0, 2013.0, 2014.0, 2015.0, 2016.0, 2017.0, 2018.0, 2019.0, 2020.0], \"xaxis\": \"x\", \"y\": [1.4560844917294401e-05, 2.6646533730070613e-05, 1.7289372222894586e-05, 2.7911430589639706e-05, 3.783738333473472e-05, 2.2615271064583048e-05, 2.0060100059779097e-05, 3.616440337775528e-05, 2.4903403529003844e-05, 3.25164686349969e-05, 2.068489570111454e-05, 2.5434837901821526e-05, 2.7661190980238844e-05, 1.6540195431598023e-05, 1.6810332751197737e-05, 2.0071972358026638e-05, 1.070598857314153e-05, 1.9749900427585344e-05, 1.0440429519270423e-05, 6.203185335669867e-06, 1.1060793280094048e-05, 4.944840306382306e-06, 1.9527277165290266e-05, 2.2156771821650648e-05, 6.3135697554754435e-06, 1.7534491141096863e-05, 7.89974278437494e-06, 2.0830228828075302e-05, 2.148534315929694e-05, 1.0864639014608284e-05, 1.411530004422794e-05, 9.918945682200287e-06, 1.3145354760261593e-05, 1.3780321012577989e-05, 1.0433077027407693e-05, 1.4239131982514346e-05, 8.888256835069507e-06, 9.787398137653882e-06, 2.8978067742442934e-05, 1.8794307580120133e-05, 5.2274552921886134e-06, 5.173457404338461e-06, 8.508176357479537e-06, 4.638450201018835e-06, 3.374369414715625e-06, 7.879750504585452e-06, 6.737061473440258e-06, 3.407000249846685e-06, 4.730564770301514e-06, 1.067489028584984e-05, 8.473109376948059e-06, 8.407499489544673e-06, 1.0861274968864345e-05, 6.0248295274485204e-06, 1.4301889041177522e-05, 1.1973509806903207e-05, 1.760433207403678e-05, 9.484134228951743e-06, 1.6241355828384555e-05, 9.333876253802096e-06, 1.5670121555371492e-05, 1.9944023773276337e-05, 1.5723076197396484e-05, 2.0267326030340188e-05, 3.822049985464628e-05, 3.260906275730589e-05, 3.246380575513711e-05, 3.224680785394039e-05, 9.450387688257282e-05, 0.00015437933912218566, 0.00015493840337696857, 0.00017200792219344502, 0.00015873477799618508, 0.00016622865644658083, 0.00018005473663993855, 0.00023634372210299995, 0.00022598484062156342, 0.00024028106659893978, 0.0002689741425364634, 0.0002731562579096279, 0.0003199014703471331, 0.00040692133816738383, 0.0005555339226146437, 0.0007380500077013914, 0.0009861766360592433, 0.0013079802303699569, 0.0018637135109475286, 0.002055699799915369, 0.0024167075573935243, 0.002803451103330457, 0.0026195319732025537, 0.0026216346878915713, 0.00349515631880229, 0.004886189702995238, 0.0057529652928386505, 0.007740594618404778, 0.009461622088822565, 0.009955853801449465, 0.009225717406804163, 0.009620617429139533, 0.00986157483489505, 0.008169363889313155, 0.007353009074515505, 0.006557937443214019, 0.006004924507842807, 0.005704946223232648, 0.0058140215013511454, 0.005999588011123699, 0.005877816945738386, 0.006202493399707885, 0.0072140529751956815, 0.0065532815222871755, 0.005987949784345729, 0.00571516227908456, 0.0053346286670182845, 0.005387341062488777, 0.005150944954344903, 0.004745482009936848], \"yaxis\": \"y\"}, {\"hovertemplate\": \"firstname=LUCAS<br>year=%{x}<br>proportion=%{y}<extra></extra>\", \"legendgroup\": \"LUCAS\", \"line\": {\"color\": \"#FFA15A\", \"dash\": \"solid\"}, \"mode\": \"lines\", \"name\": \"LUCAS\", \"showlegend\": true, \"type\": \"scattergl\", \"x\": [1902.0, 1903.0, 1904.0, 1905.0, 1906.0, 1910.0, 1911.0, 1912.0, 1913.0, 1914.0, 1917.0, 1918.0, 1920.0, 1921.0, 1922.0, 1923.0, 1924.0, 1925.0, 1926.0, 1927.0, 1928.0, 1930.0, 1931.0, 1932.0, 1933.0, 1934.0, 1935.0, 1936.0, 1937.0, 1938.0, 1939.0, 1940.0, 1943.0, 1944.0, 1946.0, 1947.0, 1948.0, 1949.0, 1950.0, 1951.0, 1952.0, 1953.0, 1954.0, 1955.0, 1956.0, 1957.0, 1958.0, 1959.0, 1960.0, 1961.0, 1962.0, 1963.0, 1964.0, 1965.0, 1966.0, 1967.0, 1968.0, 1969.0, 1970.0, 1971.0, 1972.0, 1973.0, 1974.0, 1975.0, 1976.0, 1977.0, 1978.0, 1979.0, 1980.0, 1981.0, 1982.0, 1983.0, 1984.0, 1985.0, 1986.0, 1987.0, 1988.0, 1989.0, 1990.0, 1991.0, 1992.0, 1993.0, 1994.0, 1995.0, 1996.0, 1997.0, 1998.0, 1999.0, 2000.0, 2001.0, 2002.0, 2003.0, 2004.0, 2005.0, 2006.0, 2007.0, 2008.0, 2009.0, 2010.0, 2011.0, 2012.0, 2013.0, 2014.0, 2015.0, 2016.0, 2017.0, 2018.0, 2019.0, 2020.0], \"xaxis\": \"x\", \"y\": [1.0805857639309117e-05, 8.58813248911991e-06, 8.408307407718826e-06, 6.16780119943174e-06, 8.02404002391164e-06, 1.1282670382426113e-05, 5.869577977343429e-06, 9.22039699341295e-06, 5.513398477199341e-06, 5.603444250399245e-06, 1.3166600285056896e-05, 1.1562765582271967e-05, 1.0855574337422267e-05, 7.900566628638606e-06, 9.889680612764611e-06, 6.535680731996242e-06, 4.8818192913225664e-06, 6.330506234757328e-06, 9.470354633213165e-06, 7.97022324595312e-06, 7.89974278437494e-06, 9.20800421112726e-06, 1.5520912878011834e-05, 1.0978566701066176e-05, 8.265788068500239e-06, 8.215846725163496e-06, 8.612700632861242e-06, 5.2165385137038465e-06, 5.291751922669866e-06, 7.119565991257173e-06, 8.888256835069507e-06, 5.872438882592329e-06, 8.712425486981022e-06, 5.173457404338461e-06, 3.4788376507641267e-06, 5.623949024526042e-06, 7.879750504585452e-06, 1.6842653683600646e-05, 1.135666749948895e-05, 1.3009053118329165e-05, 1.067489028584984e-05, 4.8417767868274625e-06, 1.6814998979089346e-05, 9.65446663899053e-06, 8.434761338427929e-06, 9.534592694118348e-06, 8.381456864832246e-06, 8.21535496788383e-06, 9.484134228951743e-06, 3.480290534653833e-06, 1.633428344415367e-05, 5.596471984061248e-06, 8.864010565900595e-06, 1.4599999326153877e-05, 1.57634758013757e-05, 1.3898363583507739e-05, 2.91152346047374e-05, 3.1304384121025065e-05, 4.491519665370268e-05, 6.226137771087151e-05, 6.0409306613029166e-05, 7.000920448885247e-05, 7.126042490871294e-05, 8.069017881472742e-05, 9.891291953846133e-05, 9.336171529478295e-05, 9.993963106069711e-05, 0.00011956174707303647, 0.00010457828805342457, 0.00016237609526394793, 0.0001679033878894043, 0.00021726641527742787, 0.00032947501896778494, 0.00037641317186506236, 0.0005583508753914874, 0.0007068248880319214, 0.0009913249374444238, 0.0013864051658548956, 0.0017409452562180349, 0.0019168348215808575, 0.0021136598792462756, 0.003488957730151629, 0.0038774822722525337, 0.004818912373403787, 0.006401743640012814, 0.00803507622471674, 0.009446634764215978, 0.010855340900650268, 0.010739697819076901, 0.011827809284588264, 0.01236822753928286, 0.011069741238791087, 0.009059214938872545, 0.008990089135777389, 0.009238685533855689, 0.009714616028007323, 0.009127397555613221, 0.009722530925577145, 0.008911834380471727, 0.008003640522052961, 0.007560154686306357, 0.0075573884593855495, 0.007316939430292477, 0.006905891063628332, 0.006455417230770963, 0.0058462471490922365, 0.005812196414571225, 0.005510759030743459, 0.004921409115450646], \"yaxis\": \"y\"}, {\"hovertemplate\": \"firstname=MAXIME<br>year=%{x}<br>proportion=%{y}<extra></extra>\", \"legendgroup\": \"MAXIME\", \"line\": {\"color\": \"#19d3f3\", \"dash\": \"solid\"}, \"mode\": \"lines\", \"name\": \"MAXIME\", \"showlegend\": true, \"type\": \"scattergl\", \"x\": [1900.0, 1901.0, 1902.0, 1903.0, 1904.0, 1905.0, 1906.0, 1907.0, 1908.0, 1909.0, 1910.0, 1911.0, 1912.0, 1913.0, 1914.0, 1915.0, 1916.0, 1917.0, 1918.0, 1919.0, 1920.0, 1921.0, 1922.0, 1923.0, 1924.0, 1925.0, 1926.0, 1927.0, 1928.0, 1929.0, 1930.0, 1931.0, 1932.0, 1933.0, 1934.0, 1935.0, 1936.0, 1937.0, 1938.0, 1939.0, 1940.0, 1941.0, 1942.0, 1943.0, 1944.0, 1945.0, 1946.0, 1947.0, 1948.0, 1949.0, 1950.0, 1951.0, 1952.0, 1953.0, 1954.0, 1955.0, 1956.0, 1957.0, 1958.0, 1959.0, 1960.0, 1961.0, 1962.0, 1963.0, 1964.0, 1965.0, 1966.0, 1967.0, 1968.0, 1969.0, 1970.0, 1971.0, 1972.0, 1973.0, 1974.0, 1975.0, 1976.0, 1977.0, 1978.0, 1979.0, 1980.0, 1981.0, 1982.0, 1983.0, 1984.0, 1985.0, 1986.0, 1987.0, 1988.0, 1989.0, 1990.0, 1991.0, 1992.0, 1993.0, 1994.0, 1995.0, 1996.0, 1997.0, 1998.0, 1999.0, 2000.0, 2001.0, 2002.0, 2003.0, 2004.0, 2005.0, 2006.0, 2007.0, 2008.0, 2009.0, 2010.0, 2011.0, 2012.0, 2013.0, 2014.0, 2015.0, 2016.0, 2017.0, 2018.0, 2019.0, 2020.0], \"xaxis\": \"x\", \"y\": [0.0007426030907820145, 0.000768308389217036, 0.0008406957243382492, 0.000760049725287112, 0.0007483393592869755, 0.000781254818594687, 0.0008204580924449651, 0.0008458452123352761, 0.0008735347699404426, 0.0008760319196957989, 0.000932700751613892, 0.000995871730155935, 0.0007542284740611792, 0.0008913327538138934, 0.0007919534540564267, 0.0007512652511147114, 0.0007458505372621932, 0.0007504962162482431, 0.00069087524354075, 0.0007203896368296592, 0.0006699440162523456, 0.0006826089567143756, 0.0007384294857530909, 0.000704219598872595, 0.0006492819657459014, 0.0007248429638797141, 0.0006629248243249215, 0.0006519642615189651, 0.0006224997314087453, 0.000663362671909475, 0.0005494109179305931, 0.000516846398837794, 0.00048148856817533086, 0.0004942941264963142, 0.0005307436984455618, 0.00048058869531365735, 0.0004920934664593962, 0.0003951174768926833, 0.0003951359125147731, 0.0003519749706687524, 0.00034647389407294743, 0.00038913405254137654, 0.00029131176749186205, 0.0002578877944146383, 0.0002586728702169231, 0.0002484387496384025, 0.00022496483474941352, 0.0002024621648829375, 0.00021725597819785604, 0.0002638682410430768, 0.0002589320189883481, 0.0002755553978700632, 0.00023010319060609656, 0.00021545906701382207, 0.0002246003435064077, 0.00019912337442917966, 0.00022894352204304378, 0.00020141827066325012, 0.0001855894020069997, 0.00021594647344151782, 0.00021220750337279522, 0.00021693810999342226, 0.0001936779322663935, 0.00020483087461664167, 0.00023046427471341545, 0.00021899998989230815, 0.00021280692331857197, 0.00027796727167015475, 0.00023990953314303616, 0.0002376814349929681, 0.0002556711194133845, 0.00030130059570796744, 0.000371405366583809, 0.0004671105938846386, 0.0005627116311756988, 0.0008981742854950805, 0.0011842074533632454, 0.001305730275337036, 0.0016746640880441139, 0.0019313820681028967, 0.002035541678182728, 0.0026190892312421524, 0.0037139226992850324, 0.0037948311919928663, 0.004126969958704047, 0.0053450670404838856, 0.006206037890845613, 0.0074515454648218194, 0.008426908203569287, 0.0101483297459341, 0.010414326686483578, 0.01057998357373582, 0.011986800026303323, 0.011579681885837927, 0.010762797030505398, 0.010599680757375605, 0.010634889776650886, 0.010372477548645178, 0.009816208608752219, 0.009473776613344318, 0.008837000541964759, 0.008631775872106335, 0.008015853843070315, 0.007020715047612436, 0.006324583131345999, 0.005536522979142729, 0.005096762668976445, 0.005169819839216255, 0.005543570736040052, 0.004741683531618373, 0.004594963435987229, 0.004596552520038609, 0.0037431341788919954, 0.003597674937444809, 0.0034505033321430433, 0.0030565930753922925, 0.0028216942550023504, 0.002423002137013154, 0.0021622363451343843, 0.0018300379869287213, 0.001595476853452721], \"yaxis\": \"y\"}, {\"hovertemplate\": \"firstname=NICOLAS<br>year=%{x}<br>proportion=%{y}<extra></extra>\", \"legendgroup\": \"NICOLAS\", \"line\": {\"color\": \"#FF6692\", \"dash\": \"solid\"}, \"mode\": \"lines\", \"name\": \"NICOLAS\", \"showlegend\": true, \"type\": \"scattergl\", \"x\": [1900.0, 1901.0, 1902.0, 1903.0, 1904.0, 1905.0, 1906.0, 1907.0, 1908.0, 1909.0, 1910.0, 1911.0, 1912.0, 1913.0, 1914.0, 1915.0, 1916.0, 1917.0, 1918.0, 1919.0, 1920.0, 1921.0, 1922.0, 1923.0, 1924.0, 1925.0, 1926.0, 1927.0, 1928.0, 1929.0, 1930.0, 1931.0, 1932.0, 1933.0, 1934.0, 1935.0, 1936.0, 1937.0, 1938.0, 1939.0, 1940.0, 1941.0, 1942.0, 1943.0, 1944.0, 1945.0, 1946.0, 1947.0, 1948.0, 1949.0, 1950.0, 1951.0, 1952.0, 1953.0, 1954.0, 1955.0, 1956.0, 1957.0, 1958.0, 1959.0, 1960.0, 1961.0, 1962.0, 1963.0, 1964.0, 1965.0, 1966.0, 1967.0, 1968.0, 1969.0, 1970.0, 1971.0, 1972.0, 1973.0, 1974.0, 1975.0, 1976.0, 1977.0, 1978.0, 1979.0, 1980.0, 1981.0, 1982.0, 1983.0, 1984.0, 1985.0, 1986.0, 1987.0, 1988.0, 1989.0, 1990.0, 1991.0, 1992.0, 1993.0, 1994.0, 1995.0, 1996.0, 1997.0, 1998.0, 1999.0, 2000.0, 2001.0, 2002.0, 2003.0, 2004.0, 2005.0, 2006.0, 2007.0, 2008.0, 2009.0, 2010.0, 2011.0, 2012.0, 2013.0, 2014.0, 2015.0, 2016.0, 2017.0, 2018.0, 2019.0, 2020.0], \"xaxis\": \"x\", \"y\": [0.0009051991923584685, 0.0007039125993693653, 0.0008126004944760455, 0.0008051374208549915, 0.0007966871268813587, 0.0006907937343363548, 0.0007683018322895395, 0.0007031967323452414, 0.0007126204702145716, 0.0007115368430716969, 0.0006562753272444522, 0.0007395668251452721, 0.0006638685835257323, 0.0006395542233551235, 0.00056968349879059, 0.0006824470601729057, 0.0006102413486690672, 0.0005562888620436539, 0.0005550127479490545, 0.0005611730866607852, 0.0004233673991594684, 0.00039028799145474714, 0.00038240098369356494, 0.0003921408439197745, 0.00043936373621903096, 0.00041781341149398364, 0.00044194988288328104, 0.00043198609993065905, 0.000402886882003122, 0.00043583248009511404, 0.00042663752844889635, 0.0003833665480868923, 0.000412480434625772, 0.00039841098490171154, 0.0003401360544217687, 0.0003445080253144497, 0.00029734269528111927, 0.000289282438439286, 0.00030792122912187274, 0.00031464429196146053, 0.00027991958673690104, 0.00027736150553481096, 0.00027627632142776596, 0.000297964951654751, 0.0002862646430400615, 0.00028417309033981655, 0.0002493166983047624, 0.00022495796098104167, 0.0002555290520772711, 0.0002638682410430768, 0.000270288686487837, 0.0002672769095220356, 0.0003190606096548452, 0.0003219781563240262, 0.000361522478050421, 0.0003451471823439114, 0.0003855890897567053, 0.0004064120135867946, 0.0005783205236734249, 0.0007088677715145476, 0.0010456257987419297, 0.0013561532116701102, 0.001674264053025751, 0.0019408564840724407, 0.002444250913547089, 0.002684153722269828, 0.0028036467675303925, 0.0032695900330201957, 0.004290420971354103, 0.005037687000216812, 0.005849340610362973, 0.0068176208593404295, 0.00893386523354909, 0.009312371888894245, 0.009386718039699428, 0.01133498593874425, 0.014064867642149542, 0.02031150803177499, 0.0182821998063332, 0.017304920557131464, 0.02714678060720146, 0.025814080610434956, 0.022303584361428333, 0.019382030334656925, 0.017833655807555086, 0.01796659008605584, 0.01605098321096678, 0.014176776384772601, 0.013892766300638997, 0.012415219243199657, 0.011952836447792539, 0.011259600574132046, 0.011193674319233769, 0.012218386244502782, 0.013033470945663097, 0.012575682518714222, 0.012110740855336475, 0.01070698442054978, 0.009803934938638468, 0.008837689830039233, 0.00862357766587808, 0.007412495012330174, 0.006103145549004357, 0.005225152823037664, 0.004272613173779942, 0.003689696157412965, 0.0029429113746737416, 0.0026214457488605387, 0.0018383895500980517, 0.0015129713900229676, 0.0013621382222679989, 0.0010806160560661378, 0.0009723968593032783, 0.0009485143726646174, 0.0008813494945280099, 0.0008312391794403173, 0.0007402549516864021, 0.0006208404052133349, 0.000636553036109785, 0.0005574168888469433, 0.0005232314776056927], \"yaxis\": \"y\"}, {\"hovertemplate\": \"firstname=QUENTIN<br>year=%{x}<br>proportion=%{y}<extra></extra>\", \"legendgroup\": \"QUENTIN\", \"line\": {\"color\": \"#B6E880\", \"dash\": \"solid\"}, \"mode\": \"lines\", \"name\": \"QUENTIN\", \"showlegend\": true, \"type\": \"scattergl\", \"x\": [1900.0, 1901.0, 1903.0, 1904.0, 1906.0, 1907.0, 1911.0, 1912.0, 1917.0, 1918.0, 1928.0, 1929.0, 1930.0, 1933.0, 1941.0, 1942.0, 1944.0, 1945.0, 1947.0, 1949.0, 1953.0, 1955.0, 1956.0, 1957.0, 1958.0, 1959.0, 1960.0, 1961.0, 1962.0, 1963.0, 1964.0, 1965.0, 1966.0, 1967.0, 1968.0, 1969.0, 1970.0, 1971.0, 1972.0, 1973.0, 1974.0, 1975.0, 1976.0, 1977.0, 1978.0, 1979.0, 1980.0, 1981.0, 1982.0, 1983.0, 1984.0, 1985.0, 1986.0, 1987.0, 1988.0, 1989.0, 1990.0, 1991.0, 1992.0, 1993.0, 1994.0, 1995.0, 1996.0, 1997.0, 1998.0, 1999.0, 2000.0, 2001.0, 2002.0, 2003.0, 2004.0, 2005.0, 2006.0, 2007.0, 2008.0, 2009.0, 2010.0, 2011.0, 2012.0, 2013.0, 2014.0, 2015.0, 2016.0, 2017.0, 2018.0, 2019.0, 2020.0], \"xaxis\": \"x\", \"y\": [9.707229944862934e-06, 1.3323266865035306e-05, 8.58813248911991e-06, 1.891869166736736e-05, 6.018030017933729e-06, 1.0045667604932021e-05, 7.826103969791238e-06, 9.22039699341295e-06, 1.3166600285056896e-05, 1.1562765582271967e-05, 4.739845670624964e-06, 4.806975883401993e-06, 6.13866947408484e-06, 4.959472841100144e-06, 6.2095859448092e-06, 7.517723032048054e-06, 6.8979432057846155e-06, 8.508176357479537e-06, 8.998318439241667e-06, 4.491374315626838e-06, 1.3314886163775521e-05, 1.3274891628611977e-05, 1.0844693149407337e-05, 1.1918240867647935e-05, 1.3170860787593528e-05, 1.1736221382691187e-05, 9.484134228951743e-06, 1.0440871603961499e-05, 3.500203595175786e-06, 1.3431532761746995e-05, 9.972011886638169e-06, 2.0215383682366906e-05, 1.0133663015170094e-05, 1.737295447938467e-05, 1.7469140762842437e-05, 1.7391324511680592e-05, 2.073009076324739e-05, 4.1136981701825815e-05, 4.2510252801761266e-05, 3.787383193659232e-05, 6.143140078337322e-05, 7.275343991491816e-05, 0.00012776252107051254, 0.00020272829606867153, 0.0002849630020784742, 0.0003534297798093056, 0.00047682719433882865, 0.0005280321876522276, 0.0006778786033445353, 0.0006944527752119014, 0.0008663486554531398, 0.0012655270433394338, 0.0018534681932535811, 0.002592124359602359, 0.003846392456107699, 0.004884932272937137, 0.0057935732607525894, 0.006297609270080846, 0.007738008167450175, 0.008241255799688808, 0.009526682180354372, 0.009595167327168648, 0.009268563824398364, 0.009945359270056244, 0.010236240874867205, 0.009138851937633785, 0.008412741733743968, 0.007326151088783793, 0.006368615124863615, 0.005550890505414054, 0.005392231733150936, 0.0046183862163399324, 0.004042969076298511, 0.003683594499269936, 0.0036445040027575843, 0.003053238655639133, 0.002638016273560614, 0.0024064690083511688, 0.0019329191300940336, 0.001709997742268606, 0.0014631204051800348, 0.0012000671597217826, 0.0010118694111454813, 0.0007616792008404339, 0.000636553036109785, 0.0004969563268291532, 0.00036853695379183575], \"yaxis\": \"y\"}, {\"hovertemplate\": \"firstname=TH\\u00c9O<br>year=%{x}<br>proportion=%{y}<extra></extra>\", \"legendgroup\": \"TH\\u00c9O\", \"line\": {\"color\": \"#FF97FF\", \"dash\": \"solid\"}, \"mode\": \"lines\", \"name\": \"TH\\u00c9O\", \"showlegend\": true, \"type\": \"scattergl\", \"x\": [1901.0, 1902.0, 1903.0, 1904.0, 1906.0, 1907.0, 1909.0, 1910.0, 1911.0, 1912.0, 1913.0, 1914.0, 1916.0, 1917.0, 1918.0, 1919.0, 1920.0, 1921.0, 1922.0, 1923.0, 1924.0, 1925.0, 1926.0, 1927.0, 1928.0, 1929.0, 1930.0, 1931.0, 1932.0, 1933.0, 1934.0, 1935.0, 1936.0, 1937.0, 1938.0, 1939.0, 1940.0, 1941.0, 1942.0, 1943.0, 1944.0, 1945.0, 1946.0, 1947.0, 1948.0, 1949.0, 1950.0, 1951.0, 1952.0, 1953.0, 1954.0, 1955.0, 1956.0, 1957.0, 1958.0, 1959.0, 1960.0, 1961.0, 1962.0, 1963.0, 1964.0, 1965.0, 1966.0, 1967.0, 1968.0, 1969.0, 1970.0, 1971.0, 1972.0, 1973.0, 1974.0, 1975.0, 1976.0, 1977.0, 1978.0, 1979.0, 1980.0, 1981.0, 1982.0, 1983.0, 1984.0, 1985.0, 1986.0, 1987.0, 1988.0, 1989.0, 1990.0, 1991.0, 1992.0, 1993.0, 1994.0, 1995.0, 1996.0, 1997.0, 1998.0, 1999.0, 2000.0, 2001.0, 2002.0, 2003.0, 2004.0, 2005.0, 2006.0, 2007.0, 2008.0, 2009.0, 2010.0, 2011.0, 2012.0, 2013.0, 2014.0, 2015.0, 2016.0, 2017.0, 2018.0, 2019.0, 2020.0], \"xaxis\": \"x\", \"y\": [8.882177910023538e-06, 8.644686111447293e-06, 1.0735165611399887e-05, 8.408307407718826e-06, 6.018030017933729e-06, 2.0091335209864042e-05, 5.7382003473523946e-06, 7.521780254950741e-06, 7.826103969791238e-06, 2.5817111581556254e-05, 1.4702395939198241e-05, 5.603444250399245e-06, 2.141197714628306e-05, 1.645825035632112e-05, 1.445345697783996e-05, 1.0440429519270423e-05, 1.2406370671339733e-05, 9.480679954366328e-06, 1.648280102127435e-05, 1.3071361463992483e-05, 1.4645457873967698e-05, 1.582626558689332e-05, 1.1048747072082026e-05, 9.564267895143743e-06, 1.2639588454999905e-05, 2.4034879417009965e-05, 1.841600842225452e-05, 1.7073004165813017e-05, 1.8820400058970587e-05, 1.487841852330043e-05, 2.136120148542509e-05, 2.9283182151728224e-05, 1.564961554111154e-05, 2.8222676920905948e-05, 2.3138589471585813e-05, 2.3109467771180716e-05, 2.740471478543087e-05, 3.3117791705649066e-05, 3.195032288620423e-05, 2.4394791363546864e-05, 1.5520372213015384e-05, 1.8717987986454984e-05, 1.5074963153311216e-05, 1.6871847073578125e-05, 2.5890608800780772e-05, 1.3474122946880516e-05, 1.9306334749131214e-05, 1.4191694310904543e-05, 1.7791483809749732e-05, 1.5735774557189252e-05, 1.321178491214163e-05, 1.0861274968864345e-05, 1.2049659054897041e-05, 1.7877361301471903e-05, 2.2749668633116094e-05, 1.4083465659229423e-05, 1.4226201343427613e-05, 1.7401452673269164e-05, 1.0500610785527359e-05, 1.3431532761746995e-05, 1.4404017169588466e-05, 1.684615306863909e-05, 6.755775343446729e-06, 6.9491817917538695e-06, 1.164609384189496e-05, 5.797108170560198e-06, 6.910030254415797e-06, 8.894482530124501e-06, 1.2305599495246683e-05, 8.033843138065037e-06, 9.829024125339715e-06, 1.0582318533079004e-05, 1.6485486589743554e-05, 2.1339820638807532e-05, 1.0804284438994283e-05, 1.83941149343133e-05, 1.493975543620351e-05, 2.3550731374160385e-05, 4.3855362508426495e-05, 3.7321838207165526e-05, 5.7756577030209314e-05, 7.138870500889114e-05, 0.00010268521846280227, 0.00013512828741786735, 0.00021067270508923216, 0.0005878565994056406, 0.0009129187802673715, 0.001193921757452827, 0.0016251695960426919, 0.0020075575326316025, 0.0026963371816863314, 0.0036313848524878907, 0.004705473244380676, 0.005555302141258658, 0.00729465127093854, 0.00821240706853126, 0.01029733040318815, 0.011594942339266208, 0.011538635114722678, 0.010491690351623149, 0.008628898908936363, 0.007354328236531026, 0.006380591692251148, 0.005762222213523216, 0.005290533972122062, 0.005343492598268402, 0.003349984550417139, 0.0030831654706450122, 0.004182493953855349, 0.004249611576684715, 0.0038116025180649897, 0.003874070016762406, 0.0033958844076412325, 0.0032177353409089276, 0.0032221847492988425, 0.0032014604912346933, 0.0029316128875704465], \"yaxis\": \"y\"}, {\"hovertemplate\": \"firstname=THOMAS<br>year=%{x}<br>proportion=%{y}<extra></extra>\", \"legendgroup\": \"THOMAS\", \"line\": {\"color\": \"#FECB52\", \"dash\": \"solid\"}, \"mode\": \"lines\", \"name\": \"THOMAS\", \"showlegend\": true, \"type\": \"scattergl\", \"x\": [1900.0, 1901.0, 1902.0, 1903.0, 1904.0, 1905.0, 1906.0, 1907.0, 1908.0, 1909.0, 1910.0, 1911.0, 1912.0, 1913.0, 1914.0, 1915.0, 1916.0, 1917.0, 1918.0, 1919.0, 1920.0, 1921.0, 1922.0, 1923.0, 1924.0, 1925.0, 1926.0, 1927.0, 1928.0, 1929.0, 1930.0, 1931.0, 1932.0, 1933.0, 1934.0, 1935.0, 1936.0, 1937.0, 1938.0, 1939.0, 1940.0, 1941.0, 1942.0, 1943.0, 1944.0, 1945.0, 1946.0, 1947.0, 1948.0, 1949.0, 1950.0, 1951.0, 1952.0, 1953.0, 1954.0, 1955.0, 1956.0, 1957.0, 1958.0, 1959.0, 1960.0, 1961.0, 1962.0, 1963.0, 1964.0, 1965.0, 1966.0, 1967.0, 1968.0, 1969.0, 1970.0, 1971.0, 1972.0, 1973.0, 1974.0, 1975.0, 1976.0, 1977.0, 1978.0, 1979.0, 1980.0, 1981.0, 1982.0, 1983.0, 1984.0, 1985.0, 1986.0, 1987.0, 1988.0, 1989.0, 1990.0, 1991.0, 1992.0, 1993.0, 1994.0, 1995.0, 1996.0, 1997.0, 1998.0, 1999.0, 2000.0, 2001.0, 2002.0, 2003.0, 2004.0, 2005.0, 2006.0, 2007.0, 2008.0, 2009.0, 2010.0, 2011.0, 2012.0, 2013.0, 2014.0, 2015.0, 2016.0, 2017.0, 2018.0, 2019.0, 2020.0], \"xaxis\": \"x\", \"y\": [0.00022811990370427896, 0.00015099702447040014, 0.00019882778056328775, 0.0001717626497823982, 0.0001891869166736736, 0.00019325777091552785, 0.0001865589305559456, 0.0001506850140739803, 0.00018581770325487484, 0.00017023327697145437, 0.00018804450637376855, 0.00012717418950910762, 0.00017334346347616344, 0.00014702395939198242, 0.00015689643901117887, 0.0002093219974479921, 0.00019984512003197523, 0.00015799920342068275, 0.0001763321751296475, 0.00014877612064960352, 0.00014732565172215933, 0.00015485110592131668, 0.00014175208878295943, 0.00013888321555492015, 0.00015621821732232213, 0.0002231503447751958, 0.0001483688892536729, 0.00016896873281420613, 0.0001453552672324989, 0.00012337904767398448, 0.00017034807790585428, 0.00016296958521912425, 0.00016467850051599264, 0.00012398682102750358, 0.00012816720891255053, 0.00011885526873348514, 0.00012519692432889232, 8.819586537783109e-05, 0.00011569294735792906, 8.177196288263945e-05, 0.00012332121653443892, 0.00011384240898816868, 8.833324562656463e-05, 6.795691879845198e-05, 0.00010174466228532308, 0.00010209811628975445, 6.261907771375429e-05, 7.198654751393333e-05, 6.416368268019582e-05, 7.859905052346968e-05, 7.041133849683149e-05, 9.106337182830415e-05, 7.35381330802989e-05, 0.0001053086451134973, 9.128142302934217e-05, 0.00013274891628611978, 0.0001494157722807233, 0.00017638996484118944, 0.00015805032945112233, 0.0001830850535699825, 0.00019679578525074866, 0.00019837656047526846, 0.000196011401329844, 0.00029549372075843386, 0.0003024843605613578, 0.00030772306272047403, 0.0003400406922868187, 0.0004111599226787706, 0.00047166680059674583, 0.0006110152011770449, 0.0009213373672554396, 0.0011674008320788406, 0.0014576541947551298, 0.001928122353135609, 0.0028418166002388452, 0.00308210027275926, 0.0035278941302051207, 0.004221283270114114, 0.0049632181641629984, 0.005326410138836152, 0.006039396135085268, 0.007000764779013571, 0.007368953911773035, 0.007910896777125979, 0.008956207388116321, 0.009262359980789949, 0.010449504543820917, 0.00992023533110978, 0.010622815724714105, 0.010537199487576327, 0.012818737951822964, 0.012852370918689992, 0.01312482134541497, 0.01263481023164991, 0.011481632348153087, 0.012195893879348305, 0.01285688077916175, 0.013255871494070797, 0.012839622680105882, 0.012706880136130675, 0.013519369096108848, 0.013222394473988893, 0.010831158695057753, 0.009152694878575939, 0.008577101609036637, 0.0074624995218037695, 0.006821385841383502, 0.006019277869334826, 0.005467401506085147, 0.004917157017574644, 0.00421773612112473, 0.00365494775273826, 0.003485851427787329, 0.003175519244822247, 0.0029142041708293378, 0.0027194182426722962, 0.0022362454719195685, 0.0019904258361584924, 0.0017607407374963318, 0.0015631267253379893, 0.0013634350677319356], \"yaxis\": \"y\"}],                        {\"legend\": {\"title\": {\"text\": \"firstname\"}, \"tracegroupgap\": 0}, \"template\": {\"data\": {\"bar\": [{\"error_x\": {\"color\": \"#2a3f5f\"}, \"error_y\": {\"color\": \"#2a3f5f\"}, \"marker\": {\"line\": {\"color\": \"#E5ECF6\", \"width\": 0.5}}, \"type\": \"bar\"}], \"barpolar\": [{\"marker\": {\"line\": {\"color\": \"#E5ECF6\", \"width\": 0.5}}, \"type\": \"barpolar\"}], \"carpet\": [{\"aaxis\": {\"endlinecolor\": \"#2a3f5f\", \"gridcolor\": \"white\", \"linecolor\": \"white\", \"minorgridcolor\": \"white\", \"startlinecolor\": \"#2a3f5f\"}, \"baxis\": {\"endlinecolor\": \"#2a3f5f\", \"gridcolor\": \"white\", \"linecolor\": \"white\", \"minorgridcolor\": \"white\", \"startlinecolor\": \"#2a3f5f\"}, \"type\": \"carpet\"}], \"choropleth\": [{\"colorbar\": {\"outlinewidth\": 0, \"ticks\": \"\"}, \"type\": \"choropleth\"}], \"contour\": [{\"colorbar\": {\"outlinewidth\": 0, \"ticks\": \"\"}, \"colorscale\": [[0.0, \"#0d0887\"], [0.1111111111111111, \"#46039f\"], [0.2222222222222222, \"#7201a8\"], [0.3333333333333333, \"#9c179e\"], [0.4444444444444444, \"#bd3786\"], [0.5555555555555556, \"#d8576b\"], [0.6666666666666666, \"#ed7953\"], [0.7777777777777778, \"#fb9f3a\"], [0.8888888888888888, \"#fdca26\"], [1.0, \"#f0f921\"]], \"type\": \"contour\"}], \"contourcarpet\": [{\"colorbar\": {\"outlinewidth\": 0, \"ticks\": \"\"}, \"type\": \"contourcarpet\"}], \"heatmap\": [{\"colorbar\": {\"outlinewidth\": 0, \"ticks\": \"\"}, \"colorscale\": [[0.0, \"#0d0887\"], [0.1111111111111111, \"#46039f\"], [0.2222222222222222, \"#7201a8\"], [0.3333333333333333, \"#9c179e\"], [0.4444444444444444, \"#bd3786\"], [0.5555555555555556, \"#d8576b\"], [0.6666666666666666, \"#ed7953\"], [0.7777777777777778, \"#fb9f3a\"], [0.8888888888888888, \"#fdca26\"], [1.0, \"#f0f921\"]], \"type\": \"heatmap\"}], \"heatmapgl\": [{\"colorbar\": {\"outlinewidth\": 0, \"ticks\": \"\"}, \"colorscale\": [[0.0, \"#0d0887\"], [0.1111111111111111, \"#46039f\"], [0.2222222222222222, \"#7201a8\"], [0.3333333333333333, \"#9c179e\"], [0.4444444444444444, \"#bd3786\"], [0.5555555555555556, \"#d8576b\"], [0.6666666666666666, \"#ed7953\"], [0.7777777777777778, \"#fb9f3a\"], [0.8888888888888888, \"#fdca26\"], [1.0, \"#f0f921\"]], \"type\": \"heatmapgl\"}], \"histogram\": [{\"marker\": {\"colorbar\": {\"outlinewidth\": 0, \"ticks\": \"\"}}, \"type\": \"histogram\"}], \"histogram2d\": [{\"colorbar\": {\"outlinewidth\": 0, \"ticks\": \"\"}, \"colorscale\": [[0.0, \"#0d0887\"], [0.1111111111111111, \"#46039f\"], [0.2222222222222222, \"#7201a8\"], [0.3333333333333333, \"#9c179e\"], [0.4444444444444444, \"#bd3786\"], [0.5555555555555556, \"#d8576b\"], [0.6666666666666666, \"#ed7953\"], [0.7777777777777778, \"#fb9f3a\"], [0.8888888888888888, \"#fdca26\"], [1.0, \"#f0f921\"]], \"type\": \"histogram2d\"}], \"histogram2dcontour\": [{\"colorbar\": {\"outlinewidth\": 0, \"ticks\": \"\"}, \"colorscale\": [[0.0, \"#0d0887\"], [0.1111111111111111, \"#46039f\"], [0.2222222222222222, \"#7201a8\"], [0.3333333333333333, \"#9c179e\"], [0.4444444444444444, \"#bd3786\"], [0.5555555555555556, \"#d8576b\"], [0.6666666666666666, \"#ed7953\"], [0.7777777777777778, \"#fb9f3a\"], [0.8888888888888888, \"#fdca26\"], [1.0, \"#f0f921\"]], \"type\": \"histogram2dcontour\"}], \"mesh3d\": [{\"colorbar\": {\"outlinewidth\": 0, \"ticks\": \"\"}, \"type\": \"mesh3d\"}], \"parcoords\": [{\"line\": {\"colorbar\": {\"outlinewidth\": 0, \"ticks\": \"\"}}, \"type\": \"parcoords\"}], \"pie\": [{\"automargin\": true, \"type\": \"pie\"}], \"scatter\": [{\"marker\": {\"colorbar\": {\"outlinewidth\": 0, \"ticks\": \"\"}}, \"type\": \"scatter\"}], \"scatter3d\": [{\"line\": {\"colorbar\": {\"outlinewidth\": 0, \"ticks\": \"\"}}, \"marker\": {\"colorbar\": {\"outlinewidth\": 0, \"ticks\": \"\"}}, \"type\": \"scatter3d\"}], \"scattercarpet\": [{\"marker\": {\"colorbar\": {\"outlinewidth\": 0, \"ticks\": \"\"}}, \"type\": \"scattercarpet\"}], \"scattergeo\": [{\"marker\": {\"colorbar\": {\"outlinewidth\": 0, \"ticks\": \"\"}}, \"type\": \"scattergeo\"}], \"scattergl\": [{\"marker\": {\"colorbar\": {\"outlinewidth\": 0, \"ticks\": \"\"}}, \"type\": \"scattergl\"}], \"scattermapbox\": [{\"marker\": {\"colorbar\": {\"outlinewidth\": 0, \"ticks\": \"\"}}, \"type\": \"scattermapbox\"}], \"scatterpolar\": [{\"marker\": {\"colorbar\": {\"outlinewidth\": 0, \"ticks\": \"\"}}, \"type\": \"scatterpolar\"}], \"scatterpolargl\": [{\"marker\": {\"colorbar\": {\"outlinewidth\": 0, \"ticks\": \"\"}}, \"type\": \"scatterpolargl\"}], \"scatterternary\": [{\"marker\": {\"colorbar\": {\"outlinewidth\": 0, \"ticks\": \"\"}}, \"type\": \"scatterternary\"}], \"surface\": [{\"colorbar\": {\"outlinewidth\": 0, \"ticks\": \"\"}, \"colorscale\": [[0.0, \"#0d0887\"], [0.1111111111111111, \"#46039f\"], [0.2222222222222222, \"#7201a8\"], [0.3333333333333333, \"#9c179e\"], [0.4444444444444444, \"#bd3786\"], [0.5555555555555556, \"#d8576b\"], [0.6666666666666666, \"#ed7953\"], [0.7777777777777778, \"#fb9f3a\"], [0.8888888888888888, \"#fdca26\"], [1.0, \"#f0f921\"]], \"type\": \"surface\"}], \"table\": [{\"cells\": {\"fill\": {\"color\": \"#EBF0F8\"}, \"line\": {\"color\": \"white\"}}, \"header\": {\"fill\": {\"color\": \"#C8D4E3\"}, \"line\": {\"color\": \"white\"}}, \"type\": \"table\"}]}, \"layout\": {\"annotationdefaults\": {\"arrowcolor\": \"#2a3f5f\", \"arrowhead\": 0, \"arrowwidth\": 1}, \"autotypenumbers\": \"strict\", \"coloraxis\": {\"colorbar\": {\"outlinewidth\": 0, \"ticks\": \"\"}}, \"colorscale\": {\"diverging\": [[0, \"#8e0152\"], [0.1, \"#c51b7d\"], [0.2, \"#de77ae\"], [0.3, \"#f1b6da\"], [0.4, \"#fde0ef\"], [0.5, \"#f7f7f7\"], [0.6, \"#e6f5d0\"], [0.7, \"#b8e186\"], [0.8, \"#7fbc41\"], [0.9, \"#4d9221\"], [1, \"#276419\"]], \"sequential\": [[0.0, \"#0d0887\"], [0.1111111111111111, \"#46039f\"], [0.2222222222222222, \"#7201a8\"], [0.3333333333333333, \"#9c179e\"], [0.4444444444444444, \"#bd3786\"], [0.5555555555555556, \"#d8576b\"], [0.6666666666666666, \"#ed7953\"], [0.7777777777777778, \"#fb9f3a\"], [0.8888888888888888, \"#fdca26\"], [1.0, \"#f0f921\"]], \"sequentialminus\": [[0.0, \"#0d0887\"], [0.1111111111111111, \"#46039f\"], [0.2222222222222222, \"#7201a8\"], [0.3333333333333333, \"#9c179e\"], [0.4444444444444444, \"#bd3786\"], [0.5555555555555556, \"#d8576b\"], [0.6666666666666666, \"#ed7953\"], [0.7777777777777778, \"#fb9f3a\"], [0.8888888888888888, \"#fdca26\"], [1.0, \"#f0f921\"]]}, \"colorway\": [\"#636efa\", \"#EF553B\", \"#00cc96\", \"#ab63fa\", \"#FFA15A\", \"#19d3f3\", \"#FF6692\", \"#B6E880\", \"#FF97FF\", \"#FECB52\"], \"font\": {\"color\": \"#2a3f5f\"}, \"geo\": {\"bgcolor\": \"white\", \"lakecolor\": \"white\", \"landcolor\": \"#E5ECF6\", \"showlakes\": true, \"showland\": true, \"subunitcolor\": \"white\"}, \"hoverlabel\": {\"align\": \"left\"}, \"hovermode\": \"closest\", \"mapbox\": {\"style\": \"light\"}, \"paper_bgcolor\": \"white\", \"plot_bgcolor\": \"#E5ECF6\", \"polar\": {\"angularaxis\": {\"gridcolor\": \"white\", \"linecolor\": \"white\", \"ticks\": \"\"}, \"bgcolor\": \"#E5ECF6\", \"radialaxis\": {\"gridcolor\": \"white\", \"linecolor\": \"white\", \"ticks\": \"\"}}, \"scene\": {\"xaxis\": {\"backgroundcolor\": \"#E5ECF6\", \"gridcolor\": \"white\", \"gridwidth\": 2, \"linecolor\": \"white\", \"showbackground\": true, \"ticks\": \"\", \"zerolinecolor\": \"white\"}, \"yaxis\": {\"backgroundcolor\": \"#E5ECF6\", \"gridcolor\": \"white\", \"gridwidth\": 2, \"linecolor\": \"white\", \"showbackground\": true, \"ticks\": \"\", \"zerolinecolor\": \"white\"}, \"zaxis\": {\"backgroundcolor\": \"#E5ECF6\", \"gridcolor\": \"white\", \"gridwidth\": 2, \"linecolor\": \"white\", \"showbackground\": true, \"ticks\": \"\", \"zerolinecolor\": \"white\"}}, \"shapedefaults\": {\"line\": {\"color\": \"#2a3f5f\"}}, \"ternary\": {\"aaxis\": {\"gridcolor\": \"white\", \"linecolor\": \"white\", \"ticks\": \"\"}, \"baxis\": {\"gridcolor\": \"white\", \"linecolor\": \"white\", \"ticks\": \"\"}, \"bgcolor\": \"#E5ECF6\", \"caxis\": {\"gridcolor\": \"white\", \"linecolor\": \"white\", \"ticks\": \"\"}}, \"title\": {\"x\": 0.05}, \"xaxis\": {\"automargin\": true, \"gridcolor\": \"white\", \"linecolor\": \"white\", \"ticks\": \"\", \"title\": {\"standoff\": 15}, \"zerolinecolor\": \"white\", \"zerolinewidth\": 2}, \"yaxis\": {\"automargin\": true, \"gridcolor\": \"white\", \"linecolor\": \"white\", \"ticks\": \"\", \"title\": {\"standoff\": 15}, \"zerolinecolor\": \"white\", \"zerolinewidth\": 2}}}, \"title\": {\"text\": \"Proportion of newborns given one of the Top 10 firstnames of year 2000 (Male)\"}, \"xaxis\": {\"anchor\": \"y\", \"domain\": [0.0, 1.0], \"title\": {\"text\": \"year\"}}, \"yaxis\": {\"anchor\": \"x\", \"domain\": [0.0, 1.0], \"title\": {\"text\": \"proportion\"}}},                        {\"responsive\": true}                    ).then(function(){\n",
       "                            \n",
       "var gd = document.getElementById('46443cb9-69a1-4e5a-ade3-e1ac1be650b4');\n",
       "var x = new MutationObserver(function (mutations, observer) {{\n",
       "        var display = window.getComputedStyle(gd).display;\n",
       "        if (!display || display === 'none') {{\n",
       "            console.log([gd, 'removed!']);\n",
       "            Plotly.purge(gd);\n",
       "            observer.disconnect();\n",
       "        }}\n",
       "}});\n",
       "\n",
       "// Listen for the removal of the full notebook cells\n",
       "var notebookContainer = gd.closest('#notebook-container');\n",
       "if (notebookContainer) {{\n",
       "    x.observe(notebookContainer, {childList: true});\n",
       "}}\n",
       "\n",
       "// Listen for the clearing of the current output cell\n",
       "var outputEl = gd.closest('.output');\n",
       "if (outputEl) {{\n",
       "    x.observe(outputEl, {childList: true});\n",
       "}}\n",
       "\n",
       "                        })                };                });            </script>        </div>"
      ]
     },
     "metadata": {},
     "output_type": "display_data"
    }
   ],
   "source": [
    "onlytop_m = data[(data['year'].notna()) & (data['gender'] == 'Male') & (data['firstname'].isin(m_popular_names_yr_2000['firstname']))]\n",
    "onlytop_m = onlytop_m.join(data[data['firstname'] != '_PRENOMS_RARES'].groupby(['year']).sum(), on=['year'], rsuffix='2')\n",
    "onlytop_m['proportion'] = onlytop_m['count'] / onlytop_m['count2']\n",
    "\n",
    "onlytop_m\n",
    "\n",
    "onlytop_m.plot(x='year', y='proportion', color='firstname', title='Proportion of newborns given one of the Top 10 firstnames of year 2000 (Male)') "
   ]
  },
  {
   "cell_type": "markdown",
   "metadata": {
    "nteract": {
     "transient": {
      "deleting": false
     }
    }
   },
   "source": [
    "# Getting help\n",
    "\n",
    "- [pandas](https://pandas.pydata.org/pandas-docs/stable/reference/)\n",
    "\n",
    "- [plotly](https://plotly.com/python/) for animated plots\n",
    "\n",
    "- [stackoverflow](https://stackoverflow.com)\n",
    "\n",
    "- [stackoverflow: pandas](https://stackoverflow.com/questions/tagged/pandas)\n",
    "\n",
    "- [stackoverflow: plotly+python](https://stackoverflow.com/questions/tagged/plotly+python)\n",
    "\n",
    "- The US `babynames` analogue of the INSEE file has been a playground for data scientists,\n",
    " see [https://github.com/hadley/babynames](https://github.com/hadley/babynames)\n",
    "\n",
    "- Don't Repeat Yourself (DRY) principle  at [Wikipedia](https://en.wikipedia.org/wiki/Don%27t_repeat_yourself)"
   ]
  }
 ],
 "metadata": {
  "kernelspec": {
   "display_name": "Python 3",
   "language": "python",
   "name": "python3"
  },
  "language_info": {
   "codemirror_mode": {
    "name": "ipython",
    "version": 3
   },
   "file_extension": ".py",
   "mimetype": "text/x-python",
   "name": "python",
   "nbconvert_exporter": "python",
   "pygments_lexer": "ipython3",
   "version": "3.8.5"
  },
  "toc": {
   "base_numbering": 1,
   "nav_menu": {},
   "number_sections": true,
   "sideBar": true,
   "skip_h1_title": false,
   "title_cell": "Table of Contents",
   "title_sidebar": "Contents",
   "toc_cell": false,
   "toc_position": {
    "height": "calc(100% - 180px)",
    "left": "10px",
    "top": "150px",
    "width": "364px"
   },
   "toc_section_display": true,
   "toc_window_display": true
  }
 },
 "nbformat": 4,
 "nbformat_minor": 1
}
