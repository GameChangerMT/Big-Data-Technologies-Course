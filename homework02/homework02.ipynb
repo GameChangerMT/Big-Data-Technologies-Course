{
 "cells": [
  {
   "cell_type": "markdown",
   "metadata": {
    "format": "text/markdown"
   },
   "source": [
    "\n",
    "\n",
    "# Propaganda, start the `spark` session\n",
    "\n",
    "> For SQL users, Spark SQL provides state-of-the-art SQL performance and maintains compatibility with Shark/Hive. In particular, like Shark, Spark SQL supports all existing Hive data formats, user-defined functions (UDF), and the Hive metastore.\n",
    "\n",
    "> For Spark users, Spark SQL becomes the narrow-waist for manipulating (semi-) structured data as well as ingesting data from sources that provide schema, such as JSON, Parquet, Hive, or EDWs. It truly unifies SQL and sophisticated analysis, allowing users to mix and match SQL and more imperative programming APIs for advanced analytics.\n",
    "\n",
    "> For open source hackers, Spark SQL proposes a novel, elegant way of building query planners. It is incredibly easy to add new optimizations under this framework.\n",
    "\n",
    "> Internally, a structured query is a Catalyst tree of (logical and physical) relational operators and expressions.\n",
    "\n",
    "\n"
   ]
  },
  {
   "cell_type": "code",
   "execution_count": 1,
   "metadata": {
    "ExecuteTime": {
     "end_time": "2022-02-20T22:38:01.225548Z",
     "start_time": "2022-02-20T22:37:59.058432Z"
    },
    "autoscroll": "auto",
    "options": {
     "caption": false,
     "complete": true,
     "display_data": true,
     "display_stream": true,
     "dpi": 200,
     "echo": true,
     "evaluate": false,
     "f_env": null,
     "f_pos": "htpb",
     "f_size": [
      6,
      4
     ],
     "f_spines": true,
     "fig": true,
     "include": true,
     "name": null,
     "option_string": "evaluate=False",
     "results": "verbatim",
     "term": false,
     "wrap": "output"
    }
   },
   "outputs": [],
   "source": [
    "# import the usual suspects\n",
    "import pandas as pd\n",
    "import numpy as np\n",
    "import matplotlib.pyplot as plt\n",
    "import os\n",
    "from pathlib import Path\n",
    "import sys\n",
    "import timeit\n",
    "\n",
    "%matplotlib inline\n",
    "import seaborn as sns\n",
    "\n",
    "sns.set_context(\"notebook\", font_scale=1.2)"
   ]
  },
  {
   "cell_type": "markdown",
   "metadata": {
    "format": "text/markdown"
   },
   "source": [
    "During the session, we will use classes and functions exported by `pyspark`\n"
   ]
  },
  {
   "cell_type": "code",
   "execution_count": 2,
   "metadata": {
    "ExecuteTime": {
     "end_time": "2022-02-20T22:38:01.338446Z",
     "start_time": "2022-02-20T22:38:01.229470Z"
    },
    "autoscroll": "auto",
    "options": {
     "caption": false,
     "complete": true,
     "display_data": true,
     "display_stream": true,
     "dpi": 200,
     "echo": true,
     "evaluate": false,
     "f_env": null,
     "f_pos": "htpb",
     "f_size": [
      6,
      4
     ],
     "f_spines": true,
     "fig": true,
     "include": true,
     "name": null,
     "option_string": "evaluate=False",
     "results": "verbatim",
     "term": false,
     "wrap": "output"
    }
   },
   "outputs": [],
   "source": [
    "# spark\n",
    "from pyspark import SparkConf, SparkContext\n",
    "from pyspark.sql import SparkSession\n",
    "from pyspark.sql import Window\n",
    "from pyspark.sql.functions import col\n",
    "import pyspark.sql.functions as fn\n",
    "from pyspark.sql.catalog import Catalog\n",
    "from pyspark.sql.types import StructType, StructField\n",
    "from pyspark.sql.types import IntegerType, StringType"
   ]
  },
  {
   "cell_type": "markdown",
   "metadata": {},
   "source": [
    "Start the `SparkSession`"
   ]
  },
  {
   "cell_type": "code",
   "execution_count": 3,
   "metadata": {
    "ExecuteTime": {
     "end_time": "2022-02-20T22:38:12.280720Z",
     "start_time": "2022-02-20T22:38:01.340452Z"
    },
    "autoscroll": "auto",
    "options": {
     "caption": false,
     "complete": true,
     "display_data": true,
     "display_stream": true,
     "dpi": 200,
     "echo": true,
     "evaluate": false,
     "f_env": null,
     "f_pos": "htpb",
     "f_size": [
      6,
      4
     ],
     "f_spines": true,
     "fig": true,
     "include": true,
     "name": null,
     "option_string": "evaluate=False",
     "results": "verbatim",
     "term": false,
     "wrap": "output"
    }
   },
   "outputs": [],
   "source": [
    "conf = SparkConf().setAppName(\"Spark SQL Illustrations\")\n",
    "sc = SparkContext(conf=conf)\n",
    "\n",
    "spark = (SparkSession\n",
    "    .builder\n",
    "    .appName(\"Spark SQL\")\n",
    "    .getOrCreate()\n",
    ")"
   ]
  },
  {
   "cell_type": "markdown",
   "metadata": {
    "format": "text/markdown"
   },
   "source": [
    "US Baby Names 1880-2017\n",
    "=======================\n",
    "\n",
    "\n",
    "Description\n",
    ": US baby names provided by the SSA. \n",
    "\n",
    "This dataset contains all names used\n",
    "for at least 5 children of either sex during a year. \n",
    "\n",
    "\n",
    "The file is made of `1924665` lines and  4 columns.\n",
    "\n",
    "```\n",
    "|-- name: string (nullable = true)\n",
    "    |-- n: integer (nullable = true)\n",
    "    |-- sex: string (nullable = true)\n",
    "    |-- year: integer (nullable = true)\n",
    "```\n",
    "\n",
    "Each row indicates for a given name, sex, and year the number of babies \n",
    "of the given sex who were given that name during the given year. Names \n",
    "with less than 5 occurrences during the year were note recorded. \n",
    "\n",
    "|    name|  n|sex|year|\n",
    "|:--------|:---:|:---:|:----:|\n",
    "|  Emilia|112|  F|1985|\n",
    "|   Kelsi|112|  F|1985|\n",
    "|  Margot|112|  F|1985|\n",
    "|  Mariam|112|  F|1985|\n",
    "|Scarlett|112|  F|1985|\n",
    "\n",
    "First, we download the data if it's not there yet"
   ]
  },
  {
   "cell_type": "code",
   "execution_count": 4,
   "metadata": {
    "ExecuteTime": {
     "end_time": "2022-02-20T22:38:12.459296Z",
     "start_time": "2022-02-20T22:38:12.283450Z"
    }
   },
   "outputs": [],
   "source": [
    "import requests, zipfile, io\n",
    "from pathlib import Path\n",
    "\n",
    "path = Path('babynames_short.csv')\n",
    "if not path.exists():\n",
    "    url = \"https://stephanegaiffas.github.io/big_data_course/data/babynames_short.csv.zip\"\n",
    "    r = requests.get(url)\n",
    "    z = zipfile.ZipFile(io.BytesIO(r.content))\n",
    "    z.extractall(path='./')"
   ]
  },
  {
   "cell_type": "markdown",
   "metadata": {
    "format": "text/markdown"
   },
   "source": [
    "Load `babynames` from a `csv` file"
   ]
  },
  {
   "cell_type": "code",
   "execution_count": 5,
   "metadata": {
    "ExecuteTime": {
     "end_time": "2022-02-20T22:38:26.812458Z",
     "start_time": "2022-02-20T22:38:12.468640Z"
    },
    "autoscroll": "auto",
    "options": {
     "caption": false,
     "complete": true,
     "display_data": true,
     "display_stream": true,
     "dpi": 200,
     "echo": true,
     "evaluate": false,
     "f_env": null,
     "f_pos": "htpb",
     "f_size": [
      6,
      4
     ],
     "f_spines": true,
     "fig": true,
     "include": true,
     "name": null,
     "option_string": "evaluate=False",
     "results": "verbatim",
     "term": false,
     "wrap": "output"
    },
    "scrolled": false
   },
   "outputs": [
    {
     "name": "stdout",
     "output_type": "stream",
     "text": [
      "root\n",
      " |-- name: string (nullable = true)\n",
      " |-- n: integer (nullable = true)\n",
      " |-- sex: string (nullable = true)\n",
      " |-- year: double (nullable = true)\n",
      "\n"
     ]
    }
   ],
   "source": [
    "df_sp = spark.read\\\n",
    "             .format('csv')\\\n",
    "             .option(\"header\", \"true\")\\\n",
    "             .option(\"mode\", \"FAILFAST\")\\\n",
    "             .option(\"inferSchema\", \"true\")\\\n",
    "             .option(\"sep\", \",\")\\\n",
    "             .load(\"babynames_short.csv\")\n",
    "\n",
    "df_sp.printSchema()"
   ]
  },
  {
   "cell_type": "markdown",
   "metadata": {
    "format": "text/markdown"
   },
   "source": [
    "\n",
    "Ensure that the dataframe has the following schema:\n",
    "\n",
    "    root\n",
    "        |-- name: string (nullable = true)\n",
    "        |-- n: integer (nullable = true)\n",
    "        |-- sex: string (nullable = true)\n",
    "        |-- year: integer (nullable = true)\n",
    "\n",
    "\n"
   ]
  },
  {
   "cell_type": "code",
   "execution_count": null,
   "metadata": {
    "ExecuteTime": {
     "end_time": "2020-03-05T16:18:10.750933Z",
     "start_time": "2020-03-05T16:18:10.605549Z"
    },
    "autoscroll": "auto",
    "options": {
     "caption": false,
     "complete": true,
     "display_data": true,
     "display_stream": true,
     "dpi": 200,
     "echo": true,
     "evaluate": false,
     "f_env": null,
     "f_pos": "htpb",
     "f_size": [
      6,
      4
     ],
     "f_spines": true,
     "fig": true,
     "include": true,
     "name": null,
     "option_string": "evaluate=False",
     "results": "verbatim",
     "term": false,
     "wrap": "output"
    }
   },
   "outputs": [],
   "source": []
  },
  {
   "cell_type": "markdown",
   "metadata": {
    "format": "text/markdown"
   },
   "source": [
    "SQL versus spark-Dataframe API\n",
    "=================================\n",
    "\n",
    ">  Dataset API vs SQL\n",
    "\n",
    "> Spark SQL supports two \"modes\" to write structured queries: Dataset API and SQL. SQL Mode is used to express structured queries using SQL statements using SparkSession.sql operator, expr standard function and spark-sql command-line tool.\n",
    "\n",
    "> Some structured queries can be expressed much easier using Dataset API, but there are some that are only possible in SQL. In other words, you may find mixing Dataset API and SQL modes challenging yet rewarding.\n",
    "\n",
    "> What is important, and one of the reasons why Spark SQL has been so successful, is that there is no performance difference between the modes. Whatever mode you use to write your structured queries, they all end up as a tree of Catalyst relational data structures. And, yes, you could consider writing structured queries using Catalyst directly, but that could quickly become unwieldy for maintenance (i.e. finding Spark SQL developers who could be comfortable with it as well as being fairly low-level and therefore possibly too dependent on a specific Spark SQL version).\n",
    "\n",
    "Warmup:  compute the 10 most popular names given to babies in year 2000.\n",
    "======================================================================\n",
    "\n",
    "## Using `spark.sql()`\n",
    "\n",
    "In order to use mode `sql`, create a temporary view from the `DataFrame`.\n",
    "\n",
    "1. What are temporary views made of?\n",
    "1. Are there other kind of views in spark's world?"
   ]
  },
  {
   "cell_type": "code",
   "execution_count": 6,
   "metadata": {
    "ExecuteTime": {
     "end_time": "2022-02-20T22:38:27.308340Z",
     "start_time": "2022-02-20T22:38:26.818129Z"
    },
    "autoscroll": "auto",
    "options": {
     "caption": false,
     "complete": true,
     "display_data": true,
     "display_stream": true,
     "dpi": 200,
     "echo": true,
     "evaluate": false,
     "f_env": null,
     "f_pos": "htpb",
     "f_size": [
      6,
      4
     ],
     "f_spines": true,
     "fig": true,
     "include": true,
     "name": null,
     "option_string": "evaluate=False",
     "results": "verbatim",
     "term": false,
     "wrap": "output"
    }
   },
   "outputs": [
    {
     "data": {
      "text/plain": [
       "[]"
      ]
     },
     "execution_count": 6,
     "metadata": {},
     "output_type": "execute_result"
    }
   ],
   "source": [
    "Catalog(spark).listTables()"
   ]
  },
  {
   "cell_type": "code",
   "execution_count": 7,
   "metadata": {
    "ExecuteTime": {
     "end_time": "2022-02-20T22:38:28.661866Z",
     "start_time": "2022-02-20T22:38:27.315149Z"
    }
   },
   "outputs": [
    {
     "data": {
      "text/plain": [
       "[Table(name='table', database=None, description=None, tableType='TEMPORARY', isTemporary=True)]"
      ]
     },
     "execution_count": 7,
     "metadata": {},
     "output_type": "execute_result"
    }
   ],
   "source": [
    "df_sp.createOrReplaceTempView(\"table\")\n",
    "Catalog(spark).listTables()"
   ]
  },
  {
   "cell_type": "markdown",
   "metadata": {
    "format": "text/markdown"
   },
   "source": [
    "\n",
    "## A query is a plain SQL query embodied in a string.\n",
    "\n"
   ]
  },
  {
   "cell_type": "code",
   "execution_count": 8,
   "metadata": {
    "ExecuteTime": {
     "end_time": "2022-02-20T22:38:28.676216Z",
     "start_time": "2022-02-20T22:38:28.667652Z"
    },
    "autoscroll": "auto",
    "options": {
     "caption": false,
     "complete": true,
     "display_data": true,
     "display_stream": true,
     "dpi": 200,
     "echo": true,
     "evaluate": false,
     "f_env": null,
     "f_pos": "htpb",
     "f_size": [
      6,
      4
     ],
     "f_spines": true,
     "fig": true,
     "include": true,
     "name": null,
     "option_string": "evaluate=False",
     "results": "verbatim",
     "term": false,
     "wrap": "output"
    }
   },
   "outputs": [],
   "source": [
    "query = \"\"\"TODO: \"\"\"\n",
    "\n",
    "# spark.sql(query)"
   ]
  },
  {
   "cell_type": "markdown",
   "metadata": {
    "format": "text/markdown"
   },
   "source": [
    "\n",
    "> This phrasing is not consistent with the DRY principle. Fix this using formatted strings.\n",
    "\n",
    "## Using the dataframe/dataset API\n",
    "\n",
    "This can also be done using Spark SQL API.\n",
    "\n",
    "### Pedestrian approach\n",
    "\n",
    "1. First select `10` most popular names for girls in year `2000`, define `spark` dataframe\n",
    "`top10_2000_f`.\n",
    "1. Does the definition of `top10_2000_f` involve _transformations_, _actions_ or both?\n",
    "1. What is the type of the result returned by `top10_2000_f.take(2)`? the type of elements of the result?\n",
    "\n"
   ]
  },
  {
   "cell_type": "code",
   "execution_count": 9,
   "metadata": {
    "ExecuteTime": {
     "end_time": "2022-02-20T22:38:31.874203Z",
     "start_time": "2022-02-20T22:38:28.685910Z"
    },
    "autoscroll": "auto",
    "options": {
     "caption": false,
     "complete": true,
     "display_data": true,
     "display_stream": true,
     "dpi": 200,
     "echo": true,
     "evaluate": false,
     "f_env": null,
     "f_pos": "htpb",
     "f_size": [
      6,
      4
     ],
     "f_spines": true,
     "fig": true,
     "include": true,
     "name": null,
     "option_string": "evaluate=False",
     "results": "verbatim",
     "term": false,
     "wrap": "output"
    }
   },
   "outputs": [
    {
     "name": "stdout",
     "output_type": "stream",
     "text": [
      "+---------+-----+\n",
      "|     name|    n|\n",
      "+---------+-----+\n",
      "|    Emily|25953|\n",
      "|   Hannah|23080|\n",
      "|  Madison|19967|\n",
      "|   Ashley|17997|\n",
      "|    Sarah|17697|\n",
      "|   Alexis|17629|\n",
      "| Samantha|17266|\n",
      "|  Jessica|15709|\n",
      "|Elizabeth|15094|\n",
      "|   Taylor|15078|\n",
      "+---------+-----+\n",
      "\n"
     ]
    }
   ],
   "source": [
    "top10_2000_f = df_sp.select('name', 'n').where((col('year') == 2000) & (col('sex') == 'F')).orderBy(col('n').desc()).limit(10)\n",
    "top10_2000_f.show()"
   ]
  },
  {
   "cell_type": "markdown",
   "metadata": {
    "format": "text/markdown"
   },
   "source": [
    "\n",
    "1. Do the same thing for boys.\n",
    "\n"
   ]
  },
  {
   "cell_type": "code",
   "execution_count": 10,
   "metadata": {
    "ExecuteTime": {
     "end_time": "2022-02-20T22:38:33.715399Z",
     "start_time": "2022-02-20T22:38:31.894663Z"
    },
    "autoscroll": "auto",
    "options": {
     "caption": false,
     "complete": true,
     "display_data": true,
     "display_stream": true,
     "dpi": 200,
     "echo": true,
     "evaluate": false,
     "f_env": null,
     "f_pos": "htpb",
     "f_size": [
      6,
      4
     ],
     "f_spines": true,
     "fig": true,
     "include": true,
     "name": null,
     "option_string": "evaluate=False",
     "results": "verbatim",
     "term": false,
     "wrap": "output"
    }
   },
   "outputs": [
    {
     "name": "stdout",
     "output_type": "stream",
     "text": [
      "+---------+-----+\n",
      "|     name|    n|\n",
      "+---------+-----+\n",
      "|    Emily|25953|\n",
      "|   Hannah|23080|\n",
      "|  Madison|19967|\n",
      "|   Ashley|17997|\n",
      "|    Sarah|17697|\n",
      "|   Alexis|17629|\n",
      "| Samantha|17266|\n",
      "|  Jessica|15709|\n",
      "|Elizabeth|15094|\n",
      "|   Taylor|15078|\n",
      "+---------+-----+\n",
      "\n"
     ]
    }
   ],
   "source": [
    "# df.createOrReplaceTempView(\"table2\")\n",
    "top10_2000_m = df_sp.select('name', 'n').where((col('year') == 2000) & (col('sex') == 'M')).orderBy(col('n').desc()).limit(10)\n",
    "top10_2000_f.show()"
   ]
  },
  {
   "cell_type": "markdown",
   "metadata": {
    "format": "text/markdown"
   },
   "source": [
    "\n",
    "1. Compute the _union_ of the two spark dataframes. Store the result in\n",
    "dataframe `top10_2000`\n",
    "\n"
   ]
  },
  {
   "cell_type": "code",
   "execution_count": 11,
   "metadata": {
    "ExecuteTime": {
     "end_time": "2022-02-20T22:38:36.916468Z",
     "start_time": "2022-02-20T22:38:33.720680Z"
    },
    "autoscroll": "auto",
    "options": {
     "caption": false,
     "complete": true,
     "display_data": true,
     "display_stream": true,
     "dpi": 200,
     "echo": true,
     "evaluate": false,
     "f_env": null,
     "f_pos": "htpb",
     "f_size": [
      6,
      4
     ],
     "f_spines": true,
     "fig": true,
     "include": true,
     "name": null,
     "option_string": "evaluate=False",
     "results": "verbatim",
     "term": false,
     "wrap": "output"
    }
   },
   "outputs": [
    {
     "name": "stdout",
     "output_type": "stream",
     "text": [
      "+-----------+-----+\n",
      "|       name|    n|\n",
      "+-----------+-----+\n",
      "|      Jacob|34471|\n",
      "|    Michael|32035|\n",
      "|    Matthew|28572|\n",
      "|     Joshua|27538|\n",
      "|      Emily|25953|\n",
      "|Christopher|24931|\n",
      "|   Nicholas|24652|\n",
      "|     Andrew|23639|\n",
      "|     Hannah|23080|\n",
      "|     Joseph|22825|\n",
      "|     Daniel|22312|\n",
      "|      Tyler|21503|\n",
      "|    Madison|19967|\n",
      "|     Ashley|17997|\n",
      "|      Sarah|17697|\n",
      "|     Alexis|17629|\n",
      "|   Samantha|17266|\n",
      "|    Jessica|15709|\n",
      "|  Elizabeth|15094|\n",
      "|     Taylor|15078|\n",
      "+-----------+-----+\n",
      "\n"
     ]
    }
   ],
   "source": [
    "top10_2000 = top10_2000_m.union(top10_2000_f).orderBy(col('n').desc())\n",
    "top10_2000.show()"
   ]
  },
  {
   "cell_type": "markdown",
   "metadata": {
    "format": "text/markdown"
   },
   "source": [
    "\n",
    "### Do it again, complying  with DRY principle\n",
    "\n"
   ]
  },
  {
   "cell_type": "code",
   "execution_count": 12,
   "metadata": {
    "ExecuteTime": {
     "end_time": "2022-02-20T22:38:37.141377Z",
     "start_time": "2022-02-20T22:38:36.922193Z"
    },
    "autoscroll": "auto",
    "options": {
     "caption": false,
     "complete": true,
     "display_data": true,
     "display_stream": true,
     "dpi": 200,
     "echo": true,
     "evaluate": false,
     "f_env": null,
     "f_pos": "htpb",
     "f_size": [
      6,
      4
     ],
     "f_spines": true,
     "fig": true,
     "include": true,
     "name": null,
     "option_string": "evaluate=False",
     "results": "verbatim",
     "term": false,
     "wrap": "output"
    }
   },
   "outputs": [
    {
     "data": {
      "text/plain": [
       "DataFrame[]"
      ]
     },
     "execution_count": 12,
     "metadata": {},
     "output_type": "execute_result"
    }
   ],
   "source": [
    "window = Window.partitionBy('sex')\\\n",
    "    .orderBy(df_sp.n.desc())\n",
    "\n",
    "rank = fn.rank().over(window)\n",
    "\n",
    "df_sp.select()\n"
   ]
  },
  {
   "cell_type": "markdown",
   "metadata": {
    "format": "text/markdown"
   },
   "source": [
    "\n",
    "\n",
    "Name portfolio through ages\n",
    "===========================\n",
    "\n",
    "1. Compute for each year and sex the number of distinct names given that year.\n",
    "\n"
   ]
  },
  {
   "cell_type": "code",
   "execution_count": 13,
   "metadata": {
    "ExecuteTime": {
     "end_time": "2022-02-20T22:38:42.217449Z",
     "start_time": "2022-02-20T22:38:37.144349Z"
    },
    "autoscroll": "auto",
    "options": {
     "caption": false,
     "complete": true,
     "display_data": true,
     "display_stream": true,
     "dpi": 200,
     "echo": true,
     "evaluate": false,
     "f_env": null,
     "f_pos": "htpb",
     "f_size": [
      6,
      4
     ],
     "f_spines": true,
     "fig": true,
     "include": true,
     "name": null,
     "option_string": "evaluate=False",
     "results": "verbatim",
     "term": false,
     "wrap": "output"
    }
   },
   "outputs": [
    {
     "name": "stdout",
     "output_type": "stream",
     "text": [
      "+------+---+-----+\n",
      "|  year|sex|count|\n",
      "+------+---+-----+\n",
      "|1880.0|  F|  942|\n",
      "|1880.0|  M| 1058|\n",
      "|1881.0|  F|  938|\n",
      "|1881.0|  M|  997|\n",
      "|1882.0|  F| 1028|\n",
      "|1882.0|  M| 1099|\n",
      "|1883.0|  F| 1054|\n",
      "|1883.0|  M| 1030|\n",
      "|1884.0|  F| 1172|\n",
      "|1884.0|  M| 1125|\n",
      "|1885.0|  F| 1197|\n",
      "|1885.0|  M| 1097|\n",
      "|1886.0|  F| 1282|\n",
      "|1886.0|  M| 1110|\n",
      "|1887.0|  F| 1306|\n",
      "|1887.0|  M| 1067|\n",
      "|1888.0|  F| 1474|\n",
      "|1888.0|  M| 1177|\n",
      "|1889.0|  F| 1479|\n",
      "|1889.0|  M| 1111|\n",
      "+------+---+-----+\n",
      "only showing top 20 rows\n",
      "\n"
     ]
    }
   ],
   "source": [
    "nb_names_year_sex = df_sp.groupBy('year', 'sex')\\\n",
    "    .count()\n",
    "\n",
    "nb_names_year_sex.orderBy('year', 'sex').show()"
   ]
  },
  {
   "cell_type": "code",
   "execution_count": 14,
   "metadata": {
    "ExecuteTime": {
     "end_time": "2022-02-20T22:38:43.838269Z",
     "start_time": "2022-02-20T22:38:42.226507Z"
    },
    "scrolled": true
   },
   "outputs": [
    {
     "data": {
      "text/plain": [
       "942"
      ]
     },
     "execution_count": 14,
     "metadata": {},
     "output_type": "execute_result"
    }
   ],
   "source": [
    "df_sp.select(\"*\").where((col('year') == \"1880\") & (col('sex') == 'F')).count()"
   ]
  },
  {
   "cell_type": "markdown",
   "metadata": {
    "format": "text/markdown"
   },
   "source": [
    "\n",
    "1. Plot the evolution of the number of distinct names as a function of `year`.\n",
    "Use some aesthetics to distinguish sexes.\n",
    "\n",
    "\n"
   ]
  },
  {
   "cell_type": "code",
   "execution_count": 15,
   "metadata": {
    "ExecuteTime": {
     "end_time": "2022-02-20T22:38:47.158051Z",
     "start_time": "2022-02-20T22:38:43.842186Z"
    },
    "autoscroll": "auto",
    "options": {
     "caption": false,
     "complete": true,
     "display_data": true,
     "display_stream": true,
     "dpi": 200,
     "echo": true,
     "evaluate": false,
     "f_env": null,
     "f_pos": "htpb",
     "f_size": [
      6,
      4
     ],
     "f_spines": true,
     "fig": true,
     "include": true,
     "name": null,
     "option_string": "evaluate=False",
     "results": "verbatim",
     "term": false,
     "wrap": "output"
    }
   },
   "outputs": [
    {
     "data": {
      "text/plain": [
       "Text(0.5, 1.0, 'Evolution of the number of distinct names as a function of year')"
      ]
     },
     "execution_count": 15,
     "metadata": {},
     "output_type": "execute_result"
    },
    {
     "data": {
      "image/png": "[encoded data removed]",
      "text/plain": [
       "<Figure size 432x288 with 1 Axes>"
      ]
     },
     "metadata": {
      "needs_background": "light"
     },
     "output_type": "display_data"
    }
   ],
   "source": [
    "\n",
    "sns.lineplot(x='year', y='count', hue='sex', data=nb_names_year_sex.toPandas())\\\n",
    "    .set_title('Evolution of the number of distinct names as a function of year')"
   ]
  },
  {
   "cell_type": "markdown",
   "metadata": {
    "format": "text/markdown"
   },
   "source": [
    "\n",
    "\n",
    "Assessing popularity through time\n",
    "=================================\n",
    "\n",
    "1. For each year and sex, compute the total number of births\n",
    "1. Plot the evolution of the sex ratio over time\n",
    "1. For each year, sex, and name compute the percentage of newborns\n",
    "given that name for that given year.\n",
    "\n",
    "\n",
    "> Use `Window` functions.\n",
    "\n"
   ]
  },
  {
   "cell_type": "code",
   "execution_count": 16,
   "metadata": {
    "ExecuteTime": {
     "end_time": "2022-02-20T22:39:06.368736Z",
     "start_time": "2022-02-20T22:38:47.161103Z"
    },
    "autoscroll": "auto",
    "options": {
     "caption": false,
     "complete": true,
     "display_data": true,
     "display_stream": true,
     "dpi": 200,
     "echo": true,
     "evaluate": false,
     "f_env": null,
     "f_pos": "htpb",
     "f_size": [
      6,
      4
     ],
     "f_spines": true,
     "fig": true,
     "include": true,
     "name": null,
     "option_string": "evaluate=False",
     "results": "verbatim",
     "term": false,
     "wrap": "output"
    }
   },
   "outputs": [],
   "source": [
    "window = Window.partitionBy('year', 'sex')\n",
    "total_births_sex = fn.sum('n').over(window)\n",
    "new_df = df_sp.withColumn('n_births_sex', total_births_sex)\n",
    "test_df = new_df.toPandas()"
   ]
  },
  {
   "cell_type": "code",
   "execution_count": 17,
   "metadata": {
    "ExecuteTime": {
     "end_time": "2022-02-20T22:39:35.703450Z",
     "start_time": "2022-02-20T22:39:06.381630Z"
    }
   },
   "outputs": [
    {
     "data": {
      "text/plain": [
       "Text(0, 0.5, 'Number of births')"
      ]
     },
     "execution_count": 17,
     "metadata": {},
     "output_type": "execute_result"
    },
    {
     "data": {
      "image/png": "[encoded data removed]",
      "text/plain": [
       "<Figure size 432x288 with 1 Axes>"
      ]
     },
     "metadata": {
      "needs_background": "light"
     },
     "output_type": "display_data"
    }
   ],
   "source": [
    "a = sns.lineplot(x=\"year\", y=\"n_births_sex\", hue=\"sex\", data = test_df)\n",
    "a.set_title('Total number of births as a function of year')\n",
    "a.set_ylabel('Number of births')"
   ]
  },
  {
   "cell_type": "markdown",
   "metadata": {
    "format": "text/markdown"
   },
   "source": [
    "\n",
    "\n"
   ]
  },
  {
   "cell_type": "code",
   "execution_count": 18,
   "metadata": {
    "ExecuteTime": {
     "end_time": "2022-02-20T22:40:38.129920Z",
     "start_time": "2022-02-20T22:39:35.706730Z"
    },
    "autoscroll": "auto",
    "options": {
     "caption": false,
     "complete": true,
     "display_data": true,
     "display_stream": true,
     "dpi": 200,
     "echo": true,
     "evaluate": false,
     "f_env": null,
     "f_pos": "htpb",
     "f_size": [
      6,
      4
     ],
     "f_spines": true,
     "fig": true,
     "include": true,
     "name": null,
     "option_string": "evaluate=False",
     "results": "verbatim",
     "term": false,
     "wrap": "output"
    }
   },
   "outputs": [
    {
     "data": {
      "text/plain": [
       "Text(0.5, 1.0, 'Evolution of sex ratio as a function of year')"
      ]
     },
     "execution_count": 18,
     "metadata": {},
     "output_type": "execute_result"
    },
    {
     "data": {
      "image/png": "[encoded data removed]",
      "text/plain": [
       "<Figure size 432x288 with 1 Axes>"
      ]
     },
     "metadata": {
      "needs_background": "light"
     },
     "output_type": "display_data"
    }
   ],
   "source": [
    "window2 = Window.partitionBy('year')\n",
    "total_births = fn.sum('n').over(window2)\n",
    "new_df = new_df.withColumn('n_births', total_births)\n",
    "test_df = new_df.where(col('sex') == 'F').toPandas()\n",
    "sns.lineplot(x='year', y=(test_df.n_births_sex/(test_df.n_births-test_df.n_births_sex)), data = test_df)\\\n",
    "    .set_title('Evolution of sex ratio as a function of year')"
   ]
  },
  {
   "cell_type": "code",
   "execution_count": 19,
   "metadata": {
    "ExecuteTime": {
     "end_time": "2022-02-20T22:40:51.675019Z",
     "start_time": "2022-02-20T22:40:38.146572Z"
    }
   },
   "outputs": [
    {
     "name": "stdout",
     "output_type": "stream",
     "text": [
      "+-------+----+---+------+------------+--------+------------------+\n",
      "|   name|   n|sex|  year|n_births_sex|n_births|        percentage|\n",
      "+-------+----+---+------+------------+--------+------------------+\n",
      "|   John|9655|  M|1880.0|      110491|  201484| 8.738268275244138|\n",
      "|   John|8769|  M|1881.0|      100743|  192696| 8.704326851493406|\n",
      "|William|9532|  M|1880.0|      110491|  201484|  8.62694699115765|\n",
      "|   John|8894|  M|1883.0|      104627|  216946| 8.500673822244737|\n",
      "|William|8524|  M|1881.0|      100743|  192696| 8.461133776043992|\n",
      "|   John|9557|  M|1882.0|      113686|  221533| 8.406488046021497|\n",
      "|   John|9388|  M|1884.0|      114442|  243462| 8.203282011848795|\n",
      "|William|9298|  M|1882.0|      113686|  221533|  8.17866755801066|\n",
      "|   John|9026|  M|1886.0|      110784|  255317| 8.147385904101675|\n",
      "|   John|8756|  M|1885.0|      107799|  240854|  8.12252432768393|\n",
      "|William|8387|  M|1883.0|      104627|  216946| 8.016095271774972|\n",
      "|   John|8110|  M|1887.0|      101413|  247394| 7.997002356699831|\n",
      "|William|8897|  M|1884.0|      114442|  243462| 7.774243721710561|\n",
      "|   Mary|7065|  F|1880.0|       90993|  201484| 7.764333520160892|\n",
      "|   John|8548|  M|1889.0|      110580|  288946| 7.730150117561946|\n",
      "|   John|8502|  M|1890.0|      111025|  301401|  7.65773474442693|\n",
      "|   John|9247|  M|1888.0|      120851|  299473| 7.651570942731131|\n",
      "|   John|7680|  M|1891.0|      101191|  286672|7.5896077714421235|\n",
      "|   Mary|8148|  F|1882.0|      107847|  221533| 7.555147570168851|\n",
      "|   Mary|6919|  F|1881.0|       91953|  192696| 7.524496210020335|\n",
      "+-------+----+---+------+------------+--------+------------------+\n",
      "only showing top 20 rows\n",
      "\n"
     ]
    }
   ],
   "source": [
    "def percentage(col_1, col_2):\n",
    "    return 100*(col_1/col_2)\n",
    "\n",
    "new_df.withColumn('percentage', percentage(new_df.n, new_df.n_births_sex)).orderBy(col('percentage').desc()).show()\n"
   ]
  },
  {
   "cell_type": "markdown",
   "metadata": {
    "format": "text/markdown"
   },
   "source": [
    "\n",
    "1. Compute for each year, sex and name  the `row_number`, `rank`, and `dense_rank`\n",
    "of the name within that year and sex category, when names are sorted by increasing popularity.\n",
    "\n"
   ]
  },
  {
   "cell_type": "code",
   "execution_count": 20,
   "metadata": {
    "ExecuteTime": {
     "end_time": "2022-02-20T22:40:57.747752Z",
     "start_time": "2022-02-20T22:40:51.705690Z"
    },
    "autoscroll": "auto",
    "options": {
     "caption": false,
     "complete": true,
     "display_data": true,
     "display_stream": true,
     "dpi": 200,
     "echo": true,
     "evaluate": false,
     "f_env": null,
     "f_pos": "htpb",
     "f_size": [
      6,
      4
     ],
     "f_spines": true,
     "fig": true,
     "include": true,
     "name": null,
     "option_string": "evaluate=False",
     "results": "verbatim",
     "term": false,
     "wrap": "output"
    }
   },
   "outputs": [
    {
     "name": "stdout",
     "output_type": "stream",
     "text": [
      "+-------+-----+---+------+----------+----+----------+\n",
      "|   name|    n|sex|  year|row_number|rank|dense_rank|\n",
      "+-------+-----+---+------+----------+----+----------+\n",
      "| Robert|62147|  M|1930.0|         1|   1|         1|\n",
      "|  James|53944|  M|1930.0|         2|   2|         2|\n",
      "|   John|52432|  M|1930.0|         3|   3|         3|\n",
      "|William|47259|  M|1930.0|         4|   4|         4|\n",
      "|Richard|32178|  M|1930.0|         5|   5|         5|\n",
      "|Charles|31863|  M|1930.0|         6|   6|         6|\n",
      "| Donald|29046|  M|1930.0|         7|   7|         7|\n",
      "| George|22779|  M|1930.0|         8|   8|         8|\n",
      "| Joseph|20981|  M|1930.0|         9|   9|         9|\n",
      "| Edward|17347|  M|1930.0|        10|  10|        10|\n",
      "| Thomas|17013|  M|1930.0|        11|  11|        11|\n",
      "|   Paul|12960|  M|1930.0|        12|  12|        12|\n",
      "|  Frank|12539|  M|1930.0|        13|  13|        13|\n",
      "|   Jack|12431|  M|1930.0|        14|  14|        14|\n",
      "|  David|12272|  M|1930.0|        15|  15|        15|\n",
      "|Raymond|11715|  M|1930.0|        16|  16|        16|\n",
      "|Kenneth|11701|  M|1930.0|        17|  17|        17|\n",
      "| Harold|11659|  M|1930.0|        18|  18|        18|\n",
      "| Walter| 9728|  M|1930.0|        19|  19|        19|\n",
      "|  Billy| 9284|  M|1930.0|        20|  20|        20|\n",
      "+-------+-----+---+------+----------+----+----------+\n",
      "only showing top 20 rows\n",
      "\n"
     ]
    }
   ],
   "source": [
    "window2 = Window.partitionBy('year', 'sex')\\\n",
    "    .orderBy(col('n').desc())\n",
    "\n",
    "rank = fn.rank().over(window2)\n",
    "dense_rank = fn.dense_rank().over(window2)\n",
    "row_number = fn.row_number().over(window2)\n",
    "\n",
    "df_sp\\\n",
    "    .withColumn('row_number', row_number)\\\n",
    "    .withColumn('rank', rank)\\\n",
    "    .withColumn('dense_rank', dense_rank)\\\n",
    "    .show()\n",
    "\n"
   ]
  },
  {
   "cell_type": "markdown",
   "metadata": {
    "format": "text/markdown"
   },
   "source": [
    "\n",
    "\n",
    "\n",
    "Evolution of top popular names through the century\n",
    "==================================================\n",
    "\n",
    "\n",
    "1. For each sex, select the ten most popular names in year 2000, and plot the proportion\n",
    "of newborns given that name over time. Take into account that some names might have\n",
    "zero occurrence during certain years.\n",
    "\n"
   ]
  },
  {
   "cell_type": "code",
   "execution_count": 21,
   "metadata": {
    "ExecuteTime": {
     "end_time": "2022-02-20T22:41:11.234373Z",
     "start_time": "2022-02-20T22:40:57.754014Z"
    },
    "autoscroll": "auto",
    "options": {
     "caption": false,
     "complete": true,
     "display_data": true,
     "display_stream": true,
     "dpi": 200,
     "echo": true,
     "evaluate": false,
     "f_env": null,
     "f_pos": "htpb",
     "f_size": [
      6,
      4
     ],
     "f_spines": true,
     "fig": true,
     "include": true,
     "name": null,
     "option_string": "evaluate=False",
     "results": "verbatim",
     "term": false,
     "wrap": "output"
    },
    "scrolled": false
   },
   "outputs": [
    {
     "data": {
      "text/plain": [
       "Text(0.5, 1.0, 'Evolution of ten most popular male names in year 2000 as a function of year')"
      ]
     },
     "execution_count": 21,
     "metadata": {},
     "output_type": "execute_result"
    },
    {
     "data": {
      "image/png": "[encoded data removed]",
      "text/plain": [
       "<Figure size 432x288 with 1 Axes>"
      ]
     },
     "metadata": {
      "needs_background": "light"
     },
     "output_type": "display_data"
    }
   ],
   "source": [
    "'''ten_popular_m_2000 = df_sp\\\n",
    "    .where((col('year') == 2000) & (col('sex') == 'M'))\\\n",
    "    .orderBy(col('n').desc())\\\n",
    "    .limit(10)\n",
    "'''\n",
    "\n",
    "#ten_popular_m_2000.createOrReplaceView('table2')\n",
    "\n",
    "query = \"SELECT * FROM table WHERE sex == 'M' and name IN (SELECT name FROM table WHERE year == 2000 and sex == 'M' ORDER BY n DESC LIMIT 10) \"\n",
    "\n",
    "\n",
    "ten_popular_m = spark.sql(query)\n",
    "births_per_year = df_sp.filter(col('sex') == 'M').groupBy('year').sum('n').select('year', col('sum(n)').alias(\"births_m\"))\n",
    "ten_popular_m_tmp = ten_popular_m.join(births_per_year, on='year')\n",
    "ten_popular_m = ten_popular_m_tmp.toPandas()\n",
    "sns.lineplot(x='year', y=ten_popular_m.n/ten_popular_m.births_m, hue='name', data = ten_popular_m)\\\n",
    "    .set_title('Evolution of ten most popular male names in year 2000 as a function of year')\n"
   ]
  },
  {
   "cell_type": "code",
   "execution_count": 33,
   "metadata": {
    "ExecuteTime": {
     "end_time": "2022-02-20T22:44:10.898400Z",
     "start_time": "2022-02-20T22:44:10.658278Z"
    }
   },
   "outputs": [
    {
     "name": "stdout",
     "output_type": "stream",
     "text": [
      "== Physical Plan ==\n",
      "*(7) Project [year#19, name#16, n#17, sex#18, births_f#1450L]\n",
      "+- *(7) SortMergeJoin [knownfloatingpointnormalized(normalizenanandzero(year#19))], [knownfloatingpointnormalized(normalizenanandzero(year#1456))], Inner\n",
      "   :- *(3) Sort [knownfloatingpointnormalized(normalizenanandzero(year#19)) ASC NULLS FIRST], false, 0\n",
      "   :  +- Exchange hashpartitioning(knownfloatingpointnormalized(normalizenanandzero(year#19)), 200), true, [id=#753]\n",
      "   :     +- *(2) BroadcastHashJoin [name#16], [name#16#1462], LeftSemi, BuildRight\n",
      "   :        :- *(2) Project [name#16, n#17, sex#18, year#19]\n",
      "   :        :  +- *(2) Filter ((isnotnull(sex#18) AND (sex#18 = F)) AND isnotnull(year#19))\n",
      "   :        :     +- FileScan csv [name#16,n#17,sex#18,year#19] Batched: false, DataFilters: [isnotnull(sex#18), (sex#18 = F), isnotnull(year#19)], Format: CSV, Location: InMemoryFileIndex[file:/opt/polynote/notebooks/homework2/babynames_short.csv], PartitionFilters: [], PushedFilters: [IsNotNull(sex), EqualTo(sex,F), IsNotNull(year)], ReadSchema: struct<name:string,n:int,sex:string,year:double>\n",
      "   :        +- BroadcastExchange HashedRelationBroadcastMode(List(input[0, string, true])), [id=#749]\n",
      "   :           +- TakeOrderedAndProject(limit=10, orderBy=[n#17 DESC NULLS LAST], output=[name#16#1462])\n",
      "   :              +- *(1) Project [name#16, n#17]\n",
      "   :                 +- *(1) Filter (((isnotnull(year#19) AND isnotnull(sex#18)) AND (year#19 = 2000.0)) AND (sex#18 = F))\n",
      "   :                    +- FileScan csv [name#16,n#17,sex#18,year#19] Batched: false, DataFilters: [isnotnull(year#19), isnotnull(sex#18), (year#19 = 2000.0), (sex#18 = F)], Format: CSV, Location: InMemoryFileIndex[file:/opt/polynote/notebooks/homework2/babynames_short.csv], PartitionFilters: [], PushedFilters: [IsNotNull(year), IsNotNull(sex), EqualTo(year,2000.0), EqualTo(sex,F)], ReadSchema: struct<name:string,n:int,sex:string,year:double>\n",
      "   +- *(6) Sort [knownfloatingpointnormalized(normalizenanandzero(year#1456)) ASC NULLS FIRST], false, 0\n",
      "      +- Exchange hashpartitioning(knownfloatingpointnormalized(normalizenanandzero(year#1456)), 200), true, [id=#767]\n",
      "         +- *(5) HashAggregate(keys=[year#1456], functions=[sum(cast(n#1454 as bigint))])\n",
      "            +- Exchange hashpartitioning(year#1456, 200), true, [id=#763]\n",
      "               +- *(4) HashAggregate(keys=[knownfloatingpointnormalized(normalizenanandzero(year#1456)) AS year#1456], functions=[partial_sum(cast(n#1454 as bigint))])\n",
      "                  +- *(4) Project [n#1454, year#1456]\n",
      "                     +- *(4) Filter ((isnotnull(sex#1455) AND (sex#1455 = F)) AND isnotnull(year#1456))\n",
      "                        +- FileScan csv [n#1454,sex#1455,year#1456] Batched: false, DataFilters: [isnotnull(sex#1455), (sex#1455 = F), isnotnull(year#1456)], Format: CSV, Location: InMemoryFileIndex[file:/opt/polynote/notebooks/homework2/babynames_short.csv], PartitionFilters: [], PushedFilters: [IsNotNull(sex), EqualTo(sex,F), IsNotNull(year)], ReadSchema: struct<n:int,sex:string,year:double>\n",
      "\n",
      "\n"
     ]
    }
   ],
   "source": [
    "query2 = \"SELECT * FROM table WHERE sex == 'F' and name IN (SELECT name FROM table WHERE year == 2000 and sex == 'F' ORDER BY n DESC LIMIT 10) \"\n",
    "\n",
    "\n",
    "ten_popular_f = spark.sql(query2)\n",
    "births_per_year = df_sp.filter(col('sex') == 'F').groupBy('year').sum('n').select('year', col('sum(n)').alias(\"births_f\"))\n",
    "ten_popular_f = ten_popular_f.join(births_per_year, on='year')\n",
    "ten_popular_f.explain()\n"
   ]
  },
  {
   "cell_type": "code",
   "execution_count": 34,
   "metadata": {
    "ExecuteTime": {
     "end_time": "2022-02-20T22:44:18.951208Z",
     "start_time": "2022-02-20T22:44:13.121614Z"
    }
   },
   "outputs": [
    {
     "data": {
      "text/plain": [
       "Text(0.5, 1.0, 'Evolution of ten most popular female names in year 2000 as a function of year')"
      ]
     },
     "execution_count": 34,
     "metadata": {},
     "output_type": "execute_result"
    },
    {
     "data": {
      "image/png": "[encoded data removed]",
      "text/plain": [
       "<Figure size 432x288 with 1 Axes>"
      ]
     },
     "metadata": {
      "needs_background": "light"
     },
     "output_type": "display_data"
    }
   ],
   "source": [
    "ten_popular_f_tmp = ten_popular_f\n",
    "ten_popular_f = ten_popular_f.toPandas()\n",
    "sns.lineplot(x='year', y=ten_popular_f.n/ten_popular_f.births_f, hue='name', data = ten_popular_f)\\\n",
    "    .set_title('Evolution of ten most popular female names in year 2000 as a function of year')"
   ]
  },
  {
   "cell_type": "markdown",
   "metadata": {
    "format": "text/markdown"
   },
   "source": [
    "\n",
    "1. Use `explain()` to determine the joining strategy used by spark.\n",
    "\n",
    "\n",
    "Plot  the popularity of each of the top ten achievers from year 2000 with respect to time\n",
    "==================================================================================\n",
    "\n",
    "\n"
   ]
  },
  {
   "cell_type": "code",
   "execution_count": null,
   "metadata": {
    "ExecuteTime": {
     "end_time": "2022-02-20T16:29:13.317400Z",
     "start_time": "2022-02-20T16:29:06.746498Z"
    },
    "autoscroll": "auto",
    "options": {
     "caption": false,
     "complete": true,
     "display_data": true,
     "display_stream": true,
     "dpi": 200,
     "echo": true,
     "evaluate": false,
     "f_env": null,
     "f_pos": "htpb",
     "f_size": [
      6,
      4
     ],
     "f_spines": true,
     "fig": true,
     "include": true,
     "name": null,
     "option_string": "evaluate=False",
     "results": "verbatim",
     "term": false,
     "wrap": "output"
    }
   },
   "outputs": [],
   "source": []
  },
  {
   "cell_type": "markdown",
   "metadata": {
    "format": "text/markdown"
   },
   "source": [
    "\n",
    "\n",
    "Plot the total popularity of the top ten achievers from year 2000 with respect to time\n",
    "==================================================================================\n",
    "\n",
    "\n"
   ]
  },
  {
   "cell_type": "code",
   "execution_count": 35,
   "metadata": {
    "ExecuteTime": {
     "end_time": "2022-02-20T22:44:41.107247Z",
     "start_time": "2022-02-20T22:44:23.265265Z"
    },
    "autoscroll": "auto",
    "options": {
     "caption": false,
     "complete": true,
     "display_data": true,
     "display_stream": true,
     "dpi": 200,
     "echo": true,
     "evaluate": false,
     "f_env": null,
     "f_pos": "htpb",
     "f_size": [
      6,
      4
     ],
     "f_spines": true,
     "fig": true,
     "include": true,
     "name": null,
     "option_string": "evaluate=False",
     "results": "verbatim",
     "term": false,
     "wrap": "output"
    }
   },
   "outputs": [
    {
     "data": {
      "text/plain": [
       "Text(0, 0.5, 'Prop of top ten achievers (2000)')"
      ]
     },
     "execution_count": 35,
     "metadata": {},
     "output_type": "execute_result"
    },
    {
     "data": {
      "image/png": "[encoded data removed]",
      "text/plain": [
       "<Figure size 432x288 with 1 Axes>"
      ]
     },
     "metadata": {
      "needs_background": "light"
     },
     "output_type": "display_data"
    }
   ],
   "source": [
    "\"\"\"\n",
    "popularity_of_top_ten = ten_popular_m_tmp.groupBy('year').sum('n')\\\n",
    "    .join(births_per_year, on='year')\\\n",
    "    .select('year', col('sum(n)').alias('total'), 'births_m')\\\n",
    "    .toPandas()\n",
    "\"\"\"\n",
    "births = df_sp.groupby('year', 'sex').agg(fn.sum('n').alias('births'))\n",
    "\n",
    "popularity_of_top_ten = ten_popular_m_tmp.union(ten_popular_f_tmp)\\\n",
    "    .groupby('year', 'sex').agg(fn.sum('n').alias('n'))\n",
    "\n",
    "popularity_of_top_ten = popularity_of_top_ten.join(births, ['sex', 'year']).toPandas()\n",
    "\n",
    "a = sns.lineplot(x='year', y=popularity_of_top_ten.n/popularity_of_top_ten.births , hue='sex', data=popularity_of_top_ten)\n",
    "\n",
    "a.set_title('Total popularity of the top ten achievers from year 2000 with respect to time')\n",
    "a.set_ylabel('Prop of top ten achievers (2000)')"
   ]
  },
  {
   "cell_type": "markdown",
   "metadata": {
    "format": "text/markdown"
   },
   "source": [
    "\n",
    "\n",
    "Plot lorenz curves\n",
    "=====================\n",
    "\n",
    "Every year, the name counts define a discrete probability distribution.\n",
    "This distribution, just as income or wealth distribution,\n",
    "is (usually) far from being uniform. We want to assess how uneven it is.\n",
    "We use the tools developed in econometrics.\n",
    "\n",
    "Without loss of generality, that we handle a distribution over $1, \\ldots, n$\n",
    "where $n$ is the number of distinct names given during a year.\n",
    "We assume that frequencies $p_1, p_2, \\ldots, p_n$ are given in ascending order.\n",
    "\n",
    "The Lorenz function maps $[0, 1] \\to [0, 1]$.\n",
    "$$L(x) = \\sum_{i=1}^{\\lfloor nx \\rfloor} p_i$$.\n",
    "\n",
    "1. Design a query that adds a column \"lorenz\" to the dataframe , and for each\n",
    "row computes the value of the Lorenz function defined by `year`  and `sex`.\n",
    "\n",
    "\n"
   ]
  },
  {
   "cell_type": "code",
   "execution_count": 36,
   "metadata": {
    "ExecuteTime": {
     "end_time": "2022-02-20T22:44:41.344388Z",
     "start_time": "2022-02-20T22:44:41.118452Z"
    },
    "autoscroll": "auto",
    "options": {
     "caption": false,
     "complete": true,
     "display_data": true,
     "display_stream": true,
     "dpi": 200,
     "echo": true,
     "evaluate": false,
     "f_env": null,
     "f_pos": "htpb",
     "f_size": [
      6,
      4
     ],
     "f_spines": true,
     "fig": true,
     "include": true,
     "name": null,
     "option_string": "evaluate=False",
     "results": "verbatim",
     "term": false,
     "wrap": "output"
    }
   },
   "outputs": [],
   "source": [
    "window3 = Window.partitionBy('year', 'sex')\\\n",
    "    .orderBy('n').rowsBetween(-sys.maxsize, 0)\n",
    "\n",
    "window4 = Window.partitionBy('year', 'sex')\n",
    "\n",
    "with_lorenz = df_sp\\\n",
    "    .withColumn('proportion', col('n')/fn.sum('n').over(window4))\\\n",
    "    .withColumn('lorenz',  fn.sum('proportion').over(window3))"
   ]
  },
  {
   "cell_type": "markdown",
   "metadata": {
    "format": "text/markdown"
   },
   "source": [
    "\n",
    "\n",
    "1. Design a function that takes as input a `year` and plots the Lorenz curve\n",
    "for that year for both sexes.\n",
    "\n"
   ]
  },
  {
   "cell_type": "code",
   "execution_count": null,
   "metadata": {
    "ExecuteTime": {
     "end_time": "2022-02-20T22:41:22.810539Z",
     "start_time": "2022-02-20T22:38:14.203Z"
    }
   },
   "outputs": [],
   "source": [
    "a = with_lorenz.filter(with_lorenz.year==2000).toPandas().lorenz.to_numpy()\n",
    "print(a)"
   ]
  },
  {
   "cell_type": "code",
   "execution_count": 37,
   "metadata": {
    "ExecuteTime": {
     "end_time": "2022-02-20T22:44:56.707184Z",
     "start_time": "2022-02-20T22:44:41.349562Z"
    },
    "autoscroll": "auto",
    "options": {
     "caption": false,
     "complete": true,
     "display_data": true,
     "display_stream": true,
     "dpi": 200,
     "echo": true,
     "evaluate": false,
     "f_env": null,
     "f_pos": "htpb",
     "f_size": [
      6,
      4
     ],
     "f_spines": true,
     "fig": true,
     "include": true,
     "name": null,
     "option_string": "evaluate=False",
     "results": "verbatim",
     "term": false,
     "wrap": "output"
    }
   },
   "outputs": [
    {
     "data": {
      "image/png": "[encoded data removed]",
      "text/plain": [
       "<Figure size 432x288 with 1 Axes>"
      ]
     },
     "metadata": {
      "needs_background": "light"
     },
     "output_type": "display_data"
    }
   ],
   "source": [
    "def plot_lorenz(year):\n",
    "    X_m = with_lorenz.filter(with_lorenz.year==year).filter(with_lorenz.sex == 'M').orderBy(col('lorenz'))\n",
    "    X_f = with_lorenz.filter(with_lorenz.year==year).filter(with_lorenz.sex == 'F').orderBy(col('lorenz'))\n",
    "    data_m = X_m.toPandas().lorenz.to_numpy()\n",
    "    data_f = X_f.toPandas().lorenz.to_numpy()\n",
    "    plt.plot(np.linspace(0.0, 1.0, data_m.size), data_m)\n",
    "    plt.plot(np.linspace(0.0, 1.0, data_f.size), data_f)\n",
    "    plt.plot([0,1], [0,1])\n",
    "    plt.title('Lorenz curve ' + str(year) + '')\n",
    "\n",
    "plot_lorenz(2000)"
   ]
  },
  {
   "cell_type": "markdown",
   "metadata": {
    "format": "text/markdown"
   },
   "source": [
    "\n",
    "Gini index\n",
    "==========\n",
    "\n",
    "The [Gini index](https://en.wikipedia.org/wiki/Gini_coefficient) is twice the surface of the area comprised between curves $y=x$\n",
    "and $y=L(x)$.\n",
    "\n",
    "Choose a formula that allows you to compute it efficiently.\n",
    "\n",
    "$$G={\\frac {2\\sum _{i=1}^{n}iy_{i}}{n\\sum _{i=1}^{n}y_{i}}}-{\\frac {n+1}{n}}.$$\n",
    "\n",
    "1. Design a query that computes the Gini index of the `babynames` distribution\n",
    "for every `year` and `sex`.\n",
    "\n",
    "1. Plot Gini index over time\n",
    "\n",
    "\n"
   ]
  },
  {
   "cell_type": "code",
   "execution_count": 38,
   "metadata": {
    "ExecuteTime": {
     "end_time": "2022-02-20T22:44:57.069939Z",
     "start_time": "2022-02-20T22:44:56.710538Z"
    },
    "autoscroll": "auto",
    "options": {
     "caption": false,
     "complete": true,
     "display_data": true,
     "display_stream": true,
     "dpi": 200,
     "echo": true,
     "evaluate": false,
     "f_env": null,
     "f_pos": "htpb",
     "f_size": [
      6,
      4
     ],
     "f_spines": true,
     "fig": true,
     "include": true,
     "name": null,
     "option_string": "evaluate=False",
     "results": "verbatim",
     "term": false,
     "wrap": "output"
    }
   },
   "outputs": [],
   "source": [
    "#gini = ((2*fn.sum(col('i')*col('lorenz')).over(window4))/(fn.max('i').over(window4)*fn.sum(col('lorenz')).over(window4))) - ((fn.max('i').over(window4)+1)/fn.max('i').over(window4))\n",
    "\n",
    "window5 = Window.partitionBy('year', 'sex').orderBy('lorenz')\n",
    "\n",
    "with_lorenz = with_lorenz.withColumn('rank', fn.row_number().over(window5))\n",
    "\n",
    "with_lorenz.createOrReplaceTempView('lorenz_table')\n",
    "\n",
    "with_lorenz_query = \"SELECT year, sex, (((2*sum(rank*n))/(count(*)*sum(n))) - ((count(*)+1)/(count(*)))) as gini FROM lorenz_table GROUP BY year, sex\"\n",
    "a = spark.sql(with_lorenz_query)\n"
   ]
  },
  {
   "cell_type": "markdown",
   "metadata": {
    "format": "text/markdown"
   },
   "source": [
    "\n",
    "\n"
   ]
  },
  {
   "cell_type": "code",
   "execution_count": 39,
   "metadata": {
    "ExecuteTime": {
     "end_time": "2022-02-20T22:45:07.471792Z",
     "start_time": "2022-02-20T22:44:57.073506Z"
    },
    "autoscroll": "auto",
    "options": {
     "caption": false,
     "complete": true,
     "display_data": true,
     "display_stream": true,
     "dpi": 200,
     "echo": true,
     "evaluate": false,
     "f_env": null,
     "f_pos": "htpb",
     "f_size": [
      6,
      4
     ],
     "f_spines": true,
     "fig": true,
     "include": true,
     "name": null,
     "option_string": "evaluate=False",
     "results": "verbatim",
     "term": false,
     "wrap": "output"
    }
   },
   "outputs": [
    {
     "data": {
      "text/plain": [
       "Text(0.5, 1.0, 'Gini evolution as a function of time')"
      ]
     },
     "execution_count": 39,
     "metadata": {},
     "output_type": "execute_result"
    },
    {
     "data": {
      "image/png": "[encoded data removed]",
      "text/plain": [
       "<Figure size 432x288 with 1 Axes>"
      ]
     },
     "metadata": {
      "needs_background": "light"
     },
     "output_type": "display_data"
    }
   ],
   "source": [
    "data = a.toPandas()\n",
    "sns.lineplot(x='year', y='gini', hue='sex', data=data)\\\n",
    "    .set_title(\"Gini evolution as a function of time\")"
   ]
  },
  {
   "cell_type": "markdown",
   "metadata": {
    "format": "text/markdown"
   },
   "source": [
    "\n",
    "\n",
    "\n",
    "Close the door, leave work area clean\n",
    "=====================================\n"
   ]
  },
  {
   "cell_type": "code",
   "execution_count": 40,
   "metadata": {
    "ExecuteTime": {
     "end_time": "2022-02-20T22:45:11.172328Z",
     "start_time": "2022-02-20T22:45:10.639105Z"
    }
   },
   "outputs": [],
   "source": [
    "spark.stop()"
   ]
  }
 ],
 "metadata": {
  "kernel_info": {
   "name": "python3"
  },
  "kernelspec": {
   "display_name": "Python 3",
   "language": "python",
   "name": "python3"
  },
  "language_info": {
   "codemirror_mode": {
    "name": "ipython",
    "version": 3
   },
   "file_extension": ".py",
   "mimetype": "text/x-python",
   "name": "python",
   "nbconvert_exporter": "python",
   "pygments_lexer": "ipython3",
   "version": "3.8.5"
  },
  "toc": {
   "base_numbering": 1,
   "nav_menu": {},
   "number_sections": true,
   "sideBar": true,
   "skip_h1_title": false,
   "title_cell": "Table of Contents",
   "title_sidebar": "Contents",
   "toc_cell": false,
   "toc_position": {
    "height": "calc(100% - 180px)",
    "left": "10px",
    "top": "150px",
    "width": "165px"
   },
   "toc_section_display": true,
   "toc_window_display": false
  }
 },
 "nbformat": 4,
 "nbformat_minor": 1
}
